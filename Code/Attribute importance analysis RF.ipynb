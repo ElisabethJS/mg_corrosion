{
 "cells": [
  {
   "cell_type": "code",
   "execution_count": 1,
   "id": "genuine-intranet",
   "metadata": {},
   "outputs": [],
   "source": [
    "import pandas as pd\n",
    "import numpy as np\n",
    "from sklearn.model_selection import train_test_split\n",
    "from sklearn.ensemble import RandomForestRegressor\n",
    "from sklearn.preprocessing import MinMaxScaler\n",
    "import matplotlib.pyplot as plt\n",
    "from collections import Counter"
   ]
  },
  {
   "cell_type": "code",
   "execution_count": 2,
   "id": "indie-major",
   "metadata": {},
   "outputs": [],
   "source": [
    "seeds = np.arange(100)\n",
    "random_state=42"
   ]
  },
  {
   "cell_type": "code",
   "execution_count": 3,
   "id": "comparative-newman",
   "metadata": {},
   "outputs": [],
   "source": [
    "data = pd.read_csv('..\\\\Data\\\\ze41_mol_desc_db_red.csv', header=0, sep=';', decimal=',')"
   ]
  },
  {
   "cell_type": "code",
   "execution_count": 4,
   "id": "maritime-inspector",
   "metadata": {},
   "outputs": [],
   "source": [
    "sel_col = []\n",
    "with open('..\\\\Data\\\\rf_idx_base.txt', 'r') as f:\n",
    "    for line in f.readlines():\n",
    "        sel_col.append(line[:-1])"
   ]
  },
  {
   "cell_type": "code",
   "execution_count": 5,
   "id": "surgical-license",
   "metadata": {},
   "outputs": [],
   "source": [
    "col_names = data.columns\n",
    "X = data[col_names[3:]]\n",
    "y = data[col_names[1]]"
   ]
  },
  {
   "cell_type": "code",
   "execution_count": 6,
   "id": "serious-batman",
   "metadata": {},
   "outputs": [],
   "source": [
    "#X = data[sel_col]"
   ]
  },
  {
   "cell_type": "code",
   "execution_count": 7,
   "id": "precise-algeria",
   "metadata": {},
   "outputs": [],
   "source": [
    "X_train, X_valid, y_train, y_valid = train_test_split(X, y, test_size=0.1, random_state=random_state)\n",
    "[X_train, X_valid, y_train, y_valid] = [pd.DataFrame(x) for x in [X_train, X_valid, y_train, y_valid]]"
   ]
  },
  {
   "cell_type": "code",
   "execution_count": 8,
   "id": "ideal-understanding",
   "metadata": {},
   "outputs": [],
   "source": [
    "scalex = MinMaxScaler(feature_range=(-1,1))\n",
    "scalex.fit(X_train)\n",
    "[X_train_sc, X_valid_sc] = [pd.DataFrame(scalex.transform(x), columns=X.columns) for x in [X_train, X_valid]]"
   ]
  },
  {
   "cell_type": "code",
   "execution_count": 9,
   "id": "reflected-blues",
   "metadata": {},
   "outputs": [],
   "source": [
    "scaley = MinMaxScaler(feature_range=(0, 1))\n",
    "scaley.fit(y_train)\n",
    "[y_train_sc, y_valid_sc] = [pd.DataFrame(scaley.transform(y), columns=y.columns) for y in [y_train, y_valid]]"
   ]
  },
  {
   "cell_type": "code",
   "execution_count": 10,
   "id": "surprised-commissioner",
   "metadata": {},
   "outputs": [],
   "source": [
    "feat_importances_all = []"
   ]
  },
  {
   "cell_type": "code",
   "execution_count": 11,
   "id": "brilliant-approval",
   "metadata": {
    "scrolled": false
   },
   "outputs": [
    {
     "name": "stdout",
     "output_type": "stream",
     "text": [
      "1% done\n",
      "2% done\n",
      "3% done\n",
      "4% done\n",
      "5% done\n",
      "6% done\n",
      "7% done\n",
      "8% done\n",
      "9% done\n",
      "10% done\n",
      "11% done\n",
      "12% done\n",
      "13% done\n",
      "14% done\n",
      "15% done\n",
      "16% done\n",
      "17% done\n",
      "18% done\n",
      "19% done\n",
      "20% done\n",
      "21% done\n",
      "22% done\n",
      "23% done\n",
      "24% done\n",
      "25% done\n",
      "26% done\n",
      "27% done\n",
      "28% done\n",
      "29% done\n",
      "30% done\n",
      "31% done\n",
      "32% done\n",
      "33% done\n",
      "34% done\n",
      "35% done\n",
      "36% done\n",
      "37% done\n",
      "38% done\n",
      "39% done\n",
      "40% done\n",
      "41% done\n",
      "42% done\n",
      "43% done\n",
      "44% done\n",
      "45% done\n",
      "46% done\n",
      "47% done\n",
      "48% done\n",
      "49% done\n",
      "50% done\n",
      "51% done\n",
      "52% done\n",
      "53% done\n",
      "54% done\n",
      "55% done\n",
      "56% done\n",
      "57% done\n",
      "58% done\n",
      "59% done\n",
      "60% done\n",
      "61% done\n",
      "62% done\n",
      "63% done\n",
      "64% done\n",
      "65% done\n",
      "66% done\n",
      "67% done\n",
      "68% done\n",
      "69% done\n",
      "70% done\n",
      "71% done\n",
      "72% done\n",
      "73% done\n",
      "74% done\n",
      "75% done\n",
      "76% done\n",
      "77% done\n",
      "78% done\n",
      "79% done\n",
      "80% done\n",
      "81% done\n",
      "82% done\n",
      "83% done\n",
      "84% done\n",
      "85% done\n",
      "86% done\n",
      "87% done\n",
      "88% done\n",
      "89% done\n",
      "90% done\n",
      "91% done\n",
      "92% done\n",
      "93% done\n",
      "94% done\n",
      "95% done\n",
      "96% done\n",
      "97% done\n",
      "98% done\n",
      "99% done\n",
      "100% done\n"
     ]
    }
   ],
   "source": [
    "i = 0\n",
    "for seed in seeds:\n",
    "    i += 1\n",
    "    #print('Seed: {}'.format(seed))\n",
    "    rng = np.random.default_rng(seed=seed)\n",
    "    for run in range(100):\n",
    "        #print('Seed: {}, run: {}'.format(seed, run))\n",
    "        X_train_sc['random'] = rng.random(size=len(X_train_sc))\n",
    "        perm = rng.permutation(len(X_train_sc.columns))\n",
    "        X_perm = X_train_sc[X_train_sc.columns[perm]]\n",
    "        rf = RandomForestRegressor(n_estimators=100, n_jobs=-1, oob_score=True, bootstrap=True, random_state=seed)\n",
    "        rf.fit(X_perm, np.ravel(y_train_sc))\n",
    "        _, feature_importances_sorted = zip(*sorted(zip(X_perm.columns, rf.feature_importances_), reverse=True))\n",
    "        feat_importances_all.append(feature_importances_sorted)\n",
    "    print('{}% done'.format(i*100//len(seeds)))"
   ]
  },
  {
   "cell_type": "code",
   "execution_count": 12,
   "id": "conventional-continuity",
   "metadata": {},
   "outputs": [],
   "source": [
    "cls, feature_importances_sorted = zip(*sorted(zip(X_perm.columns, rf.feature_importances_), reverse=True))"
   ]
  },
  {
   "cell_type": "code",
   "execution_count": 13,
   "id": "downtown-nudist",
   "metadata": {},
   "outputs": [],
   "source": [
    "fi = pd.DataFrame(feat_importances_all)"
   ]
  },
  {
   "cell_type": "code",
   "execution_count": 14,
   "id": "elect-winner",
   "metadata": {},
   "outputs": [],
   "source": [
    "fi.columns = cls"
   ]
  },
  {
   "cell_type": "code",
   "execution_count": 15,
   "id": "refined-france",
   "metadata": {},
   "outputs": [
    {
     "data": {
      "text/plain": [
       "random    0.002345\n",
       "rGes      0.000133\n",
       "piPC05    0.000078\n",
       "piPC04    0.000082\n",
       "piPC03    0.000195\n",
       "            ...   \n",
       "AMW       0.000455\n",
       "ALOGP2    0.001067\n",
       "ALOGP     0.000327\n",
       "AECC      0.000061\n",
       "AAC       0.001862\n",
       "Length: 1261, dtype: float64"
      ]
     },
     "execution_count": 15,
     "metadata": {},
     "output_type": "execute_result"
    }
   ],
   "source": [
    "avgs = fi.mean(axis=0)\n",
    "avgs"
   ]
  },
  {
   "cell_type": "code",
   "execution_count": 16,
   "id": "independent-fitness",
   "metadata": {},
   "outputs": [],
   "source": [
    "s = avgs.sort_values(ascending=False)"
   ]
  },
  {
   "cell_type": "code",
   "execution_count": 17,
   "id": "affected-creation",
   "metadata": {},
   "outputs": [
    {
     "data": {
      "text/html": [
       "<div>\n",
       "<style scoped>\n",
       "    .dataframe tbody tr th:only-of-type {\n",
       "        vertical-align: middle;\n",
       "    }\n",
       "\n",
       "    .dataframe tbody tr th {\n",
       "        vertical-align: top;\n",
       "    }\n",
       "\n",
       "    .dataframe thead th {\n",
       "        text-align: right;\n",
       "    }\n",
       "</style>\n",
       "<table border=\"1\" class=\"dataframe\">\n",
       "  <thead>\n",
       "    <tr style=\"text-align: right;\">\n",
       "      <th></th>\n",
       "      <th>random</th>\n",
       "      <th>rGes</th>\n",
       "      <th>piPC05</th>\n",
       "      <th>piPC04</th>\n",
       "      <th>piPC03</th>\n",
       "      <th>nTriazoles</th>\n",
       "      <th>nTA</th>\n",
       "      <th>nROR</th>\n",
       "      <th>nROH</th>\n",
       "      <th>nRNR2</th>\n",
       "      <th>...</th>\n",
       "      <th>ATS4e</th>\n",
       "      <th>ATS3v</th>\n",
       "      <th>ATS3s</th>\n",
       "      <th>ATS2s</th>\n",
       "      <th>ARR</th>\n",
       "      <th>AMW</th>\n",
       "      <th>ALOGP2</th>\n",
       "      <th>ALOGP</th>\n",
       "      <th>AECC</th>\n",
       "      <th>AAC</th>\n",
       "    </tr>\n",
       "  </thead>\n",
       "  <tbody>\n",
       "    <tr>\n",
       "      <th>count</th>\n",
       "      <td>1.000000e+04</td>\n",
       "      <td>1.000000e+04</td>\n",
       "      <td>1.000000e+04</td>\n",
       "      <td>10000.000000</td>\n",
       "      <td>1.000000e+04</td>\n",
       "      <td>10000.000000</td>\n",
       "      <td>1.000000e+04</td>\n",
       "      <td>10000.000000</td>\n",
       "      <td>1.000000e+04</td>\n",
       "      <td>10000.000000</td>\n",
       "      <td>...</td>\n",
       "      <td>1.000000e+04</td>\n",
       "      <td>1.000000e+04</td>\n",
       "      <td>10000.000000</td>\n",
       "      <td>10000.000000</td>\n",
       "      <td>1.000000e+04</td>\n",
       "      <td>1.000000e+04</td>\n",
       "      <td>10000.000000</td>\n",
       "      <td>1.000000e+04</td>\n",
       "      <td>1.000000e+04</td>\n",
       "      <td>1.000000e+04</td>\n",
       "    </tr>\n",
       "    <tr>\n",
       "      <th>mean</th>\n",
       "      <td>2.345495e-03</td>\n",
       "      <td>1.331737e-04</td>\n",
       "      <td>7.835201e-05</td>\n",
       "      <td>0.000082</td>\n",
       "      <td>1.951847e-04</td>\n",
       "      <td>0.000006</td>\n",
       "      <td>4.058552e-05</td>\n",
       "      <td>0.000005</td>\n",
       "      <td>5.545202e-05</td>\n",
       "      <td>0.000008</td>\n",
       "      <td>...</td>\n",
       "      <td>2.178959e-04</td>\n",
       "      <td>7.423198e-05</td>\n",
       "      <td>0.000161</td>\n",
       "      <td>0.000590</td>\n",
       "      <td>7.026055e-05</td>\n",
       "      <td>4.548616e-04</td>\n",
       "      <td>0.001067</td>\n",
       "      <td>3.273938e-04</td>\n",
       "      <td>6.097212e-05</td>\n",
       "      <td>1.862257e-03</td>\n",
       "    </tr>\n",
       "    <tr>\n",
       "      <th>std</th>\n",
       "      <td>4.641221e-03</td>\n",
       "      <td>3.189626e-04</td>\n",
       "      <td>1.755139e-04</td>\n",
       "      <td>0.000184</td>\n",
       "      <td>7.958418e-04</td>\n",
       "      <td>0.000041</td>\n",
       "      <td>1.213346e-04</td>\n",
       "      <td>0.000053</td>\n",
       "      <td>1.900270e-04</td>\n",
       "      <td>0.000068</td>\n",
       "      <td>...</td>\n",
       "      <td>6.137649e-04</td>\n",
       "      <td>1.993659e-04</td>\n",
       "      <td>0.000327</td>\n",
       "      <td>0.000667</td>\n",
       "      <td>2.876253e-04</td>\n",
       "      <td>1.398417e-03</td>\n",
       "      <td>0.001138</td>\n",
       "      <td>5.161061e-04</td>\n",
       "      <td>1.466152e-04</td>\n",
       "      <td>1.861414e-03</td>\n",
       "    </tr>\n",
       "    <tr>\n",
       "      <th>min</th>\n",
       "      <td>-1.979543e-18</td>\n",
       "      <td>-2.136176e-18</td>\n",
       "      <td>-1.301929e-18</td>\n",
       "      <td>0.000000</td>\n",
       "      <td>-2.012474e-18</td>\n",
       "      <td>0.000000</td>\n",
       "      <td>0.000000e+00</td>\n",
       "      <td>0.000000</td>\n",
       "      <td>0.000000e+00</td>\n",
       "      <td>0.000000</td>\n",
       "      <td>...</td>\n",
       "      <td>-2.416464e-18</td>\n",
       "      <td>0.000000e+00</td>\n",
       "      <td>0.000000</td>\n",
       "      <td>0.000000</td>\n",
       "      <td>-4.024948e-18</td>\n",
       "      <td>-1.804648e-18</td>\n",
       "      <td>0.000000</td>\n",
       "      <td>-1.424794e-18</td>\n",
       "      <td>-1.957972e-18</td>\n",
       "      <td>-1.150154e-18</td>\n",
       "    </tr>\n",
       "    <tr>\n",
       "      <th>25%</th>\n",
       "      <td>2.356413e-04</td>\n",
       "      <td>5.198445e-07</td>\n",
       "      <td>7.885986e-07</td>\n",
       "      <td>0.000001</td>\n",
       "      <td>1.572821e-06</td>\n",
       "      <td>0.000000</td>\n",
       "      <td>2.805104e-07</td>\n",
       "      <td>0.000000</td>\n",
       "      <td>2.014888e-08</td>\n",
       "      <td>0.000000</td>\n",
       "      <td>...</td>\n",
       "      <td>6.756475e-07</td>\n",
       "      <td>9.397728e-07</td>\n",
       "      <td>0.000006</td>\n",
       "      <td>0.000027</td>\n",
       "      <td>1.254722e-18</td>\n",
       "      <td>2.568923e-06</td>\n",
       "      <td>0.000155</td>\n",
       "      <td>1.437853e-05</td>\n",
       "      <td>4.224631e-07</td>\n",
       "      <td>8.322086e-05</td>\n",
       "    </tr>\n",
       "    <tr>\n",
       "      <th>50%</th>\n",
       "      <td>9.540084e-04</td>\n",
       "      <td>9.945290e-06</td>\n",
       "      <td>1.076356e-05</td>\n",
       "      <td>0.000013</td>\n",
       "      <td>1.431531e-05</td>\n",
       "      <td>0.000000</td>\n",
       "      <td>3.818840e-06</td>\n",
       "      <td>0.000000</td>\n",
       "      <td>1.896474e-06</td>\n",
       "      <td>0.000000</td>\n",
       "      <td>...</td>\n",
       "      <td>9.974351e-06</td>\n",
       "      <td>1.151796e-05</td>\n",
       "      <td>0.000030</td>\n",
       "      <td>0.000414</td>\n",
       "      <td>2.677082e-06</td>\n",
       "      <td>3.103681e-05</td>\n",
       "      <td>0.000681</td>\n",
       "      <td>1.084589e-04</td>\n",
       "      <td>6.078458e-06</td>\n",
       "      <td>1.518133e-03</td>\n",
       "    </tr>\n",
       "    <tr>\n",
       "      <th>75%</th>\n",
       "      <td>2.651815e-03</td>\n",
       "      <td>9.557597e-05</td>\n",
       "      <td>6.695194e-05</td>\n",
       "      <td>0.000071</td>\n",
       "      <td>7.007945e-05</td>\n",
       "      <td>0.000000</td>\n",
       "      <td>2.510572e-05</td>\n",
       "      <td>0.000000</td>\n",
       "      <td>1.835580e-05</td>\n",
       "      <td>0.000000</td>\n",
       "      <td>...</td>\n",
       "      <td>6.212147e-05</td>\n",
       "      <td>5.497103e-05</td>\n",
       "      <td>0.000159</td>\n",
       "      <td>0.000932</td>\n",
       "      <td>2.424158e-05</td>\n",
       "      <td>1.764243e-04</td>\n",
       "      <td>0.001601</td>\n",
       "      <td>4.354382e-04</td>\n",
       "      <td>4.263169e-05</td>\n",
       "      <td>2.977880e-03</td>\n",
       "    </tr>\n",
       "    <tr>\n",
       "      <th>max</th>\n",
       "      <td>1.509510e-01</td>\n",
       "      <td>3.765494e-03</td>\n",
       "      <td>2.315977e-03</td>\n",
       "      <td>0.003184</td>\n",
       "      <td>6.198374e-03</td>\n",
       "      <td>0.000758</td>\n",
       "      <td>1.959258e-03</td>\n",
       "      <td>0.001985</td>\n",
       "      <td>3.023455e-03</td>\n",
       "      <td>0.002302</td>\n",
       "      <td>...</td>\n",
       "      <td>5.226272e-03</td>\n",
       "      <td>3.652726e-03</td>\n",
       "      <td>0.003127</td>\n",
       "      <td>0.005520</td>\n",
       "      <td>3.274003e-03</td>\n",
       "      <td>1.152645e-02</td>\n",
       "      <td>0.006377</td>\n",
       "      <td>3.898844e-03</td>\n",
       "      <td>1.929368e-03</td>\n",
       "      <td>9.389952e-03</td>\n",
       "    </tr>\n",
       "  </tbody>\n",
       "</table>\n",
       "<p>8 rows × 1261 columns</p>\n",
       "</div>"
      ],
      "text/plain": [
       "             random          rGes        piPC05        piPC04        piPC03  \\\n",
       "count  1.000000e+04  1.000000e+04  1.000000e+04  10000.000000  1.000000e+04   \n",
       "mean   2.345495e-03  1.331737e-04  7.835201e-05      0.000082  1.951847e-04   \n",
       "std    4.641221e-03  3.189626e-04  1.755139e-04      0.000184  7.958418e-04   \n",
       "min   -1.979543e-18 -2.136176e-18 -1.301929e-18      0.000000 -2.012474e-18   \n",
       "25%    2.356413e-04  5.198445e-07  7.885986e-07      0.000001  1.572821e-06   \n",
       "50%    9.540084e-04  9.945290e-06  1.076356e-05      0.000013  1.431531e-05   \n",
       "75%    2.651815e-03  9.557597e-05  6.695194e-05      0.000071  7.007945e-05   \n",
       "max    1.509510e-01  3.765494e-03  2.315977e-03      0.003184  6.198374e-03   \n",
       "\n",
       "         nTriazoles           nTA          nROR          nROH         nRNR2  \\\n",
       "count  10000.000000  1.000000e+04  10000.000000  1.000000e+04  10000.000000   \n",
       "mean       0.000006  4.058552e-05      0.000005  5.545202e-05      0.000008   \n",
       "std        0.000041  1.213346e-04      0.000053  1.900270e-04      0.000068   \n",
       "min        0.000000  0.000000e+00      0.000000  0.000000e+00      0.000000   \n",
       "25%        0.000000  2.805104e-07      0.000000  2.014888e-08      0.000000   \n",
       "50%        0.000000  3.818840e-06      0.000000  1.896474e-06      0.000000   \n",
       "75%        0.000000  2.510572e-05      0.000000  1.835580e-05      0.000000   \n",
       "max        0.000758  1.959258e-03      0.001985  3.023455e-03      0.002302   \n",
       "\n",
       "       ...         ATS4e         ATS3v         ATS3s         ATS2s  \\\n",
       "count  ...  1.000000e+04  1.000000e+04  10000.000000  10000.000000   \n",
       "mean   ...  2.178959e-04  7.423198e-05      0.000161      0.000590   \n",
       "std    ...  6.137649e-04  1.993659e-04      0.000327      0.000667   \n",
       "min    ... -2.416464e-18  0.000000e+00      0.000000      0.000000   \n",
       "25%    ...  6.756475e-07  9.397728e-07      0.000006      0.000027   \n",
       "50%    ...  9.974351e-06  1.151796e-05      0.000030      0.000414   \n",
       "75%    ...  6.212147e-05  5.497103e-05      0.000159      0.000932   \n",
       "max    ...  5.226272e-03  3.652726e-03      0.003127      0.005520   \n",
       "\n",
       "                ARR           AMW        ALOGP2         ALOGP          AECC  \\\n",
       "count  1.000000e+04  1.000000e+04  10000.000000  1.000000e+04  1.000000e+04   \n",
       "mean   7.026055e-05  4.548616e-04      0.001067  3.273938e-04  6.097212e-05   \n",
       "std    2.876253e-04  1.398417e-03      0.001138  5.161061e-04  1.466152e-04   \n",
       "min   -4.024948e-18 -1.804648e-18      0.000000 -1.424794e-18 -1.957972e-18   \n",
       "25%    1.254722e-18  2.568923e-06      0.000155  1.437853e-05  4.224631e-07   \n",
       "50%    2.677082e-06  3.103681e-05      0.000681  1.084589e-04  6.078458e-06   \n",
       "75%    2.424158e-05  1.764243e-04      0.001601  4.354382e-04  4.263169e-05   \n",
       "max    3.274003e-03  1.152645e-02      0.006377  3.898844e-03  1.929368e-03   \n",
       "\n",
       "                AAC  \n",
       "count  1.000000e+04  \n",
       "mean   1.862257e-03  \n",
       "std    1.861414e-03  \n",
       "min   -1.150154e-18  \n",
       "25%    8.322086e-05  \n",
       "50%    1.518133e-03  \n",
       "75%    2.977880e-03  \n",
       "max    9.389952e-03  \n",
       "\n",
       "[8 rows x 1261 columns]"
      ]
     },
     "execution_count": 17,
     "metadata": {},
     "output_type": "execute_result"
    }
   ],
   "source": [
    "fi.describe()"
   ]
  },
  {
   "cell_type": "code",
   "execution_count": 18,
   "id": "opponent-bacon",
   "metadata": {},
   "outputs": [
    {
     "data": {
      "text/plain": [
       "P_VSA_MR_5       9.148036e-02\n",
       "LUMO / eV        6.540236e-02\n",
       "Mor04m           6.307581e-02\n",
       "Mor22s           2.675425e-02\n",
       "E1p              2.603804e-02\n",
       "                     ...     \n",
       "CATS3D_07_DN     9.169103e-07\n",
       "CATS3D_05_DP     8.868567e-07\n",
       "Eig14_EA(dm)     8.434689e-07\n",
       "Eig14_AEA(ed)    8.299569e-07\n",
       "DLS_06           6.219354e-07\n",
       "Length: 1261, dtype: float64"
      ]
     },
     "execution_count": 18,
     "metadata": {},
     "output_type": "execute_result"
    }
   ],
   "source": [
    "s"
   ]
  },
  {
   "cell_type": "code",
   "execution_count": 19,
   "id": "capital-blend",
   "metadata": {},
   "outputs": [
    {
     "data": {
      "image/png": "[encoded data removed]",
      "text/plain": [
       "<Figure size 432x288 with 1 Axes>"
      ]
     },
     "metadata": {
      "needs_background": "light"
     },
     "output_type": "display_data"
    }
   ],
   "source": [
    "fig, ax = plt.subplots()\n",
    "s.plot(ax=ax)\n",
    "plt.show()"
   ]
  },
  {
   "cell_type": "code",
   "execution_count": 20,
   "id": "changing-syracuse",
   "metadata": {},
   "outputs": [
    {
     "data": {
      "text/plain": [
       "P_VSA_MR_5      9.148036\n",
       "LUMO / eV       6.540236\n",
       "Mor04m          6.307581\n",
       "Mor22s          2.675425\n",
       "E1p             2.603804\n",
       "P_VSA_LogP_2    2.001278\n",
       "HOMO / eV       1.972009\n",
       "Mor14u          1.631402\n",
       "Mor29v          1.490213\n",
       "MATS5v          1.451979\n",
       "GATS5v          1.277551\n",
       "Mor14s          1.227546\n",
       "Mor32m          1.184971\n",
       "CATS3D_02_AP    1.054212\n",
       "TDB04s          1.005167\n",
       "MATS5m          0.897020\n",
       "R5p+            0.882497\n",
       "E2s             0.871430\n",
       "H3m             0.734844\n",
       "R2e+            0.725861\n",
       "GATS2s          0.720195\n",
       "Mor04i          0.691716\n",
       "R5i+            0.605818\n",
       "ISH             0.543108\n",
       "E2m             0.533601\n",
       "TDB03m          0.522745\n",
       "Mor19m          0.491899\n",
       "VE2sign_G       0.427636\n",
       "E2v             0.412174\n",
       "Mor11u          0.409955\n",
       "dtype: float64"
      ]
     },
     "execution_count": 20,
     "metadata": {},
     "output_type": "execute_result"
    }
   ],
   "source": [
    "s[:30]*100"
   ]
  },
  {
   "cell_type": "code",
   "execution_count": 21,
   "id": "juvenile-adolescent",
   "metadata": {},
   "outputs": [
    {
     "data": {
      "text/plain": [
       "Index(['P_VSA_MR_5', 'LUMO / eV', 'Mor04m', 'Mor22s', 'E1p', 'P_VSA_LogP_2',\n",
       "       'HOMO / eV', 'Mor14u', 'Mor29v', 'MATS5v', 'GATS5v', 'Mor14s', 'Mor32m',\n",
       "       'CATS3D_02_AP', 'TDB04s', 'MATS5m', 'R5p+', 'E2s', 'H3m', 'R2e+',\n",
       "       'GATS2s', 'Mor04i', 'R5i+', 'ISH', 'E2m', 'TDB03m', 'Mor19m',\n",
       "       'VE2sign_G', 'E2v', 'Mor11u', 'SpMAD_RG', 'Mor28s', 'R5e+',\n",
       "       'Eta_epsi_5', 'DISPm', 'H0v', 'R2u+', 'MATS8p', 'Ds', 'Mor03s',\n",
       "       'T(N..O)', 'E1i', 'GATS5m', 'Mor29e', 'VE1sign_G', 'X3Av', 'Hy',\n",
       "       'MATS4s', 'E3e', 'Mor15s', 'X4Av', 'GATS4s', 'P_VSA_e_3', 'Mor15i',\n",
       "       'R3s+', 'TDB03e', 'Mor30p', 'Mor32s', 'E2e', 'MATS3m', 'random', 'E3v',\n",
       "       'TDB01m'],\n",
       "      dtype='object')"
      ]
     },
     "execution_count": 21,
     "metadata": {},
     "output_type": "execute_result"
    }
   ],
   "source": [
    "s.index[:63]"
   ]
  },
  {
   "cell_type": "code",
   "execution_count": 22,
   "id": "quiet-percentage",
   "metadata": {},
   "outputs": [],
   "source": [
    "fi.to_pickle('..\\\\Data\\\\rf_with_rnd.pkl')"
   ]
  },
  {
   "cell_type": "code",
   "execution_count": 23,
   "id": "strategic-delay",
   "metadata": {},
   "outputs": [],
   "source": [
    "with open('..\\\\Data\\\\rf_idx_with_rnd.txt', 'w') as f:\n",
    "    for item in s.index[:63]:\n",
    "        f.write(\"%s\\n\" % item)"
   ]
  },
  {
   "cell_type": "code",
   "execution_count": 24,
   "id": "liquid-intent",
   "metadata": {},
   "outputs": [],
   "source": [
    "#list_s = s.index.tolist()\n",
    "#for i in range(63):\n",
    "#    j = list_s.index(sel_col[i])\n",
    "#    print(sel_col[i], i, j, i-j)"
   ]
  },
  {
   "cell_type": "code",
   "execution_count": 25,
   "id": "allied-domain",
   "metadata": {},
   "outputs": [],
   "source": [
    "#fi.std(axis=0).sort_values(ascending=True)"
   ]
  },
  {
   "cell_type": "code",
   "execution_count": 26,
   "id": "magnetic-homeless",
   "metadata": {},
   "outputs": [],
   "source": [
    "#f2 = fi.reindex(fi.mean().sort_values(ascending=False).index, axis=1)"
   ]
  },
  {
   "cell_type": "code",
   "execution_count": 27,
   "id": "banned-identification",
   "metadata": {},
   "outputs": [],
   "source": [
    "#fig, ax = plt.subplots(figsize=(18,5))\n",
    "#f2.boxplot(ax=ax)\n",
    "#plt.ylabel('Feature importance')\n",
    "#plt.xticks(rotation=90)\n",
    "#plt.show()"
   ]
  },
  {
   "cell_type": "code",
   "execution_count": 28,
   "id": "recorded-psychiatry",
   "metadata": {},
   "outputs": [],
   "source": [
    "#positions = [[i, sel_col.index(f2.columns[i])] for i in range(len(sel_col))]"
   ]
  },
  {
   "cell_type": "code",
   "execution_count": 29,
   "id": "stable-lease",
   "metadata": {},
   "outputs": [],
   "source": [
    "#positions = np.array(positions)"
   ]
  },
  {
   "cell_type": "code",
   "execution_count": 30,
   "id": "chemical-territory",
   "metadata": {},
   "outputs": [],
   "source": [
    "#positions[:,1] -= positions[:,0]"
   ]
  },
  {
   "cell_type": "code",
   "execution_count": 31,
   "id": "difficult-maximum",
   "metadata": {},
   "outputs": [],
   "source": [
    "#fig, ax = plt.subplots(figsize=(18,3))\n",
    "#ax.plot([0, 62], [0,0])\n",
    "#ax.plot(diffs[:,1], 'x')\n",
    "#plt.xticks(range(63), f2.columns.tolist(), rotation=90)\n",
    "#plt.ylabel('Difference in position')\n",
    "#plt.show()"
   ]
  },
  {
   "cell_type": "code",
   "execution_count": 32,
   "id": "guided-ticket",
   "metadata": {},
   "outputs": [],
   "source": [
    "#df = pd.read_pickle('..\\\\Data\\\\rf_base.pkl')"
   ]
  },
  {
   "cell_type": "code",
   "execution_count": 33,
   "id": "embedded-display",
   "metadata": {},
   "outputs": [],
   "source": [
    "#df.mean().sort_values()"
   ]
  },
  {
   "cell_type": "code",
   "execution_count": 34,
   "id": "bigger-confusion",
   "metadata": {},
   "outputs": [
    {
     "data": {
      "text/plain": [
       "CATS3D_07_DN     0.000008\n",
       "CATS3D_05_DP     0.000009\n",
       "CATS2D_07_DA     0.000014\n",
       "DLS_06           0.000015\n",
       "Eig14_AEA(ed)    0.000018\n",
       "                   ...   \n",
       "Mor14u           0.009201\n",
       "Mor22s           0.011031\n",
       "Mor04m           0.015080\n",
       "P_VSA_MR_5       0.018010\n",
       "LUMO / eV        0.019600\n",
       "Length: 1261, dtype: float64"
      ]
     },
     "execution_count": 34,
     "metadata": {},
     "output_type": "execute_result"
    }
   ],
   "source": [
    "k = fi.std(axis=0).sort_values()"
   ]
  },
  {
   "cell_type": "code",
   "execution_count": null,
   "id": "presidential-accessory",
   "metadata": {},
   "outputs": [],
   "source": []
  }
 ],
 "metadata": {
  "kernelspec": {
   "display_name": "Python 3",
   "language": "python",
   "name": "python3"
  },
  "language_info": {
   "codemirror_mode": {
    "name": "ipython",
    "version": 3
   },
   "file_extension": ".py",
   "mimetype": "text/x-python",
   "name": "python",
   "nbconvert_exporter": "python",
   "pygments_lexer": "ipython3",
   "version": "3.7.9"
  }
 },
 "nbformat": 4,
 "nbformat_minor": 5
}
