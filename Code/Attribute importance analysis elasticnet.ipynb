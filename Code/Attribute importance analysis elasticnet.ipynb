{
 "cells": [
  {
   "cell_type": "code",
   "execution_count": 1,
   "id": "genuine-intranet",
   "metadata": {},
   "outputs": [],
   "source": [
    "import pandas as pd\n",
    "import numpy as np\n",
    "from sklearn.model_selection import train_test_split\n",
    "from sklearn.feature_selection import SelectFromModel\n",
    "from sklearn.linear_model import ElasticNet\n",
    "from sklearn.preprocessing import MinMaxScaler\n",
    "import matplotlib.pyplot as plt"
   ]
  },
  {
   "cell_type": "code",
   "execution_count": 2,
   "id": "indie-major",
   "metadata": {},
   "outputs": [],
   "source": [
    "seeds = np.arange(100)\n",
    "random_state=42\n",
    "n_features = 3"
   ]
  },
  {
   "cell_type": "code",
   "execution_count": 3,
   "id": "comparative-newman",
   "metadata": {},
   "outputs": [],
   "source": [
    "data = pd.read_csv('..\\\\Data\\\\ze41_mol_desc_db_red.csv', header=0, sep=';', decimal=',')"
   ]
  },
  {
   "cell_type": "code",
   "execution_count": 4,
   "id": "surgical-license",
   "metadata": {},
   "outputs": [],
   "source": [
    "col_names = data.columns\n",
    "X = data[col_names[3:]]\n",
    "y = data[col_names[1]]"
   ]
  },
  {
   "cell_type": "code",
   "execution_count": 5,
   "id": "precise-algeria",
   "metadata": {},
   "outputs": [],
   "source": [
    "X_train, X_valid, y_train, y_valid = train_test_split(X, y, test_size=0.1, random_state=random_state)\n",
    "[X_train, X_valid, y_train, y_valid] = [pd.DataFrame(x) for x in [X_train, X_valid, y_train, y_valid]]"
   ]
  },
  {
   "cell_type": "code",
   "execution_count": 6,
   "id": "ideal-understanding",
   "metadata": {},
   "outputs": [],
   "source": [
    "scalex = MinMaxScaler(feature_range=(-1,1))\n",
    "scalex.fit(X_train)\n",
    "[X_train_sc, X_valid_sc] = [pd.DataFrame(scalex.transform(x), columns=X.columns) for x in [X_train, X_valid]]"
   ]
  },
  {
   "cell_type": "code",
   "execution_count": 7,
   "id": "reflected-blues",
   "metadata": {},
   "outputs": [],
   "source": [
    "scaley = MinMaxScaler(feature_range=(0, 1))\n",
    "scaley.fit(y_train)\n",
    "[y_train_sc, y_valid_sc] = [pd.DataFrame(scaley.transform(y), columns=y.columns) for y in [y_train, y_valid]]"
   ]
  },
  {
   "cell_type": "code",
   "execution_count": 8,
   "id": "surprised-commissioner",
   "metadata": {},
   "outputs": [],
   "source": [
    "all_scores = []\n",
    "selected_feat = []"
   ]
  },
  {
   "cell_type": "code",
   "execution_count": 9,
   "id": "brilliant-approval",
   "metadata": {
    "scrolled": false
   },
   "outputs": [],
   "source": [
    "i = 0\n",
    "for seed in seeds:\n",
    "    i += 1\n",
    "    rng = np.random.default_rng(seed=seed)\n",
    "    for run in range(1):\n",
    "        perm = rng.permutation(len(X_train_sc.columns))\n",
    "        X_perm = X_train_sc[X_train_sc.columns[perm]]\n",
    "        sfm = SelectFromModel(ElasticNet(random_state=seed, fit_intercept=False, selection='random', positive=False,\n",
    "                                        l1_ratio=1),\n",
    "                              threshold=-np.inf,\n",
    "                              max_features=n_features)\n",
    "        _ = sfm.fit(X_perm, np.ravel(y_train_sc))\n",
    "        _, scores_sorted = zip(*sorted(zip(X_perm.columns, sfm.estimator_.coef_), reverse=True))\n",
    "        all_scores.append(scores_sorted)\n",
    "        selected_feat.append(X_perm.columns[(sfm.get_support())])\n",
    "    #print('{}% done'.format(i*100//len(seeds)))"
   ]
  },
  {
   "cell_type": "code",
   "execution_count": 10,
   "id": "annoying-apparel",
   "metadata": {},
   "outputs": [],
   "source": [
    "cls, scores_sorted = zip(*sorted(zip(X_perm.columns, sfm.estimator_.coef_), reverse=True))"
   ]
  },
  {
   "cell_type": "code",
   "execution_count": 11,
   "id": "collected-overall",
   "metadata": {},
   "outputs": [],
   "source": [
    "scores = pd.DataFrame(all_scores)\n",
    "scores.columns = cls"
   ]
  },
  {
   "cell_type": "code",
   "execution_count": 12,
   "id": "eight-program",
   "metadata": {},
   "outputs": [
    {
     "data": {
      "text/plain": [
       "rGes          0.0\n",
       "piPC05        0.0\n",
       "piPC04        0.0\n",
       "piPC03        0.0\n",
       "nTriazoles    0.0\n",
       "             ... \n",
       "AMW           0.0\n",
       "ALOGP2        0.0\n",
       "ALOGP         0.0\n",
       "AECC          0.0\n",
       "AAC           0.0\n",
       "Length: 1260, dtype: float64"
      ]
     },
     "execution_count": 12,
     "metadata": {},
     "output_type": "execute_result"
    }
   ],
   "source": [
    "avgs = scores.mean(axis=0)\n",
    "avgs"
   ]
  },
  {
   "cell_type": "code",
   "execution_count": 13,
   "id": "complimentary-consolidation",
   "metadata": {},
   "outputs": [
    {
     "data": {
      "text/plain": [
       "Index(['rGes', 'GATS8m', 'GATS6m', 'GATS6p', 'GATS6v', 'GATS7p', 'GATS7s',\n",
       "       'GATS7v', 'GATS8i', 'GATS8s', 'GATS5s', 'GATS8v', 'GGI2', 'GGI3',\n",
       "       'GGI4', 'GGI5', 'GGI6', 'GGI7', 'GATS5v', 'GATS5p', 'GATS1v', 'GATS3s',\n",
       "       'GATS2i', 'GATS2m', 'GATS2p', 'GATS2s', 'GATS2v', 'GATS3e', 'GATS3i',\n",
       "       'GATS3v', 'GATS5m', 'GATS4i', 'GATS4m', 'GATS4p', 'GATS4s', 'GATS4v',\n",
       "       'GATS5e', 'GATS5i', 'GMTI', 'GNar', 'Ges', 'H3v', 'H2p', 'H2s', 'H2v',\n",
       "       'H3m', 'H3p', 'H3s', 'H3u', 'H4i', 'Gm', 'H4s', 'H4v', 'H5p', 'H5s',\n",
       "       'H5v', 'H6p', 'H6s', 'H2m', 'H2e', 'H1v', 'H1s', 'H%'],\n",
       "      dtype='object')"
      ]
     },
     "execution_count": 13,
     "metadata": {},
     "output_type": "execute_result"
    }
   ],
   "source": [
    "s = avgs.sort_values(ascending=False)\n",
    "s.index[:63]"
   ]
  },
  {
   "cell_type": "code",
   "execution_count": 14,
   "id": "fiscal-female",
   "metadata": {},
   "outputs": [
    {
     "data": {
      "text/plain": [
       "(0.0, 'H%')"
      ]
     },
     "execution_count": 14,
     "metadata": {},
     "output_type": "execute_result"
    }
   ],
   "source": [
    "avgs[s.index[62]], s.index[62]"
   ]
  },
  {
   "cell_type": "code",
   "execution_count": 15,
   "id": "driven-berkeley",
   "metadata": {},
   "outputs": [
    {
     "data": {
      "text/plain": [
       "[Index(['RDF040v', 'Mor06s', 'GATS8i'], dtype='object'),\n",
       " Index(['HATS4m', 'O-056', 'Mor09s'], dtype='object'),\n",
       " Index(['CATS2D_05_AL', 'Chi_Dz(m)', 'JGI2'], dtype='object'),\n",
       " Index(['GATS2s', 'GATS8m', 'Eig13_AEA(bo)'], dtype='object'),\n",
       " Index(['N%', 'CATS2D_06_DP', 'CMBL'], dtype='object'),\n",
       " Index(['H0m', 'TI2_L', 'TDB01u'], dtype='object'),\n",
       " Index(['C-040', 'Mor25m', 'MATS4s'], dtype='object'),\n",
       " Index(['SPAN', 'CATS2D_03_DP', 'Mor08p'], dtype='object'),\n",
       " Index(['H-046', 'F06[C-O]', 'TDB05v'], dtype='object'),\n",
       " Index(['CATS3D_04_DN', 'nCrt', 'nCsp2'], dtype='object'),\n",
       " Index(['Mor11s', 'B05[C-N]', 'B05[C-C]'], dtype='object'),\n",
       " Index(['Eta_C_A', 'ATS8i', 'Chi1_EA(ed)'], dtype='object'),\n",
       " Index(['J_D', 'CATS3D_07_DN', 'CATS3D_02_DA'], dtype='object'),\n",
       " Index(['SM2_Dz(p)', 'SpMin3_Bh(e)', 'P_VSA_LogP_4'], dtype='object'),\n",
       " Index(['RDF035v', 'nArNH2', 'MEcc'], dtype='object'),\n",
       " Index(['MEcc', 'H6s', 'HATS5s'], dtype='object'),\n",
       " Index(['Eta_D_beta', 'R7e+', 'SpMaxA_AEA(ed)'], dtype='object'),\n",
       " Index(['C-026', 'SpMAD_L', 'E2m'], dtype='object'),\n",
       " Index(['Eig14_EA(dm)', 'B02[O-O]', 'Mor29v'], dtype='object'),\n",
       " Index(['CATS2D_04_DP', 'GATS4m', 'R6v+'], dtype='object'),\n",
       " Index(['Mor08i', 'P_VSA_i_3', 'SM2_Dz(p)'], dtype='object'),\n",
       " Index(['Psi_i_1d', 'ATS3v', 'TDB05s'], dtype='object'),\n",
       " Index(['SpDiam_EA(ed)', 'RDF055e', 'R8e+'], dtype='object'),\n",
       " Index(['F04[C-N]', 'Mor32p', 'MATS6e'], dtype='object'),\n",
       " Index(['ATS4e', 'CATS3D_07_DN', 'Mor28p'], dtype='object'),\n",
       " Index(['TI1_L', 'Eig09_AEA(ed)', 'SpPosA_D/Dt'], dtype='object'),\n",
       " Index(['RDF055e', 'GATS4p', 'GATS1i'], dtype='object'),\n",
       " Index(['ChiA_B(s)', 'RTv', 'Mor15i'], dtype='object'),\n",
       " Index(['Mor27s', 'TDB08r', 'R6v'], dtype='object'),\n",
       " Index(['P_VSA_m_3', 'TDB08s', 'R5v+'], dtype='object'),\n",
       " Index(['EE_Dz(v)', 'Mor02v', 'RDF010s'], dtype='object'),\n",
       " Index(['HATS3p', 'PDI', 'Mor10e'], dtype='object'),\n",
       " Index(['RDF055e', 'RDF035m', 'ATS6p'], dtype='object'),\n",
       " Index(['HATS1s', 'CATS2D_06_DL', 'CATS2D_03_DN'], dtype='object'),\n",
       " Index(['Eig09_AEA(ri)', 'B06[C-N]', 'HATS3v'], dtype='object'),\n",
       " Index(['Mor17p', 'Mor25m', 'CATS2D_05_DN'], dtype='object'),\n",
       " Index(['MATS6m', 'Mor15v', 'Eig11_AEA(ed)'], dtype='object'),\n",
       " Index(['Cp / kJ/(mol-K)@293.15K', 'G1e', 'RDF060s'], dtype='object'),\n",
       " Index(['BIC4', 'GATS8i', 'SPAM'], dtype='object'),\n",
       " Index(['P2v', 'CATS2D_05_LL', 'SPH'], dtype='object'),\n",
       " Index(['ATSC6s', 'H7e', 'JGI3'], dtype='object'),\n",
       " Index(['Eig05_AEA(dm)', 'TDB05m', 'F05[N-O]'], dtype='object'),\n",
       " Index(['R6v', 'R6m', 'NdsCH'], dtype='object'),\n",
       " Index(['MATS5m', 'nPyridines', 'CATS2D_07_DA'], dtype='object'),\n",
       " Index(['H0e', 'Psi_i_0d', 'CATS2D_04_PN'], dtype='object'),\n",
       " Index(['H1v', 'Eig08_EA(dm)', 'Mor06m'], dtype='object'),\n",
       " Index(['B01[N-N]', 'SHED_DP', 'Mor14u'], dtype='object'),\n",
       " Index(['TDB03s', 'CATS2D_03_DP', 'ATSC6i'], dtype='object'),\n",
       " Index(['NssNH', 'VE1sign_G', 'Qindex'], dtype='object'),\n",
       " Index(['IC2', 'Chi_G', 'F02[C-C]'], dtype='object'),\n",
       " Index(['X3', 'MATS2e', 'B02[C-O]'], dtype='object'),\n",
       " Index(['TIC5', 'SpMin1_Bh(i)', 'P2u'], dtype='object'),\n",
       " Index(['Mor11v', 'Mor32s', 'nCt'], dtype='object'),\n",
       " Index(['GATS4p', 'CATS2D_05_AN', 'B06[C-C]'], dtype='object'),\n",
       " Index(['RDF075s', 'RDF055s', 'HATS0p'], dtype='object'),\n",
       " Index(['TDB03e', 'ATSC1v', 'C%'], dtype='object'),\n",
       " Index(['C-040', 'MATS1v', 'JGI2'], dtype='object'),\n",
       " Index(['C-018', 'MATS5m', 'B05[C-O]'], dtype='object'),\n",
       " Index(['JGI5', 'SpMaxA_AEA(ed)', 'Mor21s'], dtype='object'),\n",
       " Index(['Qindex', 'SpPosA_B(v)', 'CATS3D_04_DL'], dtype='object'),\n",
       " Index(['R7s+', 'CATS2D_00_AA', 'VE2sign_B(v)'], dtype='object'),\n",
       " Index(['QZZi', 'RDF040e', 'MATS1m'], dtype='object'),\n",
       " Index(['L3u', 'Cp / kJ/(mol-K)@293.15K', 'J_B(p)'], dtype='object'),\n",
       " Index(['RTi+', 'Mor17p', 'Mor20p'], dtype='object'),\n",
       " Index(['RDF035p', 'Mor21p', 'RDF015s'], dtype='object'),\n",
       " Index(['R1m+', 'L2m', 'H3u'], dtype='object'),\n",
       " Index(['RTp', 'H0v', 'ATSC4m'], dtype='object'),\n",
       " Index(['QXXs', 'SpMaxA_EA(bo)', 'Mor24m'], dtype='object'),\n",
       " Index(['R6e+', 'R1p', 'RDF060p'], dtype='object'),\n",
       " Index(['Mor15v', 'Mor10e', 'X2v'], dtype='object'),\n",
       " Index(['GATS3s', 'ATSC6s', 'F03[C-N]'], dtype='object'),\n",
       " Index(['Eig02_AEA(dm)', 'AVS_B(p)', 'SpMAD_EA(bo)'], dtype='object'),\n",
       " Index(['TI2_L', 'MATS6m', 'CATS2D_05_NL'], dtype='object'),\n",
       " Index(['HATS2s', 'Mor14v', 'RDF025s'], dtype='object'),\n",
       " Index(['RDF030p', 'R5s', 'SpMax_B(m)'], dtype='object'),\n",
       " Index(['E3v', 'Mor16m', 'HATS5u'], dtype='object'),\n",
       " Index(['E1m', 'SpMaxA_EA(dm)', 'Eta_FL_A'], dtype='object'),\n",
       " Index(['Eig07_EA(dm)', 'CATS3D_06_DN', 'Mor29v'], dtype='object'),\n",
       " Index(['C-002', 'Psi_i_t', 'SM2_D/Dt'], dtype='object'),\n",
       " Index(['ATSC2e', 'ChiA_Dt', 'B01[N-O]'], dtype='object'),\n",
       " Index(['T(O..O)', 'RTi', 'SHED_PP'], dtype='object'),\n",
       " Index(['CATS2D_05_AA', 'MATS2m', 'MATS6e'], dtype='object'),\n",
       " Index(['Dv', 'Eig04_AEA(dm)', 'RDF090p'], dtype='object'),\n",
       " Index(['CATS2D_07_AA', 'C%', 'GGI4'], dtype='object'),\n",
       " Index(['Mor11v', 'VE1_G/D', 'H6p'], dtype='object'),\n",
       " Index(['GATS2i', 'ATSC4p', 'R6i+'], dtype='object'),\n",
       " Index(['Mor29m', 'R1s+', 'Mor05m'], dtype='object'),\n",
       " Index(['CATS2D_03_AN', 'R2v+', 'L3u'], dtype='object'),\n",
       " Index(['HOMA', 'B03[C-C]', 'HATS5v'], dtype='object'),\n",
       " Index(['RDF060u', 'SssCH2', 'X1A'], dtype='object'),\n",
       " Index(['RDF090p', 'GATS5v', 'Dm'], dtype='object'),\n",
       " Index(['SM2_Dz(p)', 'CATS2D_04_NL', 'Mor24s'], dtype='object'),\n",
       " Index(['CATS3D_02_AP', 'DISPp', 'Mor25i'], dtype='object'),\n",
       " Index(['TDB09s', 'ChiA_B(s)', 'B03[O-O]'], dtype='object'),\n",
       " Index(['TDB05m', 'B04[N-O]', 'Eig12_AEA(bo)'], dtype='object'),\n",
       " Index(['L/Bw', 'Mor03s', 'X0Av'], dtype='object'),\n",
       " Index(['ATSC6s', 'VE2sign_B(v)', 'RTv'], dtype='object'),\n",
       " Index(['Ho_Dt', 'Mor30m', 'MATS3i'], dtype='object'),\n",
       " Index(['SddsN', 'P_VSA_MR_6', 'TDB01v'], dtype='object'),\n",
       " Index(['SpMax4_Bh(s)', 'SpMin3_Bh(e)', 'B04[O-O]'], dtype='object')]"
      ]
     },
     "execution_count": 15,
     "metadata": {},
     "output_type": "execute_result"
    }
   ],
   "source": [
    "selected_feat"
   ]
  },
  {
   "cell_type": "code",
   "execution_count": 16,
   "id": "rental-nicholas",
   "metadata": {},
   "outputs": [
    {
     "data": {
      "text/html": [
       "<div>\n",
       "<style scoped>\n",
       "    .dataframe tbody tr th:only-of-type {\n",
       "        vertical-align: middle;\n",
       "    }\n",
       "\n",
       "    .dataframe tbody tr th {\n",
       "        vertical-align: top;\n",
       "    }\n",
       "\n",
       "    .dataframe thead th {\n",
       "        text-align: right;\n",
       "    }\n",
       "</style>\n",
       "<table border=\"1\" class=\"dataframe\">\n",
       "  <thead>\n",
       "    <tr style=\"text-align: right;\">\n",
       "      <th></th>\n",
       "      <th>rGes</th>\n",
       "      <th>piPC05</th>\n",
       "      <th>piPC04</th>\n",
       "      <th>piPC03</th>\n",
       "      <th>nTriazoles</th>\n",
       "      <th>nTA</th>\n",
       "      <th>nROR</th>\n",
       "      <th>nROH</th>\n",
       "      <th>nRNR2</th>\n",
       "      <th>nRNHR</th>\n",
       "      <th>...</th>\n",
       "      <th>ATS4e</th>\n",
       "      <th>ATS3v</th>\n",
       "      <th>ATS3s</th>\n",
       "      <th>ATS2s</th>\n",
       "      <th>ARR</th>\n",
       "      <th>AMW</th>\n",
       "      <th>ALOGP2</th>\n",
       "      <th>ALOGP</th>\n",
       "      <th>AECC</th>\n",
       "      <th>AAC</th>\n",
       "    </tr>\n",
       "  </thead>\n",
       "  <tbody>\n",
       "    <tr>\n",
       "      <th>0</th>\n",
       "      <td>0.0</td>\n",
       "      <td>0.0</td>\n",
       "      <td>0.0</td>\n",
       "      <td>0.0</td>\n",
       "      <td>-0.0</td>\n",
       "      <td>0.0</td>\n",
       "      <td>-0.0</td>\n",
       "      <td>0.0</td>\n",
       "      <td>-0.0</td>\n",
       "      <td>-0.0</td>\n",
       "      <td>...</td>\n",
       "      <td>0.0</td>\n",
       "      <td>0.0</td>\n",
       "      <td>0.0</td>\n",
       "      <td>0.0</td>\n",
       "      <td>0.0</td>\n",
       "      <td>-0.0</td>\n",
       "      <td>-0.0</td>\n",
       "      <td>0.0</td>\n",
       "      <td>-0.0</td>\n",
       "      <td>-0.0</td>\n",
       "    </tr>\n",
       "    <tr>\n",
       "      <th>1</th>\n",
       "      <td>0.0</td>\n",
       "      <td>0.0</td>\n",
       "      <td>0.0</td>\n",
       "      <td>0.0</td>\n",
       "      <td>-0.0</td>\n",
       "      <td>0.0</td>\n",
       "      <td>-0.0</td>\n",
       "      <td>-0.0</td>\n",
       "      <td>-0.0</td>\n",
       "      <td>-0.0</td>\n",
       "      <td>...</td>\n",
       "      <td>0.0</td>\n",
       "      <td>0.0</td>\n",
       "      <td>0.0</td>\n",
       "      <td>0.0</td>\n",
       "      <td>-0.0</td>\n",
       "      <td>0.0</td>\n",
       "      <td>-0.0</td>\n",
       "      <td>-0.0</td>\n",
       "      <td>0.0</td>\n",
       "      <td>0.0</td>\n",
       "    </tr>\n",
       "    <tr>\n",
       "      <th>2</th>\n",
       "      <td>0.0</td>\n",
       "      <td>0.0</td>\n",
       "      <td>0.0</td>\n",
       "      <td>0.0</td>\n",
       "      <td>-0.0</td>\n",
       "      <td>0.0</td>\n",
       "      <td>-0.0</td>\n",
       "      <td>0.0</td>\n",
       "      <td>-0.0</td>\n",
       "      <td>-0.0</td>\n",
       "      <td>...</td>\n",
       "      <td>0.0</td>\n",
       "      <td>0.0</td>\n",
       "      <td>0.0</td>\n",
       "      <td>0.0</td>\n",
       "      <td>-0.0</td>\n",
       "      <td>0.0</td>\n",
       "      <td>-0.0</td>\n",
       "      <td>0.0</td>\n",
       "      <td>-0.0</td>\n",
       "      <td>-0.0</td>\n",
       "    </tr>\n",
       "    <tr>\n",
       "      <th>3</th>\n",
       "      <td>0.0</td>\n",
       "      <td>0.0</td>\n",
       "      <td>0.0</td>\n",
       "      <td>0.0</td>\n",
       "      <td>-0.0</td>\n",
       "      <td>0.0</td>\n",
       "      <td>0.0</td>\n",
       "      <td>-0.0</td>\n",
       "      <td>0.0</td>\n",
       "      <td>0.0</td>\n",
       "      <td>...</td>\n",
       "      <td>0.0</td>\n",
       "      <td>0.0</td>\n",
       "      <td>0.0</td>\n",
       "      <td>0.0</td>\n",
       "      <td>0.0</td>\n",
       "      <td>-0.0</td>\n",
       "      <td>-0.0</td>\n",
       "      <td>-0.0</td>\n",
       "      <td>0.0</td>\n",
       "      <td>0.0</td>\n",
       "    </tr>\n",
       "    <tr>\n",
       "      <th>4</th>\n",
       "      <td>0.0</td>\n",
       "      <td>0.0</td>\n",
       "      <td>0.0</td>\n",
       "      <td>0.0</td>\n",
       "      <td>-0.0</td>\n",
       "      <td>0.0</td>\n",
       "      <td>-0.0</td>\n",
       "      <td>-0.0</td>\n",
       "      <td>-0.0</td>\n",
       "      <td>-0.0</td>\n",
       "      <td>...</td>\n",
       "      <td>0.0</td>\n",
       "      <td>0.0</td>\n",
       "      <td>0.0</td>\n",
       "      <td>0.0</td>\n",
       "      <td>0.0</td>\n",
       "      <td>-0.0</td>\n",
       "      <td>-0.0</td>\n",
       "      <td>0.0</td>\n",
       "      <td>-0.0</td>\n",
       "      <td>-0.0</td>\n",
       "    </tr>\n",
       "    <tr>\n",
       "      <th>...</th>\n",
       "      <td>...</td>\n",
       "      <td>...</td>\n",
       "      <td>...</td>\n",
       "      <td>...</td>\n",
       "      <td>...</td>\n",
       "      <td>...</td>\n",
       "      <td>...</td>\n",
       "      <td>...</td>\n",
       "      <td>...</td>\n",
       "      <td>...</td>\n",
       "      <td>...</td>\n",
       "      <td>...</td>\n",
       "      <td>...</td>\n",
       "      <td>...</td>\n",
       "      <td>...</td>\n",
       "      <td>...</td>\n",
       "      <td>...</td>\n",
       "      <td>...</td>\n",
       "      <td>...</td>\n",
       "      <td>...</td>\n",
       "      <td>...</td>\n",
       "    </tr>\n",
       "    <tr>\n",
       "      <th>95</th>\n",
       "      <td>0.0</td>\n",
       "      <td>0.0</td>\n",
       "      <td>0.0</td>\n",
       "      <td>0.0</td>\n",
       "      <td>-0.0</td>\n",
       "      <td>0.0</td>\n",
       "      <td>0.0</td>\n",
       "      <td>-0.0</td>\n",
       "      <td>0.0</td>\n",
       "      <td>-0.0</td>\n",
       "      <td>...</td>\n",
       "      <td>0.0</td>\n",
       "      <td>0.0</td>\n",
       "      <td>0.0</td>\n",
       "      <td>0.0</td>\n",
       "      <td>-0.0</td>\n",
       "      <td>0.0</td>\n",
       "      <td>-0.0</td>\n",
       "      <td>-0.0</td>\n",
       "      <td>0.0</td>\n",
       "      <td>-0.0</td>\n",
       "    </tr>\n",
       "    <tr>\n",
       "      <th>96</th>\n",
       "      <td>0.0</td>\n",
       "      <td>0.0</td>\n",
       "      <td>0.0</td>\n",
       "      <td>0.0</td>\n",
       "      <td>-0.0</td>\n",
       "      <td>0.0</td>\n",
       "      <td>-0.0</td>\n",
       "      <td>0.0</td>\n",
       "      <td>-0.0</td>\n",
       "      <td>-0.0</td>\n",
       "      <td>...</td>\n",
       "      <td>0.0</td>\n",
       "      <td>0.0</td>\n",
       "      <td>0.0</td>\n",
       "      <td>0.0</td>\n",
       "      <td>0.0</td>\n",
       "      <td>0.0</td>\n",
       "      <td>-0.0</td>\n",
       "      <td>-0.0</td>\n",
       "      <td>-0.0</td>\n",
       "      <td>-0.0</td>\n",
       "    </tr>\n",
       "    <tr>\n",
       "      <th>97</th>\n",
       "      <td>0.0</td>\n",
       "      <td>0.0</td>\n",
       "      <td>0.0</td>\n",
       "      <td>0.0</td>\n",
       "      <td>-0.0</td>\n",
       "      <td>0.0</td>\n",
       "      <td>-0.0</td>\n",
       "      <td>-0.0</td>\n",
       "      <td>0.0</td>\n",
       "      <td>-0.0</td>\n",
       "      <td>...</td>\n",
       "      <td>0.0</td>\n",
       "      <td>0.0</td>\n",
       "      <td>0.0</td>\n",
       "      <td>0.0</td>\n",
       "      <td>-0.0</td>\n",
       "      <td>-0.0</td>\n",
       "      <td>-0.0</td>\n",
       "      <td>0.0</td>\n",
       "      <td>0.0</td>\n",
       "      <td>0.0</td>\n",
       "    </tr>\n",
       "    <tr>\n",
       "      <th>98</th>\n",
       "      <td>0.0</td>\n",
       "      <td>0.0</td>\n",
       "      <td>0.0</td>\n",
       "      <td>0.0</td>\n",
       "      <td>-0.0</td>\n",
       "      <td>0.0</td>\n",
       "      <td>-0.0</td>\n",
       "      <td>-0.0</td>\n",
       "      <td>-0.0</td>\n",
       "      <td>-0.0</td>\n",
       "      <td>...</td>\n",
       "      <td>0.0</td>\n",
       "      <td>0.0</td>\n",
       "      <td>0.0</td>\n",
       "      <td>0.0</td>\n",
       "      <td>-0.0</td>\n",
       "      <td>-0.0</td>\n",
       "      <td>-0.0</td>\n",
       "      <td>-0.0</td>\n",
       "      <td>-0.0</td>\n",
       "      <td>-0.0</td>\n",
       "    </tr>\n",
       "    <tr>\n",
       "      <th>99</th>\n",
       "      <td>0.0</td>\n",
       "      <td>0.0</td>\n",
       "      <td>0.0</td>\n",
       "      <td>0.0</td>\n",
       "      <td>0.0</td>\n",
       "      <td>0.0</td>\n",
       "      <td>0.0</td>\n",
       "      <td>0.0</td>\n",
       "      <td>-0.0</td>\n",
       "      <td>0.0</td>\n",
       "      <td>...</td>\n",
       "      <td>0.0</td>\n",
       "      <td>0.0</td>\n",
       "      <td>0.0</td>\n",
       "      <td>0.0</td>\n",
       "      <td>0.0</td>\n",
       "      <td>0.0</td>\n",
       "      <td>0.0</td>\n",
       "      <td>0.0</td>\n",
       "      <td>-0.0</td>\n",
       "      <td>-0.0</td>\n",
       "    </tr>\n",
       "  </tbody>\n",
       "</table>\n",
       "<p>100 rows × 1260 columns</p>\n",
       "</div>"
      ],
      "text/plain": [
       "    rGes  piPC05  piPC04  piPC03  nTriazoles  nTA  nROR  nROH  nRNR2  nRNHR  \\\n",
       "0    0.0     0.0     0.0     0.0        -0.0  0.0  -0.0   0.0   -0.0   -0.0   \n",
       "1    0.0     0.0     0.0     0.0        -0.0  0.0  -0.0  -0.0   -0.0   -0.0   \n",
       "2    0.0     0.0     0.0     0.0        -0.0  0.0  -0.0   0.0   -0.0   -0.0   \n",
       "3    0.0     0.0     0.0     0.0        -0.0  0.0   0.0  -0.0    0.0    0.0   \n",
       "4    0.0     0.0     0.0     0.0        -0.0  0.0  -0.0  -0.0   -0.0   -0.0   \n",
       "..   ...     ...     ...     ...         ...  ...   ...   ...    ...    ...   \n",
       "95   0.0     0.0     0.0     0.0        -0.0  0.0   0.0  -0.0    0.0   -0.0   \n",
       "96   0.0     0.0     0.0     0.0        -0.0  0.0  -0.0   0.0   -0.0   -0.0   \n",
       "97   0.0     0.0     0.0     0.0        -0.0  0.0  -0.0  -0.0    0.0   -0.0   \n",
       "98   0.0     0.0     0.0     0.0        -0.0  0.0  -0.0  -0.0   -0.0   -0.0   \n",
       "99   0.0     0.0     0.0     0.0         0.0  0.0   0.0   0.0   -0.0    0.0   \n",
       "\n",
       "    ...  ATS4e  ATS3v  ATS3s  ATS2s  ARR  AMW  ALOGP2  ALOGP  AECC  AAC  \n",
       "0   ...    0.0    0.0    0.0    0.0  0.0 -0.0    -0.0    0.0  -0.0 -0.0  \n",
       "1   ...    0.0    0.0    0.0    0.0 -0.0  0.0    -0.0   -0.0   0.0  0.0  \n",
       "2   ...    0.0    0.0    0.0    0.0 -0.0  0.0    -0.0    0.0  -0.0 -0.0  \n",
       "3   ...    0.0    0.0    0.0    0.0  0.0 -0.0    -0.0   -0.0   0.0  0.0  \n",
       "4   ...    0.0    0.0    0.0    0.0  0.0 -0.0    -0.0    0.0  -0.0 -0.0  \n",
       "..  ...    ...    ...    ...    ...  ...  ...     ...    ...   ...  ...  \n",
       "95  ...    0.0    0.0    0.0    0.0 -0.0  0.0    -0.0   -0.0   0.0 -0.0  \n",
       "96  ...    0.0    0.0    0.0    0.0  0.0  0.0    -0.0   -0.0  -0.0 -0.0  \n",
       "97  ...    0.0    0.0    0.0    0.0 -0.0 -0.0    -0.0    0.0   0.0  0.0  \n",
       "98  ...    0.0    0.0    0.0    0.0 -0.0 -0.0    -0.0   -0.0  -0.0 -0.0  \n",
       "99  ...    0.0    0.0    0.0    0.0  0.0  0.0     0.0    0.0  -0.0 -0.0  \n",
       "\n",
       "[100 rows x 1260 columns]"
      ]
     },
     "execution_count": 16,
     "metadata": {},
     "output_type": "execute_result"
    }
   ],
   "source": [
    "scores"
   ]
  },
  {
   "cell_type": "code",
   "execution_count": 17,
   "id": "democratic-memorabilia",
   "metadata": {},
   "outputs": [
    {
     "data": {
      "image/png": "[encoded data removed]",
      "text/plain": [
       "<Figure size 432x288 with 1 Axes>"
      ]
     },
     "metadata": {
      "needs_background": "light"
     },
     "output_type": "display_data"
    }
   ],
   "source": [
    "t63 = avgs[s.index[62]]\n",
    "fig, ax = plt.subplots()\n",
    "plt.hist(np.array(scores_sorted),bins=100)\n",
    "#ax.plot([t63, t63], [0, 8], 'r--')\n",
    "#ax.annotate('top 63 features reaching score of >={:.2f}'.format(t63), xy=(t63+1, 8), xytext=(t63+1, 8))\n",
    "plt.title('Feature importance score distribution')\n",
    "#plt.xlabel('Feature importance score')\n",
    "#plt.ylabel('Number of features')\n",
    "#plt.ylim(top=10)\n",
    "plt.show()"
   ]
  },
  {
   "cell_type": "code",
   "execution_count": 18,
   "id": "organizational-inventory",
   "metadata": {},
   "outputs": [
    {
     "data": {
      "image/png": "[encoded data removed]",
      "text/plain": [
       "<Figure size 432x288 with 1 Axes>"
      ]
     },
     "metadata": {
      "needs_background": "light"
     },
     "output_type": "display_data"
    }
   ],
   "source": [
    "fig, ax = plt.subplots()\n",
    "plt.hist(np.array(scores_sorted),bins=100)\n",
    "#plt.title('Feature importance score distribution')\n",
    "plt.xlabel('Feature importance score')\n",
    "plt.ylabel('Number of features')\n",
    "plt.show()"
   ]
  },
  {
   "cell_type": "code",
   "execution_count": 24,
   "id": "immediate-wallace",
   "metadata": {},
   "outputs": [],
   "source": [
    "elNet = ElasticNet(random_state=random_state, fit_intercept=False, selection='random',\n",
    "                  l1_ratio=1).fit(X_train_sc, np.ravel(y_train_sc))"
   ]
  },
  {
   "cell_type": "code",
   "execution_count": 25,
   "id": "silent-elder",
   "metadata": {},
   "outputs": [
    {
     "data": {
      "text/plain": [
       "(0.0, 0.0)"
      ]
     },
     "execution_count": 25,
     "metadata": {},
     "output_type": "execute_result"
    }
   ],
   "source": [
    "np.min(elNet.coef_), np.max(elNet.coef_)"
   ]
  },
  {
   "cell_type": "code",
   "execution_count": null,
   "id": "ranging-rebate",
   "metadata": {},
   "outputs": [],
   "source": []
  }
 ],
 "metadata": {
  "kernelspec": {
   "display_name": "Python 3",
   "language": "python",
   "name": "python3"
  },
  "language_info": {
   "codemirror_mode": {
    "name": "ipython",
    "version": 3
   },
   "file_extension": ".py",
   "mimetype": "text/x-python",
   "name": "python",
   "nbconvert_exporter": "python",
   "pygments_lexer": "ipython3",
   "version": "3.7.9"
  }
 },
 "nbformat": 4,
 "nbformat_minor": 5
}
