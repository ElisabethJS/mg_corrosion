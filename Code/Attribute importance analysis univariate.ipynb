{
 "cells": [
  {
   "cell_type": "code",
   "execution_count": 1,
   "id": "genuine-intranet",
   "metadata": {},
   "outputs": [],
   "source": [
    "import pandas as pd\n",
    "import numpy as np\n",
    "from sklearn.model_selection import train_test_split\n",
    "from sklearn.feature_selection import SelectKBest, f_regression\n",
    "from sklearn.preprocessing import MinMaxScaler\n",
    "import matplotlib.pyplot as plt"
   ]
  },
  {
   "cell_type": "code",
   "execution_count": 2,
   "id": "indie-major",
   "metadata": {},
   "outputs": [],
   "source": [
    "seeds = np.arange(100)\n",
    "random_state=42\n",
    "n_features = 63"
   ]
  },
  {
   "cell_type": "code",
   "execution_count": 3,
   "id": "comparative-newman",
   "metadata": {},
   "outputs": [],
   "source": [
    "data = pd.read_csv('..\\\\Data\\\\ze41_mol_desc_db_red.csv', header=0, sep=';', decimal=',')"
   ]
  },
  {
   "cell_type": "code",
   "execution_count": 4,
   "id": "surgical-license",
   "metadata": {},
   "outputs": [],
   "source": [
    "col_names = data.columns\n",
    "X = data[col_names[3:]]\n",
    "y = data[col_names[1]]"
   ]
  },
  {
   "cell_type": "code",
   "execution_count": 5,
   "id": "precise-algeria",
   "metadata": {},
   "outputs": [],
   "source": [
    "X_train, X_valid, y_train, y_valid = train_test_split(X, y, test_size=0.1, random_state=random_state)\n",
    "[X_train, X_valid, y_train, y_valid] = [pd.DataFrame(x) for x in [X_train, X_valid, y_train, y_valid]]"
   ]
  },
  {
   "cell_type": "code",
   "execution_count": 6,
   "id": "ideal-understanding",
   "metadata": {},
   "outputs": [],
   "source": [
    "scalex = MinMaxScaler(feature_range=(-1,1))\n",
    "scalex.fit(X_train)\n",
    "[X_train_sc, X_valid_sc] = [pd.DataFrame(scalex.transform(x), columns=X.columns) for x in [X_train, X_valid]]"
   ]
  },
  {
   "cell_type": "code",
   "execution_count": 7,
   "id": "reflected-blues",
   "metadata": {},
   "outputs": [],
   "source": [
    "scaley = MinMaxScaler(feature_range=(0, 1))\n",
    "scaley.fit(y_train)\n",
    "[y_train_sc, y_valid_sc] = [pd.DataFrame(scaley.transform(y), columns=y.columns) for y in [y_train, y_valid]]"
   ]
  },
  {
   "cell_type": "code",
   "execution_count": 8,
   "id": "surprised-commissioner",
   "metadata": {},
   "outputs": [],
   "source": [
    "all_scores = []"
   ]
  },
  {
   "cell_type": "code",
   "execution_count": 9,
   "id": "brilliant-approval",
   "metadata": {
    "scrolled": false
   },
   "outputs": [],
   "source": [
    "i = 0\n",
    "for seed in seeds:\n",
    "    i += 1\n",
    "    rng = np.random.default_rng(seed=seed)\n",
    "    for run in range(1):\n",
    "        perm = rng.permutation(len(X_train_sc.columns))\n",
    "        X_perm = X_train_sc[X_train_sc.columns[perm]]\n",
    "        skb = SelectKBest(f_regression, k=n_features)\n",
    "        _ = skb.fit_transform(X_perm, np.ravel(y_train_sc))\n",
    "        _, scores_sorted = zip(*sorted(zip(X_perm.columns, skb.scores_), reverse=True))\n",
    "        all_scores.append(scores_sorted)\n",
    "    #print('{}% done'.format(i*100//len(seeds)))"
   ]
  },
  {
   "cell_type": "code",
   "execution_count": 10,
   "id": "similar-locking",
   "metadata": {},
   "outputs": [],
   "source": [
    "cls, scores_sorted = zip(*sorted(zip(X_perm.columns, skb.scores_), reverse=True))"
   ]
  },
  {
   "cell_type": "code",
   "execution_count": 11,
   "id": "figured-qatar",
   "metadata": {},
   "outputs": [],
   "source": [
    "scores = pd.DataFrame(all_scores)\n",
    "scores.columns = cls"
   ]
  },
  {
   "cell_type": "code",
   "execution_count": 12,
   "id": "urban-mercury",
   "metadata": {},
   "outputs": [
    {
     "data": {
      "text/plain": [
       "rGes          0.023238\n",
       "piPC05        4.093930\n",
       "piPC04        3.338334\n",
       "piPC03        3.977448\n",
       "nTriazoles    0.633448\n",
       "                ...   \n",
       "AMW           5.724002\n",
       "ALOGP2        0.525755\n",
       "ALOGP         1.602371\n",
       "AECC          0.336612\n",
       "AAC           0.687950\n",
       "Length: 1260, dtype: float64"
      ]
     },
     "execution_count": 12,
     "metadata": {},
     "output_type": "execute_result"
    }
   ],
   "source": [
    "avgs = scores.mean(axis=0)\n",
    "avgs"
   ]
  },
  {
   "cell_type": "code",
   "execution_count": 13,
   "id": "comprehensive-mention",
   "metadata": {},
   "outputs": [
    {
     "data": {
      "text/plain": [
       "Index(['CATS2D_03_AP', 'CATS3D_03_AP', 'CATS3D_02_AP', 'LUMO / eV',\n",
       "       'P_VSA_MR_5', 'P_VSA_LogP_2', 'CATS2D_02_PN', 'CATS2D_03_DP', 'H3m',\n",
       "       'nRNH2', 'H%', 'Mor14u', 'CATS2D_03_AN', 'Eta_epsi_5', 'CATS3D_03_DP',\n",
       "       'P_VSA_e_3', 'Mor19m', 'Mv', 'Mor12e', 'B02[C-N]', 'Eta_F_A', 'R2e+',\n",
       "       'Mor14s', 'NssCH2', 'Mor32m', 'SHED_AP', 'P_VSA_ppp_con', 'Mor14v',\n",
       "       'Mor08s', 'E2m', 'SPH', 'MATS7m', 'F03[N-O]', 'SsNH2', 'CATS3D_04_NL',\n",
       "       'E3p', 'Hlgap / eV', 'CATS2D_04_AA', 'Mor08i', 'HOMO / eV', 'TDB03e',\n",
       "       'TDB02e', 'B03[N-O]', 'CATS3D_02_AN', 'Mi', 'Mor27m', 'TDB04v', 'ZM2V',\n",
       "       'Mor12p', 'Eta_FL_A', 'GATS1m', 'Ui', 'Mor12m', 'SHED_PN', 'SHED_DP',\n",
       "       'GATS1v', 'MLOGP', 'MPC07', 'nN', 'DLS_05', 'nArCOOH', 'Mor08p',\n",
       "       'SpPosA_B(e)'],\n",
       "      dtype='object')"
      ]
     },
     "execution_count": 13,
     "metadata": {},
     "output_type": "execute_result"
    }
   ],
   "source": [
    "s = avgs.sort_values(ascending=False)\n",
    "s.index[:63]"
   ]
  },
  {
   "cell_type": "code",
   "execution_count": 38,
   "id": "tough-millennium",
   "metadata": {},
   "outputs": [
    {
     "data": {
      "text/plain": [
       "(6.301375180856465, 'SpPosA_B(e)')"
      ]
     },
     "execution_count": 38,
     "metadata": {},
     "output_type": "execute_result"
    }
   ],
   "source": [
    "avgs[s.index[62]], s.index[62]"
   ]
  },
  {
   "cell_type": "code",
   "execution_count": 15,
   "id": "stainless-finance",
   "metadata": {},
   "outputs": [
    {
     "data": {
      "text/plain": [
       "1.0711834781949522e-14"
      ]
     },
     "execution_count": 15,
     "metadata": {},
     "output_type": "execute_result"
    }
   ],
   "source": [
    "scores.std(axis=0).max()"
   ]
  },
  {
   "cell_type": "code",
   "execution_count": 16,
   "id": "broad-ceramic",
   "metadata": {},
   "outputs": [
    {
     "data": {
      "text/html": [
       "<div>\n",
       "<style scoped>\n",
       "    .dataframe tbody tr th:only-of-type {\n",
       "        vertical-align: middle;\n",
       "    }\n",
       "\n",
       "    .dataframe tbody tr th {\n",
       "        vertical-align: top;\n",
       "    }\n",
       "\n",
       "    .dataframe thead th {\n",
       "        text-align: right;\n",
       "    }\n",
       "</style>\n",
       "<table border=\"1\" class=\"dataframe\">\n",
       "  <thead>\n",
       "    <tr style=\"text-align: right;\">\n",
       "      <th></th>\n",
       "      <th>rGes</th>\n",
       "      <th>piPC05</th>\n",
       "      <th>piPC04</th>\n",
       "      <th>piPC03</th>\n",
       "      <th>nTriazoles</th>\n",
       "      <th>nTA</th>\n",
       "      <th>nROR</th>\n",
       "      <th>nROH</th>\n",
       "      <th>nRNR2</th>\n",
       "      <th>nRNHR</th>\n",
       "      <th>...</th>\n",
       "      <th>ATS4e</th>\n",
       "      <th>ATS3v</th>\n",
       "      <th>ATS3s</th>\n",
       "      <th>ATS2s</th>\n",
       "      <th>ARR</th>\n",
       "      <th>AMW</th>\n",
       "      <th>ALOGP2</th>\n",
       "      <th>ALOGP</th>\n",
       "      <th>AECC</th>\n",
       "      <th>AAC</th>\n",
       "    </tr>\n",
       "  </thead>\n",
       "  <tbody>\n",
       "    <tr>\n",
       "      <th>0</th>\n",
       "      <td>0.023238</td>\n",
       "      <td>4.09393</td>\n",
       "      <td>3.338334</td>\n",
       "      <td>3.977448</td>\n",
       "      <td>0.633448</td>\n",
       "      <td>0.270276</td>\n",
       "      <td>2.414028</td>\n",
       "      <td>1.518932</td>\n",
       "      <td>1.699586</td>\n",
       "      <td>0.994642</td>\n",
       "      <td>...</td>\n",
       "      <td>0.200476</td>\n",
       "      <td>0.190591</td>\n",
       "      <td>0.425854</td>\n",
       "      <td>1.497478</td>\n",
       "      <td>1.862228</td>\n",
       "      <td>5.724002</td>\n",
       "      <td>0.525755</td>\n",
       "      <td>1.602371</td>\n",
       "      <td>0.336612</td>\n",
       "      <td>0.68795</td>\n",
       "    </tr>\n",
       "    <tr>\n",
       "      <th>1</th>\n",
       "      <td>0.023238</td>\n",
       "      <td>4.09393</td>\n",
       "      <td>3.338334</td>\n",
       "      <td>3.977448</td>\n",
       "      <td>0.633448</td>\n",
       "      <td>0.270276</td>\n",
       "      <td>2.414028</td>\n",
       "      <td>1.518932</td>\n",
       "      <td>1.699586</td>\n",
       "      <td>0.994642</td>\n",
       "      <td>...</td>\n",
       "      <td>0.200476</td>\n",
       "      <td>0.190591</td>\n",
       "      <td>0.425854</td>\n",
       "      <td>1.497478</td>\n",
       "      <td>1.862228</td>\n",
       "      <td>5.724002</td>\n",
       "      <td>0.525755</td>\n",
       "      <td>1.602371</td>\n",
       "      <td>0.336612</td>\n",
       "      <td>0.68795</td>\n",
       "    </tr>\n",
       "    <tr>\n",
       "      <th>2</th>\n",
       "      <td>0.023238</td>\n",
       "      <td>4.09393</td>\n",
       "      <td>3.338334</td>\n",
       "      <td>3.977448</td>\n",
       "      <td>0.633448</td>\n",
       "      <td>0.270276</td>\n",
       "      <td>2.414028</td>\n",
       "      <td>1.518932</td>\n",
       "      <td>1.699586</td>\n",
       "      <td>0.994642</td>\n",
       "      <td>...</td>\n",
       "      <td>0.200476</td>\n",
       "      <td>0.190591</td>\n",
       "      <td>0.425854</td>\n",
       "      <td>1.497478</td>\n",
       "      <td>1.862228</td>\n",
       "      <td>5.724002</td>\n",
       "      <td>0.525755</td>\n",
       "      <td>1.602371</td>\n",
       "      <td>0.336612</td>\n",
       "      <td>0.68795</td>\n",
       "    </tr>\n",
       "    <tr>\n",
       "      <th>3</th>\n",
       "      <td>0.023238</td>\n",
       "      <td>4.09393</td>\n",
       "      <td>3.338334</td>\n",
       "      <td>3.977448</td>\n",
       "      <td>0.633448</td>\n",
       "      <td>0.270276</td>\n",
       "      <td>2.414028</td>\n",
       "      <td>1.518932</td>\n",
       "      <td>1.699586</td>\n",
       "      <td>0.994642</td>\n",
       "      <td>...</td>\n",
       "      <td>0.200476</td>\n",
       "      <td>0.190591</td>\n",
       "      <td>0.425854</td>\n",
       "      <td>1.497478</td>\n",
       "      <td>1.862228</td>\n",
       "      <td>5.724002</td>\n",
       "      <td>0.525755</td>\n",
       "      <td>1.602371</td>\n",
       "      <td>0.336612</td>\n",
       "      <td>0.68795</td>\n",
       "    </tr>\n",
       "    <tr>\n",
       "      <th>4</th>\n",
       "      <td>0.023238</td>\n",
       "      <td>4.09393</td>\n",
       "      <td>3.338334</td>\n",
       "      <td>3.977448</td>\n",
       "      <td>0.633448</td>\n",
       "      <td>0.270276</td>\n",
       "      <td>2.414028</td>\n",
       "      <td>1.518932</td>\n",
       "      <td>1.699586</td>\n",
       "      <td>0.994642</td>\n",
       "      <td>...</td>\n",
       "      <td>0.200476</td>\n",
       "      <td>0.190591</td>\n",
       "      <td>0.425854</td>\n",
       "      <td>1.497478</td>\n",
       "      <td>1.862228</td>\n",
       "      <td>5.724002</td>\n",
       "      <td>0.525755</td>\n",
       "      <td>1.602371</td>\n",
       "      <td>0.336612</td>\n",
       "      <td>0.68795</td>\n",
       "    </tr>\n",
       "    <tr>\n",
       "      <th>...</th>\n",
       "      <td>...</td>\n",
       "      <td>...</td>\n",
       "      <td>...</td>\n",
       "      <td>...</td>\n",
       "      <td>...</td>\n",
       "      <td>...</td>\n",
       "      <td>...</td>\n",
       "      <td>...</td>\n",
       "      <td>...</td>\n",
       "      <td>...</td>\n",
       "      <td>...</td>\n",
       "      <td>...</td>\n",
       "      <td>...</td>\n",
       "      <td>...</td>\n",
       "      <td>...</td>\n",
       "      <td>...</td>\n",
       "      <td>...</td>\n",
       "      <td>...</td>\n",
       "      <td>...</td>\n",
       "      <td>...</td>\n",
       "      <td>...</td>\n",
       "    </tr>\n",
       "    <tr>\n",
       "      <th>95</th>\n",
       "      <td>0.023238</td>\n",
       "      <td>4.09393</td>\n",
       "      <td>3.338334</td>\n",
       "      <td>3.977448</td>\n",
       "      <td>0.633448</td>\n",
       "      <td>0.270276</td>\n",
       "      <td>2.414028</td>\n",
       "      <td>1.518932</td>\n",
       "      <td>1.699586</td>\n",
       "      <td>0.994642</td>\n",
       "      <td>...</td>\n",
       "      <td>0.200476</td>\n",
       "      <td>0.190591</td>\n",
       "      <td>0.425854</td>\n",
       "      <td>1.497478</td>\n",
       "      <td>1.862228</td>\n",
       "      <td>5.724002</td>\n",
       "      <td>0.525755</td>\n",
       "      <td>1.602371</td>\n",
       "      <td>0.336612</td>\n",
       "      <td>0.68795</td>\n",
       "    </tr>\n",
       "    <tr>\n",
       "      <th>96</th>\n",
       "      <td>0.023238</td>\n",
       "      <td>4.09393</td>\n",
       "      <td>3.338334</td>\n",
       "      <td>3.977448</td>\n",
       "      <td>0.633448</td>\n",
       "      <td>0.270276</td>\n",
       "      <td>2.414028</td>\n",
       "      <td>1.518932</td>\n",
       "      <td>1.699586</td>\n",
       "      <td>0.994642</td>\n",
       "      <td>...</td>\n",
       "      <td>0.200476</td>\n",
       "      <td>0.190591</td>\n",
       "      <td>0.425854</td>\n",
       "      <td>1.497478</td>\n",
       "      <td>1.862228</td>\n",
       "      <td>5.724002</td>\n",
       "      <td>0.525755</td>\n",
       "      <td>1.602371</td>\n",
       "      <td>0.336612</td>\n",
       "      <td>0.68795</td>\n",
       "    </tr>\n",
       "    <tr>\n",
       "      <th>97</th>\n",
       "      <td>0.023238</td>\n",
       "      <td>4.09393</td>\n",
       "      <td>3.338334</td>\n",
       "      <td>3.977448</td>\n",
       "      <td>0.633448</td>\n",
       "      <td>0.270276</td>\n",
       "      <td>2.414028</td>\n",
       "      <td>1.518932</td>\n",
       "      <td>1.699586</td>\n",
       "      <td>0.994642</td>\n",
       "      <td>...</td>\n",
       "      <td>0.200476</td>\n",
       "      <td>0.190591</td>\n",
       "      <td>0.425854</td>\n",
       "      <td>1.497478</td>\n",
       "      <td>1.862228</td>\n",
       "      <td>5.724002</td>\n",
       "      <td>0.525755</td>\n",
       "      <td>1.602371</td>\n",
       "      <td>0.336612</td>\n",
       "      <td>0.68795</td>\n",
       "    </tr>\n",
       "    <tr>\n",
       "      <th>98</th>\n",
       "      <td>0.023238</td>\n",
       "      <td>4.09393</td>\n",
       "      <td>3.338334</td>\n",
       "      <td>3.977448</td>\n",
       "      <td>0.633448</td>\n",
       "      <td>0.270276</td>\n",
       "      <td>2.414028</td>\n",
       "      <td>1.518932</td>\n",
       "      <td>1.699586</td>\n",
       "      <td>0.994642</td>\n",
       "      <td>...</td>\n",
       "      <td>0.200476</td>\n",
       "      <td>0.190591</td>\n",
       "      <td>0.425854</td>\n",
       "      <td>1.497478</td>\n",
       "      <td>1.862228</td>\n",
       "      <td>5.724002</td>\n",
       "      <td>0.525755</td>\n",
       "      <td>1.602371</td>\n",
       "      <td>0.336612</td>\n",
       "      <td>0.68795</td>\n",
       "    </tr>\n",
       "    <tr>\n",
       "      <th>99</th>\n",
       "      <td>0.023238</td>\n",
       "      <td>4.09393</td>\n",
       "      <td>3.338334</td>\n",
       "      <td>3.977448</td>\n",
       "      <td>0.633448</td>\n",
       "      <td>0.270276</td>\n",
       "      <td>2.414028</td>\n",
       "      <td>1.518932</td>\n",
       "      <td>1.699586</td>\n",
       "      <td>0.994642</td>\n",
       "      <td>...</td>\n",
       "      <td>0.200476</td>\n",
       "      <td>0.190591</td>\n",
       "      <td>0.425854</td>\n",
       "      <td>1.497478</td>\n",
       "      <td>1.862228</td>\n",
       "      <td>5.724002</td>\n",
       "      <td>0.525755</td>\n",
       "      <td>1.602371</td>\n",
       "      <td>0.336612</td>\n",
       "      <td>0.68795</td>\n",
       "    </tr>\n",
       "  </tbody>\n",
       "</table>\n",
       "<p>100 rows × 1260 columns</p>\n",
       "</div>"
      ],
      "text/plain": [
       "        rGes   piPC05    piPC04    piPC03  nTriazoles       nTA      nROR  \\\n",
       "0   0.023238  4.09393  3.338334  3.977448    0.633448  0.270276  2.414028   \n",
       "1   0.023238  4.09393  3.338334  3.977448    0.633448  0.270276  2.414028   \n",
       "2   0.023238  4.09393  3.338334  3.977448    0.633448  0.270276  2.414028   \n",
       "3   0.023238  4.09393  3.338334  3.977448    0.633448  0.270276  2.414028   \n",
       "4   0.023238  4.09393  3.338334  3.977448    0.633448  0.270276  2.414028   \n",
       "..       ...      ...       ...       ...         ...       ...       ...   \n",
       "95  0.023238  4.09393  3.338334  3.977448    0.633448  0.270276  2.414028   \n",
       "96  0.023238  4.09393  3.338334  3.977448    0.633448  0.270276  2.414028   \n",
       "97  0.023238  4.09393  3.338334  3.977448    0.633448  0.270276  2.414028   \n",
       "98  0.023238  4.09393  3.338334  3.977448    0.633448  0.270276  2.414028   \n",
       "99  0.023238  4.09393  3.338334  3.977448    0.633448  0.270276  2.414028   \n",
       "\n",
       "        nROH     nRNR2     nRNHR  ...     ATS4e     ATS3v     ATS3s     ATS2s  \\\n",
       "0   1.518932  1.699586  0.994642  ...  0.200476  0.190591  0.425854  1.497478   \n",
       "1   1.518932  1.699586  0.994642  ...  0.200476  0.190591  0.425854  1.497478   \n",
       "2   1.518932  1.699586  0.994642  ...  0.200476  0.190591  0.425854  1.497478   \n",
       "3   1.518932  1.699586  0.994642  ...  0.200476  0.190591  0.425854  1.497478   \n",
       "4   1.518932  1.699586  0.994642  ...  0.200476  0.190591  0.425854  1.497478   \n",
       "..       ...       ...       ...  ...       ...       ...       ...       ...   \n",
       "95  1.518932  1.699586  0.994642  ...  0.200476  0.190591  0.425854  1.497478   \n",
       "96  1.518932  1.699586  0.994642  ...  0.200476  0.190591  0.425854  1.497478   \n",
       "97  1.518932  1.699586  0.994642  ...  0.200476  0.190591  0.425854  1.497478   \n",
       "98  1.518932  1.699586  0.994642  ...  0.200476  0.190591  0.425854  1.497478   \n",
       "99  1.518932  1.699586  0.994642  ...  0.200476  0.190591  0.425854  1.497478   \n",
       "\n",
       "         ARR       AMW    ALOGP2     ALOGP      AECC      AAC  \n",
       "0   1.862228  5.724002  0.525755  1.602371  0.336612  0.68795  \n",
       "1   1.862228  5.724002  0.525755  1.602371  0.336612  0.68795  \n",
       "2   1.862228  5.724002  0.525755  1.602371  0.336612  0.68795  \n",
       "3   1.862228  5.724002  0.525755  1.602371  0.336612  0.68795  \n",
       "4   1.862228  5.724002  0.525755  1.602371  0.336612  0.68795  \n",
       "..       ...       ...       ...       ...       ...      ...  \n",
       "95  1.862228  5.724002  0.525755  1.602371  0.336612  0.68795  \n",
       "96  1.862228  5.724002  0.525755  1.602371  0.336612  0.68795  \n",
       "97  1.862228  5.724002  0.525755  1.602371  0.336612  0.68795  \n",
       "98  1.862228  5.724002  0.525755  1.602371  0.336612  0.68795  \n",
       "99  1.862228  5.724002  0.525755  1.602371  0.336612  0.68795  \n",
       "\n",
       "[100 rows x 1260 columns]"
      ]
     },
     "execution_count": 16,
     "metadata": {},
     "output_type": "execute_result"
    }
   ],
   "source": [
    "scores"
   ]
  },
  {
   "cell_type": "code",
   "execution_count": 75,
   "id": "stainless-earthquake",
   "metadata": {},
   "outputs": [
    {
     "data": {
      "image/png": "[encoded data removed]",
      "text/plain": [
       "<Figure size 432x288 with 1 Axes>"
      ]
     },
     "metadata": {
      "needs_background": "light"
     },
     "output_type": "display_data"
    }
   ],
   "source": [
    "t63 = avgs[s.index[62]]\n",
    "fig, ax = plt.subplots()\n",
    "plt.hist(np.array(scores_sorted),bins=100)\n",
    "ax.plot([t63, t63], [0, 8], 'r--')\n",
    "ax.annotate('top 63 features reaching score of >={:.2f}'.format(t63), xy=(t63+1, 8), xytext=(t63+1, 8))\n",
    "plt.title('Feature importance score distribution')\n",
    "#plt.xlabel('Feature importance score')\n",
    "#plt.ylabel('Number of features')\n",
    "plt.ylim(top=10)\n",
    "plt.savefig('..\\\\figures\\\\anova_hist_cropped.svg', format='svg')\n",
    "plt.show()"
   ]
  },
  {
   "cell_type": "code",
   "execution_count": 27,
   "id": "about-browse",
   "metadata": {},
   "outputs": [
    {
     "data": {
      "image/png": "[encoded data removed]",
      "text/plain": [
       "<Figure size 432x288 with 1 Axes>"
      ]
     },
     "metadata": {
      "needs_background": "light"
     },
     "output_type": "display_data"
    }
   ],
   "source": [
    "fig, ax = plt.subplots()\n",
    "plt.hist(np.array(scores_sorted),bins=100)\n",
    "#plt.title('Feature importance score distribution')\n",
    "plt.xlabel('Feature importance score')\n",
    "plt.ylabel('Number of features')\n",
    "plt.savefig('..\\\\figures\\\\anova_hist.svg', format='svg')\n",
    "plt.show()"
   ]
  },
  {
   "cell_type": "code",
   "execution_count": 25,
   "id": "olive-patrick",
   "metadata": {
    "scrolled": true
   },
   "outputs": [
    {
     "name": "stdout",
     "output_type": "stream",
     "text": [
      "1 & CATS2D\\_03\\_AP \\\\\n",
      "2 & CATS3D\\_03\\_AP \\\\\n",
      "3 & CATS3D\\_02\\_AP \\\\\n",
      "4 & LUMO / eV \\\\\n",
      "5 & P\\_VSA\\_MR\\_5 \\\\\n",
      "6 & P\\_VSA\\_LogP\\_2 \\\\\n",
      "7 & CATS2D\\_02\\_PN \\\\\n",
      "8 & CATS2D\\_03\\_DP \\\\\n",
      "9 & H3m \\\\\n",
      "10 & nRNH2 \\\\\n",
      "11 & H% \\\\\n",
      "12 & Mor14u \\\\\n",
      "13 & CATS2D\\_03\\_AN \\\\\n",
      "14 & Eta\\_epsi\\_5 \\\\\n",
      "15 & CATS3D\\_03\\_DP \\\\\n",
      "16 & P\\_VSA\\_e\\_3 \\\\\n",
      "17 & Mor19m \\\\\n",
      "18 & Mv \\\\\n",
      "19 & Mor12e \\\\\n",
      "20 & B02[C-N] \\\\\n",
      "21 & Eta\\_F\\_A \\\\\n",
      "22 & R2e+ \\\\\n",
      "23 & Mor14s \\\\\n",
      "24 & NssCH2 \\\\\n",
      "25 & Mor32m \\\\\n",
      "26 & SHED\\_AP \\\\\n",
      "27 & P\\_VSA\\_ppp\\_con \\\\\n",
      "28 & Mor14v \\\\\n",
      "29 & Mor08s \\\\\n",
      "30 & E2m \\\\\n",
      "31 & SPH \\\\\n",
      "32 & MATS7m \\\\\n",
      "33 & F03[N-O] \\\\\n",
      "34 & SsNH2 \\\\\n",
      "35 & CATS3D\\_04\\_NL \\\\\n",
      "36 & E3p \\\\\n",
      "37 & Hlgap / eV \\\\\n",
      "38 & CATS2D\\_04\\_AA \\\\\n",
      "39 & Mor08i \\\\\n",
      "40 & HOMO / eV \\\\\n",
      "41 & TDB03e \\\\\n",
      "42 & TDB02e \\\\\n",
      "43 & B03[N-O] \\\\\n",
      "44 & CATS3D\\_02\\_AN \\\\\n",
      "45 & Mi \\\\\n",
      "46 & Mor27m \\\\\n",
      "47 & TDB04v \\\\\n",
      "48 & ZM2V \\\\\n",
      "49 & Mor12p \\\\\n",
      "50 & Eta\\_FL\\_A \\\\\n",
      "51 & GATS1m \\\\\n",
      "52 & Ui \\\\\n",
      "53 & Mor12m \\\\\n",
      "54 & SHED\\_PN \\\\\n",
      "55 & SHED\\_DP \\\\\n",
      "56 & GATS1v \\\\\n",
      "57 & MLOGP \\\\\n",
      "58 & MPC07 \\\\\n",
      "59 & nN \\\\\n",
      "60 & DLS\\_05 \\\\\n",
      "61 & nArCOOH \\\\\n",
      "62 & Mor08p \\\\\n",
      "63 & SpPosA\\_B(e) \\\\\n"
     ]
    }
   ],
   "source": [
    "for i in range(63):\n",
    "    nam = ''\n",
    "    for x in s.index[i]:\n",
    "        if x == '_':\n",
    "            nam += '\\\\'\n",
    "        nam += x\n",
    "    print('{} & {} \\\\\\\\'.format(i+1, nam))"
   ]
  },
  {
   "cell_type": "code",
   "execution_count": 63,
   "id": "quiet-alaska",
   "metadata": {},
   "outputs": [
    {
     "data": {
      "text/plain": [
       "nRNH2           11.037985\n",
       "P_VSA_MR_5      16.379314\n",
       "P_VSA_LogP_2    16.073146\n",
       "LUMO / eV       19.660711\n",
       "H3m             12.083735\n",
       "H%              10.781441\n",
       "CATS3D_03_AP    20.938861\n",
       "CATS3D_02_AP    20.541342\n",
       "CATS2D_03_DP    13.096912\n",
       "CATS2D_03_AP    21.921351\n",
       "CATS2D_02_PN    14.885438\n",
       "dtype: float64"
      ]
     },
     "execution_count": 63,
     "metadata": {},
     "output_type": "execute_result"
    }
   ],
   "source": [
    "avgs[avgs>=10]"
   ]
  },
  {
   "cell_type": "code",
   "execution_count": 41,
   "id": "hungry-nelson",
   "metadata": {},
   "outputs": [],
   "source": [
    "cls, pval_sorted = zip(*sorted(zip(X_perm.columns, skb.pvalues_), reverse=True))"
   ]
  },
  {
   "cell_type": "code",
   "execution_count": 42,
   "id": "interstate-egypt",
   "metadata": {},
   "outputs": [],
   "source": [
    "pval = pd.Series(pval_sorted, index=cls)"
   ]
  },
  {
   "cell_type": "code",
   "execution_count": 48,
   "id": "unable-choir",
   "metadata": {},
   "outputs": [],
   "source": [
    "p =pval.sort_values(ascending=False)"
   ]
  },
  {
   "cell_type": "code",
   "execution_count": 64,
   "id": "sticky-mailman",
   "metadata": {},
   "outputs": [
    {
     "data": {
      "text/plain": [
       "ATSC2m          0.049037\n",
       "GATS6m          0.048982\n",
       "DLS_04          0.048880\n",
       "C-002           0.048794\n",
       "Mor08v          0.048771\n",
       "                  ...   \n",
       "P_VSA_MR_5      0.000173\n",
       "LUMO / eV       0.000048\n",
       "CATS3D_02_AP    0.000035\n",
       "CATS3D_03_AP    0.000030\n",
       "CATS2D_03_AP    0.000021\n",
       "Length: 142, dtype: float64"
      ]
     },
     "execution_count": 64,
     "metadata": {},
     "output_type": "execute_result"
    }
   ],
   "source": [
    "p[p < 0.05]"
   ]
  },
  {
   "cell_type": "code",
   "execution_count": 65,
   "id": "naughty-lesson",
   "metadata": {},
   "outputs": [
    {
     "data": {
      "text/plain": [
       "CATS2D_03_AP     21.921351\n",
       "CATS3D_03_AP     20.938861\n",
       "CATS3D_02_AP     20.541342\n",
       "LUMO / eV        19.660711\n",
       "P_VSA_MR_5       16.379314\n",
       "                   ...    \n",
       "C-002             4.071221\n",
       "DLS_04            4.067992\n",
       "GATS6m            4.064199\n",
       "ATSC2m            4.062131\n",
       "Eig11_AEA(ed)     4.023443\n",
       "Length: 143, dtype: float64"
      ]
     },
     "execution_count": 65,
     "metadata": {},
     "output_type": "execute_result"
    }
   ],
   "source": [
    "s[s.index[:143]]"
   ]
  },
  {
   "cell_type": "code",
   "execution_count": 62,
   "id": "blond-exclusion",
   "metadata": {},
   "outputs": [
    {
     "data": {
      "image/png": "[encoded data removed]",
      "text/plain": [
       "<Figure size 432x288 with 1 Axes>"
      ]
     },
     "metadata": {
      "needs_background": "light"
     },
     "output_type": "display_data"
    }
   ],
   "source": [
    "fig, ax = plt.subplots()\n",
    "plt.hist(np.array(pval_sorted),bins=100)\n",
    "#ax.plot([t63, t63], [0, 8], 'r--')\n",
    "#ax.annotate('top 63 features reaching score of >={:.2f}'.format(t63), xy=(t63+1, 8), xytext=(t63+1, 8))\n",
    "plt.title('Feature importance score distribution')\n",
    "#plt.xlabel('Feature importance score')\n",
    "#plt.ylabel('Number of features')\n",
    "#plt.savefig('..\\\\figures\\\\anova_hist_cropped.svg', format='svg')\n",
    "#plt.ylim(top=10)\n",
    "plt.show()"
   ]
  },
  {
   "cell_type": "code",
   "execution_count": 74,
   "id": "seasonal-equity",
   "metadata": {},
   "outputs": [
    {
     "data": {
      "text/plain": [
       "36"
      ]
     },
     "execution_count": 74,
     "metadata": {},
     "output_type": "execute_result"
    }
   ],
   "source": [
    "s.index.tolist().index('Hlgap / eV')"
   ]
  },
  {
   "cell_type": "code",
   "execution_count": null,
   "id": "inner-budget",
   "metadata": {},
   "outputs": [],
   "source": []
  }
 ],
 "metadata": {
  "kernelspec": {
   "display_name": "Python 3",
   "language": "python",
   "name": "python3"
  },
  "language_info": {
   "codemirror_mode": {
    "name": "ipython",
    "version": 3
   },
   "file_extension": ".py",
   "mimetype": "text/x-python",
   "name": "python",
   "nbconvert_exporter": "python",
   "pygments_lexer": "ipython3",
   "version": "3.7.9"
  }
 },
 "nbformat": 4,
 "nbformat_minor": 5
}
