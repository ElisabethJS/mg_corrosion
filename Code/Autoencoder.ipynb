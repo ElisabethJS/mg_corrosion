{
 "cells": [
  {
   "cell_type": "code",
   "execution_count": 1,
   "id": "insured-notebook",
   "metadata": {},
   "outputs": [],
   "source": [
    "import matplotlib.pyplot as plt\n",
    "import numpy as np\n",
    "import pandas as pd\n",
    "import tensorflow as tf\n",
    "from tensorflow import keras\n",
    "from sklearn.preprocessing import MinMaxScaler\n",
    "from sklearn.model_selection import train_test_split"
   ]
  },
  {
   "cell_type": "code",
   "execution_count": 2,
   "id": "integrated-mapping",
   "metadata": {},
   "outputs": [],
   "source": [
    "random_state = 42\n",
    "tf.random.set_seed(random_state)\n",
    "n_features = 3"
   ]
  },
  {
   "cell_type": "code",
   "execution_count": 3,
   "id": "incoming-landscape",
   "metadata": {},
   "outputs": [],
   "source": [
    "rfe_sel = ['P_VSA_MR_5', 'P_VSA_LogP_2', 'Mor22s', 'Mor04m', 'LUMO / eV', 'E1p', 'HOMO / eV']"
   ]
  },
  {
   "cell_type": "code",
   "execution_count": 4,
   "id": "spiritual-canvas",
   "metadata": {},
   "outputs": [],
   "source": [
    "data = pd.read_csv('..\\\\Data\\\\ze41_mol_desc_db_red.csv', header=0, sep=';', decimal=',')"
   ]
  },
  {
   "cell_type": "code",
   "execution_count": 5,
   "id": "attempted-craft",
   "metadata": {},
   "outputs": [],
   "source": [
    "col_names = data.columns\n",
    "X = data[rfe_sel[:n_features]].astype('float32')\n",
    "y = data[col_names[1]].astype('float32')"
   ]
  },
  {
   "cell_type": "code",
   "execution_count": 6,
   "id": "biblical-playback",
   "metadata": {},
   "outputs": [],
   "source": [
    "X_train, X_valid, y_train, y_valid = train_test_split(X, y, test_size=0.1, random_state=random_state)\n",
    "[X_train, X_valid, y_train, y_valid] = [pd.DataFrame(x) for x in [X_train, X_valid, y_train, y_valid]]"
   ]
  },
  {
   "cell_type": "code",
   "execution_count": 7,
   "id": "arranged-purchase",
   "metadata": {},
   "outputs": [],
   "source": [
    "scalex = MinMaxScaler(feature_range=(-1,1))\n",
    "scalex.fit(X_train)\n",
    "[X_train_sc, X_valid_sc] = [pd.DataFrame(scalex.transform(x), columns=X.columns) for x in [X_train, X_valid]]"
   ]
  },
  {
   "cell_type": "code",
   "execution_count": 8,
   "id": "meaningful-sweet",
   "metadata": {},
   "outputs": [],
   "source": [
    "scaley = MinMaxScaler(feature_range=(0, 1))\n",
    "scaley.fit(y_train)\n",
    "[y_train_sc, y_valid_sc] = [pd.DataFrame(scaley.transform(y), columns=y.columns) for y in [y_train, y_valid]]"
   ]
  },
  {
   "cell_type": "code",
   "execution_count": 9,
   "id": "hourly-opportunity",
   "metadata": {},
   "outputs": [],
   "source": [
    "class Autoencoder(keras.models.Model):\n",
    "    def __init__(self, latent_dim=2):\n",
    "        super(Autoencoder, self).__init__()\n",
    "        self.latent_dim = latent_dim   \n",
    "        self.encoder = tf.keras.Sequential([\n",
    "            #keras.layers.Dense(150, activation='linear'),\n",
    "            #keras.layers.LeakyReLU(),\n",
    "            keras.layers.Dense(latent_dim, activation='linear'),\n",
    "            keras.layers.LeakyReLU(),\n",
    "        ])\n",
    "        self.decoder = tf.keras.Sequential([\n",
    "            #keras.layers.Dense(150, activation='linear'),\n",
    "            #keras.layers.LeakyReLU(),\n",
    "            keras.layers.Dense(len(X_train.columns), activation='linear')\n",
    "        ])\n",
    "    \n",
    "    def call(self, x):\n",
    "        encoded = self.encoder(x)\n",
    "        decoded = self.decoder(encoded)\n",
    "        return decoded"
   ]
  },
  {
   "cell_type": "code",
   "execution_count": 24,
   "id": "ordered-validation",
   "metadata": {},
   "outputs": [],
   "source": [
    "autoencoder = Autoencoder(latent_dim=2)"
   ]
  },
  {
   "cell_type": "code",
   "execution_count": 25,
   "id": "later-stand",
   "metadata": {},
   "outputs": [],
   "source": [
    "autoencoder.compile(\n",
    "    optimizer=tf.optimizers.Adam(learning_rate=0.01),\n",
    "    loss='mean_squared_error')"
   ]
  },
  {
   "cell_type": "code",
   "execution_count": 26,
   "id": "conditional-permission",
   "metadata": {},
   "outputs": [
    {
     "name": "stdout",
     "output_type": "stream",
     "text": [
      "Epoch 1/75\n",
      "2/2 [==============================] - 0s 31ms/step - loss: 0.5156 - val_loss: 0.6146\n",
      "Epoch 2/75\n",
      "2/2 [==============================] - 0s 8ms/step - loss: 0.4629 - val_loss: 0.5502\n",
      "Epoch 3/75\n",
      "2/2 [==============================] - 0s 8ms/step - loss: 0.4153 - val_loss: 0.4921\n",
      "Epoch 4/75\n",
      "2/2 [==============================] - 0s 8ms/step - loss: 0.3695 - val_loss: 0.4402\n",
      "Epoch 5/75\n",
      "2/2 [==============================] - 0s 8ms/step - loss: 0.3296 - val_loss: 0.3929\n",
      "Epoch 6/75\n",
      "2/2 [==============================] - 0s 8ms/step - loss: 0.2951 - val_loss: 0.3508\n",
      "Epoch 7/75\n",
      "2/2 [==============================] - 0s 8ms/step - loss: 0.2649 - val_loss: 0.3140\n",
      "Epoch 8/75\n",
      "2/2 [==============================] - 0s 8ms/step - loss: 0.2392 - val_loss: 0.2820\n",
      "Epoch 9/75\n",
      "2/2 [==============================] - 0s 8ms/step - loss: 0.2162 - val_loss: 0.2542\n",
      "Epoch 10/75\n",
      "2/2 [==============================] - 0s 8ms/step - loss: 0.1985 - val_loss: 0.2305\n",
      "Epoch 11/75\n",
      "2/2 [==============================] - 0s 8ms/step - loss: 0.1842 - val_loss: 0.2108\n",
      "Epoch 12/75\n",
      "2/2 [==============================] - 0s 8ms/step - loss: 0.1715 - val_loss: 0.1951\n",
      "Epoch 13/75\n",
      "2/2 [==============================] - 0s 8ms/step - loss: 0.1629 - val_loss: 0.1824\n",
      "Epoch 14/75\n",
      "2/2 [==============================] - 0s 8ms/step - loss: 0.1556 - val_loss: 0.1727\n",
      "Epoch 15/75\n",
      "2/2 [==============================] - 0s 8ms/step - loss: 0.1515 - val_loss: 0.1650\n",
      "Epoch 16/75\n",
      "2/2 [==============================] - 0s 8ms/step - loss: 0.1471 - val_loss: 0.1590\n",
      "Epoch 17/75\n",
      "2/2 [==============================] - 0s 8ms/step - loss: 0.1441 - val_loss: 0.1541\n",
      "Epoch 18/75\n",
      "2/2 [==============================] - 0s 8ms/step - loss: 0.1416 - val_loss: 0.1498\n",
      "Epoch 19/75\n",
      "2/2 [==============================] - 0s 8ms/step - loss: 0.1389 - val_loss: 0.1463\n",
      "Epoch 20/75\n",
      "2/2 [==============================] - 0s 8ms/step - loss: 0.1362 - val_loss: 0.1433\n",
      "Epoch 21/75\n",
      "2/2 [==============================] - 0s 8ms/step - loss: 0.1341 - val_loss: 0.1408\n",
      "Epoch 22/75\n",
      "2/2 [==============================] - 0s 16ms/step - loss: 0.1318 - val_loss: 0.1389\n",
      "Epoch 23/75\n",
      "2/2 [==============================] - 0s 8ms/step - loss: 0.1294 - val_loss: 0.1372\n",
      "Epoch 24/75\n",
      "2/2 [==============================] - 0s 8ms/step - loss: 0.1275 - val_loss: 0.1359\n",
      "Epoch 25/75\n",
      "2/2 [==============================] - 0s 8ms/step - loss: 0.1250 - val_loss: 0.1346\n",
      "Epoch 26/75\n",
      "2/2 [==============================] - 0s 8ms/step - loss: 0.1232 - val_loss: 0.1333\n",
      "Epoch 27/75\n",
      "2/2 [==============================] - 0s 8ms/step - loss: 0.1211 - val_loss: 0.1320\n",
      "Epoch 28/75\n",
      "2/2 [==============================] - 0s 8ms/step - loss: 0.1192 - val_loss: 0.1306\n",
      "Epoch 29/75\n",
      "2/2 [==============================] - 0s 8ms/step - loss: 0.1168 - val_loss: 0.1289\n",
      "Epoch 30/75\n",
      "2/2 [==============================] - 0s 8ms/step - loss: 0.1148 - val_loss: 0.1273\n",
      "Epoch 31/75\n",
      "2/2 [==============================] - 0s 8ms/step - loss: 0.1128 - val_loss: 0.1256\n",
      "Epoch 32/75\n",
      "2/2 [==============================] - 0s 8ms/step - loss: 0.1105 - val_loss: 0.1237\n",
      "Epoch 33/75\n",
      "2/2 [==============================] - 0s 8ms/step - loss: 0.1084 - val_loss: 0.1217\n",
      "Epoch 34/75\n",
      "2/2 [==============================] - ETA: 0s - loss: 0.117 - 0s 8ms/step - loss: 0.1062 - val_loss: 0.1195\n",
      "Epoch 35/75\n",
      "2/2 [==============================] - 0s 8ms/step - loss: 0.1039 - val_loss: 0.1173\n",
      "Epoch 36/75\n",
      "2/2 [==============================] - 0s 8ms/step - loss: 0.1020 - val_loss: 0.1148\n",
      "Epoch 37/75\n",
      "2/2 [==============================] - 0s 8ms/step - loss: 0.0996 - val_loss: 0.1122\n",
      "Epoch 38/75\n",
      "2/2 [==============================] - 0s 8ms/step - loss: 0.0975 - val_loss: 0.1095\n",
      "Epoch 39/75\n",
      "2/2 [==============================] - 0s 16ms/step - loss: 0.0954 - val_loss: 0.1066\n",
      "Epoch 40/75\n",
      "2/2 [==============================] - 0s 8ms/step - loss: 0.0931 - val_loss: 0.1037\n",
      "Epoch 41/75\n",
      "2/2 [==============================] - 0s 8ms/step - loss: 0.0909 - val_loss: 0.1005\n",
      "Epoch 42/75\n",
      "2/2 [==============================] - 0s 8ms/step - loss: 0.0885 - val_loss: 0.0972\n",
      "Epoch 43/75\n",
      "2/2 [==============================] - 0s 8ms/step - loss: 0.0858 - val_loss: 0.0940\n",
      "Epoch 44/75\n",
      "2/2 [==============================] - 0s 8ms/step - loss: 0.0835 - val_loss: 0.0906\n",
      "Epoch 45/75\n",
      "2/2 [==============================] - 0s 8ms/step - loss: 0.0813 - val_loss: 0.0872\n",
      "Epoch 46/75\n",
      "2/2 [==============================] - 0s 8ms/step - loss: 0.0787 - val_loss: 0.0837\n",
      "Epoch 47/75\n",
      "2/2 [==============================] - 0s 8ms/step - loss: 0.0765 - val_loss: 0.0802\n",
      "Epoch 48/75\n",
      "2/2 [==============================] - 0s 16ms/step - loss: 0.0744 - val_loss: 0.0768\n",
      "Epoch 49/75\n",
      "2/2 [==============================] - 0s 8ms/step - loss: 0.0718 - val_loss: 0.0734\n",
      "Epoch 50/75\n",
      "2/2 [==============================] - 0s 8ms/step - loss: 0.0697 - val_loss: 0.0702\n",
      "Epoch 51/75\n",
      "2/2 [==============================] - 0s 8ms/step - loss: 0.0673 - val_loss: 0.0671\n",
      "Epoch 52/75\n",
      "2/2 [==============================] - 0s 8ms/step - loss: 0.0654 - val_loss: 0.0640\n",
      "Epoch 53/75\n",
      "2/2 [==============================] - 0s 8ms/step - loss: 0.0633 - val_loss: 0.0612\n",
      "Epoch 54/75\n",
      "2/2 [==============================] - 0s 8ms/step - loss: 0.0613 - val_loss: 0.0584\n",
      "Epoch 55/75\n",
      "2/2 [==============================] - 0s 8ms/step - loss: 0.0594 - val_loss: 0.0559\n",
      "Epoch 56/75\n",
      "2/2 [==============================] - 0s 8ms/step - loss: 0.0577 - val_loss: 0.0534\n",
      "Epoch 57/75\n",
      "2/2 [==============================] - 0s 8ms/step - loss: 0.0560 - val_loss: 0.0512\n",
      "Epoch 58/75\n",
      "2/2 [==============================] - 0s 8ms/step - loss: 0.0544 - val_loss: 0.0491\n",
      "Epoch 59/75\n",
      "2/2 [==============================] - 0s 8ms/step - loss: 0.0529 - val_loss: 0.0471\n",
      "Epoch 60/75\n",
      "2/2 [==============================] - 0s 8ms/step - loss: 0.0515 - val_loss: 0.0452\n",
      "Epoch 61/75\n",
      "2/2 [==============================] - 0s 8ms/step - loss: 0.0504 - val_loss: 0.0435\n",
      "Epoch 62/75\n",
      "2/2 [==============================] - 0s 8ms/step - loss: 0.0491 - val_loss: 0.0418\n",
      "Epoch 63/75\n",
      "2/2 [==============================] - 0s 8ms/step - loss: 0.0482 - val_loss: 0.0403\n",
      "Epoch 64/75\n",
      "2/2 [==============================] - 0s 8ms/step - loss: 0.0470 - val_loss: 0.0390\n",
      "Epoch 65/75\n",
      "2/2 [==============================] - 0s 8ms/step - loss: 0.0460 - val_loss: 0.0379\n",
      "Epoch 66/75\n",
      "2/2 [==============================] - 0s 8ms/step - loss: 0.0451 - val_loss: 0.0369\n",
      "Epoch 67/75\n",
      "2/2 [==============================] - 0s 8ms/step - loss: 0.0443 - val_loss: 0.0359\n",
      "Epoch 68/75\n",
      "2/2 [==============================] - 0s 8ms/step - loss: 0.0434 - val_loss: 0.0350\n",
      "Epoch 69/75\n",
      "2/2 [==============================] - 0s 8ms/step - loss: 0.0426 - val_loss: 0.0341\n",
      "Epoch 70/75\n",
      "2/2 [==============================] - 0s 8ms/step - loss: 0.0418 - val_loss: 0.0333\n",
      "Epoch 71/75\n",
      "2/2 [==============================] - 0s 8ms/step - loss: 0.0411 - val_loss: 0.0324\n",
      "Epoch 72/75\n",
      "2/2 [==============================] - 0s 8ms/step - loss: 0.0404 - val_loss: 0.0315\n",
      "Epoch 73/75\n",
      "2/2 [==============================] - 0s 8ms/step - loss: 0.0397 - val_loss: 0.0307\n",
      "Epoch 74/75\n",
      "2/2 [==============================] - 0s 16ms/step - loss: 0.0391 - val_loss: 0.0299\n",
      "Epoch 75/75\n",
      "2/2 [==============================] - 0s 8ms/step - loss: 0.0385 - val_loss: 0.0292\n"
     ]
    }
   ],
   "source": [
    "history = autoencoder.fit(X_train_sc, X_train_sc, validation_data=(X_valid_sc, X_valid_sc), epochs=75)"
   ]
  },
  {
   "cell_type": "code",
   "execution_count": 27,
   "id": "medical-thumbnail",
   "metadata": {},
   "outputs": [],
   "source": [
    "encoded = autoencoder.encoder(X_valid_sc.to_numpy()).numpy()"
   ]
  },
  {
   "cell_type": "code",
   "execution_count": 28,
   "id": "czech-compensation",
   "metadata": {},
   "outputs": [
    {
     "data": {
      "text/plain": [
       "(array([-0.26945093,  0.6648216 ], dtype=float32),\n",
       " array([0.45800173, 1.0820074 ], dtype=float32),\n",
       " array([1.3059565, 1.6485028], dtype=float32))"
      ]
     },
     "execution_count": 28,
     "metadata": {},
     "output_type": "execute_result"
    }
   ],
   "source": [
    "np.min(encoded, axis=0), np.mean(encoded, axis=0), np.max(encoded, axis=0)"
   ]
  },
  {
   "cell_type": "code",
   "execution_count": 29,
   "id": "prerequisite-lloyd",
   "metadata": {},
   "outputs": [
    {
     "data": {
      "text/plain": [
       "array([], dtype=int64)"
      ]
     },
     "execution_count": 29,
     "metadata": {},
     "output_type": "execute_result"
    }
   ],
   "source": [
    "np.where(np.all(np.isclose(encoded, 0), axis=0))[0]"
   ]
  },
  {
   "cell_type": "code",
   "execution_count": 30,
   "id": "fuzzy-cruise",
   "metadata": {},
   "outputs": [
    {
     "data": {
      "text/plain": [
       "array([[ 0.23157957,  1.1433657 ],\n",
       "       [ 0.46913555,  1.1213837 ],\n",
       "       [-0.26945093,  1.6485028 ],\n",
       "       [ 0.6233543 ,  1.0654129 ],\n",
       "       [ 1.3059565 ,  0.84855735],\n",
       "       [ 0.38743547,  0.6648216 ]], dtype=float32)"
      ]
     },
     "execution_count": 30,
     "metadata": {},
     "output_type": "execute_result"
    }
   ],
   "source": [
    "encoded"
   ]
  },
  {
   "cell_type": "code",
   "execution_count": 31,
   "id": "waiting-sleeve",
   "metadata": {},
   "outputs": [
    {
     "data": {
      "text/plain": [
       "(6, 2)"
      ]
     },
     "execution_count": 31,
     "metadata": {},
     "output_type": "execute_result"
    }
   ],
   "source": [
    "encoded.shape"
   ]
  },
  {
   "cell_type": "code",
   "execution_count": null,
   "id": "chief-enlargement",
   "metadata": {},
   "outputs": [],
   "source": []
  }
 ],
 "metadata": {
  "kernelspec": {
   "display_name": "Python 3",
   "language": "python",
   "name": "python3"
  },
  "language_info": {
   "codemirror_mode": {
    "name": "ipython",
    "version": 3
   },
   "file_extension": ".py",
   "mimetype": "text/x-python",
   "name": "python",
   "nbconvert_exporter": "python",
   "pygments_lexer": "ipython3",
   "version": "3.7.9"
  }
 },
 "nbformat": 4,
 "nbformat_minor": 5
}
