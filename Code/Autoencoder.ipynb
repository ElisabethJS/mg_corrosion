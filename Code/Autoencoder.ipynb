{
 "cells": [
  {
   "cell_type": "code",
   "execution_count": 1,
   "id": "insured-notebook",
   "metadata": {},
   "outputs": [],
   "source": [
    "import matplotlib.pyplot as plt\n",
    "import numpy as np\n",
    "import pandas as pd\n",
    "import tensorflow as tf\n",
    "from tensorflow import keras\n",
    "from sklearn.preprocessing import MinMaxScaler\n",
    "from sklearn.model_selection import train_test_split"
   ]
  },
  {
   "cell_type": "code",
   "execution_count": 2,
   "id": "integrated-mapping",
   "metadata": {},
   "outputs": [],
   "source": [
    "seed = 13\n",
    "tf.random.set_seed(seed)"
   ]
  },
  {
   "cell_type": "code",
   "execution_count": 3,
   "id": "spiritual-canvas",
   "metadata": {},
   "outputs": [],
   "source": [
    "data = pd.read_csv('..\\\\Data\\\\ze41_mol_desc_db_red.csv', header=0, sep=';', decimal=',')"
   ]
  },
  {
   "cell_type": "code",
   "execution_count": 4,
   "id": "attempted-craft",
   "metadata": {},
   "outputs": [],
   "source": [
    "col_names = data.columns\n",
    "X = data[col_names[3:]].astype('float32')\n",
    "y = data[col_names[2]].astype('float32')"
   ]
  },
  {
   "cell_type": "code",
   "execution_count": 5,
   "id": "biblical-playback",
   "metadata": {},
   "outputs": [],
   "source": [
    "X_scaled = MinMaxScaler(feature_range=(0,1)).fit_transform(X)"
   ]
  },
  {
   "cell_type": "code",
   "execution_count": 6,
   "id": "familiar-sacrifice",
   "metadata": {},
   "outputs": [],
   "source": [
    "X_train, X_valid, y_train, y_valid = train_test_split(X_scaled, y, test_size=0.1, random_state=seed)\n",
    "X_train = pd.DataFrame(X_train)\n",
    "X_train.columns = X.columns"
   ]
  },
  {
   "cell_type": "code",
   "execution_count": 7,
   "id": "hourly-opportunity",
   "metadata": {},
   "outputs": [],
   "source": [
    "class Autoencoder(keras.models.Model):\n",
    "    def __init__(self, latent_dim=5):\n",
    "        super(Autoencoder, self).__init__()\n",
    "        self.latent_dim = latent_dim   \n",
    "        self.encoder = tf.keras.Sequential([\n",
    "          keras.layers.Dense(latent_dim, activation='relu'),\n",
    "        ])\n",
    "        self.decoder = tf.keras.Sequential([\n",
    "          keras.layers.Dense(len(X_train.columns), activation='linear')\n",
    "        ])\n",
    "    \n",
    "    def call(self, x):\n",
    "        encoded = self.encoder(x)\n",
    "        decoded = self.decoder(encoded)\n",
    "        return decoded"
   ]
  },
  {
   "cell_type": "code",
   "execution_count": 8,
   "id": "ordered-validation",
   "metadata": {},
   "outputs": [],
   "source": [
    "autoencoder = Autoencoder(latent_dim=5)"
   ]
  },
  {
   "cell_type": "code",
   "execution_count": 9,
   "id": "later-stand",
   "metadata": {},
   "outputs": [],
   "source": [
    "autoencoder.compile(\n",
    "    optimizer=tf.optimizers.Adam(learning_rate=0.005),\n",
    "    loss='mean_squared_error')"
   ]
  },
  {
   "cell_type": "code",
   "execution_count": 10,
   "id": "conditional-permission",
   "metadata": {},
   "outputs": [
    {
     "name": "stdout",
     "output_type": "stream",
     "text": [
      "Epoch 1/100\n",
      "2/2 [==============================] - 0s 45ms/step - loss: 0.2253 - val_loss: 0.1974\n",
      "Epoch 2/100\n",
      "2/2 [==============================] - 0s 5ms/step - loss: 0.2087 - val_loss: 0.1751\n",
      "Epoch 3/100\n",
      "2/2 [==============================] - 0s 5ms/step - loss: 0.1843 - val_loss: 0.1479\n",
      "Epoch 4/100\n",
      "2/2 [==============================] - 0s 0s/step - loss: 0.1575 - val_loss: 0.1211\n",
      "Epoch 5/100\n",
      "2/2 [==============================] - 0s 0s/step - loss: 0.1311 - val_loss: 0.0966\n",
      "Epoch 6/100\n",
      "2/2 [==============================] - 0s 5ms/step - loss: 0.1081 - val_loss: 0.0770\n",
      "Epoch 7/100\n",
      "2/2 [==============================] - 0s 5ms/step - loss: 0.0901 - val_loss: 0.0624\n",
      "Epoch 8/100\n",
      "2/2 [==============================] - 0s 5ms/step - loss: 0.0769 - val_loss: 0.0522\n",
      "Epoch 9/100\n",
      "2/2 [==============================] - 0s 5ms/step - loss: 0.0678 - val_loss: 0.0455\n",
      "Epoch 10/100\n",
      "2/2 [==============================] - 0s 5ms/step - loss: 0.0619 - val_loss: 0.0411\n",
      "Epoch 11/100\n",
      "2/2 [==============================] - 0s 5ms/step - loss: 0.0582 - val_loss: 0.0384\n",
      "Epoch 12/100\n",
      "2/2 [==============================] - 0s 5ms/step - loss: 0.0558 - val_loss: 0.0365\n",
      "Epoch 13/100\n",
      "2/2 [==============================] - 0s 0s/step - loss: 0.0541 - val_loss: 0.0353\n",
      "Epoch 14/100\n",
      "2/2 [==============================] - 0s 0s/step - loss: 0.0529 - val_loss: 0.0344\n",
      "Epoch 15/100\n",
      "2/2 [==============================] - 0s 5ms/step - loss: 0.0520 - val_loss: 0.0338\n",
      "Epoch 16/100\n",
      "2/2 [==============================] - 0s 7ms/step - loss: 0.0513 - val_loss: 0.0333\n",
      "Epoch 17/100\n",
      "2/2 [==============================] - 0s 0s/step - loss: 0.0508 - val_loss: 0.0330\n",
      "Epoch 18/100\n",
      "2/2 [==============================] - 0s 5ms/step - loss: 0.0504 - val_loss: 0.0325\n",
      "Epoch 19/100\n",
      "2/2 [==============================] - 0s 3ms/step - loss: 0.0500 - val_loss: 0.0321\n",
      "Epoch 20/100\n",
      "2/2 [==============================] - 0s 5ms/step - loss: 0.0497 - val_loss: 0.0316\n",
      "Epoch 21/100\n",
      "2/2 [==============================] - 0s 5ms/step - loss: 0.0495 - val_loss: 0.0312\n",
      "Epoch 22/100\n",
      "2/2 [==============================] - 0s 7ms/step - loss: 0.0493 - val_loss: 0.0310\n",
      "Epoch 23/100\n",
      "2/2 [==============================] - 0s 5ms/step - loss: 0.0491 - val_loss: 0.0308\n",
      "Epoch 24/100\n",
      "2/2 [==============================] - 0s 0s/step - loss: 0.0490 - val_loss: 0.0308\n",
      "Epoch 25/100\n",
      "2/2 [==============================] - 0s 8ms/step - loss: 0.0488 - val_loss: 0.0306\n",
      "Epoch 26/100\n",
      "2/2 [==============================] - 0s 3ms/step - loss: 0.0488 - val_loss: 0.0307\n",
      "Epoch 27/100\n",
      "2/2 [==============================] - 0s 5ms/step - loss: 0.0486 - val_loss: 0.0307\n",
      "Epoch 28/100\n",
      "2/2 [==============================] - 0s 5ms/step - loss: 0.0485 - val_loss: 0.0307\n",
      "Epoch 29/100\n",
      "2/2 [==============================] - 0s 5ms/step - loss: 0.0485 - val_loss: 0.0308\n",
      "Epoch 30/100\n",
      "2/2 [==============================] - 0s 5ms/step - loss: 0.0484 - val_loss: 0.0307\n",
      "Epoch 31/100\n",
      "2/2 [==============================] - 0s 5ms/step - loss: 0.0483 - val_loss: 0.0306\n",
      "Epoch 32/100\n",
      "2/2 [==============================] - 0s 5ms/step - loss: 0.0484 - val_loss: 0.0307\n",
      "Epoch 33/100\n",
      "2/2 [==============================] - 0s 0s/step - loss: 0.0483 - val_loss: 0.0303\n",
      "Epoch 34/100\n",
      "2/2 [==============================] - 0s 0s/step - loss: 0.0482 - val_loss: 0.0302\n",
      "Epoch 35/100\n",
      "2/2 [==============================] - 0s 7ms/step - loss: 0.0481 - val_loss: 0.0303\n",
      "Epoch 36/100\n",
      "2/2 [==============================] - 0s 3ms/step - loss: 0.0481 - val_loss: 0.0303\n",
      "Epoch 37/100\n",
      "2/2 [==============================] - 0s 5ms/step - loss: 0.0481 - val_loss: 0.0304\n",
      "Epoch 38/100\n",
      "2/2 [==============================] - 0s 5ms/step - loss: 0.0481 - val_loss: 0.0302\n",
      "Epoch 39/100\n",
      "2/2 [==============================] - 0s 5ms/step - loss: 0.0480 - val_loss: 0.0303\n",
      "Epoch 40/100\n",
      "2/2 [==============================] - 0s 5ms/step - loss: 0.0478 - val_loss: 0.0303\n",
      "Epoch 41/100\n",
      "2/2 [==============================] - 0s 0s/step - loss: 0.0479 - val_loss: 0.0303\n",
      "Epoch 42/100\n",
      "2/2 [==============================] - 0s 0s/step - loss: 0.0478 - val_loss: 0.0305\n",
      "Epoch 43/100\n",
      "2/2 [==============================] - 0s 1ms/step - loss: 0.0478 - val_loss: 0.0302\n",
      "Epoch 44/100\n",
      "2/2 [==============================] - 0s 5ms/step - loss: 0.0477 - val_loss: 0.0302\n",
      "Epoch 45/100\n",
      "2/2 [==============================] - 0s 5ms/step - loss: 0.0476 - val_loss: 0.0299\n",
      "Epoch 46/100\n",
      "2/2 [==============================] - 0s 5ms/step - loss: 0.0477 - val_loss: 0.0299\n",
      "Epoch 47/100\n",
      "2/2 [==============================] - 0s 5ms/step - loss: 0.0475 - val_loss: 0.0299\n",
      "Epoch 48/100\n",
      "2/2 [==============================] - 0s 5ms/step - loss: 0.0475 - val_loss: 0.0300\n",
      "Epoch 49/100\n",
      "2/2 [==============================] - 0s 8ms/step - loss: 0.0474 - val_loss: 0.0301\n",
      "Epoch 50/100\n",
      "2/2 [==============================] - 0s 5ms/step - loss: 0.0473 - val_loss: 0.0301\n",
      "Epoch 51/100\n",
      "2/2 [==============================] - 0s 7ms/step - loss: 0.0473 - val_loss: 0.0301\n",
      "Epoch 52/100\n",
      "2/2 [==============================] - 0s 5ms/step - loss: 0.0472 - val_loss: 0.0302\n",
      "Epoch 53/100\n",
      "2/2 [==============================] - 0s 0s/step - loss: 0.0472 - val_loss: 0.0302\n",
      "Epoch 54/100\n",
      "2/2 [==============================] - 0s 0s/step - loss: 0.0471 - val_loss: 0.0303\n",
      "Epoch 55/100\n",
      "2/2 [==============================] - 0s 0s/step - loss: 0.0471 - val_loss: 0.0303\n",
      "Epoch 56/100\n",
      "2/2 [==============================] - 0s 5ms/step - loss: 0.0471 - val_loss: 0.0304\n",
      "Epoch 57/100\n",
      "2/2 [==============================] - 0s 5ms/step - loss: 0.0470 - val_loss: 0.0304\n",
      "Epoch 58/100\n",
      "2/2 [==============================] - 0s 5ms/step - loss: 0.0469 - val_loss: 0.0304\n",
      "Epoch 59/100\n",
      "2/2 [==============================] - 0s 5ms/step - loss: 0.0469 - val_loss: 0.0303\n",
      "Epoch 60/100\n",
      "2/2 [==============================] - 0s 5ms/step - loss: 0.0469 - val_loss: 0.0303\n",
      "Epoch 61/100\n",
      "2/2 [==============================] - 0s 5ms/step - loss: 0.0468 - val_loss: 0.0304\n",
      "Epoch 62/100\n",
      "2/2 [==============================] - 0s 5ms/step - loss: 0.0467 - val_loss: 0.0304\n",
      "Epoch 63/100\n",
      "2/2 [==============================] - 0s 5ms/step - loss: 0.0467 - val_loss: 0.0303\n",
      "Epoch 64/100\n",
      "2/2 [==============================] - 0s 0s/step - loss: 0.0466 - val_loss: 0.0303\n",
      "Epoch 65/100\n",
      "2/2 [==============================] - 0s 0s/step - loss: 0.0465 - val_loss: 0.0302\n",
      "Epoch 66/100\n",
      "2/2 [==============================] - 0s 5ms/step - loss: 0.0465 - val_loss: 0.0300\n",
      "Epoch 67/100\n",
      "2/2 [==============================] - 0s 8ms/step - loss: 0.0464 - val_loss: 0.0299\n",
      "Epoch 68/100\n",
      "2/2 [==============================] - 0s 3ms/step - loss: 0.0464 - val_loss: 0.0299\n",
      "Epoch 69/100\n",
      "2/2 [==============================] - 0s 5ms/step - loss: 0.0463 - val_loss: 0.0299\n",
      "Epoch 70/100\n",
      "2/2 [==============================] - 0s 5ms/step - loss: 0.0463 - val_loss: 0.0298\n",
      "Epoch 71/100\n",
      "2/2 [==============================] - 0s 5ms/step - loss: 0.0462 - val_loss: 0.0299\n",
      "Epoch 72/100\n",
      "2/2 [==============================] - 0s 5ms/step - loss: 0.0461 - val_loss: 0.0299\n",
      "Epoch 73/100\n",
      "2/2 [==============================] - 0s 8ms/step - loss: 0.0461 - val_loss: 0.0300\n",
      "Epoch 74/100\n",
      "2/2 [==============================] - 0s 3ms/step - loss: 0.0460 - val_loss: 0.0302\n",
      "Epoch 75/100\n",
      "2/2 [==============================] - 0s 10ms/step - loss: 0.0460 - val_loss: 0.0303\n",
      "Epoch 76/100\n",
      "2/2 [==============================] - 0s 5ms/step - loss: 0.0459 - val_loss: 0.0305\n",
      "Epoch 77/100\n",
      "2/2 [==============================] - 0s 5ms/step - loss: 0.0459 - val_loss: 0.0306\n",
      "Epoch 78/100\n",
      "2/2 [==============================] - 0s 5ms/step - loss: 0.0459 - val_loss: 0.0305\n",
      "Epoch 79/100\n",
      "2/2 [==============================] - 0s 5ms/step - loss: 0.0458 - val_loss: 0.0304\n",
      "Epoch 80/100\n",
      "2/2 [==============================] - 0s 5ms/step - loss: 0.0457 - val_loss: 0.0304\n",
      "Epoch 81/100\n",
      "2/2 [==============================] - 0s 5ms/step - loss: 0.0457 - val_loss: 0.0303\n",
      "Epoch 82/100\n",
      "2/2 [==============================] - 0s 5ms/step - loss: 0.0456 - val_loss: 0.0301\n",
      "Epoch 83/100\n",
      "2/2 [==============================] - 0s 5ms/step - loss: 0.0456 - val_loss: 0.0300\n",
      "Epoch 84/100\n",
      "2/2 [==============================] - 0s 5ms/step - loss: 0.0456 - val_loss: 0.0299\n"
     ]
    },
    {
     "name": "stdout",
     "output_type": "stream",
     "text": [
      "Epoch 85/100\n",
      "2/2 [==============================] - 0s 0s/step - loss: 0.0455 - val_loss: 0.0301\n",
      "Epoch 86/100\n",
      "2/2 [==============================] - 0s 0s/step - loss: 0.0455 - val_loss: 0.0300\n",
      "Epoch 87/100\n",
      "2/2 [==============================] - 0s 0s/step - loss: 0.0454 - val_loss: 0.0300\n",
      "Epoch 88/100\n",
      "2/2 [==============================] - 0s 5ms/step - loss: 0.0453 - val_loss: 0.0301\n",
      "Epoch 89/100\n",
      "2/2 [==============================] - 0s 5ms/step - loss: 0.0453 - val_loss: 0.0301\n",
      "Epoch 90/100\n",
      "2/2 [==============================] - 0s 5ms/step - loss: 0.0452 - val_loss: 0.0301\n",
      "Epoch 91/100\n",
      "2/2 [==============================] - 0s 5ms/step - loss: 0.0452 - val_loss: 0.0301\n",
      "Epoch 92/100\n",
      "2/2 [==============================] - 0s 5ms/step - loss: 0.0451 - val_loss: 0.0303\n",
      "Epoch 93/100\n",
      "2/2 [==============================] - 0s 5ms/step - loss: 0.0450 - val_loss: 0.0302\n",
      "Epoch 94/100\n",
      "2/2 [==============================] - 0s 5ms/step - loss: 0.0450 - val_loss: 0.0301\n",
      "Epoch 95/100\n",
      "2/2 [==============================] - 0s 0s/step - loss: 0.0450 - val_loss: 0.0299\n",
      "Epoch 96/100\n",
      "2/2 [==============================] - 0s 0s/step - loss: 0.0449 - val_loss: 0.0299\n",
      "Epoch 97/100\n",
      "2/2 [==============================] - 0s 5ms/step - loss: 0.0449 - val_loss: 0.0299\n",
      "Epoch 98/100\n",
      "2/2 [==============================] - 0s 5ms/step - loss: 0.0449 - val_loss: 0.0296\n",
      "Epoch 99/100\n",
      "2/2 [==============================] - 0s 5ms/step - loss: 0.0448 - val_loss: 0.0296\n",
      "Epoch 100/100\n",
      "2/2 [==============================] - 0s 5ms/step - loss: 0.0448 - val_loss: 0.0300\n"
     ]
    },
    {
     "data": {
      "text/plain": [
       "<tensorflow.python.keras.callbacks.History at 0x2299682d648>"
      ]
     },
     "execution_count": 10,
     "metadata": {},
     "output_type": "execute_result"
    }
   ],
   "source": [
    "autoencoder.fit(X_train, X_train, validation_split=0.1, epochs=100)"
   ]
  },
  {
   "cell_type": "code",
   "execution_count": 11,
   "id": "conditional-andrew",
   "metadata": {},
   "outputs": [],
   "source": [
    "best_cols = ['P_VSA_MR_5', 'Mor04m', 'E1p', 'CATS3D_02_AP', 'LUMO / eV']"
   ]
  },
  {
   "cell_type": "code",
   "execution_count": 12,
   "id": "rental-affiliate",
   "metadata": {},
   "outputs": [],
   "source": [
    "X_sel = X_train[best_cols]"
   ]
  },
  {
   "cell_type": "code",
   "execution_count": 13,
   "id": "medical-thumbnail",
   "metadata": {},
   "outputs": [],
   "source": [
    "encoded = autoencoder.encoder(X_train.to_numpy()).numpy()"
   ]
  },
  {
   "cell_type": "code",
   "execution_count": 14,
   "id": "utility-albania",
   "metadata": {},
   "outputs": [
    {
     "name": "stdout",
     "output_type": "stream",
     "text": [
      "[0.0, 0.40519476, 0.43697143, 0.6193462, 0.66175306] [0.0, 0.0, 0.0, 0.0, 6.850691]\n",
      "[0.3766234, 0.41165376, 0.5, 0.5158979, 0.56289303] [0.0, 0.0, 0.0, 0.0, 5.0634174]\n",
      "[0.0, 0.023376644, 0.054961618, 0.5167059, 0.6462159] [0.0, 0.0, 0.0, 0.0, 5.8900356]\n",
      "[0.0, 0.0, 0.18181819, 0.32409588, 0.567846] [0.0, 0.0, 0.0, 0.0, 5.499934]\n",
      "[0.0, 0.0, 0.36883116, 0.48365432, 0.58608484] [0.0, 0.0, 0.0, 0.0, 1.4722421]\n"
     ]
    }
   ],
   "source": [
    "for i in range(5):\n",
    "    print(sorted(X_sel.to_numpy()[i,:]), sorted(encoded[i, :]))"
   ]
  },
  {
   "cell_type": "code",
   "execution_count": 16,
   "id": "inside-adjustment",
   "metadata": {},
   "outputs": [
    {
     "data": {
      "text/plain": [
       "(['P_VSA_MR_5', 'LUMO / eV', 'Mor04m', 'E1p', 'CATS3D_02_AP', 'HOMO / eV'],\n",
       " 0.12)"
      ]
     },
     "execution_count": 16,
     "metadata": {},
     "output_type": "execute_result"
    }
   ],
   "source": [
    "['P_VSA_MR_5'], 79/100\n",
    "['P_VSA_MR_5', 'LUMO / eV'], 85/100\n",
    "['P_VSA_MR_5', 'LUMO / eV', 'Mor04m'], 73/100\n",
    "['P_VSA_MR_5', 'LUMO / eV', 'Mor04m', 'E1p'], 79/100\n",
    "['P_VSA_MR_5', 'LUMO / eV', 'Mor04m', 'E1p', 'CATS3D_02_AP'], 40/100\n",
    "['P_VSA_MR_5', 'LUMO / eV', 'Mor04m', 'E1p', 'CATS3D_02_AP', 'HOMO / eV'], 12/100"
   ]
  },
  {
   "cell_type": "code",
   "execution_count": null,
   "id": "informational-newcastle",
   "metadata": {},
   "outputs": [],
   "source": []
  }
 ],
 "metadata": {
  "kernelspec": {
   "display_name": "Python 3",
   "language": "python",
   "name": "python3"
  },
  "language_info": {
   "codemirror_mode": {
    "name": "ipython",
    "version": 3
   },
   "file_extension": ".py",
   "mimetype": "text/x-python",
   "name": "python",
   "nbconvert_exporter": "python",
   "pygments_lexer": "ipython3",
   "version": "3.7.9"
  }
 },
 "nbformat": 4,
 "nbformat_minor": 5
}
