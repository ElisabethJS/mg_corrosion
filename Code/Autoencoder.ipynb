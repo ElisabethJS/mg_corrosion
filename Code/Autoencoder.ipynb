{
 "cells": [
  {
   "cell_type": "code",
   "execution_count": 1,
   "id": "insured-notebook",
   "metadata": {},
   "outputs": [],
   "source": [
    "import matplotlib.pyplot as plt\n",
    "import numpy as np\n",
    "import pandas as pd\n",
    "import tensorflow as tf\n",
    "from tensorflow import keras\n",
    "from sklearn.preprocessing import MinMaxScaler"
   ]
  },
  {
   "cell_type": "code",
   "execution_count": 2,
   "id": "integrated-mapping",
   "metadata": {},
   "outputs": [],
   "source": [
    "seed = 13\n",
    "tf.random.set_seed(seed)"
   ]
  },
  {
   "cell_type": "code",
   "execution_count": 3,
   "id": "spiritual-canvas",
   "metadata": {},
   "outputs": [],
   "source": [
    "data = pd.read_csv('..\\\\Data\\\\ze41_mol_desc_db_red.csv', header=0, sep=';', decimal=',')"
   ]
  },
  {
   "cell_type": "code",
   "execution_count": 4,
   "id": "attempted-craft",
   "metadata": {},
   "outputs": [],
   "source": [
    "col_names = data.columns\n",
    "X = data[col_names[3:]].astype('float32')\n",
    "y = data[col_names[2]].astype('float32')"
   ]
  },
  {
   "cell_type": "code",
   "execution_count": 5,
   "id": "biblical-playback",
   "metadata": {},
   "outputs": [],
   "source": [
    "X_scaled = MinMaxScaler(feature_range=(0,1)).fit_transform(X)\n",
    "X_scaled = pd.DataFrame(X_scaled)\n",
    "X_scaled.columns = X.columns"
   ]
  },
  {
   "cell_type": "code",
   "execution_count": 6,
   "id": "hourly-opportunity",
   "metadata": {},
   "outputs": [],
   "source": [
    "class Autoencoder(keras.models.Model):\n",
    "    def __init__(self, latent_dim=5):\n",
    "        super(Autoencoder, self).__init__()\n",
    "        self.latent_dim = latent_dim   \n",
    "        self.encoder = tf.keras.Sequential([\n",
    "          keras.layers.Dense(latent_dim, activation='relu'),\n",
    "        ])\n",
    "        self.decoder = tf.keras.Sequential([\n",
    "          keras.layers.Dense(len(X_scaled.columns), activation='linear')\n",
    "        ])\n",
    "    \n",
    "    def call(self, x):\n",
    "        encoded = self.encoder(x)\n",
    "        decoded = self.decoder(encoded)\n",
    "        return decoded"
   ]
  },
  {
   "cell_type": "code",
   "execution_count": 7,
   "id": "ordered-validation",
   "metadata": {},
   "outputs": [],
   "source": [
    "autoencoder = Autoencoder(latent_dim=5)"
   ]
  },
  {
   "cell_type": "code",
   "execution_count": 8,
   "id": "later-stand",
   "metadata": {},
   "outputs": [],
   "source": [
    "autoencoder.compile(\n",
    "    optimizer=tf.optimizers.Adam(learning_rate=0.005),\n",
    "    loss='mean_squared_error')"
   ]
  },
  {
   "cell_type": "code",
   "execution_count": 9,
   "id": "conditional-permission",
   "metadata": {},
   "outputs": [
    {
     "name": "stdout",
     "output_type": "stream",
     "text": [
      "Epoch 1/100\n",
      "2/2 [==============================] - 0s 62ms/step - loss: 0.2240 - val_loss: 0.1959\n",
      "Epoch 2/100\n",
      "2/2 [==============================] - 0s 8ms/step - loss: 0.2128 - val_loss: 0.1755\n",
      "Epoch 3/100\n",
      "2/2 [==============================] - 0s 8ms/step - loss: 0.1881 - val_loss: 0.1555\n",
      "Epoch 4/100\n",
      "2/2 [==============================] - 0s 8ms/step - loss: 0.1633 - val_loss: 0.1312\n",
      "Epoch 5/100\n",
      "2/2 [==============================] - 0s 8ms/step - loss: 0.1354 - val_loss: 0.1098\n",
      "Epoch 6/100\n",
      "2/2 [==============================] - 0s 8ms/step - loss: 0.1121 - val_loss: 0.0922\n",
      "Epoch 7/100\n",
      "2/2 [==============================] - 0s 8ms/step - loss: 0.0927 - val_loss: 0.0806\n",
      "Epoch 8/100\n",
      "2/2 [==============================] - 0s 8ms/step - loss: 0.0793 - val_loss: 0.0700\n",
      "Epoch 9/100\n",
      "2/2 [==============================] - 0s 8ms/step - loss: 0.0681 - val_loss: 0.0634\n",
      "Epoch 10/100\n",
      "2/2 [==============================] - 0s 8ms/step - loss: 0.0615 - val_loss: 0.0591\n",
      "Epoch 11/100\n",
      "2/2 [==============================] - 0s 8ms/step - loss: 0.0568 - val_loss: 0.0572\n",
      "Epoch 12/100\n",
      "2/2 [==============================] - 0s 8ms/step - loss: 0.0546 - val_loss: 0.0547\n",
      "Epoch 13/100\n",
      "2/2 [==============================] - 0s 8ms/step - loss: 0.0524 - val_loss: 0.0535\n",
      "Epoch 14/100\n",
      "2/2 [==============================] - 0s 8ms/step - loss: 0.0513 - val_loss: 0.0528\n",
      "Epoch 15/100\n",
      "2/2 [==============================] - 0s 8ms/step - loss: 0.0502 - val_loss: 0.0524\n",
      "Epoch 16/100\n",
      "2/2 [==============================] - 0s 8ms/step - loss: 0.0493 - val_loss: 0.0512\n",
      "Epoch 17/100\n",
      "2/2 [==============================] - 0s 8ms/step - loss: 0.0488 - val_loss: 0.0509\n",
      "Epoch 18/100\n",
      "2/2 [==============================] - 0s 8ms/step - loss: 0.0481 - val_loss: 0.0511\n",
      "Epoch 19/100\n",
      "2/2 [==============================] - 0s 8ms/step - loss: 0.0479 - val_loss: 0.0502\n",
      "Epoch 20/100\n",
      "2/2 [==============================] - 0s 8ms/step - loss: 0.0475 - val_loss: 0.0500\n",
      "Epoch 21/100\n",
      "2/2 [==============================] - 0s 8ms/step - loss: 0.0473 - val_loss: 0.0501\n",
      "Epoch 22/100\n",
      "2/2 [==============================] - 0s 8ms/step - loss: 0.0471 - val_loss: 0.0495\n",
      "Epoch 23/100\n",
      "2/2 [==============================] - 0s 8ms/step - loss: 0.0470 - val_loss: 0.0494\n",
      "Epoch 24/100\n",
      "2/2 [==============================] - 0s 8ms/step - loss: 0.0467 - val_loss: 0.0495\n",
      "Epoch 25/100\n",
      "2/2 [==============================] - 0s 8ms/step - loss: 0.0466 - val_loss: 0.0489\n",
      "Epoch 26/100\n",
      "2/2 [==============================] - 0s 8ms/step - loss: 0.0465 - val_loss: 0.0489\n",
      "Epoch 27/100\n",
      "2/2 [==============================] - 0s 8ms/step - loss: 0.0464 - val_loss: 0.0488\n",
      "Epoch 28/100\n",
      "2/2 [==============================] - 0s 8ms/step - loss: 0.0462 - val_loss: 0.0485\n",
      "Epoch 29/100\n",
      "2/2 [==============================] - 0s 8ms/step - loss: 0.0462 - val_loss: 0.0487\n",
      "Epoch 30/100\n",
      "2/2 [==============================] - 0s 8ms/step - loss: 0.0461 - val_loss: 0.0485\n",
      "Epoch 31/100\n",
      "2/2 [==============================] - 0s 8ms/step - loss: 0.0461 - val_loss: 0.0486\n",
      "Epoch 32/100\n",
      "2/2 [==============================] - 0s 8ms/step - loss: 0.0460 - val_loss: 0.0487\n",
      "Epoch 33/100\n",
      "2/2 [==============================] - 0s 16ms/step - loss: 0.0460 - val_loss: 0.0486\n",
      "Epoch 34/100\n",
      "2/2 [==============================] - 0s 8ms/step - loss: 0.0459 - val_loss: 0.0488\n",
      "Epoch 35/100\n",
      "2/2 [==============================] - 0s 8ms/step - loss: 0.0459 - val_loss: 0.0486\n",
      "Epoch 36/100\n",
      "2/2 [==============================] - 0s 8ms/step - loss: 0.0459 - val_loss: 0.0485\n",
      "Epoch 37/100\n",
      "2/2 [==============================] - 0s 8ms/step - loss: 0.0458 - val_loss: 0.0484\n",
      "Epoch 38/100\n",
      "2/2 [==============================] - 0s 8ms/step - loss: 0.0458 - val_loss: 0.0482\n",
      "Epoch 39/100\n",
      "2/2 [==============================] - 0s 0s/step - loss: 0.0457 - val_loss: 0.0482\n",
      "Epoch 40/100\n",
      "2/2 [==============================] - 0s 8ms/step - loss: 0.0457 - val_loss: 0.0481\n",
      "Epoch 41/100\n",
      "2/2 [==============================] - 0s 8ms/step - loss: 0.0456 - val_loss: 0.0481\n",
      "Epoch 42/100\n",
      "2/2 [==============================] - 0s 8ms/step - loss: 0.0456 - val_loss: 0.0480\n",
      "Epoch 43/100\n",
      "2/2 [==============================] - 0s 8ms/step - loss: 0.0456 - val_loss: 0.0480\n",
      "Epoch 44/100\n",
      "2/2 [==============================] - 0s 8ms/step - loss: 0.0455 - val_loss: 0.0480\n",
      "Epoch 45/100\n",
      "2/2 [==============================] - 0s 8ms/step - loss: 0.0455 - val_loss: 0.0479\n",
      "Epoch 46/100\n",
      "2/2 [==============================] - 0s 8ms/step - loss: 0.0455 - val_loss: 0.0479\n",
      "Epoch 47/100\n",
      "2/2 [==============================] - 0s 8ms/step - loss: 0.0454 - val_loss: 0.0478\n",
      "Epoch 48/100\n",
      "2/2 [==============================] - 0s 8ms/step - loss: 0.0454 - val_loss: 0.0479\n",
      "Epoch 49/100\n",
      "2/2 [==============================] - 0s 8ms/step - loss: 0.0454 - val_loss: 0.0478\n",
      "Epoch 50/100\n",
      "2/2 [==============================] - ETA: 0s - loss: 0.044 - 0s 8ms/step - loss: 0.0453 - val_loss: 0.0478\n",
      "Epoch 51/100\n",
      "2/2 [==============================] - 0s 8ms/step - loss: 0.0453 - val_loss: 0.0477\n",
      "Epoch 52/100\n",
      "2/2 [==============================] - 0s 16ms/step - loss: 0.0452 - val_loss: 0.0476\n",
      "Epoch 53/100\n",
      "2/2 [==============================] - 0s 8ms/step - loss: 0.0452 - val_loss: 0.0476\n",
      "Epoch 54/100\n",
      "2/2 [==============================] - 0s 8ms/step - loss: 0.0452 - val_loss: 0.0475\n",
      "Epoch 55/100\n",
      "2/2 [==============================] - 0s 8ms/step - loss: 0.0451 - val_loss: 0.0474\n",
      "Epoch 56/100\n",
      "2/2 [==============================] - 0s 8ms/step - loss: 0.0451 - val_loss: 0.0472\n",
      "Epoch 57/100\n",
      "2/2 [==============================] - 0s 8ms/step - loss: 0.0451 - val_loss: 0.0472\n",
      "Epoch 58/100\n",
      "2/2 [==============================] - 0s 8ms/step - loss: 0.0450 - val_loss: 0.0471\n",
      "Epoch 59/100\n",
      "2/2 [==============================] - 0s 8ms/step - loss: 0.0450 - val_loss: 0.0471\n",
      "Epoch 60/100\n",
      "2/2 [==============================] - 0s 8ms/step - loss: 0.0450 - val_loss: 0.0471\n",
      "Epoch 61/100\n",
      "2/2 [==============================] - 0s 8ms/step - loss: 0.0449 - val_loss: 0.0471\n",
      "Epoch 62/100\n",
      "2/2 [==============================] - 0s 8ms/step - loss: 0.0449 - val_loss: 0.0470\n",
      "Epoch 63/100\n",
      "2/2 [==============================] - 0s 8ms/step - loss: 0.0449 - val_loss: 0.0469\n",
      "Epoch 64/100\n",
      "2/2 [==============================] - 0s 8ms/step - loss: 0.0448 - val_loss: 0.0469\n",
      "Epoch 65/100\n",
      "2/2 [==============================] - 0s 8ms/step - loss: 0.0448 - val_loss: 0.0467\n",
      "Epoch 66/100\n",
      "2/2 [==============================] - 0s 8ms/step - loss: 0.0448 - val_loss: 0.0468\n",
      "Epoch 67/100\n",
      "2/2 [==============================] - 0s 8ms/step - loss: 0.0447 - val_loss: 0.0467\n",
      "Epoch 68/100\n",
      "2/2 [==============================] - 0s 8ms/step - loss: 0.0446 - val_loss: 0.0467\n",
      "Epoch 69/100\n",
      "2/2 [==============================] - 0s 8ms/step - loss: 0.0446 - val_loss: 0.0467\n",
      "Epoch 70/100\n",
      "2/2 [==============================] - 0s 8ms/step - loss: 0.0446 - val_loss: 0.0467\n",
      "Epoch 71/100\n",
      "2/2 [==============================] - 0s 8ms/step - loss: 0.0445 - val_loss: 0.0465\n",
      "Epoch 72/100\n",
      "2/2 [==============================] - 0s 16ms/step - loss: 0.0445 - val_loss: 0.0465\n",
      "Epoch 73/100\n",
      "2/2 [==============================] - 0s 8ms/step - loss: 0.0444 - val_loss: 0.0463\n",
      "Epoch 74/100\n",
      "2/2 [==============================] - 0s 8ms/step - loss: 0.0444 - val_loss: 0.0463\n",
      "Epoch 75/100\n",
      "2/2 [==============================] - 0s 8ms/step - loss: 0.0443 - val_loss: 0.0461\n",
      "Epoch 76/100\n",
      "2/2 [==============================] - 0s 8ms/step - loss: 0.0443 - val_loss: 0.0460\n",
      "Epoch 77/100\n",
      "2/2 [==============================] - 0s 8ms/step - loss: 0.0443 - val_loss: 0.0459\n",
      "Epoch 78/100\n",
      "2/2 [==============================] - 0s 8ms/step - loss: 0.0443 - val_loss: 0.0458\n",
      "Epoch 79/100\n",
      "2/2 [==============================] - 0s 16ms/step - loss: 0.0442 - val_loss: 0.0458\n",
      "Epoch 80/100\n",
      "2/2 [==============================] - 0s 8ms/step - loss: 0.0442 - val_loss: 0.0457\n",
      "Epoch 81/100\n",
      "2/2 [==============================] - 0s 8ms/step - loss: 0.0441 - val_loss: 0.0458\n",
      "Epoch 82/100\n",
      "2/2 [==============================] - 0s 8ms/step - loss: 0.0441 - val_loss: 0.0458\n",
      "Epoch 83/100\n",
      "2/2 [==============================] - 0s 8ms/step - loss: 0.0440 - val_loss: 0.0460\n",
      "Epoch 84/100\n"
     ]
    },
    {
     "name": "stdout",
     "output_type": "stream",
     "text": [
      "2/2 [==============================] - 0s 8ms/step - loss: 0.0440 - val_loss: 0.0460\n",
      "Epoch 85/100\n",
      "2/2 [==============================] - 0s 8ms/step - loss: 0.0440 - val_loss: 0.0460\n",
      "Epoch 86/100\n",
      "2/2 [==============================] - 0s 8ms/step - loss: 0.0440 - val_loss: 0.0459\n",
      "Epoch 87/100\n",
      "2/2 [==============================] - 0s 8ms/step - loss: 0.0439 - val_loss: 0.0459\n",
      "Epoch 88/100\n",
      "2/2 [==============================] - 0s 8ms/step - loss: 0.0439 - val_loss: 0.0458\n",
      "Epoch 89/100\n",
      "2/2 [==============================] - 0s 8ms/step - loss: 0.0438 - val_loss: 0.0456\n",
      "Epoch 90/100\n",
      "2/2 [==============================] - 0s 8ms/step - loss: 0.0437 - val_loss: 0.0456\n",
      "Epoch 91/100\n",
      "2/2 [==============================] - 0s 8ms/step - loss: 0.0437 - val_loss: 0.0454\n",
      "Epoch 92/100\n",
      "2/2 [==============================] - 0s 8ms/step - loss: 0.0436 - val_loss: 0.0453\n",
      "Epoch 93/100\n",
      "2/2 [==============================] - 0s 8ms/step - loss: 0.0436 - val_loss: 0.0452\n",
      "Epoch 94/100\n",
      "2/2 [==============================] - 0s 16ms/step - loss: 0.0436 - val_loss: 0.0451\n",
      "Epoch 95/100\n",
      "2/2 [==============================] - 0s 8ms/step - loss: 0.0435 - val_loss: 0.0450\n",
      "Epoch 96/100\n",
      "2/2 [==============================] - 0s 8ms/step - loss: 0.0435 - val_loss: 0.0449\n",
      "Epoch 97/100\n",
      "2/2 [==============================] - 0s 8ms/step - loss: 0.0435 - val_loss: 0.0449\n",
      "Epoch 98/100\n",
      "2/2 [==============================] - 0s 8ms/step - loss: 0.0435 - val_loss: 0.0448\n",
      "Epoch 99/100\n",
      "2/2 [==============================] - 0s 8ms/step - loss: 0.0434 - val_loss: 0.0447\n",
      "Epoch 100/100\n",
      "2/2 [==============================] - 0s 8ms/step - loss: 0.0433 - val_loss: 0.0447\n"
     ]
    },
    {
     "data": {
      "text/plain": [
       "<tensorflow.python.keras.callbacks.History at 0x21d86e82488>"
      ]
     },
     "execution_count": 9,
     "metadata": {},
     "output_type": "execute_result"
    }
   ],
   "source": [
    "autoencoder.fit(X_scaled, X_scaled, validation_split=0.2, epochs=100)"
   ]
  },
  {
   "cell_type": "code",
   "execution_count": 10,
   "id": "conditional-andrew",
   "metadata": {},
   "outputs": [],
   "source": [
    "best_cols = ['P_VSA_MR_5', 'Mor04m', 'E1p', 'CATS3D_02_AP', 'LUMO / eV']"
   ]
  },
  {
   "cell_type": "code",
   "execution_count": 11,
   "id": "rental-affiliate",
   "metadata": {},
   "outputs": [],
   "source": [
    "X_sel = X_scaled[best_cols]"
   ]
  },
  {
   "cell_type": "code",
   "execution_count": 12,
   "id": "medical-thumbnail",
   "metadata": {},
   "outputs": [],
   "source": [
    "encoded = autoencoder.encoder(X_scaled.to_numpy()).numpy()"
   ]
  },
  {
   "cell_type": "code",
   "execution_count": 14,
   "id": "utility-albania",
   "metadata": {},
   "outputs": [
    {
     "name": "stdout",
     "output_type": "stream",
     "text": [
      "[0.14643973, 0.27012992, 0.2947153, 0.68376565, 1.0] [0.0, 0.0, 0.0, 0.0, 3.03231]\n",
      "[0.0, 0.09568678, 0.14805192, 0.47917604, 0.63227195] [0.0, 0.0, 0.0, 0.0, 4.256732]\n",
      "[0.0, 0.06753248, 0.09568678, 0.3123034, 0.67890733] [0.0, 0.0, 0.0, 0.0, 5.125967]\n",
      "[0.0, 0.0, 0.06753248, 0.40683958, 0.6027766] [0.0, 0.0, 0.0, 0.0, 5.3694844]\n",
      "[0.0, 0.0, 0.0, 0.3791273, 0.48096734] [0.0, 0.0, 0.0, 0.0, 4.650193]\n"
     ]
    }
   ],
   "source": [
    "for i in range(5):\n",
    "    print(sorted(X_sel.to_numpy()[i,:]), sorted(encoded[i, :]))"
   ]
  },
  {
   "cell_type": "code",
   "execution_count": null,
   "id": "inside-adjustment",
   "metadata": {},
   "outputs": [],
   "source": []
  }
 ],
 "metadata": {
  "kernelspec": {
   "display_name": "Python 3",
   "language": "python",
   "name": "python3"
  },
  "language_info": {
   "codemirror_mode": {
    "name": "ipython",
    "version": 3
   },
   "file_extension": ".py",
   "mimetype": "text/x-python",
   "name": "python",
   "nbconvert_exporter": "python",
   "pygments_lexer": "ipython3",
   "version": "3.7.9"
  }
 },
 "nbformat": 4,
 "nbformat_minor": 5
}
