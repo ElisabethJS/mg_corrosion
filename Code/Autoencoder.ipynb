{
 "cells": [
  {
   "cell_type": "code",
   "execution_count": 1,
   "id": "insured-notebook",
   "metadata": {},
   "outputs": [],
   "source": [
    "import matplotlib.pyplot as plt\n",
    "import numpy as np\n",
    "import pandas as pd\n",
    "import tensorflow as tf\n",
    "from tensorflow import keras\n",
    "from sklearn.preprocessing import MinMaxScaler\n",
    "from sklearn.model_selection import train_test_split\n",
    "import matplotlib.pyplot as plt\n",
    "import seaborn as sns"
   ]
  },
  {
   "cell_type": "code",
   "execution_count": 2,
   "id": "integrated-mapping",
   "metadata": {},
   "outputs": [],
   "source": [
    "seed = 42\n",
    "tf.random.set_seed(seed)"
   ]
  },
  {
   "cell_type": "code",
   "execution_count": 3,
   "id": "spiritual-canvas",
   "metadata": {},
   "outputs": [],
   "source": [
    "data = pd.read_csv('..\\\\Data\\\\ze41_mol_desc_db_red.csv', header=0, sep=';', decimal=',')"
   ]
  },
  {
   "cell_type": "code",
   "execution_count": 4,
   "id": "attempted-craft",
   "metadata": {},
   "outputs": [],
   "source": [
    "col_names = data.columns\n",
    "x_cols = ['P_VSA_MR_5', 'Mor04m', 'E1p', 'Mor22s', 'LUMO / eV']\n",
    "X = data[x_cols].astype('float32')\n",
    "y = data[col_names[1:3]].astype('float32')"
   ]
  },
  {
   "cell_type": "code",
   "execution_count": 5,
   "id": "meaningful-sweet",
   "metadata": {},
   "outputs": [],
   "source": [
    "X_train, X_valid, y_train, y_valid = train_test_split(X, y, test_size=0.1, random_state=seed)\n",
    "X_train = pd.DataFrame(X_train)\n",
    "X_train.columns = X.columns"
   ]
  },
  {
   "cell_type": "code",
   "execution_count": 6,
   "id": "biblical-playback",
   "metadata": {},
   "outputs": [
    {
     "data": {
      "text/plain": [
       "MinMaxScaler()"
      ]
     },
     "execution_count": 6,
     "metadata": {},
     "output_type": "execute_result"
    }
   ],
   "source": [
    "scaler = MinMaxScaler(feature_range=(0,1))\n",
    "scaler.fit(X_train)"
   ]
  },
  {
   "cell_type": "code",
   "execution_count": 7,
   "id": "purple-debut",
   "metadata": {},
   "outputs": [],
   "source": [
    "X_train_s = scaler.transform(X_train)\n",
    "X_valid_s = scaler.transform(X_valid)"
   ]
  },
  {
   "cell_type": "code",
   "execution_count": 8,
   "id": "hourly-opportunity",
   "metadata": {},
   "outputs": [],
   "source": [
    "class Autoencoder(keras.models.Model):\n",
    "    def __init__(self, latent_dim=2):\n",
    "        super(Autoencoder, self).__init__()\n",
    "        self.latent_dim = latent_dim   \n",
    "        self.encoder = tf.keras.Sequential([\n",
    "            keras.layers.Dense(latent_dim, activation='linear'),\n",
    "            keras.layers.LeakyReLU(),\n",
    "        ])\n",
    "        self.decoder = tf.keras.Sequential([\n",
    "            keras.layers.Dense(len(x_cols), activation='linear')\n",
    "        ])\n",
    "    \n",
    "    def call(self, x):\n",
    "        encoded = self.encoder(x)\n",
    "        decoded = self.decoder(encoded)\n",
    "        return decoded"
   ]
  },
  {
   "cell_type": "code",
   "execution_count": 9,
   "id": "ordered-validation",
   "metadata": {},
   "outputs": [],
   "source": [
    "autoencoder = Autoencoder(latent_dim=2)"
   ]
  },
  {
   "cell_type": "code",
   "execution_count": 10,
   "id": "later-stand",
   "metadata": {},
   "outputs": [],
   "source": [
    "autoencoder.compile(\n",
    "    optimizer=tf.optimizers.Adam(learning_rate=0.05),\n",
    "    loss='mean_squared_error')"
   ]
  },
  {
   "cell_type": "code",
   "execution_count": 11,
   "id": "conditional-permission",
   "metadata": {},
   "outputs": [
    {
     "name": "stdout",
     "output_type": "stream",
     "text": [
      "Epoch 1/100\n",
      "2/2 [==============================] - 0s 35ms/step - loss: 0.2069 - val_loss: 0.0774\n",
      "Epoch 2/100\n",
      "2/2 [==============================] - 0s 8ms/step - loss: 0.1217 - val_loss: 0.0593\n",
      "Epoch 3/100\n",
      "2/2 [==============================] - 0s 8ms/step - loss: 0.0877 - val_loss: 0.0578\n",
      "Epoch 4/100\n",
      "2/2 [==============================] - 0s 0s/step - loss: 0.0680 - val_loss: 0.0684\n",
      "Epoch 5/100\n",
      "2/2 [==============================] - 0s 8ms/step - loss: 0.0617 - val_loss: 0.0795\n",
      "Epoch 6/100\n",
      "2/2 [==============================] - 0s 3ms/step - loss: 0.0630 - val_loss: 0.0827\n",
      "Epoch 7/100\n",
      "2/2 [==============================] - 0s 0s/step - loss: 0.0616 - val_loss: 0.0788\n",
      "Epoch 8/100\n",
      "2/2 [==============================] - 0s 8ms/step - loss: 0.0577 - val_loss: 0.0721\n",
      "Epoch 9/100\n",
      "2/2 [==============================] - 0s 0s/step - loss: 0.0526 - val_loss: 0.0641\n",
      "Epoch 10/100\n",
      "2/2 [==============================] - 0s 8ms/step - loss: 0.0491 - val_loss: 0.0564\n",
      "Epoch 11/100\n",
      "2/2 [==============================] - 0s 0s/step - loss: 0.0459 - val_loss: 0.0491\n",
      "Epoch 12/100\n",
      "2/2 [==============================] - 0s 8ms/step - loss: 0.0435 - val_loss: 0.0431\n",
      "Epoch 13/100\n",
      "2/2 [==============================] - 0s 8ms/step - loss: 0.0419 - val_loss: 0.0391\n",
      "Epoch 14/100\n",
      "2/2 [==============================] - 0s 0s/step - loss: 0.0402 - val_loss: 0.0363\n",
      "Epoch 15/100\n",
      "2/2 [==============================] - 0s 8ms/step - loss: 0.0380 - val_loss: 0.0342\n",
      "Epoch 16/100\n",
      "2/2 [==============================] - 0s 0s/step - loss: 0.0345 - val_loss: 0.0330\n",
      "Epoch 17/100\n",
      "2/2 [==============================] - 0s 8ms/step - loss: 0.0312 - val_loss: 0.0338\n",
      "Epoch 18/100\n",
      "2/2 [==============================] - 0s 3ms/step - loss: 0.0301 - val_loss: 0.0342\n",
      "Epoch 19/100\n",
      "2/2 [==============================] - 0s 0s/step - loss: 0.0293 - val_loss: 0.0324\n",
      "Epoch 20/100\n",
      "2/2 [==============================] - 0s 8ms/step - loss: 0.0276 - val_loss: 0.0307\n",
      "Epoch 21/100\n",
      "2/2 [==============================] - 0s 0s/step - loss: 0.0268 - val_loss: 0.0293\n",
      "Epoch 22/100\n",
      "2/2 [==============================] - 0s 8ms/step - loss: 0.0269 - val_loss: 0.0274\n",
      "Epoch 23/100\n",
      "2/2 [==============================] - 0s 8ms/step - loss: 0.0259 - val_loss: 0.0255\n",
      "Epoch 24/100\n",
      "2/2 [==============================] - 0s 0s/step - loss: 0.0255 - val_loss: 0.0239\n",
      "Epoch 25/100\n",
      "2/2 [==============================] - 0s 8ms/step - loss: 0.0246 - val_loss: 0.0229\n",
      "Epoch 26/100\n",
      "2/2 [==============================] - 0s 0s/step - loss: 0.0238 - val_loss: 0.0227\n",
      "Epoch 27/100\n",
      "2/2 [==============================] - 0s 8ms/step - loss: 0.0234 - val_loss: 0.0228\n",
      "Epoch 28/100\n",
      "2/2 [==============================] - 0s 0s/step - loss: 0.0228 - val_loss: 0.0228\n",
      "Epoch 29/100\n",
      "2/2 [==============================] - 0s 8ms/step - loss: 0.0226 - val_loss: 0.0230\n",
      "Epoch 30/100\n",
      "2/2 [==============================] - 0s 3ms/step - loss: 0.0224 - val_loss: 0.0232\n",
      "Epoch 31/100\n",
      "2/2 [==============================] - 0s 0s/step - loss: 0.0220 - val_loss: 0.0230\n",
      "Epoch 32/100\n",
      "2/2 [==============================] - 0s 8ms/step - loss: 0.0217 - val_loss: 0.0223\n",
      "Epoch 33/100\n",
      "2/2 [==============================] - 0s 0s/step - loss: 0.0213 - val_loss: 0.0218\n",
      "Epoch 34/100\n",
      "2/2 [==============================] - 0s 8ms/step - loss: 0.0212 - val_loss: 0.0212\n",
      "Epoch 35/100\n",
      "2/2 [==============================] - 0s 8ms/step - loss: 0.0209 - val_loss: 0.0205\n",
      "Epoch 36/100\n",
      "2/2 [==============================] - 0s 0s/step - loss: 0.0209 - val_loss: 0.0202\n",
      "Epoch 37/100\n",
      "2/2 [==============================] - 0s 8ms/step - loss: 0.0207 - val_loss: 0.0199\n",
      "Epoch 38/100\n",
      "2/2 [==============================] - 0s 0s/step - loss: 0.0206 - val_loss: 0.0192\n",
      "Epoch 39/100\n",
      "2/2 [==============================] - 0s 8ms/step - loss: 0.0205 - val_loss: 0.0187\n",
      "Epoch 40/100\n",
      "2/2 [==============================] - 0s 0s/step - loss: 0.0205 - val_loss: 0.0183\n",
      "Epoch 41/100\n",
      "2/2 [==============================] - 0s 8ms/step - loss: 0.0203 - val_loss: 0.0183\n",
      "Epoch 42/100\n",
      "2/2 [==============================] - 0s 3ms/step - loss: 0.0200 - val_loss: 0.0189\n",
      "Epoch 43/100\n",
      "2/2 [==============================] - 0s 0s/step - loss: 0.0204 - val_loss: 0.0195\n",
      "Epoch 44/100\n",
      "2/2 [==============================] - 0s 8ms/step - loss: 0.0200 - val_loss: 0.0192\n",
      "Epoch 45/100\n",
      "2/2 [==============================] - 0s 0s/step - loss: 0.0198 - val_loss: 0.0182\n",
      "Epoch 46/100\n",
      "2/2 [==============================] - 0s 8ms/step - loss: 0.0203 - val_loss: 0.0173\n",
      "Epoch 47/100\n",
      "2/2 [==============================] - 0s 0s/step - loss: 0.0203 - val_loss: 0.0175\n",
      "Epoch 48/100\n",
      "2/2 [==============================] - 0s 8ms/step - loss: 0.0198 - val_loss: 0.0182\n",
      "Epoch 49/100\n",
      "2/2 [==============================] - 0s 8ms/step - loss: 0.0200 - val_loss: 0.0182\n",
      "Epoch 50/100\n",
      "2/2 [==============================] - 0s 0s/step - loss: 0.0202 - val_loss: 0.0178\n",
      "Epoch 51/100\n",
      "2/2 [==============================] - 0s 8ms/step - loss: 0.0197 - val_loss: 0.0170\n",
      "Epoch 52/100\n",
      "2/2 [==============================] - 0s 0s/step - loss: 0.0196 - val_loss: 0.0173\n",
      "Epoch 53/100\n",
      "2/2 [==============================] - 0s 8ms/step - loss: 0.0197 - val_loss: 0.0175\n",
      "Epoch 54/100\n",
      "2/2 [==============================] - 0s 3ms/step - loss: 0.0196 - val_loss: 0.0174\n",
      "Epoch 55/100\n",
      "2/2 [==============================] - 0s 0s/step - loss: 0.0200 - val_loss: 0.0168\n",
      "Epoch 56/100\n",
      "2/2 [==============================] - 0s 10ms/step - loss: 0.0198 - val_loss: 0.0162\n",
      "Epoch 57/100\n",
      "2/2 [==============================] - 0s 0s/step - loss: 0.0196 - val_loss: 0.0162\n",
      "Epoch 58/100\n",
      "2/2 [==============================] - 0s 8ms/step - loss: 0.0195 - val_loss: 0.0168\n",
      "Epoch 59/100\n",
      "2/2 [==============================] - 0s 0s/step - loss: 0.0195 - val_loss: 0.0177\n",
      "Epoch 60/100\n",
      "2/2 [==============================] - 0s 8ms/step - loss: 0.0195 - val_loss: 0.0176\n",
      "Epoch 61/100\n",
      "2/2 [==============================] - 0s 0s/step - loss: 0.0197 - val_loss: 0.0164\n",
      "Epoch 62/100\n",
      "2/2 [==============================] - 0s 8ms/step - loss: 0.0194 - val_loss: 0.0154\n",
      "Epoch 63/100\n",
      "2/2 [==============================] - 0s 0s/step - loss: 0.0195 - val_loss: 0.0151\n",
      "Epoch 64/100\n",
      "2/2 [==============================] - 0s 8ms/step - loss: 0.0196 - val_loss: 0.0158\n",
      "Epoch 65/100\n",
      "2/2 [==============================] - 0s 0s/step - loss: 0.0196 - val_loss: 0.0163\n",
      "Epoch 66/100\n",
      "2/2 [==============================] - 0s 8ms/step - loss: 0.0194 - val_loss: 0.0157\n",
      "Epoch 67/100\n",
      "2/2 [==============================] - 0s 0s/step - loss: 0.0196 - val_loss: 0.0149\n",
      "Epoch 68/100\n",
      "2/2 [==============================] - 0s 8ms/step - loss: 0.0193 - val_loss: 0.0137\n",
      "Epoch 69/100\n",
      "2/2 [==============================] - 0s 0s/step - loss: 0.0196 - val_loss: 0.0135\n",
      "Epoch 70/100\n",
      "2/2 [==============================] - 0s 8ms/step - loss: 0.0195 - val_loss: 0.0138\n",
      "Epoch 71/100\n",
      "2/2 [==============================] - 0s 0s/step - loss: 0.0193 - val_loss: 0.0146\n",
      "Epoch 72/100\n",
      "2/2 [==============================] - 0s 8ms/step - loss: 0.0194 - val_loss: 0.0151\n",
      "Epoch 73/100\n",
      "2/2 [==============================] - 0s 8ms/step - loss: 0.0196 - val_loss: 0.0154\n",
      "Epoch 74/100\n",
      "2/2 [==============================] - 0s 0s/step - loss: 0.0196 - val_loss: 0.0154\n",
      "Epoch 75/100\n",
      "2/2 [==============================] - 0s 8ms/step - loss: 0.0193 - val_loss: 0.0145\n",
      "Epoch 76/100\n",
      "2/2 [==============================] - 0s 0s/step - loss: 0.0193 - val_loss: 0.0135\n",
      "Epoch 77/100\n",
      "2/2 [==============================] - 0s 8ms/step - loss: 0.0193 - val_loss: 0.0133\n",
      "Epoch 78/100\n",
      "2/2 [==============================] - 0s 3ms/step - loss: 0.0196 - val_loss: 0.0133\n",
      "Epoch 79/100\n",
      "2/2 [==============================] - 0s 0s/step - loss: 0.0195 - val_loss: 0.0140\n",
      "Epoch 80/100\n",
      "2/2 [==============================] - 0s 8ms/step - loss: 0.0192 - val_loss: 0.0147\n",
      "Epoch 81/100\n",
      "2/2 [==============================] - 0s 0s/step - loss: 0.0195 - val_loss: 0.0150\n",
      "Epoch 82/100\n",
      "2/2 [==============================] - 0s 8ms/step - loss: 0.0195 - val_loss: 0.0143\n",
      "Epoch 83/100\n",
      "2/2 [==============================] - 0s 0s/step - loss: 0.0193 - val_loss: 0.0141\n",
      "Epoch 84/100\n",
      "2/2 [==============================] - 0s 8ms/step - loss: 0.0193 - val_loss: 0.0136\n",
      "Epoch 85/100\n"
     ]
    },
    {
     "name": "stdout",
     "output_type": "stream",
     "text": [
      "2/2 [==============================] - 0s 0s/step - loss: 0.0197 - val_loss: 0.0132\n",
      "Epoch 86/100\n",
      "2/2 [==============================] - 0s 0s/step - loss: 0.0196 - val_loss: 0.0139\n",
      "Epoch 87/100\n",
      "2/2 [==============================] - 0s 8ms/step - loss: 0.0194 - val_loss: 0.0155\n",
      "Epoch 88/100\n",
      "2/2 [==============================] - 0s 0s/step - loss: 0.0196 - val_loss: 0.0157\n",
      "Epoch 89/100\n",
      "2/2 [==============================] - 0s 8ms/step - loss: 0.0195 - val_loss: 0.0143\n",
      "Epoch 90/100\n",
      "2/2 [==============================] - 0s 3ms/step - loss: 0.0194 - val_loss: 0.0128\n",
      "Epoch 91/100\n",
      "2/2 [==============================] - 0s 0s/step - loss: 0.0195 - val_loss: 0.0124\n",
      "Epoch 92/100\n",
      "2/2 [==============================] - 0s 8ms/step - loss: 0.0192 - val_loss: 0.0133\n",
      "Epoch 93/100\n",
      "2/2 [==============================] - 0s 0s/step - loss: 0.0193 - val_loss: 0.0144\n",
      "Epoch 94/100\n",
      "2/2 [==============================] - 0s 8ms/step - loss: 0.0196 - val_loss: 0.0140\n",
      "Epoch 95/100\n",
      "2/2 [==============================] - 0s 0s/step - loss: 0.0193 - val_loss: 0.0127\n",
      "Epoch 96/100\n",
      "2/2 [==============================] - 0s 8ms/step - loss: 0.0193 - val_loss: 0.0115\n",
      "Epoch 97/100\n",
      "2/2 [==============================] - 0s 0s/step - loss: 0.0196 - val_loss: 0.0119\n",
      "Epoch 98/100\n",
      "2/2 [==============================] - 0s 0s/step - loss: 0.0196 - val_loss: 0.0130\n",
      "Epoch 99/100\n",
      "2/2 [==============================] - 0s 8ms/step - loss: 0.0195 - val_loss: 0.0134\n",
      "Epoch 100/100\n",
      "2/2 [==============================] - 0s 0s/step - loss: 0.0195 - val_loss: 0.0134\n"
     ]
    },
    {
     "data": {
      "text/plain": [
       "<tensorflow.python.keras.callbacks.History at 0x1c3df7351c8>"
      ]
     },
     "execution_count": 11,
     "metadata": {},
     "output_type": "execute_result"
    }
   ],
   "source": [
    "autoencoder.fit(X_train_s, X_train_s, validation_split=0.1, epochs=100)"
   ]
  },
  {
   "cell_type": "code",
   "execution_count": 12,
   "id": "czech-compensation",
   "metadata": {},
   "outputs": [],
   "source": [
    "X_train_enc = autoencoder.encoder(X_train_s).numpy()"
   ]
  },
  {
   "cell_type": "code",
   "execution_count": 13,
   "id": "global-administration",
   "metadata": {},
   "outputs": [],
   "source": [
    "X_valid_enc = autoencoder.encoder(X_valid_s).numpy()"
   ]
  },
  {
   "cell_type": "code",
   "execution_count": 14,
   "id": "enormous-politics",
   "metadata": {},
   "outputs": [
    {
     "data": {
      "text/html": [
       "<div>\n",
       "<style scoped>\n",
       "    .dataframe tbody tr th:only-of-type {\n",
       "        vertical-align: middle;\n",
       "    }\n",
       "\n",
       "    .dataframe tbody tr th {\n",
       "        vertical-align: top;\n",
       "    }\n",
       "\n",
       "    .dataframe thead th {\n",
       "        text-align: right;\n",
       "    }\n",
       "</style>\n",
       "<table border=\"1\" class=\"dataframe\">\n",
       "  <thead>\n",
       "    <tr style=\"text-align: right;\">\n",
       "      <th></th>\n",
       "      <th>inhibition efficiency ZE41 / %</th>\n",
       "      <th>LinIE ZE41</th>\n",
       "    </tr>\n",
       "  </thead>\n",
       "  <tbody>\n",
       "    <tr>\n",
       "      <th>33</th>\n",
       "      <td>59.0</td>\n",
       "      <td>0.954</td>\n",
       "    </tr>\n",
       "    <tr>\n",
       "      <th>48</th>\n",
       "      <td>54.0</td>\n",
       "      <td>0.939</td>\n",
       "    </tr>\n",
       "    <tr>\n",
       "      <th>12</th>\n",
       "      <td>-67.0</td>\n",
       "      <td>0.588</td>\n",
       "    </tr>\n",
       "    <tr>\n",
       "      <th>57</th>\n",
       "      <td>-194.0</td>\n",
       "      <td>0.220</td>\n",
       "    </tr>\n",
       "    <tr>\n",
       "      <th>46</th>\n",
       "      <td>-146.0</td>\n",
       "      <td>0.359</td>\n",
       "    </tr>\n",
       "  </tbody>\n",
       "</table>\n",
       "</div>"
      ],
      "text/plain": [
       "    inhibition efficiency ZE41 / %  LinIE ZE41\n",
       "33                            59.0       0.954\n",
       "48                            54.0       0.939\n",
       "12                           -67.0       0.588\n",
       "57                          -194.0       0.220\n",
       "46                          -146.0       0.359"
      ]
     },
     "execution_count": 14,
     "metadata": {},
     "output_type": "execute_result"
    }
   ],
   "source": [
    "y_train.head()"
   ]
  },
  {
   "cell_type": "code",
   "execution_count": 15,
   "id": "bronze-preview",
   "metadata": {},
   "outputs": [],
   "source": [
    "df_train = pd.DataFrame(X_train_enc, index=X_train.index)"
   ]
  },
  {
   "cell_type": "code",
   "execution_count": 16,
   "id": "legal-spirituality",
   "metadata": {},
   "outputs": [],
   "source": [
    "df_valid = pd.DataFrame(X_valid_enc, index=X_valid.index)"
   ]
  },
  {
   "cell_type": "code",
   "execution_count": 17,
   "id": "awful-pantyhose",
   "metadata": {},
   "outputs": [],
   "source": [
    "df_train.columns=['dim 0', 'dim 1']\n",
    "df_valid.columns=df_train.columns"
   ]
  },
  {
   "cell_type": "code",
   "execution_count": 18,
   "id": "funded-european",
   "metadata": {},
   "outputs": [],
   "source": [
    "df_train['target'] = y_train['inhibition efficiency ZE41 / %']\n",
    "df_train['type'] = 0"
   ]
  },
  {
   "cell_type": "code",
   "execution_count": 19,
   "id": "sexual-plane",
   "metadata": {},
   "outputs": [],
   "source": [
    "df_valid['target'] = y_valid['inhibition efficiency ZE41 / %']\n",
    "df_valid['type'] = 1"
   ]
  },
  {
   "cell_type": "code",
   "execution_count": 20,
   "id": "aquatic-hamburg",
   "metadata": {},
   "outputs": [
    {
     "data": {
      "text/html": [
       "<div>\n",
       "<style scoped>\n",
       "    .dataframe tbody tr th:only-of-type {\n",
       "        vertical-align: middle;\n",
       "    }\n",
       "\n",
       "    .dataframe tbody tr th {\n",
       "        vertical-align: top;\n",
       "    }\n",
       "\n",
       "    .dataframe thead th {\n",
       "        text-align: right;\n",
       "    }\n",
       "</style>\n",
       "<table border=\"1\" class=\"dataframe\">\n",
       "  <thead>\n",
       "    <tr style=\"text-align: right;\">\n",
       "      <th></th>\n",
       "      <th>dim 0</th>\n",
       "      <th>dim 1</th>\n",
       "      <th>target</th>\n",
       "      <th>type</th>\n",
       "    </tr>\n",
       "  </thead>\n",
       "  <tbody>\n",
       "    <tr>\n",
       "      <th>33</th>\n",
       "      <td>0.344354</td>\n",
       "      <td>0.284599</td>\n",
       "      <td>59.0</td>\n",
       "      <td>0</td>\n",
       "    </tr>\n",
       "    <tr>\n",
       "      <th>48</th>\n",
       "      <td>0.171665</td>\n",
       "      <td>0.209718</td>\n",
       "      <td>54.0</td>\n",
       "      <td>0</td>\n",
       "    </tr>\n",
       "    <tr>\n",
       "      <th>12</th>\n",
       "      <td>0.911115</td>\n",
       "      <td>0.376899</td>\n",
       "      <td>-67.0</td>\n",
       "      <td>0</td>\n",
       "    </tr>\n",
       "    <tr>\n",
       "      <th>57</th>\n",
       "      <td>0.568869</td>\n",
       "      <td>0.885882</td>\n",
       "      <td>-194.0</td>\n",
       "      <td>0</td>\n",
       "    </tr>\n",
       "    <tr>\n",
       "      <th>46</th>\n",
       "      <td>0.567442</td>\n",
       "      <td>0.643048</td>\n",
       "      <td>-146.0</td>\n",
       "      <td>0</td>\n",
       "    </tr>\n",
       "  </tbody>\n",
       "</table>\n",
       "</div>"
      ],
      "text/plain": [
       "       dim 0     dim 1  target  type\n",
       "33  0.344354  0.284599    59.0     0\n",
       "48  0.171665  0.209718    54.0     0\n",
       "12  0.911115  0.376899   -67.0     0\n",
       "57  0.568869  0.885882  -194.0     0\n",
       "46  0.567442  0.643048  -146.0     0"
      ]
     },
     "execution_count": 20,
     "metadata": {},
     "output_type": "execute_result"
    }
   ],
   "source": [
    "df = pd.concat([df_train, df_valid], ignore_index=False, sort=False)\n",
    "df.head()"
   ]
  },
  {
   "cell_type": "code",
   "execution_count": 21,
   "id": "institutional-convenience",
   "metadata": {},
   "outputs": [
    {
     "data": {
      "image/png": "[encoded data removed]",
      "text/plain": [
       "<Figure size 432x288 with 1 Axes>"
      ]
     },
     "metadata": {
      "needs_background": "light"
     },
     "output_type": "display_data"
    }
   ],
   "source": [
    "fig, ax = plt.subplots()\n",
    "sns.scatterplot(data=df, x='dim 0', y='dim 1', hue='target', ax=ax, size='type',\n",
    "               sizes={0:20, 1:30}, palette='flare', style='type')\n",
    "plt.show()"
   ]
  },
  {
   "cell_type": "code",
   "execution_count": null,
   "id": "great-meter",
   "metadata": {},
   "outputs": [],
   "source": []
  }
 ],
 "metadata": {
  "kernelspec": {
   "display_name": "Python 3",
   "language": "python",
   "name": "python3"
  },
  "language_info": {
   "codemirror_mode": {
    "name": "ipython",
    "version": 3
   },
   "file_extension": ".py",
   "mimetype": "text/x-python",
   "name": "python",
   "nbconvert_exporter": "python",
   "pygments_lexer": "ipython3",
   "version": "3.7.9"
  }
 },
 "nbformat": 4,
 "nbformat_minor": 5
}
