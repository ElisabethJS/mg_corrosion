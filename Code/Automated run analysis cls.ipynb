{
 "cells": [
  {
   "cell_type": "code",
   "execution_count": 1,
   "id": "liked-dancing",
   "metadata": {},
   "outputs": [],
   "source": [
    "import pandas as pd\n",
    "import numpy as np\n",
    "import pickle"
   ]
  },
  {
   "cell_type": "code",
   "execution_count": 2,
   "id": "ordinary-colors",
   "metadata": {},
   "outputs": [],
   "source": [
    "path = '..\\\\Data\\\\'\n",
    "random_state = 42\n",
    "n_features_to_select = 1\n",
    "n_runs = 100\n",
    "df_path = path + 'predictions_cls_seed{}_feat{}_runs{}.csv'.format(random_state, n_features_to_select, n_runs)\n",
    "rfe_path = path + 'rfe_cls_res_seed{}_feat{}_runs{}.pkl'.format(random_state, n_features_to_select, n_runs)"
   ]
  },
  {
   "cell_type": "code",
   "execution_count": 3,
   "id": "worthy-today",
   "metadata": {},
   "outputs": [],
   "source": [
    "def classifier(x):\n",
    "    x = int(x)\n",
    "    if x == 0:\n",
    "        return 'ea'\n",
    "    if x == 1:\n",
    "        return 'ma'\n",
    "    if x == 2:\n",
    "        return 'mi'\n",
    "    return 'ei'"
   ]
  },
  {
   "cell_type": "code",
   "execution_count": 4,
   "id": "grave-authority",
   "metadata": {},
   "outputs": [],
   "source": [
    "results = pd.read_csv(df_path, header=0, sep=';', decimal=',', index_col=0)"
   ]
  },
  {
   "cell_type": "code",
   "execution_count": 5,
   "id": "facial-moment",
   "metadata": {},
   "outputs": [],
   "source": [
    "results[results.columns[:-1]] = results[results.columns[:-1]].applymap(classifier)"
   ]
  },
  {
   "cell_type": "code",
   "execution_count": 6,
   "id": "committed-assault",
   "metadata": {},
   "outputs": [
    {
     "data": {
      "text/html": [
       "<div>\n",
       "<style scoped>\n",
       "    .dataframe tbody tr th:only-of-type {\n",
       "        vertical-align: middle;\n",
       "    }\n",
       "\n",
       "    .dataframe tbody tr th {\n",
       "        vertical-align: top;\n",
       "    }\n",
       "\n",
       "    .dataframe thead th {\n",
       "        text-align: right;\n",
       "    }\n",
       "</style>\n",
       "<table border=\"1\" class=\"dataframe\">\n",
       "  <thead>\n",
       "    <tr style=\"text-align: right;\">\n",
       "      <th></th>\n",
       "      <th>accuracy</th>\n",
       "    </tr>\n",
       "  </thead>\n",
       "  <tbody>\n",
       "    <tr>\n",
       "      <th>count</th>\n",
       "      <td>101.000000</td>\n",
       "    </tr>\n",
       "    <tr>\n",
       "      <th>mean</th>\n",
       "      <td>0.432343</td>\n",
       "    </tr>\n",
       "    <tr>\n",
       "      <th>std</th>\n",
       "      <td>0.242874</td>\n",
       "    </tr>\n",
       "    <tr>\n",
       "      <th>min</th>\n",
       "      <td>0.000000</td>\n",
       "    </tr>\n",
       "    <tr>\n",
       "      <th>25%</th>\n",
       "      <td>0.166667</td>\n",
       "    </tr>\n",
       "    <tr>\n",
       "      <th>50%</th>\n",
       "      <td>0.500000</td>\n",
       "    </tr>\n",
       "    <tr>\n",
       "      <th>75%</th>\n",
       "      <td>0.666667</td>\n",
       "    </tr>\n",
       "    <tr>\n",
       "      <th>max</th>\n",
       "      <td>0.666667</td>\n",
       "    </tr>\n",
       "  </tbody>\n",
       "</table>\n",
       "</div>"
      ],
      "text/plain": [
       "         accuracy\n",
       "count  101.000000\n",
       "mean     0.432343\n",
       "std      0.242874\n",
       "min      0.000000\n",
       "25%      0.166667\n",
       "50%      0.500000\n",
       "75%      0.666667\n",
       "max      0.666667"
      ]
     },
     "execution_count": 6,
     "metadata": {},
     "output_type": "execute_result"
    }
   ],
   "source": [
    "results.describe()"
   ]
  },
  {
   "cell_type": "code",
   "execution_count": 7,
   "id": "sudden-architecture",
   "metadata": {},
   "outputs": [
    {
     "data": {
      "text/html": [
       "<div>\n",
       "<style scoped>\n",
       "    .dataframe tbody tr th:only-of-type {\n",
       "        vertical-align: middle;\n",
       "    }\n",
       "\n",
       "    .dataframe tbody tr th {\n",
       "        vertical-align: top;\n",
       "    }\n",
       "\n",
       "    .dataframe thead th {\n",
       "        text-align: right;\n",
       "    }\n",
       "</style>\n",
       "<table border=\"1\" class=\"dataframe\">\n",
       "  <thead>\n",
       "    <tr style=\"text-align: right;\">\n",
       "      <th></th>\n",
       "      <th>0</th>\n",
       "      <th>5</th>\n",
       "      <th>36</th>\n",
       "      <th>45</th>\n",
       "      <th>13</th>\n",
       "      <th>54</th>\n",
       "      <th>accuracy</th>\n",
       "    </tr>\n",
       "  </thead>\n",
       "  <tbody>\n",
       "    <tr>\n",
       "      <th>0</th>\n",
       "      <td>ea</td>\n",
       "      <td>mi</td>\n",
       "      <td>mi</td>\n",
       "      <td>mi</td>\n",
       "      <td>mi</td>\n",
       "      <td>mi</td>\n",
       "      <td>0.666667</td>\n",
       "    </tr>\n",
       "  </tbody>\n",
       "</table>\n",
       "</div>"
      ],
      "text/plain": [
       "    0   5  36  45  13  54  accuracy\n",
       "0  ea  mi  mi  mi  mi  mi  0.666667"
      ]
     },
     "execution_count": 7,
     "metadata": {},
     "output_type": "execute_result"
    }
   ],
   "source": [
    "results[results.index != 'inhibition efficiency ZE41 / %'].mode()"
   ]
  },
  {
   "cell_type": "code",
   "execution_count": 8,
   "id": "canadian-reporter",
   "metadata": {},
   "outputs": [
    {
     "data": {
      "text/html": [
       "<div>\n",
       "<style scoped>\n",
       "    .dataframe tbody tr th:only-of-type {\n",
       "        vertical-align: middle;\n",
       "    }\n",
       "\n",
       "    .dataframe tbody tr th {\n",
       "        vertical-align: top;\n",
       "    }\n",
       "\n",
       "    .dataframe thead th {\n",
       "        text-align: right;\n",
       "    }\n",
       "</style>\n",
       "<table border=\"1\" class=\"dataframe\">\n",
       "  <thead>\n",
       "    <tr style=\"text-align: right;\">\n",
       "      <th></th>\n",
       "      <th>0</th>\n",
       "      <th>5</th>\n",
       "      <th>36</th>\n",
       "      <th>45</th>\n",
       "      <th>13</th>\n",
       "      <th>54</th>\n",
       "      <th>accuracy</th>\n",
       "    </tr>\n",
       "  </thead>\n",
       "  <tbody>\n",
       "    <tr>\n",
       "      <th>inhibition efficiency ZE41 / %</th>\n",
       "      <td>ea</td>\n",
       "      <td>mi</td>\n",
       "      <td>mi</td>\n",
       "      <td>ma</td>\n",
       "      <td>mi</td>\n",
       "      <td>ma</td>\n",
       "      <td>0.0</td>\n",
       "    </tr>\n",
       "  </tbody>\n",
       "</table>\n",
       "</div>"
      ],
      "text/plain": [
       "                                 0   5  36  45  13  54  accuracy\n",
       "inhibition efficiency ZE41 / %  ea  mi  mi  ma  mi  ma       0.0"
      ]
     },
     "execution_count": 8,
     "metadata": {},
     "output_type": "execute_result"
    }
   ],
   "source": [
    "results[results.index == 'inhibition efficiency ZE41 / %']"
   ]
  },
  {
   "cell_type": "code",
   "execution_count": 9,
   "id": "opening-measurement",
   "metadata": {},
   "outputs": [],
   "source": [
    "with open(rfe_path, 'rb') as f:\n",
    "    rfe_dict = pickle.load(f) #counts, vals\n",
    "counts = rfe_dict['counts']\n",
    "vals = rfe_dict['vals']"
   ]
  },
  {
   "cell_type": "code",
   "execution_count": 10,
   "id": "retained-sharing",
   "metadata": {},
   "outputs": [
    {
     "data": {
      "text/plain": [
       "array(['LUMO / eV'], dtype='<U10')"
      ]
     },
     "execution_count": 10,
     "metadata": {},
     "output_type": "execute_result"
    }
   ],
   "source": [
    "vals[np.argmax(counts)]"
   ]
  },
  {
   "cell_type": "code",
   "execution_count": 11,
   "id": "affecting-spray",
   "metadata": {},
   "outputs": [
    {
     "data": {
      "text/plain": [
       "52"
      ]
     },
     "execution_count": 11,
     "metadata": {},
     "output_type": "execute_result"
    }
   ],
   "source": [
    "np.max(counts)"
   ]
  },
  {
   "cell_type": "code",
   "execution_count": null,
   "id": "eligible-essence",
   "metadata": {},
   "outputs": [],
   "source": []
  }
 ],
 "metadata": {
  "kernelspec": {
   "display_name": "Python 3",
   "language": "python",
   "name": "python3"
  },
  "language_info": {
   "codemirror_mode": {
    "name": "ipython",
    "version": 3
   },
   "file_extension": ".py",
   "mimetype": "text/x-python",
   "name": "python",
   "nbconvert_exporter": "python",
   "pygments_lexer": "ipython3",
   "version": "3.7.9"
  }
 },
 "nbformat": 4,
 "nbformat_minor": 5
}
