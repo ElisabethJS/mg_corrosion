{
 "cells": [
  {
   "cell_type": "code",
   "execution_count": 1,
   "id": "humanitarian-lambda",
   "metadata": {},
   "outputs": [],
   "source": [
    "import pandas as pd\n",
    "import numpy as np\n",
    "from sklearn.model_selection import train_test_split\n",
    "from sklearn.ensemble import RandomForestClassifier\n",
    "from sklearn.preprocessing import MinMaxScaler\n",
    "from sklearn.feature_selection import RFE\n",
    "import tensorflow as tf\n",
    "from tensorflow import keras\n",
    "import pickle"
   ]
  },
  {
   "cell_type": "code",
   "execution_count": 2,
   "id": "phantom-waste",
   "metadata": {},
   "outputs": [],
   "source": [
    "tf.keras.backend.set_floatx('float64')"
   ]
  },
  {
   "cell_type": "code",
   "execution_count": 3,
   "id": "sufficient-cooperation",
   "metadata": {},
   "outputs": [],
   "source": [
    "random_state = 42\n",
    "n_features_to_select = 5\n",
    "n_runs = 100\n",
    "seeds = np.arange(n_runs)\n",
    "path = '..\\\\Data\\\\'\n",
    "csv_path = path + 'ze41_mol_desc_db_red.csv'\n",
    "df_path = path + 'predictions_cls_seed{}_feat{}_runs{}.csv'.format(random_state, n_features_to_select, n_runs)\n",
    "rfe_path = path + 'rfe_cls_res_seed{}_feat{}_runs{}.pkl'.format(random_state, n_features_to_select, n_runs)"
   ]
  },
  {
   "cell_type": "code",
   "execution_count": 4,
   "id": "global-swimming",
   "metadata": {},
   "outputs": [],
   "source": [
    "data = pd.read_csv(csv_path, header=0, sep=';', decimal=',')\n",
    "col_names = data.columns\n",
    "X = data[col_names[3:]]\n",
    "y = data[col_names[1]]"
   ]
  },
  {
   "cell_type": "code",
   "execution_count": 5,
   "id": "short-wagner",
   "metadata": {},
   "outputs": [],
   "source": [
    "def get_class(x):\n",
    "    if x < -40:\n",
    "        return 0\n",
    "    if x < 0:\n",
    "        return 1\n",
    "    if x < 40:\n",
    "        return 2\n",
    "    return 3"
   ]
  },
  {
   "cell_type": "code",
   "execution_count": 6,
   "id": "revolutionary-grill",
   "metadata": {},
   "outputs": [],
   "source": [
    "y = y.apply(get_class)"
   ]
  },
  {
   "cell_type": "code",
   "execution_count": 7,
   "id": "rocky-tongue",
   "metadata": {},
   "outputs": [],
   "source": [
    "X_train, X_valid, y_train, y_valid = train_test_split(X, y, test_size=0.1, random_state=random_state)\n",
    "[X_train, X_valid, y_train, y_valid] = [pd.DataFrame(x) for x in [X_train, X_valid, y_train, y_valid]]\n",
    "\n",
    "scalex = MinMaxScaler(feature_range=(-1,1))\n",
    "scalex.fit(X_train)\n",
    "[X_train_sc, X_valid_sc] = [pd.DataFrame(scalex.transform(x), columns=X.columns) for x in [X_train, X_valid]]"
   ]
  },
  {
   "cell_type": "code",
   "execution_count": 8,
   "id": "polish-newcastle",
   "metadata": {},
   "outputs": [],
   "source": [
    "selected_cols = []"
   ]
  },
  {
   "cell_type": "code",
   "execution_count": 9,
   "id": "angry-shanghai",
   "metadata": {},
   "outputs": [
    {
     "name": "stdout",
     "output_type": "stream",
     "text": [
      "RFE 10.00% done\n",
      "RFE 20.00% done\n",
      "RFE 30.00% done\n",
      "RFE 40.00% done\n",
      "RFE 50.00% done\n",
      "RFE 60.00% done\n",
      "RFE 70.00% done\n",
      "RFE 80.00% done\n",
      "RFE 90.00% done\n",
      "RFE 100.00% done\n"
     ]
    }
   ],
   "source": [
    "for seed in seeds:\n",
    "    rf = RandomForestClassifier(n_estimators=100, n_jobs=-1, oob_score=True, bootstrap=True, random_state=seed)\n",
    "    selector = RFE(rf, n_features_to_select=n_features_to_select, step=0.1).fit(X_train_sc, np.ravel(y_train))\n",
    "    selected_cols.append([X.columns[i] for i in range(len(selector.support_)) if selector.support_[i]])\n",
    "    if seed%10 == 9:\n",
    "        print('RFE {:.2f}% done'.format((seed+1)*100/len(seeds)))"
   ]
  },
  {
   "cell_type": "code",
   "execution_count": 10,
   "id": "stone-parts",
   "metadata": {},
   "outputs": [
    {
     "data": {
      "text/plain": [
       "array(['P_VSA_MR_5', 'Mor14u', 'Mor04m', 'HOMO / eV', 'LUMO / eV'],\n",
       "      dtype='<U14')"
      ]
     },
     "execution_count": 10,
     "metadata": {},
     "output_type": "execute_result"
    }
   ],
   "source": [
    "vals, counts = np.unique(selected_cols, axis=0, return_counts=True)\n",
    "best_features = vals[np.argmax(counts)]\n",
    "best_features"
   ]
  },
  {
   "cell_type": "code",
   "execution_count": 22,
   "id": "scientific-vehicle",
   "metadata": {},
   "outputs": [],
   "source": [
    "def get_model(n_input_features):\n",
    "    model = keras.models.Sequential([\n",
    "        keras.layers.GaussianNoise(stddev=0.1),\n",
    "        keras.layers.Dense(50, activation='relu', input_shape=(n_input_features,)),\n",
    "        keras.layers.Dense(20, activation='relu'),\n",
    "        keras.layers.Dense(10, activation='relu'),\n",
    "        keras.layers.Dense(4, activation='softmax')\n",
    "        ])\n",
    "    \n",
    "    model.compile(\n",
    "        optimizer=tf.optimizers.Adam(learning_rate=0.001),\n",
    "        loss=keras.losses.sparse_categorical_crossentropy,\n",
    "        metrics=['accuracy'])\n",
    "    return model"
   ]
  },
  {
   "cell_type": "code",
   "execution_count": 23,
   "id": "resistant-control",
   "metadata": {},
   "outputs": [],
   "source": [
    "model = get_model(n_features_to_select)"
   ]
  },
  {
   "cell_type": "code",
   "execution_count": 28,
   "id": "medical-stewart",
   "metadata": {},
   "outputs": [
    {
     "name": "stdout",
     "output_type": "stream",
     "text": [
      "Epoch 1/50\n",
      "2/2 [==============================] - 0s 16ms/step - loss: 0.7309 - accuracy: 0.6852 - val_loss: 1.3532 - val_accuracy: 0.5000\n",
      "Epoch 2/50\n",
      "2/2 [==============================] - 0s 8ms/step - loss: 0.7593 - accuracy: 0.7037 - val_loss: 1.3554 - val_accuracy: 0.5000\n",
      "Epoch 3/50\n",
      "2/2 [==============================] - 0s 8ms/step - loss: 0.7437 - accuracy: 0.6852 - val_loss: 1.3623 - val_accuracy: 0.5000\n",
      "Epoch 4/50\n",
      "2/2 [==============================] - 0s 8ms/step - loss: 0.7814 - accuracy: 0.6111 - val_loss: 1.3654 - val_accuracy: 0.5000\n",
      "Epoch 5/50\n",
      "2/2 [==============================] - 0s 8ms/step - loss: 0.7583 - accuracy: 0.6852 - val_loss: 1.3766 - val_accuracy: 0.5000\n",
      "Epoch 6/50\n",
      "2/2 [==============================] - 0s 8ms/step - loss: 0.7674 - accuracy: 0.6296 - val_loss: 1.3840 - val_accuracy: 0.5000\n",
      "Epoch 7/50\n",
      "2/2 [==============================] - 0s 8ms/step - loss: 0.7636 - accuracy: 0.6667 - val_loss: 1.3957 - val_accuracy: 0.5000\n",
      "Epoch 8/50\n",
      "2/2 [==============================] - 0s 8ms/step - loss: 0.7202 - accuracy: 0.7407 - val_loss: 1.4095 - val_accuracy: 0.5000\n",
      "Epoch 9/50\n",
      "2/2 [==============================] - 0s 8ms/step - loss: 0.7418 - accuracy: 0.6667 - val_loss: 1.4207 - val_accuracy: 0.5000\n",
      "Epoch 10/50\n",
      "2/2 [==============================] - 0s 8ms/step - loss: 0.7443 - accuracy: 0.5926 - val_loss: 1.4349 - val_accuracy: 0.5000\n",
      "Epoch 11/50\n",
      "2/2 [==============================] - 0s 8ms/step - loss: 0.7212 - accuracy: 0.7222 - val_loss: 1.4476 - val_accuracy: 0.5000\n",
      "Epoch 12/50\n",
      "2/2 [==============================] - 0s 8ms/step - loss: 0.7142 - accuracy: 0.7037 - val_loss: 1.4593 - val_accuracy: 0.5000\n",
      "Epoch 13/50\n",
      "2/2 [==============================] - 0s 8ms/step - loss: 0.6883 - accuracy: 0.7037 - val_loss: 1.4724 - val_accuracy: 0.5000\n",
      "Epoch 14/50\n",
      "2/2 [==============================] - 0s 8ms/step - loss: 0.6810 - accuracy: 0.7407 - val_loss: 1.4808 - val_accuracy: 0.5000\n",
      "Epoch 15/50\n",
      "2/2 [==============================] - 0s 8ms/step - loss: 0.7030 - accuracy: 0.7037 - val_loss: 1.4861 - val_accuracy: 0.5000\n",
      "Epoch 16/50\n",
      "2/2 [==============================] - 0s 8ms/step - loss: 0.6876 - accuracy: 0.7222 - val_loss: 1.4891 - val_accuracy: 0.5000\n",
      "Epoch 17/50\n",
      "2/2 [==============================] - 0s 8ms/step - loss: 0.7051 - accuracy: 0.7037 - val_loss: 1.4914 - val_accuracy: 0.5000\n",
      "Epoch 18/50\n",
      "2/2 [==============================] - 0s 8ms/step - loss: 0.6995 - accuracy: 0.7037 - val_loss: 1.4987 - val_accuracy: 0.5000\n",
      "Epoch 19/50\n",
      "2/2 [==============================] - 0s 8ms/step - loss: 0.6730 - accuracy: 0.7593 - val_loss: 1.5001 - val_accuracy: 0.5000\n",
      "Epoch 20/50\n",
      "2/2 [==============================] - 0s 8ms/step - loss: 0.7406 - accuracy: 0.7037 - val_loss: 1.5016 - val_accuracy: 0.5000\n",
      "Epoch 21/50\n",
      "2/2 [==============================] - 0s 8ms/step - loss: 0.6447 - accuracy: 0.7593 - val_loss: 1.5059 - val_accuracy: 0.5000\n",
      "Epoch 22/50\n",
      "2/2 [==============================] - 0s 8ms/step - loss: 0.6646 - accuracy: 0.7778 - val_loss: 1.5116 - val_accuracy: 0.5000\n",
      "Epoch 23/50\n",
      "2/2 [==============================] - 0s 8ms/step - loss: 0.6902 - accuracy: 0.7222 - val_loss: 1.5172 - val_accuracy: 0.5000\n",
      "Epoch 24/50\n",
      "2/2 [==============================] - 0s 8ms/step - loss: 0.6904 - accuracy: 0.7407 - val_loss: 1.5226 - val_accuracy: 0.5000\n",
      "Epoch 25/50\n",
      "2/2 [==============================] - 0s 8ms/step - loss: 0.6828 - accuracy: 0.6852 - val_loss: 1.5313 - val_accuracy: 0.5000\n",
      "Epoch 26/50\n",
      "2/2 [==============================] - 0s 8ms/step - loss: 0.6272 - accuracy: 0.7407 - val_loss: 1.5426 - val_accuracy: 0.5000\n",
      "Epoch 27/50\n",
      "2/2 [==============================] - 0s 8ms/step - loss: 0.6548 - accuracy: 0.7222 - val_loss: 1.5515 - val_accuracy: 0.5000\n",
      "Epoch 28/50\n",
      "2/2 [==============================] - 0s 8ms/step - loss: 0.6467 - accuracy: 0.7037 - val_loss: 1.5617 - val_accuracy: 0.5000\n",
      "Epoch 29/50\n",
      "2/2 [==============================] - 0s 8ms/step - loss: 0.6383 - accuracy: 0.7778 - val_loss: 1.5714 - val_accuracy: 0.5000\n",
      "Epoch 30/50\n",
      "2/2 [==============================] - 0s 8ms/step - loss: 0.6775 - accuracy: 0.7222 - val_loss: 1.5778 - val_accuracy: 0.5000\n",
      "Epoch 31/50\n",
      "2/2 [==============================] - 0s 8ms/step - loss: 0.6624 - accuracy: 0.6852 - val_loss: 1.5862 - val_accuracy: 0.5000\n",
      "Epoch 32/50\n",
      "2/2 [==============================] - 0s 8ms/step - loss: 0.6640 - accuracy: 0.6481 - val_loss: 1.5936 - val_accuracy: 0.5000\n",
      "Epoch 33/50\n",
      "2/2 [==============================] - 0s 8ms/step - loss: 0.6638 - accuracy: 0.7037 - val_loss: 1.5995 - val_accuracy: 0.5000\n",
      "Epoch 34/50\n",
      "2/2 [==============================] - 0s 8ms/step - loss: 0.6561 - accuracy: 0.7407 - val_loss: 1.6039 - val_accuracy: 0.5000\n",
      "Epoch 35/50\n",
      "2/2 [==============================] - 0s 8ms/step - loss: 0.6338 - accuracy: 0.7222 - val_loss: 1.6049 - val_accuracy: 0.5000\n",
      "Epoch 36/50\n",
      "2/2 [==============================] - 0s 8ms/step - loss: 0.6273 - accuracy: 0.7778 - val_loss: 1.6076 - val_accuracy: 0.5000\n",
      "Epoch 37/50\n",
      "2/2 [==============================] - 0s 8ms/step - loss: 0.6887 - accuracy: 0.7037 - val_loss: 1.6122 - val_accuracy: 0.5000\n",
      "Epoch 38/50\n",
      "2/2 [==============================] - 0s 8ms/step - loss: 0.6270 - accuracy: 0.7222 - val_loss: 1.6151 - val_accuracy: 0.5000\n",
      "Epoch 39/50\n",
      "2/2 [==============================] - 0s 8ms/step - loss: 0.6155 - accuracy: 0.7407 - val_loss: 1.6214 - val_accuracy: 0.5000\n",
      "Epoch 40/50\n",
      "2/2 [==============================] - ETA: 0s - loss: 0.6504 - accuracy: 0.81 - 0s 8ms/step - loss: 0.6477 - accuracy: 0.7593 - val_loss: 1.6235 - val_accuracy: 0.5000\n",
      "Epoch 41/50\n",
      "2/2 [==============================] - 0s 8ms/step - loss: 0.6790 - accuracy: 0.6296 - val_loss: 1.6269 - val_accuracy: 0.5000\n",
      "Epoch 42/50\n",
      "2/2 [==============================] - 0s 8ms/step - loss: 0.6617 - accuracy: 0.7037 - val_loss: 1.6281 - val_accuracy: 0.5000\n",
      "Epoch 43/50\n",
      "2/2 [==============================] - 0s 8ms/step - loss: 0.5536 - accuracy: 0.8148 - val_loss: 1.6347 - val_accuracy: 0.5000\n",
      "Epoch 44/50\n",
      "2/2 [==============================] - 0s 8ms/step - loss: 0.6464 - accuracy: 0.7593 - val_loss: 1.6500 - val_accuracy: 0.5000\n",
      "Epoch 45/50\n",
      "2/2 [==============================] - ETA: 0s - loss: 0.5942 - accuracy: 0.75 - 0s 8ms/step - loss: 0.6015 - accuracy: 0.7778 - val_loss: 1.6640 - val_accuracy: 0.5000\n",
      "Epoch 46/50\n",
      "2/2 [==============================] - 0s 8ms/step - loss: 0.5863 - accuracy: 0.8148 - val_loss: 1.6796 - val_accuracy: 0.5000\n",
      "Epoch 47/50\n",
      "2/2 [==============================] - 0s 8ms/step - loss: 0.5899 - accuracy: 0.7407 - val_loss: 1.6926 - val_accuracy: 0.5000\n",
      "Epoch 48/50\n",
      "2/2 [==============================] - 0s 8ms/step - loss: 0.6360 - accuracy: 0.7037 - val_loss: 1.6990 - val_accuracy: 0.5000\n",
      "Epoch 49/50\n",
      "2/2 [==============================] - 0s 8ms/step - loss: 0.5864 - accuracy: 0.8148 - val_loss: 1.7065 - val_accuracy: 0.5000\n",
      "Epoch 50/50\n",
      "2/2 [==============================] - 0s 8ms/step - loss: 0.6159 - accuracy: 0.7037 - val_loss: 1.7111 - val_accuracy: 0.5000\n"
     ]
    }
   ],
   "source": [
    "history = model.fit(X_train_sc[best_features], y_train, validation_data=(X_valid_sc[best_features], y_valid),\n",
    "                    epochs=50)"
   ]
  },
  {
   "cell_type": "code",
   "execution_count": 29,
   "id": "reserved-dover",
   "metadata": {},
   "outputs": [],
   "source": [
    "y_pred = model.predict(tf.convert_to_tensor(X_valid_sc[best_features]))"
   ]
  },
  {
   "cell_type": "code",
   "execution_count": 30,
   "id": "limited-raleigh",
   "metadata": {},
   "outputs": [
    {
     "data": {
      "text/plain": [
       "array([0, 3, 2, 2, 2, 2], dtype=int64)"
      ]
     },
     "execution_count": 30,
     "metadata": {},
     "output_type": "execute_result"
    }
   ],
   "source": [
    "np.argmax(y_pred, axis=1)"
   ]
  },
  {
   "cell_type": "code",
   "execution_count": null,
   "id": "raised-arbor",
   "metadata": {},
   "outputs": [],
   "source": []
  }
 ],
 "metadata": {
  "kernelspec": {
   "display_name": "Python 3",
   "language": "python",
   "name": "python3"
  },
  "language_info": {
   "codemirror_mode": {
    "name": "ipython",
    "version": 3
   },
   "file_extension": ".py",
   "mimetype": "text/x-python",
   "name": "python",
   "nbconvert_exporter": "python",
   "pygments_lexer": "ipython3",
   "version": "3.7.9"
  }
 },
 "nbformat": 4,
 "nbformat_minor": 5
}
