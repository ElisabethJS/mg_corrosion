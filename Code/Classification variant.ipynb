{
 "cells": [
  {
   "cell_type": "code",
   "execution_count": 1,
   "id": "humanitarian-lambda",
   "metadata": {},
   "outputs": [],
   "source": [
    "import pandas as pd\n",
    "import numpy as np\n",
    "from sklearn.model_selection import train_test_split\n",
    "from sklearn.ensemble import RandomForestClassifier\n",
    "from sklearn.preprocessing import MinMaxScaler\n",
    "from sklearn.feature_selection import RFE\n",
    "import tensorflow as tf\n",
    "from tensorflow import keras\n",
    "import pickle"
   ]
  },
  {
   "cell_type": "code",
   "execution_count": 2,
   "id": "phantom-waste",
   "metadata": {},
   "outputs": [],
   "source": [
    "tf.keras.backend.set_floatx('float64')"
   ]
  },
  {
   "cell_type": "code",
   "execution_count": 3,
   "id": "sufficient-cooperation",
   "metadata": {},
   "outputs": [],
   "source": [
    "random_state = 42\n",
    "n_features_to_select = 5\n",
    "n_runs = 100\n",
    "seeds = np.arange(n_runs)\n",
    "path = '..\\\\Data\\\\'\n",
    "csv_path = path + 'ze41_mol_desc_db_red.csv'\n",
    "df_path = path + 'predictions_cls_seed{}_feat{}_runs{}.csv'.format(random_state, n_features_to_select, n_runs)\n",
    "rfe_path = path + 'rfe_cls_res_seed{}_feat{}_runs{}.pkl'.format(random_state, n_features_to_select, n_runs)"
   ]
  },
  {
   "cell_type": "code",
   "execution_count": 4,
   "id": "global-swimming",
   "metadata": {},
   "outputs": [],
   "source": [
    "data = pd.read_csv(csv_path, header=0, sep=';', decimal=',')\n",
    "col_names = data.columns\n",
    "X = data[col_names[3:]]\n",
    "y = data[col_names[1]]"
   ]
  },
  {
   "cell_type": "code",
   "execution_count": 5,
   "id": "short-wagner",
   "metadata": {},
   "outputs": [],
   "source": [
    "def get_class(x):\n",
    "    if x < -40:\n",
    "        return 0\n",
    "    if x < 0:\n",
    "        return 1\n",
    "    if x < 40:\n",
    "        return 2\n",
    "    return 3"
   ]
  },
  {
   "cell_type": "code",
   "execution_count": 6,
   "id": "revolutionary-grill",
   "metadata": {},
   "outputs": [],
   "source": [
    "y = y.apply(get_class)"
   ]
  },
  {
   "cell_type": "code",
   "execution_count": 7,
   "id": "rocky-tongue",
   "metadata": {},
   "outputs": [],
   "source": [
    "X_train, X_valid, y_train, y_valid = train_test_split(X, y, test_size=0.1, random_state=random_state)\n",
    "[X_train, X_valid, y_train, y_valid] = [pd.DataFrame(x) for x in [X_train, X_valid, y_train, y_valid]]\n",
    "\n",
    "scalex = MinMaxScaler(feature_range=(-1,1))\n",
    "scalex.fit(X_train)\n",
    "[X_train_sc, X_valid_sc] = [pd.DataFrame(scalex.transform(x), columns=X.columns) for x in [X_train, X_valid]]"
   ]
  },
  {
   "cell_type": "code",
   "execution_count": 8,
   "id": "polish-newcastle",
   "metadata": {},
   "outputs": [],
   "source": [
    "selected_cols = []"
   ]
  },
  {
   "cell_type": "code",
   "execution_count": 9,
   "id": "angry-shanghai",
   "metadata": {},
   "outputs": [
    {
     "name": "stdout",
     "output_type": "stream",
     "text": [
      "RFE 10.00% done\n",
      "RFE 20.00% done\n",
      "RFE 30.00% done\n",
      "RFE 40.00% done\n",
      "RFE 50.00% done\n",
      "RFE 60.00% done\n",
      "RFE 70.00% done\n",
      "RFE 80.00% done\n",
      "RFE 90.00% done\n",
      "RFE 100.00% done\n"
     ]
    }
   ],
   "source": [
    "for seed in seeds:\n",
    "    rf = RandomForestClassifier(n_estimators=100, n_jobs=-1, oob_score=True, bootstrap=True, random_state=seed)\n",
    "    selector = RFE(rf, n_features_to_select=n_features_to_select, step=0.1).fit(X_train_sc, np.ravel(y_train))\n",
    "    selected_cols.append([X.columns[i] for i in range(len(selector.support_)) if selector.support_[i]])\n",
    "    if seed%10 == 9:\n",
    "        print('RFE {:.2f}% done'.format((seed+1)*100/len(seeds)))"
   ]
  },
  {
   "cell_type": "code",
   "execution_count": 10,
   "id": "stone-parts",
   "metadata": {},
   "outputs": [
    {
     "data": {
      "text/plain": [
       "array(['P_VSA_MR_5', 'Mor14u', 'Mor04m', 'HOMO / eV', 'LUMO / eV'],\n",
       "      dtype='<U14')"
      ]
     },
     "execution_count": 10,
     "metadata": {},
     "output_type": "execute_result"
    }
   ],
   "source": [
    "vals, counts = np.unique(selected_cols, axis=0, return_counts=True)\n",
    "best_features = vals[np.argmax(counts)]\n",
    "best_features"
   ]
  },
  {
   "cell_type": "code",
   "execution_count": 16,
   "id": "scientific-vehicle",
   "metadata": {},
   "outputs": [],
   "source": [
    "def get_model(n_input_features):\n",
    "    model = keras.models.Sequential([\n",
    "        #keras.layers.GaussianNoise(stddev=0.1),\n",
    "        keras.layers.Dense(10, activation='relu', input_shape=(n_input_features,)),\n",
    "        #keras.layers.Dense(20, activation='relu'),\n",
    "        #keras.layers.Dense(10, activation='relu'),\n",
    "        keras.layers.Dense(4, activation='softmax')\n",
    "        ])\n",
    "    \n",
    "    model.compile(\n",
    "        optimizer=tf.optimizers.Adam(learning_rate=0.01),\n",
    "        loss=keras.losses.sparse_categorical_crossentropy,\n",
    "        metrics=['accuracy'])\n",
    "    return model"
   ]
  },
  {
   "cell_type": "code",
   "execution_count": 17,
   "id": "resistant-control",
   "metadata": {},
   "outputs": [],
   "source": [
    "model = get_model(n_features_to_select)"
   ]
  },
  {
   "cell_type": "code",
   "execution_count": 18,
   "id": "medical-stewart",
   "metadata": {},
   "outputs": [
    {
     "name": "stdout",
     "output_type": "stream",
     "text": [
      "Epoch 1/50\n",
      "2/2 [==============================] - 0s 47ms/step - loss: 1.5563 - accuracy: 0.1296 - val_loss: 1.4019 - val_accuracy: 0.5000\n",
      "Epoch 2/50\n",
      "2/2 [==============================] - 0s 8ms/step - loss: 1.4960 - accuracy: 0.1667 - val_loss: 1.4153 - val_accuracy: 0.3333\n",
      "Epoch 3/50\n",
      "2/2 [==============================] - 0s 8ms/step - loss: 1.4459 - accuracy: 0.1667 - val_loss: 1.4219 - val_accuracy: 0.0000e+00\n",
      "Epoch 4/50\n",
      "2/2 [==============================] - 0s 8ms/step - loss: 1.3989 - accuracy: 0.2778 - val_loss: 1.4425 - val_accuracy: 0.0000e+00\n",
      "Epoch 5/50\n",
      "2/2 [==============================] - 0s 8ms/step - loss: 1.3607 - accuracy: 0.2407 - val_loss: 1.4706 - val_accuracy: 0.0000e+00\n",
      "Epoch 6/50\n",
      "2/2 [==============================] - 0s 8ms/step - loss: 1.3207 - accuracy: 0.3704 - val_loss: 1.4969 - val_accuracy: 0.1667\n",
      "Epoch 7/50\n",
      "2/2 [==============================] - 0s 8ms/step - loss: 1.2918 - accuracy: 0.4630 - val_loss: 1.5288 - val_accuracy: 0.1667\n",
      "Epoch 8/50\n",
      "2/2 [==============================] - 0s 8ms/step - loss: 1.2664 - accuracy: 0.5185 - val_loss: 1.5601 - val_accuracy: 0.1667\n",
      "Epoch 9/50\n",
      "2/2 [==============================] - 0s 8ms/step - loss: 1.2425 - accuracy: 0.5370 - val_loss: 1.5896 - val_accuracy: 0.1667\n",
      "Epoch 10/50\n",
      "2/2 [==============================] - 0s 8ms/step - loss: 1.2209 - accuracy: 0.5185 - val_loss: 1.6094 - val_accuracy: 0.1667\n",
      "Epoch 11/50\n",
      "2/2 [==============================] - 0s 8ms/step - loss: 1.2042 - accuracy: 0.5185 - val_loss: 1.6266 - val_accuracy: 0.1667\n",
      "Epoch 12/50\n",
      "2/2 [==============================] - 0s 8ms/step - loss: 1.1865 - accuracy: 0.5370 - val_loss: 1.6377 - val_accuracy: 0.1667\n",
      "Epoch 13/50\n",
      "2/2 [==============================] - 0s 8ms/step - loss: 1.1697 - accuracy: 0.5185 - val_loss: 1.6409 - val_accuracy: 0.1667\n",
      "Epoch 14/50\n",
      "2/2 [==============================] - 0s 8ms/step - loss: 1.1522 - accuracy: 0.5185 - val_loss: 1.6358 - val_accuracy: 0.1667\n",
      "Epoch 15/50\n",
      "2/2 [==============================] - 0s 16ms/step - loss: 1.1335 - accuracy: 0.5185 - val_loss: 1.6311 - val_accuracy: 0.1667\n",
      "Epoch 16/50\n",
      "2/2 [==============================] - 0s 8ms/step - loss: 1.1155 - accuracy: 0.5000 - val_loss: 1.6184 - val_accuracy: 0.1667\n",
      "Epoch 17/50\n",
      "2/2 [==============================] - 0s 8ms/step - loss: 1.1010 - accuracy: 0.5000 - val_loss: 1.6017 - val_accuracy: 0.1667\n",
      "Epoch 18/50\n",
      "2/2 [==============================] - 0s 8ms/step - loss: 1.0822 - accuracy: 0.5185 - val_loss: 1.5826 - val_accuracy: 0.1667\n",
      "Epoch 19/50\n",
      "2/2 [==============================] - 0s 8ms/step - loss: 1.0646 - accuracy: 0.5370 - val_loss: 1.5641 - val_accuracy: 0.1667\n",
      "Epoch 20/50\n",
      "2/2 [==============================] - 0s 8ms/step - loss: 1.0498 - accuracy: 0.5370 - val_loss: 1.5448 - val_accuracy: 0.1667\n",
      "Epoch 21/50\n",
      "2/2 [==============================] - 0s 8ms/step - loss: 1.0350 - accuracy: 0.5370 - val_loss: 1.5280 - val_accuracy: 0.1667\n",
      "Epoch 22/50\n",
      "2/2 [==============================] - 0s 8ms/step - loss: 1.0193 - accuracy: 0.5370 - val_loss: 1.5158 - val_accuracy: 0.1667\n",
      "Epoch 23/50\n",
      "2/2 [==============================] - 0s 8ms/step - loss: 1.0049 - accuracy: 0.5370 - val_loss: 1.5031 - val_accuracy: 0.1667\n",
      "Epoch 24/50\n",
      "2/2 [==============================] - 0s 8ms/step - loss: 0.9918 - accuracy: 0.5370 - val_loss: 1.4942 - val_accuracy: 0.1667\n",
      "Epoch 25/50\n",
      "2/2 [==============================] - 0s 8ms/step - loss: 0.9791 - accuracy: 0.5185 - val_loss: 1.4860 - val_accuracy: 0.1667\n",
      "Epoch 26/50\n",
      "2/2 [==============================] - 0s 8ms/step - loss: 0.9672 - accuracy: 0.5370 - val_loss: 1.4865 - val_accuracy: 0.1667\n",
      "Epoch 27/50\n",
      "2/2 [==============================] - 0s 8ms/step - loss: 0.9536 - accuracy: 0.5556 - val_loss: 1.4942 - val_accuracy: 0.1667\n",
      "Epoch 28/50\n",
      "2/2 [==============================] - 0s 8ms/step - loss: 0.9423 - accuracy: 0.5556 - val_loss: 1.5070 - val_accuracy: 0.1667\n",
      "Epoch 29/50\n",
      "2/2 [==============================] - 0s 8ms/step - loss: 0.9319 - accuracy: 0.5370 - val_loss: 1.5196 - val_accuracy: 0.1667\n",
      "Epoch 30/50\n",
      "2/2 [==============================] - 0s 8ms/step - loss: 0.9202 - accuracy: 0.5370 - val_loss: 1.5217 - val_accuracy: 0.1667\n",
      "Epoch 31/50\n",
      "2/2 [==============================] - 0s 8ms/step - loss: 0.9095 - accuracy: 0.5185 - val_loss: 1.5209 - val_accuracy: 0.1667\n",
      "Epoch 32/50\n",
      "2/2 [==============================] - 0s 16ms/step - loss: 0.9019 - accuracy: 0.5185 - val_loss: 1.5210 - val_accuracy: 0.1667\n",
      "Epoch 33/50\n",
      "2/2 [==============================] - 0s 8ms/step - loss: 0.8919 - accuracy: 0.5185 - val_loss: 1.5160 - val_accuracy: 0.1667\n",
      "Epoch 34/50\n",
      "2/2 [==============================] - 0s 8ms/step - loss: 0.8827 - accuracy: 0.5370 - val_loss: 1.5043 - val_accuracy: 0.3333\n",
      "Epoch 35/50\n",
      "2/2 [==============================] - 0s 8ms/step - loss: 0.8753 - accuracy: 0.5370 - val_loss: 1.4992 - val_accuracy: 0.3333\n",
      "Epoch 36/50\n",
      "2/2 [==============================] - 0s 8ms/step - loss: 0.8661 - accuracy: 0.5185 - val_loss: 1.4995 - val_accuracy: 0.3333\n",
      "Epoch 37/50\n",
      "2/2 [==============================] - 0s 8ms/step - loss: 0.8596 - accuracy: 0.5370 - val_loss: 1.5029 - val_accuracy: 0.3333\n",
      "Epoch 38/50\n",
      "2/2 [==============================] - 0s 8ms/step - loss: 0.8525 - accuracy: 0.5370 - val_loss: 1.5070 - val_accuracy: 0.3333\n",
      "Epoch 39/50\n",
      "2/2 [==============================] - 0s 8ms/step - loss: 0.8446 - accuracy: 0.5370 - val_loss: 1.5174 - val_accuracy: 0.3333\n",
      "Epoch 40/50\n",
      "2/2 [==============================] - 0s 8ms/step - loss: 0.8391 - accuracy: 0.5741 - val_loss: 1.5312 - val_accuracy: 0.3333\n",
      "Epoch 41/50\n",
      "2/2 [==============================] - 0s 8ms/step - loss: 0.8346 - accuracy: 0.5741 - val_loss: 1.5489 - val_accuracy: 0.3333\n",
      "Epoch 42/50\n",
      "2/2 [==============================] - 0s 8ms/step - loss: 0.8262 - accuracy: 0.5741 - val_loss: 1.5620 - val_accuracy: 0.3333\n",
      "Epoch 43/50\n",
      "2/2 [==============================] - 0s 8ms/step - loss: 0.8208 - accuracy: 0.5741 - val_loss: 1.5775 - val_accuracy: 0.3333\n",
      "Epoch 44/50\n",
      "2/2 [==============================] - 0s 8ms/step - loss: 0.8162 - accuracy: 0.6111 - val_loss: 1.5968 - val_accuracy: 0.3333\n",
      "Epoch 45/50\n",
      "2/2 [==============================] - 0s 8ms/step - loss: 0.8100 - accuracy: 0.6111 - val_loss: 1.6011 - val_accuracy: 0.3333\n",
      "Epoch 46/50\n",
      "2/2 [==============================] - 0s 8ms/step - loss: 0.8071 - accuracy: 0.6111 - val_loss: 1.5976 - val_accuracy: 0.3333\n",
      "Epoch 47/50\n",
      "2/2 [==============================] - 0s 8ms/step - loss: 0.8008 - accuracy: 0.5926 - val_loss: 1.6066 - val_accuracy: 0.3333\n",
      "Epoch 48/50\n",
      "2/2 [==============================] - 0s 8ms/step - loss: 0.7970 - accuracy: 0.5926 - val_loss: 1.6090 - val_accuracy: 0.3333\n",
      "Epoch 49/50\n",
      "2/2 [==============================] - 0s 8ms/step - loss: 0.7923 - accuracy: 0.6111 - val_loss: 1.6197 - val_accuracy: 0.3333\n",
      "Epoch 50/50\n",
      "2/2 [==============================] - 0s 8ms/step - loss: 0.7875 - accuracy: 0.6111 - val_loss: 1.6155 - val_accuracy: 0.3333\n"
     ]
    }
   ],
   "source": [
    "history = model.fit(X_train_sc[best_features], y_train, validation_data=(X_valid_sc[best_features], y_valid),\n",
    "                    epochs=50)"
   ]
  },
  {
   "cell_type": "code",
   "execution_count": 14,
   "id": "reserved-dover",
   "metadata": {},
   "outputs": [],
   "source": [
    "y_pred = model.predict(tf.convert_to_tensor(X_valid_sc[best_features]))"
   ]
  },
  {
   "cell_type": "code",
   "execution_count": 15,
   "id": "limited-raleigh",
   "metadata": {},
   "outputs": [
    {
     "data": {
      "text/plain": [
       "array([0, 3, 3, 2, 3, 2], dtype=int64)"
      ]
     },
     "execution_count": 15,
     "metadata": {},
     "output_type": "execute_result"
    }
   ],
   "source": [
    "np.argmax(y_pred, axis=1)"
   ]
  },
  {
   "cell_type": "code",
   "execution_count": null,
   "id": "raised-arbor",
   "metadata": {},
   "outputs": [],
   "source": []
  }
 ],
 "metadata": {
  "kernelspec": {
   "display_name": "Python 3",
   "language": "python",
   "name": "python3"
  },
  "language_info": {
   "codemirror_mode": {
    "name": "ipython",
    "version": 3
   },
   "file_extension": ".py",
   "mimetype": "text/x-python",
   "name": "python",
   "nbconvert_exporter": "python",
   "pygments_lexer": "ipython3",
   "version": "3.7.9"
  }
 },
 "nbformat": 4,
 "nbformat_minor": 5
}
