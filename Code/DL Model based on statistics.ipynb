{
 "cells": [
  {
   "cell_type": "code",
   "execution_count": 1,
   "id": "broadband-poster",
   "metadata": {},
   "outputs": [],
   "source": [
    "import numpy as np\n",
    "import pandas as pd\n",
    "import tensorflow as tf\n",
    "from tensorflow import keras\n",
    "from sklearn.preprocessing import MinMaxScaler\n",
    "from sklearn.model_selection import train_test_split"
   ]
  },
  {
   "cell_type": "code",
   "execution_count": 2,
   "id": "capable-cleaner",
   "metadata": {},
   "outputs": [],
   "source": [
    "seed = 42\n",
    "tf.random.set_seed(seed)"
   ]
  },
  {
   "cell_type": "code",
   "execution_count": 3,
   "id": "parallel-scotland",
   "metadata": {},
   "outputs": [],
   "source": [
    "data = pd.read_csv('..\\\\Data\\\\ze41_mol_desc_db_red.csv', header=0, sep=';', decimal=',')"
   ]
  },
  {
   "cell_type": "code",
   "execution_count": 4,
   "id": "experienced-positive",
   "metadata": {},
   "outputs": [],
   "source": [
    "col_names = data.columns\n",
    "x_cols = ['P_VSA_MR_5', 'Mor04m', 'E1p', 'CATS3D_02_AP', 'LUMO / eV']\n",
    "X = data[x_cols]\n",
    "y = data[col_names[2]]"
   ]
  },
  {
   "cell_type": "code",
   "execution_count": 5,
   "id": "legal-winner",
   "metadata": {},
   "outputs": [],
   "source": [
    "X_scaled = MinMaxScaler(feature_range=(0,1)).fit_transform(X)"
   ]
  },
  {
   "cell_type": "code",
   "execution_count": 6,
   "id": "senior-father",
   "metadata": {},
   "outputs": [],
   "source": [
    "X_train, X_valid, y_train, y_valid = train_test_split(X_scaled, y, test_size=0.1, random_state=seed)"
   ]
  },
  {
   "cell_type": "code",
   "execution_count": 7,
   "id": "searching-delight",
   "metadata": {},
   "outputs": [],
   "source": [
    "model = keras.models.Sequential([\n",
    "    keras.layers.Dense(50, activation='relu', input_shape=(len(x_cols),)),\n",
    "    keras.layers.Dense(20, activation='relu'),\n",
    "    keras.layers.Dense(10, activation='relu'),\n",
    "    keras.layers.Dense(1)\n",
    "])"
   ]
  },
  {
   "cell_type": "code",
   "execution_count": 8,
   "id": "rental-liabilities",
   "metadata": {},
   "outputs": [
    {
     "name": "stdout",
     "output_type": "stream",
     "text": [
      "Model: \"sequential\"\n",
      "_________________________________________________________________\n",
      "Layer (type)                 Output Shape              Param #   \n",
      "=================================================================\n",
      "dense (Dense)                (None, 50)                300       \n",
      "_________________________________________________________________\n",
      "dense_1 (Dense)              (None, 20)                1020      \n",
      "_________________________________________________________________\n",
      "dense_2 (Dense)              (None, 10)                210       \n",
      "_________________________________________________________________\n",
      "dense_3 (Dense)              (None, 1)                 11        \n",
      "=================================================================\n",
      "Total params: 1,541\n",
      "Trainable params: 1,541\n",
      "Non-trainable params: 0\n",
      "_________________________________________________________________\n"
     ]
    }
   ],
   "source": [
    "model.summary()"
   ]
  },
  {
   "cell_type": "code",
   "execution_count": 9,
   "id": "theoretical-binary",
   "metadata": {},
   "outputs": [],
   "source": [
    "model.compile(\n",
    "    optimizer=tf.optimizers.Adam(learning_rate=0.01),\n",
    "    loss='mean_squared_error')"
   ]
  },
  {
   "cell_type": "code",
   "execution_count": 10,
   "id": "surrounded-fiction",
   "metadata": {},
   "outputs": [
    {
     "name": "stdout",
     "output_type": "stream",
     "text": [
      "Epoch 1/25\n",
      "2/2 [==============================] - 0s 55ms/step - loss: 0.4141 - val_loss: 0.2712\n",
      "Epoch 2/25\n",
      "2/2 [==============================] - 0s 5ms/step - loss: 0.1933 - val_loss: 0.0923\n",
      "Epoch 3/25\n",
      "2/2 [==============================] - 0s 5ms/step - loss: 0.1192 - val_loss: 0.0491\n",
      "Epoch 4/25\n",
      "2/2 [==============================] - 0s 0s/step - loss: 0.1432 - val_loss: 0.0330\n",
      "Epoch 5/25\n",
      "2/2 [==============================] - 0s 0s/step - loss: 0.1047 - val_loss: 0.0315\n",
      "Epoch 6/25\n",
      "2/2 [==============================] - 0s 5ms/step - loss: 0.0759 - val_loss: 0.0552\n",
      "Epoch 7/25\n",
      "2/2 [==============================] - 0s 5ms/step - loss: 0.0762 - val_loss: 0.0624\n",
      "Epoch 8/25\n",
      "2/2 [==============================] - 0s 5ms/step - loss: 0.0779 - val_loss: 0.0498\n",
      "Epoch 9/25\n",
      "2/2 [==============================] - 0s 5ms/step - loss: 0.0672 - val_loss: 0.0270\n",
      "Epoch 10/25\n",
      "2/2 [==============================] - 0s 5ms/step - loss: 0.0542 - val_loss: 0.0076\n",
      "Epoch 11/25\n",
      "2/2 [==============================] - 0s 5ms/step - loss: 0.0490 - val_loss: 0.0035\n",
      "Epoch 12/25\n",
      "2/2 [==============================] - 0s 0s/step - loss: 0.0508 - val_loss: 0.0044\n",
      "Epoch 13/25\n",
      "2/2 [==============================] - 0s 0s/step - loss: 0.0486 - val_loss: 0.0036\n",
      "Epoch 14/25\n",
      "2/2 [==============================] - 0s 5ms/step - loss: 0.0434 - val_loss: 0.0048\n",
      "Epoch 15/25\n",
      "2/2 [==============================] - 0s 5ms/step - loss: 0.0398 - val_loss: 0.0057\n",
      "Epoch 16/25\n",
      "2/2 [==============================] - 0s 5ms/step - loss: 0.0393 - val_loss: 0.0051\n",
      "Epoch 17/25\n",
      "2/2 [==============================] - 0s 5ms/step - loss: 0.0379 - val_loss: 0.0051\n",
      "Epoch 18/25\n",
      "2/2 [==============================] - 0s 5ms/step - loss: 0.0362 - val_loss: 0.0071\n",
      "Epoch 19/25\n",
      "2/2 [==============================] - 0s 5ms/step - loss: 0.0360 - val_loss: 0.0092\n",
      "Epoch 20/25\n",
      "2/2 [==============================] - 0s 0s/step - loss: 0.0356 - val_loss: 0.0082\n",
      "Epoch 21/25\n",
      "2/2 [==============================] - 0s 9ms/step - loss: 0.0342 - val_loss: 0.0065\n",
      "Epoch 22/25\n",
      "2/2 [==============================] - 0s 0s/step - loss: 0.0338 - val_loss: 0.0060\n",
      "Epoch 23/25\n",
      "2/2 [==============================] - 0s 7ms/step - loss: 0.0340 - val_loss: 0.0064\n",
      "Epoch 24/25\n",
      "2/2 [==============================] - 0s 3ms/step - loss: 0.0331 - val_loss: 0.0084\n",
      "Epoch 25/25\n",
      "2/2 [==============================] - 0s 5ms/step - loss: 0.0323 - val_loss: 0.0102\n"
     ]
    }
   ],
   "source": [
    "history = model.fit(X_train, y_train, validation_data=(X_valid, y_valid), epochs=25)"
   ]
  },
  {
   "cell_type": "code",
   "execution_count": 11,
   "id": "spoken-equipment",
   "metadata": {},
   "outputs": [],
   "source": [
    "y_pred = model.predict(X_valid)"
   ]
  },
  {
   "cell_type": "code",
   "execution_count": 12,
   "id": "imported-duration",
   "metadata": {},
   "outputs": [
    {
     "name": "stdout",
     "output_type": "stream",
     "text": [
      "true: 0.328, predicted: 0.2745606005191803\n",
      "true: 0.896, predicted: 0.8408241271972656\n",
      "true: 0.817, predicted: 0.9118985533714294\n",
      "true: 0.765, predicted: 0.7854444980621338\n",
      "true: 0.893, predicted: 1.085049033164978\n",
      "true: 0.733, predicted: 0.8283784985542297\n"
     ]
    }
   ],
   "source": [
    "for i in range(y_pred.shape[0]):\n",
    "    print('true: {}, predicted: {}'.format(y_valid.iloc[i], y_pred[i, 0]))"
   ]
  },
  {
   "cell_type": "code",
   "execution_count": null,
   "id": "classical-perfume",
   "metadata": {},
   "outputs": [],
   "source": []
  }
 ],
 "metadata": {
  "kernelspec": {
   "display_name": "Python 3",
   "language": "python",
   "name": "python3"
  },
  "language_info": {
   "codemirror_mode": {
    "name": "ipython",
    "version": 3
   },
   "file_extension": ".py",
   "mimetype": "text/x-python",
   "name": "python",
   "nbconvert_exporter": "python",
   "pygments_lexer": "ipython3",
   "version": "3.7.9"
  }
 },
 "nbformat": 4,
 "nbformat_minor": 5
}
