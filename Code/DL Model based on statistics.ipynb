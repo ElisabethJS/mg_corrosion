{
 "cells": [
  {
   "cell_type": "code",
   "execution_count": 1,
   "id": "broadband-poster",
   "metadata": {},
   "outputs": [],
   "source": [
    "import numpy as np\n",
    "import pandas as pd\n",
    "import tensorflow as tf\n",
    "from tensorflow import keras\n",
    "from sklearn.preprocessing import MinMaxScaler\n",
    "from sklearn.model_selection import train_test_split\n",
    "from sklearn.linear_model import LinearRegression\n",
    "from matplotlib import pyplot as plt"
   ]
  },
  {
   "cell_type": "code",
   "execution_count": 2,
   "id": "capable-cleaner",
   "metadata": {},
   "outputs": [],
   "source": [
    "random_state=42\n",
    "tf.random.set_seed(random_state)"
   ]
  },
  {
   "cell_type": "code",
   "execution_count": 3,
   "id": "parallel-scotland",
   "metadata": {},
   "outputs": [],
   "source": [
    "data = pd.read_csv('..\\\\Data\\\\ze41_mol_desc_db_red.csv', header=0, sep=';', decimal=',')"
   ]
  },
  {
   "cell_type": "code",
   "execution_count": 4,
   "id": "experienced-positive",
   "metadata": {},
   "outputs": [],
   "source": [
    "col_names = data.columns\n",
    "#x_cols = ['P_VSA_MR_5', 'Mor04m', 'LUMO / eV']\n",
    "x_cols=['B04[N-N]', 'nTriazoles', 'RDF090p']\n",
    "#x_cols = ['P_VSA_MR_5', 'Mor04m', 'E1p', 'Mor22s', 'LUMO / eV']\n",
    "#x_cols = ['CATS2D_03_AP', 'CATS3D_03_AP', 'CATS3D_02_AP', 'LUMO / eV', 'P_VSA_MR_5']\n",
    "#x_cols=['VE2_G/D', 'Eig14_EA(dm)', 'Mor31m', 'TDB04u', 'HATS1e']\n",
    "#x_cols=['VE2_G/D', 'Eig14_EA(dm)', 'Mor31m']\n",
    "#x_cols = ['CATS2D_04_DP', 'CATS3D_02_AP', 'Eta_betaS', 'P_VSA_LogP_4', 'VE1_B(s)']\n",
    "#x_cols = ['B04[C-C]', 'CATS3D_03_DP', 'Eig11_AEA(ed)', 'J_RG', 'SpMAD_EA(ed)']\n",
    "X = data[x_cols].astype('float32')\n",
    "y = data[col_names[1]].astype('float32')"
   ]
  },
  {
   "cell_type": "code",
   "execution_count": 5,
   "id": "legal-winner",
   "metadata": {},
   "outputs": [],
   "source": [
    "X_train, X_valid, y_train, y_valid = train_test_split(X, y, test_size=0.1, random_state=random_state)\n",
    "[X_train, X_valid, y_train, y_valid] = [pd.DataFrame(x) for x in [X_train, X_valid, y_train, y_valid]]"
   ]
  },
  {
   "cell_type": "code",
   "execution_count": 6,
   "id": "senior-father",
   "metadata": {},
   "outputs": [],
   "source": [
    "scalex = MinMaxScaler(feature_range=(-1,1))\n",
    "scalex.fit(X_train)\n",
    "[X_train_sc, X_valid_sc] = [pd.DataFrame(scalex.transform(x), columns=X.columns) for x in [X_train, X_valid]]"
   ]
  },
  {
   "cell_type": "code",
   "execution_count": 7,
   "id": "toxic-marriage",
   "metadata": {},
   "outputs": [],
   "source": [
    "scaley = MinMaxScaler(feature_range=(0, 1))\n",
    "scaley.fit(y_train)\n",
    "[y_train_sc, y_valid_sc] = [pd.DataFrame(scaley.transform(y), columns=y.columns) for y in [y_train, y_valid]]"
   ]
  },
  {
   "cell_type": "code",
   "execution_count": 8,
   "id": "searching-delight",
   "metadata": {},
   "outputs": [],
   "source": [
    "model = keras.models.Sequential([\n",
    "    keras.layers.Dense(50, activation='relu', input_shape=(len(x_cols),)),\n",
    "    keras.layers.Dense(20, activation='relu'),\n",
    "    keras.layers.Dense(10, activation='relu'),\n",
    "    keras.layers.Dense(1)\n",
    "])"
   ]
  },
  {
   "cell_type": "code",
   "execution_count": 9,
   "id": "rental-liabilities",
   "metadata": {},
   "outputs": [
    {
     "name": "stdout",
     "output_type": "stream",
     "text": [
      "Model: \"sequential\"\n",
      "_________________________________________________________________\n",
      "Layer (type)                 Output Shape              Param #   \n",
      "=================================================================\n",
      "dense (Dense)                (None, 50)                200       \n",
      "_________________________________________________________________\n",
      "dense_1 (Dense)              (None, 20)                1020      \n",
      "_________________________________________________________________\n",
      "dense_2 (Dense)              (None, 10)                210       \n",
      "_________________________________________________________________\n",
      "dense_3 (Dense)              (None, 1)                 11        \n",
      "=================================================================\n",
      "Total params: 1,441\n",
      "Trainable params: 1,441\n",
      "Non-trainable params: 0\n",
      "_________________________________________________________________\n"
     ]
    }
   ],
   "source": [
    "model.summary()"
   ]
  },
  {
   "cell_type": "code",
   "execution_count": 10,
   "id": "theoretical-binary",
   "metadata": {},
   "outputs": [],
   "source": [
    "model.compile(\n",
    "    optimizer=tf.optimizers.Adam(learning_rate=0.01),\n",
    "    loss='mean_squared_error')"
   ]
  },
  {
   "cell_type": "code",
   "execution_count": 11,
   "id": "surrounded-fiction",
   "metadata": {},
   "outputs": [
    {
     "name": "stdout",
     "output_type": "stream",
     "text": [
      "Epoch 1/25\n",
      "2/2 [==============================] - 0s 47ms/step - loss: 0.4440 - val_loss: 0.2023\n",
      "Epoch 2/25\n",
      "2/2 [==============================] - 0s 8ms/step - loss: 0.1459 - val_loss: 0.0414\n",
      "Epoch 3/25\n",
      "2/2 [==============================] - 0s 8ms/step - loss: 0.0832 - val_loss: 0.0589\n",
      "Epoch 4/25\n",
      "2/2 [==============================] - 0s 8ms/step - loss: 0.1121 - val_loss: 0.0526\n",
      "Epoch 5/25\n",
      "2/2 [==============================] - 0s 8ms/step - loss: 0.0634 - val_loss: 0.0897\n",
      "Epoch 6/25\n",
      "2/2 [==============================] - 0s 8ms/step - loss: 0.0673 - val_loss: 0.1283\n",
      "Epoch 7/25\n",
      "2/2 [==============================] - 0s 8ms/step - loss: 0.0803 - val_loss: 0.1226\n",
      "Epoch 8/25\n",
      "2/2 [==============================] - 0s 8ms/step - loss: 0.0707 - val_loss: 0.0975\n",
      "Epoch 9/25\n",
      "2/2 [==============================] - 0s 8ms/step - loss: 0.0597 - val_loss: 0.0786\n",
      "Epoch 10/25\n",
      "2/2 [==============================] - 0s 8ms/step - loss: 0.0619 - val_loss: 0.0741\n",
      "Epoch 11/25\n",
      "2/2 [==============================] - 0s 8ms/step - loss: 0.0683 - val_loss: 0.0776\n",
      "Epoch 12/25\n",
      "2/2 [==============================] - 0s 8ms/step - loss: 0.0651 - val_loss: 0.0878\n",
      "Epoch 13/25\n",
      "2/2 [==============================] - 0s 8ms/step - loss: 0.0613 - val_loss: 0.1012\n",
      "Epoch 14/25\n",
      "2/2 [==============================] - 0s 8ms/step - loss: 0.0631 - val_loss: 0.1068\n",
      "Epoch 15/25\n",
      "2/2 [==============================] - 0s 8ms/step - loss: 0.0623 - val_loss: 0.0970\n",
      "Epoch 16/25\n",
      "2/2 [==============================] - 0s 8ms/step - loss: 0.0602 - val_loss: 0.0845\n",
      "Epoch 17/25\n",
      "2/2 [==============================] - 0s 8ms/step - loss: 0.0597 - val_loss: 0.0742\n",
      "Epoch 18/25\n",
      "2/2 [==============================] - 0s 8ms/step - loss: 0.0602 - val_loss: 0.0706\n",
      "Epoch 19/25\n",
      "2/2 [==============================] - 0s 16ms/step - loss: 0.0610 - val_loss: 0.0717\n",
      "Epoch 20/25\n",
      "2/2 [==============================] - 0s 8ms/step - loss: 0.0598 - val_loss: 0.0784\n",
      "Epoch 21/25\n",
      "2/2 [==============================] - 0s 8ms/step - loss: 0.0591 - val_loss: 0.0876\n",
      "Epoch 22/25\n",
      "2/2 [==============================] - 0s 8ms/step - loss: 0.0602 - val_loss: 0.0935\n",
      "Epoch 23/25\n",
      "2/2 [==============================] - 0s 8ms/step - loss: 0.0606 - val_loss: 0.0924\n",
      "Epoch 24/25\n",
      "2/2 [==============================] - 0s 16ms/step - loss: 0.0604 - val_loss: 0.0875\n",
      "Epoch 25/25\n",
      "2/2 [==============================] - 0s 8ms/step - loss: 0.0594 - val_loss: 0.0847\n"
     ]
    }
   ],
   "source": [
    "history = model.fit(X_train_sc, y_train_sc, validation_data=(X_valid_sc, y_valid_sc), epochs=25)"
   ]
  },
  {
   "cell_type": "code",
   "execution_count": 12,
   "id": "golden-hampshire",
   "metadata": {},
   "outputs": [],
   "source": [
    "m = keras.metrics.RootMeanSquaredError()"
   ]
  },
  {
   "cell_type": "code",
   "execution_count": 13,
   "id": "spoken-equipment",
   "metadata": {},
   "outputs": [],
   "source": [
    "y_pred = model.predict(X_valid_sc)"
   ]
  },
  {
   "cell_type": "code",
   "execution_count": 14,
   "id": "damaged-inflation",
   "metadata": {},
   "outputs": [
    {
     "data": {
      "text/plain": [
       "29.102271795272827"
      ]
     },
     "execution_count": 14,
     "metadata": {},
     "output_type": "execute_result"
    }
   ],
   "source": [
    "m.reset_states()\n",
    "m.update_state(y_valid_sc, y_pred)\n",
    "rmse_valid = m.result().numpy() * 100\n",
    "rmse_valid"
   ]
  },
  {
   "cell_type": "code",
   "execution_count": 15,
   "id": "satisfactory-montreal",
   "metadata": {},
   "outputs": [],
   "source": [
    "y_pred = scaley.inverse_transform(y_pred)"
   ]
  },
  {
   "cell_type": "code",
   "execution_count": 16,
   "id": "orange-guard",
   "metadata": {},
   "outputs": [],
   "source": [
    "y_tr_pred = model.predict(X_train_sc)"
   ]
  },
  {
   "cell_type": "code",
   "execution_count": 17,
   "id": "choice-catalog",
   "metadata": {},
   "outputs": [
    {
     "data": {
      "text/plain": [
       "24.384932219982147"
      ]
     },
     "execution_count": 17,
     "metadata": {},
     "output_type": "execute_result"
    }
   ],
   "source": [
    "m.reset_states()\n",
    "m.update_state(y_train_sc, y_tr_pred)\n",
    "rmse_tr = m.result().numpy() * 100\n",
    "rmse_tr"
   ]
  },
  {
   "cell_type": "code",
   "execution_count": 18,
   "id": "editorial-distribution",
   "metadata": {},
   "outputs": [],
   "source": [
    "y_tr_pred = scaley.inverse_transform(y_tr_pred)"
   ]
  },
  {
   "cell_type": "code",
   "execution_count": 19,
   "id": "egyptian-coalition",
   "metadata": {},
   "outputs": [],
   "source": [
    "m_v, b_v = np.polyfit(y_valid.to_numpy()[:, 0], y_pred[:, 0], 1)\n",
    "m_t, b_t = np.polyfit(y_train.to_numpy()[:, 0], y_tr_pred[:, 0], 1)"
   ]
  },
  {
   "cell_type": "code",
   "execution_count": 20,
   "id": "found-hartford",
   "metadata": {},
   "outputs": [],
   "source": [
    "def f(x, m, b):\n",
    "    y = [x[i]*m + b for i in range(len(x))]\n",
    "    return y"
   ]
  },
  {
   "cell_type": "code",
   "execution_count": 21,
   "id": "designing-relevance",
   "metadata": {},
   "outputs": [
    {
     "data": {
      "image/png": "[encoded data removed]",
      "text/plain": [
       "<Figure size 432x288 with 1 Axes>"
      ]
     },
     "metadata": {
      "needs_background": "light"
     },
     "output_type": "display_data"
    }
   ],
   "source": [
    "rng = [y.min(), y.max()]\n",
    "fig, ax = plt.subplots()\n",
    "ax.scatter(y_train, y_tr_pred, c='b', alpha=0.4, label='Training Data')\n",
    "#ax.plot(rng,rng,'k:', alpha=0.5)\n",
    "ax.plot(rng,f(rng, m_t, b_t), 'b:', alpha=0.5, label='Training Regr.')\n",
    "ax.scatter(y_valid, y_pred, c='r', marker='^', label='Validation Data')\n",
    "ax.plot(rng,f(rng, m_v, b_v), 'r-.', alpha=0.5, label='Validation Regr.')\n",
    "#ax.text(-270, 90, 'RMSE (training):     {:.2f}%'.format(rmse_tr))\n",
    "ax.text(-270, 65, 'RMSE: {:.2f}%'.format(rmse_valid))\n",
    "plt.title('Predicted vs. true inhibition efficiency ZE41 / %')\n",
    "plt.ylabel('Predicted inhibition efficiency')\n",
    "plt.xlabel('True inhibition efficiency')\n",
    "ax.legend(loc='lower right')\n",
    "plt.show()"
   ]
  },
  {
   "cell_type": "code",
   "execution_count": 22,
   "id": "constant-beaver",
   "metadata": {},
   "outputs": [
    {
     "data": {
      "text/html": [
       "<div>\n",
       "<style scoped>\n",
       "    .dataframe tbody tr th:only-of-type {\n",
       "        vertical-align: middle;\n",
       "    }\n",
       "\n",
       "    .dataframe tbody tr th {\n",
       "        vertical-align: top;\n",
       "    }\n",
       "\n",
       "    .dataframe thead th {\n",
       "        text-align: right;\n",
       "    }\n",
       "</style>\n",
       "<table border=\"1\" class=\"dataframe\">\n",
       "  <thead>\n",
       "    <tr style=\"text-align: right;\">\n",
       "      <th></th>\n",
       "      <th>inhibition efficiency ZE41 / %</th>\n",
       "    </tr>\n",
       "  </thead>\n",
       "  <tbody>\n",
       "    <tr>\n",
       "      <th>0</th>\n",
       "      <td>-157.0</td>\n",
       "    </tr>\n",
       "    <tr>\n",
       "      <th>5</th>\n",
       "      <td>39.0</td>\n",
       "    </tr>\n",
       "    <tr>\n",
       "      <th>36</th>\n",
       "      <td>12.0</td>\n",
       "    </tr>\n",
       "    <tr>\n",
       "      <th>45</th>\n",
       "      <td>-6.0</td>\n",
       "    </tr>\n",
       "    <tr>\n",
       "      <th>13</th>\n",
       "      <td>38.0</td>\n",
       "    </tr>\n",
       "    <tr>\n",
       "      <th>54</th>\n",
       "      <td>-17.0</td>\n",
       "    </tr>\n",
       "  </tbody>\n",
       "</table>\n",
       "</div>"
      ],
      "text/plain": [
       "    inhibition efficiency ZE41 / %\n",
       "0                           -157.0\n",
       "5                             39.0\n",
       "36                            12.0\n",
       "45                            -6.0\n",
       "13                            38.0\n",
       "54                           -17.0"
      ]
     },
     "execution_count": 22,
     "metadata": {},
     "output_type": "execute_result"
    }
   ],
   "source": [
    "y_valid"
   ]
  },
  {
   "cell_type": "code",
   "execution_count": 23,
   "id": "caring-workstation",
   "metadata": {},
   "outputs": [],
   "source": [
    "X_s = X_valid_sc.drop([2])"
   ]
  },
  {
   "cell_type": "code",
   "execution_count": 24,
   "id": "invisible-abuse",
   "metadata": {},
   "outputs": [],
   "source": [
    "y_s = y_valid_sc.drop([2])"
   ]
  },
  {
   "cell_type": "code",
   "execution_count": 25,
   "id": "valid-mainstream",
   "metadata": {},
   "outputs": [],
   "source": [
    "y_pred_s = model.predict(X_s)"
   ]
  },
  {
   "cell_type": "code",
   "execution_count": 26,
   "id": "early-shirt",
   "metadata": {},
   "outputs": [],
   "source": [
    "m_s, b_s = np.polyfit(y_s.to_numpy()[:, 0], y_pred_s[:, 0], 1)"
   ]
  },
  {
   "cell_type": "code",
   "execution_count": 27,
   "id": "friendly-buffer",
   "metadata": {},
   "outputs": [
    {
     "data": {
      "text/plain": [
       "31.44449293613434"
      ]
     },
     "execution_count": 27,
     "metadata": {},
     "output_type": "execute_result"
    }
   ],
   "source": [
    "m.reset_states()\n",
    "m.update_state(y_s, y_pred_s)\n",
    "rmse_valid = m.result().numpy() * 100\n",
    "rmse_valid"
   ]
  },
  {
   "cell_type": "code",
   "execution_count": 28,
   "id": "requested-listening",
   "metadata": {},
   "outputs": [],
   "source": [
    "y_pred_s = scaley.inverse_transform(y_pred_s)"
   ]
  },
  {
   "cell_type": "code",
   "execution_count": 29,
   "id": "eleven-motorcycle",
   "metadata": {},
   "outputs": [
    {
     "data": {
      "image/png": "[encoded data removed]",
      "text/plain": [
       "<Figure size 432x288 with 1 Axes>"
      ]
     },
     "metadata": {
      "needs_background": "light"
     },
     "output_type": "display_data"
    }
   ],
   "source": [
    "fig, ax = plt.subplots()\n",
    "ax.scatter(y_train, y_tr_pred, c='b', alpha=0.4, label='Training Data')\n",
    "#ax.plot(rng,rng,'k:', alpha=0.5)\n",
    "ax.plot(rng,f(rng, m_t, b_t), 'b:', alpha=0.5, label='Training Regr.')\n",
    "ax.scatter(y_valid.drop([13]), y_pred_s, c='r', marker='^', label='Validation Data')\n",
    "ax.plot(rng,f(rng, m_s, b_s), 'r-.', alpha=0.5, label='Validation Regr.')\n",
    "#ax.text(-270, 90, 'RMSE (training):     {:.2f}%'.format(rmse_tr))\n",
    "ax.text(-270, 65, 'RMSE: {:.2f}%'.format(rmse_valid))\n",
    "plt.title('Predicted vs. true inhibition efficiency ZE41 / %')\n",
    "plt.ylabel('Predicted inhibition efficiency')\n",
    "plt.xlabel('True inhibition efficiency')\n",
    "#ax.legend(loc='lower right')\n",
    "plt.show()"
   ]
  },
  {
   "cell_type": "code",
   "execution_count": 30,
   "id": "athletic-gateway",
   "metadata": {},
   "outputs": [
    {
     "data": {
      "text/html": [
       "<div>\n",
       "<style scoped>\n",
       "    .dataframe tbody tr th:only-of-type {\n",
       "        vertical-align: middle;\n",
       "    }\n",
       "\n",
       "    .dataframe tbody tr th {\n",
       "        vertical-align: top;\n",
       "    }\n",
       "\n",
       "    .dataframe thead th {\n",
       "        text-align: right;\n",
       "    }\n",
       "</style>\n",
       "<table border=\"1\" class=\"dataframe\">\n",
       "  <thead>\n",
       "    <tr style=\"text-align: right;\">\n",
       "      <th></th>\n",
       "      <th>inhibition efficiency ZE41 / %</th>\n",
       "    </tr>\n",
       "  </thead>\n",
       "  <tbody>\n",
       "    <tr>\n",
       "      <th>0</th>\n",
       "      <td>-157.0</td>\n",
       "    </tr>\n",
       "    <tr>\n",
       "      <th>5</th>\n",
       "      <td>39.0</td>\n",
       "    </tr>\n",
       "    <tr>\n",
       "      <th>36</th>\n",
       "      <td>12.0</td>\n",
       "    </tr>\n",
       "    <tr>\n",
       "      <th>45</th>\n",
       "      <td>-6.0</td>\n",
       "    </tr>\n",
       "    <tr>\n",
       "      <th>13</th>\n",
       "      <td>38.0</td>\n",
       "    </tr>\n",
       "    <tr>\n",
       "      <th>54</th>\n",
       "      <td>-17.0</td>\n",
       "    </tr>\n",
       "  </tbody>\n",
       "</table>\n",
       "</div>"
      ],
      "text/plain": [
       "    inhibition efficiency ZE41 / %\n",
       "0                           -157.0\n",
       "5                             39.0\n",
       "36                            12.0\n",
       "45                            -6.0\n",
       "13                            38.0\n",
       "54                           -17.0"
      ]
     },
     "execution_count": 30,
     "metadata": {},
     "output_type": "execute_result"
    }
   ],
   "source": [
    "y_valid"
   ]
  },
  {
   "cell_type": "code",
   "execution_count": 31,
   "id": "needed-johns",
   "metadata": {},
   "outputs": [
    {
     "data": {
      "text/plain": [
       "array([[-101.90335 ],\n",
       "       [ -28.509645],\n",
       "       [ -28.509645],\n",
       "       [ -28.509645],\n",
       "       [-186.96887 ],\n",
       "       [ -28.509645]], dtype=float32)"
      ]
     },
     "execution_count": 31,
     "metadata": {},
     "output_type": "execute_result"
    }
   ],
   "source": [
    "y_pred"
   ]
  },
  {
   "cell_type": "code",
   "execution_count": null,
   "id": "bearing-problem",
   "metadata": {},
   "outputs": [],
   "source": []
  }
 ],
 "metadata": {
  "kernelspec": {
   "display_name": "Python 3",
   "language": "python",
   "name": "python3"
  },
  "language_info": {
   "codemirror_mode": {
    "name": "ipython",
    "version": 3
   },
   "file_extension": ".py",
   "mimetype": "text/x-python",
   "name": "python",
   "nbconvert_exporter": "python",
   "pygments_lexer": "ipython3",
   "version": "3.7.9"
  }
 },
 "nbformat": 4,
 "nbformat_minor": 5
}
