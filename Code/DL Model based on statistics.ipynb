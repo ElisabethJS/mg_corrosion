{
 "cells": [
  {
   "cell_type": "code",
   "execution_count": 1,
   "id": "broadband-poster",
   "metadata": {},
   "outputs": [],
   "source": [
    "import numpy as np\n",
    "import pandas as pd\n",
    "import tensorflow as tf\n",
    "from tensorflow import keras\n",
    "from sklearn.preprocessing import MinMaxScaler\n",
    "from sklearn.model_selection import train_test_split"
   ]
  },
  {
   "cell_type": "code",
   "execution_count": 2,
   "id": "capable-cleaner",
   "metadata": {},
   "outputs": [],
   "source": [
    "seed = 42\n",
    "tf.random.set_seed(seed)"
   ]
  },
  {
   "cell_type": "code",
   "execution_count": 3,
   "id": "parallel-scotland",
   "metadata": {},
   "outputs": [],
   "source": [
    "data = pd.read_csv('..\\\\Data\\\\ze41_mol_desc_db_red.csv', header=0, sep=';', decimal=',')"
   ]
  },
  {
   "cell_type": "code",
   "execution_count": 4,
   "id": "experienced-positive",
   "metadata": {},
   "outputs": [],
   "source": [
    "col_names = data.columns\n",
    "#x_cols = ['P_VSA_MR_5', 'Mor04m', 'LUMO / eV']\n",
    "#x_cols = ['P_VSA_MR_5', 'Mor04m', 'E1p', 'Mor22s', 'LUMO / eV']\n",
    "#x_cols=['VE2_G/D', 'Eig14_EA(dm)', 'Mor31m', 'TDB04u', 'HATS1e']\n",
    "x_cols=['VE2_G/D', 'Eig14_EA(dm)', 'Mor31m']\n",
    "X = data[x_cols]\n",
    "y = data[col_names[2]]"
   ]
  },
  {
   "cell_type": "code",
   "execution_count": 5,
   "id": "legal-winner",
   "metadata": {},
   "outputs": [],
   "source": [
    "X_scaled = MinMaxScaler(feature_range=(0,1)).fit_transform(X)"
   ]
  },
  {
   "cell_type": "code",
   "execution_count": 6,
   "id": "senior-father",
   "metadata": {},
   "outputs": [],
   "source": [
    "X_train, X_valid, y_train, y_valid = train_test_split(X_scaled, y, test_size=0.1, random_state=seed)"
   ]
  },
  {
   "cell_type": "code",
   "execution_count": 7,
   "id": "searching-delight",
   "metadata": {},
   "outputs": [],
   "source": [
    "model = keras.models.Sequential([\n",
    "    keras.layers.Dense(50, activation='relu', input_shape=(len(x_cols),)),\n",
    "    keras.layers.Dense(20, activation='relu'),\n",
    "    keras.layers.Dense(10, activation='relu'),\n",
    "    keras.layers.Dense(1)\n",
    "])"
   ]
  },
  {
   "cell_type": "code",
   "execution_count": 8,
   "id": "rental-liabilities",
   "metadata": {},
   "outputs": [
    {
     "name": "stdout",
     "output_type": "stream",
     "text": [
      "Model: \"sequential\"\n",
      "_________________________________________________________________\n",
      "Layer (type)                 Output Shape              Param #   \n",
      "=================================================================\n",
      "dense (Dense)                (None, 50)                200       \n",
      "_________________________________________________________________\n",
      "dense_1 (Dense)              (None, 20)                1020      \n",
      "_________________________________________________________________\n",
      "dense_2 (Dense)              (None, 10)                210       \n",
      "_________________________________________________________________\n",
      "dense_3 (Dense)              (None, 1)                 11        \n",
      "=================================================================\n",
      "Total params: 1,441\n",
      "Trainable params: 1,441\n",
      "Non-trainable params: 0\n",
      "_________________________________________________________________\n"
     ]
    }
   ],
   "source": [
    "model.summary()"
   ]
  },
  {
   "cell_type": "code",
   "execution_count": 9,
   "id": "theoretical-binary",
   "metadata": {},
   "outputs": [],
   "source": [
    "model.compile(\n",
    "    optimizer=tf.optimizers.Adam(learning_rate=0.01),\n",
    "    loss='mean_squared_error')"
   ]
  },
  {
   "cell_type": "code",
   "execution_count": 10,
   "id": "surrounded-fiction",
   "metadata": {},
   "outputs": [
    {
     "name": "stdout",
     "output_type": "stream",
     "text": [
      "Epoch 1/25\n",
      "2/2 [==============================] - 0s 39ms/step - loss: 0.4239 - val_loss: 0.3074\n",
      "Epoch 2/25\n",
      "2/2 [==============================] - 0s 0s/step - loss: 0.1998 - val_loss: 0.1279\n",
      "Epoch 3/25\n",
      "2/2 [==============================] - 0s 3ms/step - loss: 0.0753 - val_loss: 0.1300\n",
      "Epoch 4/25\n",
      "2/2 [==============================] - 0s 0s/step - loss: 0.1262 - val_loss: 0.1325\n",
      "Epoch 5/25\n",
      "2/2 [==============================] - 0s 8ms/step - loss: 0.1128 - val_loss: 0.0981\n",
      "Epoch 6/25\n",
      "2/2 [==============================] - 0s 0s/step - loss: 0.0710 - val_loss: 0.1011\n",
      "Epoch 7/25\n",
      "2/2 [==============================] - 0s 8ms/step - loss: 0.0684 - val_loss: 0.1193\n",
      "Epoch 8/25\n",
      "2/2 [==============================] - 0s 0s/step - loss: 0.0853 - val_loss: 0.1260\n",
      "Epoch 9/25\n",
      "2/2 [==============================] - 0s 8ms/step - loss: 0.0888 - val_loss: 0.1127\n",
      "Epoch 10/25\n",
      "2/2 [==============================] - 0s 0s/step - loss: 0.0775 - val_loss: 0.0902\n",
      "Epoch 11/25\n",
      "2/2 [==============================] - 0s 8ms/step - loss: 0.0653 - val_loss: 0.0765\n",
      "Epoch 12/25\n",
      "2/2 [==============================] - 0s 0s/step - loss: 0.0639 - val_loss: 0.0769\n",
      "Epoch 13/25\n",
      "2/2 [==============================] - 0s 0s/step - loss: 0.0713 - val_loss: 0.0751\n",
      "Epoch 14/25\n",
      "2/2 [==============================] - 0s 8ms/step - loss: 0.0700 - val_loss: 0.0719\n",
      "Epoch 15/25\n",
      "2/2 [==============================] - 0s 3ms/step - loss: 0.0630 - val_loss: 0.0724\n",
      "Epoch 16/25\n",
      "2/2 [==============================] - 0s 0s/step - loss: 0.0630 - val_loss: 0.0738\n",
      "Epoch 17/25\n",
      "2/2 [==============================] - 0s 8ms/step - loss: 0.0636 - val_loss: 0.0713\n",
      "Epoch 18/25\n",
      "2/2 [==============================] - 0s 0s/step - loss: 0.0632 - val_loss: 0.0660\n",
      "Epoch 19/25\n",
      "2/2 [==============================] - 0s 8ms/step - loss: 0.0622 - val_loss: 0.0609\n",
      "Epoch 20/25\n",
      "2/2 [==============================] - 0s 0s/step - loss: 0.0613 - val_loss: 0.0604\n",
      "Epoch 21/25\n",
      "2/2 [==============================] - 0s 8ms/step - loss: 0.0616 - val_loss: 0.0575\n",
      "Epoch 22/25\n",
      "2/2 [==============================] - 0s 0s/step - loss: 0.0609 - val_loss: 0.0566\n",
      "Epoch 23/25\n",
      "2/2 [==============================] - 0s 8ms/step - loss: 0.0606 - val_loss: 0.0573\n",
      "Epoch 24/25\n",
      "2/2 [==============================] - 0s 0s/step - loss: 0.0609 - val_loss: 0.0575\n",
      "Epoch 25/25\n",
      "2/2 [==============================] - 0s 0s/step - loss: 0.0609 - val_loss: 0.0576\n"
     ]
    }
   ],
   "source": [
    "history = model.fit(X_train, y_train, validation_data=(X_valid, y_valid), epochs=25)"
   ]
  },
  {
   "cell_type": "code",
   "execution_count": 11,
   "id": "spoken-equipment",
   "metadata": {},
   "outputs": [],
   "source": [
    "y_pred = model.predict(X_valid)"
   ]
  },
  {
   "cell_type": "code",
   "execution_count": 12,
   "id": "damaged-inflation",
   "metadata": {},
   "outputs": [
    {
     "name": "stdout",
     "output_type": "stream",
     "text": [
      "true: 0.328, predicted: 0.730\n",
      "true: 0.896, predicted: 0.638\n",
      "true: 0.817, predicted: 0.728\n",
      "true: 0.765, predicted: 0.639\n",
      "true: 0.893, predicted: 0.607\n",
      "true: 0.733, predicted: 0.623\n"
     ]
    }
   ],
   "source": [
    "for i in range(y_pred.shape[0]):\n",
    "    print('true: {}, predicted: {:.3f}'.format(y_valid.iloc[i], y_pred[i, 0]))"
   ]
  },
  {
   "cell_type": "code",
   "execution_count": 13,
   "id": "choice-catalog",
   "metadata": {},
   "outputs": [
    {
     "data": {
      "text/plain": [
       "0     0.328\n",
       "5     0.896\n",
       "36    0.817\n",
       "45    0.765\n",
       "13    0.893\n",
       "54    0.733\n",
       "Name: LinIE ZE41, dtype: float64"
      ]
     },
     "execution_count": 13,
     "metadata": {},
     "output_type": "execute_result"
    }
   ],
   "source": [
    "y_valid"
   ]
  },
  {
   "cell_type": "code",
   "execution_count": 14,
   "id": "egyptian-coalition",
   "metadata": {},
   "outputs": [
    {
     "data": {
      "text/plain": [
       "array([[0.7302396 ],\n",
       "       [0.63835657],\n",
       "       [0.7284132 ],\n",
       "       [0.6388422 ],\n",
       "       [0.6073277 ],\n",
       "       [0.62320495]], dtype=float32)"
      ]
     },
     "execution_count": 14,
     "metadata": {},
     "output_type": "execute_result"
    }
   ],
   "source": [
    "y_pred"
   ]
  },
  {
   "cell_type": "code",
   "execution_count": null,
   "id": "orange-guard",
   "metadata": {},
   "outputs": [],
   "source": []
  }
 ],
 "metadata": {
  "kernelspec": {
   "display_name": "Python 3",
   "language": "python",
   "name": "python3"
  },
  "language_info": {
   "codemirror_mode": {
    "name": "ipython",
    "version": 3
   },
   "file_extension": ".py",
   "mimetype": "text/x-python",
   "name": "python",
   "nbconvert_exporter": "python",
   "pygments_lexer": "ipython3",
   "version": "3.7.9"
  }
 },
 "nbformat": 4,
 "nbformat_minor": 5
}
