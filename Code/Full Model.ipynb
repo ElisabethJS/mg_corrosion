{
 "cells": [
  {
   "cell_type": "code",
   "execution_count": 1,
   "id": "proved-adrian",
   "metadata": {},
   "outputs": [],
   "source": [
    "import numpy as np\n",
    "import pandas as pd\n",
    "import tensorflow as tf\n",
    "from tensorflow import keras\n",
    "from sklearn.preprocessing import MinMaxScaler\n",
    "from sklearn.model_selection import train_test_split"
   ]
  },
  {
   "cell_type": "code",
   "execution_count": 2,
   "id": "medium-reader",
   "metadata": {},
   "outputs": [],
   "source": [
    "seed = 42\n",
    "tf.random.set_seed(seed)"
   ]
  },
  {
   "cell_type": "code",
   "execution_count": 3,
   "id": "romantic-anime",
   "metadata": {},
   "outputs": [],
   "source": [
    "data = pd.read_csv('..\\\\Data\\\\ze41_mol_desc_db_red.csv', header=0, sep=';', decimal=',')"
   ]
  },
  {
   "cell_type": "code",
   "execution_count": 4,
   "id": "accomplished-drunk",
   "metadata": {},
   "outputs": [],
   "source": [
    "col_names = data.columns\n",
    "X = data[col_names[3:]]\n",
    "y = data[col_names[2]]"
   ]
  },
  {
   "cell_type": "code",
   "execution_count": 5,
   "id": "supposed-state",
   "metadata": {},
   "outputs": [],
   "source": [
    "X_scaled = MinMaxScaler(feature_range=(0,1)).fit_transform(X)\n",
    "X_train, X_valid, y_train, y_valid = train_test_split(X_scaled, y, test_size=0.1, random_state=seed)"
   ]
  },
  {
   "cell_type": "code",
   "execution_count": 6,
   "id": "optimum-spectacular",
   "metadata": {},
   "outputs": [],
   "source": [
    "model = keras.models.Sequential([\n",
    "    keras.layers.Dense(100, activation='relu', input_shape=(X_train.shape[1],)),\n",
    "    keras.layers.Dense(50, activation='relu'),\n",
    "    keras.layers.Dense(10, activation='relu'),\n",
    "    keras.layers.Dense(1)\n",
    "])"
   ]
  },
  {
   "cell_type": "code",
   "execution_count": 7,
   "id": "differential-bargain",
   "metadata": {},
   "outputs": [
    {
     "name": "stdout",
     "output_type": "stream",
     "text": [
      "Model: \"sequential\"\n",
      "_________________________________________________________________\n",
      "Layer (type)                 Output Shape              Param #   \n",
      "=================================================================\n",
      "dense (Dense)                (None, 100)               126100    \n",
      "_________________________________________________________________\n",
      "dense_1 (Dense)              (None, 50)                5050      \n",
      "_________________________________________________________________\n",
      "dense_2 (Dense)              (None, 10)                510       \n",
      "_________________________________________________________________\n",
      "dense_3 (Dense)              (None, 1)                 11        \n",
      "=================================================================\n",
      "Total params: 131,671\n",
      "Trainable params: 131,671\n",
      "Non-trainable params: 0\n",
      "_________________________________________________________________\n"
     ]
    }
   ],
   "source": [
    "model.summary()"
   ]
  },
  {
   "cell_type": "code",
   "execution_count": 8,
   "id": "close-maker",
   "metadata": {},
   "outputs": [],
   "source": [
    "model.compile(\n",
    "    optimizer=tf.optimizers.Adam(learning_rate=0.005),\n",
    "    loss='mean_squared_error')"
   ]
  },
  {
   "cell_type": "code",
   "execution_count": 9,
   "id": "dated-sussex",
   "metadata": {},
   "outputs": [
    {
     "name": "stdout",
     "output_type": "stream",
     "text": [
      "Epoch 1/25\n",
      "2/2 [==============================] - 0s 39ms/step - loss: 5.8340 - val_loss: 0.0376\n",
      "Epoch 2/25\n",
      "2/2 [==============================] - 0s 3ms/step - loss: 0.1942 - val_loss: 0.2854\n",
      "Epoch 3/25\n",
      "2/2 [==============================] - 0s 0s/step - loss: 0.1909 - val_loss: 0.0606\n",
      "Epoch 4/25\n",
      "2/2 [==============================] - 0s 8ms/step - loss: 0.1459 - val_loss: 0.0874\n",
      "Epoch 5/25\n",
      "2/2 [==============================] - 0s 0s/step - loss: 0.0997 - val_loss: 0.0682\n",
      "Epoch 6/25\n",
      "2/2 [==============================] - 0s 8ms/step - loss: 0.1033 - val_loss: 0.1147\n",
      "Epoch 7/25\n",
      "2/2 [==============================] - 0s 0s/step - loss: 0.1008 - val_loss: 0.0312\n",
      "Epoch 8/25\n",
      "2/2 [==============================] - 0s 0s/step - loss: 0.0760 - val_loss: 0.0606\n",
      "Epoch 9/25\n",
      "2/2 [==============================] - 0s 8ms/step - loss: 0.0746 - val_loss: 0.0349\n",
      "Epoch 10/25\n",
      "2/2 [==============================] - 0s 0s/step - loss: 0.0670 - val_loss: 0.0520\n",
      "Epoch 11/25\n",
      "2/2 [==============================] - 0s 8ms/step - loss: 0.0568 - val_loss: 0.0334\n",
      "Epoch 12/25\n",
      "2/2 [==============================] - 0s 0s/step - loss: 0.0519 - val_loss: 0.0418\n",
      "Epoch 13/25\n",
      "2/2 [==============================] - 0s 8ms/step - loss: 0.0502 - val_loss: 0.0279\n",
      "Epoch 14/25\n",
      "2/2 [==============================] - 0s 0s/step - loss: 0.0497 - val_loss: 0.0292\n",
      "Epoch 15/25\n",
      "2/2 [==============================] - 0s 8ms/step - loss: 0.0399 - val_loss: 0.0381\n",
      "Epoch 16/25\n",
      "2/2 [==============================] - 0s 0s/step - loss: 0.0427 - val_loss: 0.0287\n",
      "Epoch 17/25\n",
      "2/2 [==============================] - 0s 8ms/step - loss: 0.0336 - val_loss: 0.0254\n",
      "Epoch 18/25\n",
      "2/2 [==============================] - 0s 0s/step - loss: 0.0380 - val_loss: 0.0226\n",
      "Epoch 19/25\n",
      "2/2 [==============================] - 0s 8ms/step - loss: 0.0349 - val_loss: 0.0343\n",
      "Epoch 20/25\n",
      "2/2 [==============================] - 0s 0s/step - loss: 0.0329 - val_loss: 0.0213\n",
      "Epoch 21/25\n",
      "2/2 [==============================] - 0s 8ms/step - loss: 0.0318 - val_loss: 0.0217\n",
      "Epoch 22/25\n",
      "2/2 [==============================] - 0s 0s/step - loss: 0.0295 - val_loss: 0.0297\n",
      "Epoch 23/25\n",
      "2/2 [==============================] - 0s 0s/step - loss: 0.0299 - val_loss: 0.0245\n",
      "Epoch 24/25\n",
      "2/2 [==============================] - 0s 8ms/step - loss: 0.0256 - val_loss: 0.0189\n",
      "Epoch 25/25\n",
      "2/2 [==============================] - 0s 3ms/step - loss: 0.0292 - val_loss: 0.0185\n"
     ]
    }
   ],
   "source": [
    "history = model.fit(X_train, y_train, validation_data=(X_valid, y_valid), epochs=25)"
   ]
  },
  {
   "cell_type": "code",
   "execution_count": 10,
   "id": "billion-handle",
   "metadata": {},
   "outputs": [
    {
     "data": {
      "text/plain": [
       "0     0.328\n",
       "5     0.896\n",
       "36    0.817\n",
       "45    0.765\n",
       "13    0.893\n",
       "54    0.733\n",
       "Name: LinIE ZE41, dtype: float64"
      ]
     },
     "execution_count": 10,
     "metadata": {},
     "output_type": "execute_result"
    }
   ],
   "source": [
    "y_valid"
   ]
  },
  {
   "cell_type": "code",
   "execution_count": 12,
   "id": "fifteen-interim",
   "metadata": {},
   "outputs": [
    {
     "name": "stdout",
     "output_type": "stream",
     "text": [
      "true: 0.328, predicted: 0.623\n",
      "true: 0.896, predicted: 0.772\n",
      "true: 0.817, predicted: 0.807\n",
      "true: 0.765, predicted: 0.696\n",
      "true: 0.893, predicted: 0.957\n",
      "true: 0.733, predicted: 0.726\n"
     ]
    }
   ],
   "source": [
    "y_pred = model.predict(X_valid)\n",
    "for i in range(y_pred.shape[0]):\n",
    "    print('true: {}, predicted: {:.3f}'.format(y_valid.iloc[i], y_pred[i, 0]))"
   ]
  },
  {
   "cell_type": "code",
   "execution_count": 13,
   "id": "spatial-sewing",
   "metadata": {},
   "outputs": [
    {
     "data": {
      "text/plain": [
       "array([[0.62264574],\n",
       "       [0.7720585 ],\n",
       "       [0.8069314 ],\n",
       "       [0.6956795 ],\n",
       "       [0.9567511 ],\n",
       "       [0.7264972 ]], dtype=float32)"
      ]
     },
     "execution_count": 13,
     "metadata": {},
     "output_type": "execute_result"
    }
   ],
   "source": [
    "y_pred"
   ]
  },
  {
   "cell_type": "code",
   "execution_count": null,
   "id": "acquired-sharp",
   "metadata": {},
   "outputs": [],
   "source": []
  }
 ],
 "metadata": {
  "kernelspec": {
   "display_name": "Python 3",
   "language": "python",
   "name": "python3"
  },
  "language_info": {
   "codemirror_mode": {
    "name": "ipython",
    "version": 3
   },
   "file_extension": ".py",
   "mimetype": "text/x-python",
   "name": "python",
   "nbconvert_exporter": "python",
   "pygments_lexer": "ipython3",
   "version": "3.7.9"
  }
 },
 "nbformat": 4,
 "nbformat_minor": 5
}
