{
 "cells": [
  {
   "cell_type": "code",
   "execution_count": 1,
   "id": "proved-adrian",
   "metadata": {},
   "outputs": [],
   "source": [
    "import numpy as np\n",
    "import pandas as pd\n",
    "import tensorflow as tf\n",
    "from tensorflow import keras\n",
    "from sklearn.preprocessing import MinMaxScaler\n",
    "from sklearn.model_selection import train_test_split"
   ]
  },
  {
   "cell_type": "code",
   "execution_count": 2,
   "id": "medium-reader",
   "metadata": {},
   "outputs": [],
   "source": [
    "seed = 42\n",
    "tf.random.set_seed(seed)"
   ]
  },
  {
   "cell_type": "code",
   "execution_count": 3,
   "id": "romantic-anime",
   "metadata": {},
   "outputs": [],
   "source": [
    "data = pd.read_csv('..\\\\Data\\\\ze41_mol_desc_db_red.csv', header=0, sep=';', decimal=',')"
   ]
  },
  {
   "cell_type": "code",
   "execution_count": 4,
   "id": "accomplished-drunk",
   "metadata": {},
   "outputs": [],
   "source": [
    "col_names = data.columns\n",
    "X = data[col_names[3:]]\n",
    "y = data[col_names[2]]"
   ]
  },
  {
   "cell_type": "code",
   "execution_count": 5,
   "id": "supposed-state",
   "metadata": {},
   "outputs": [],
   "source": [
    "X_scaled = MinMaxScaler(feature_range=(0,1)).fit_transform(X)\n",
    "X_train, X_valid, y_train, y_valid = train_test_split(X_scaled, y, test_size=0.1, random_state=seed)"
   ]
  },
  {
   "cell_type": "code",
   "execution_count": 6,
   "id": "optimum-spectacular",
   "metadata": {},
   "outputs": [],
   "source": [
    "model = keras.models.Sequential([\n",
    "    keras.layers.GaussianNoise(stddev=0.1, input_shape=(X_train.shape[1],)),\n",
    "    keras.layers.Dense(100, activation='relu'),\n",
    "    keras.layers.Dense(50, activation='relu'),\n",
    "    keras.layers.Dense(10, activation='relu'),\n",
    "    keras.layers.Dense(1)\n",
    "])"
   ]
  },
  {
   "cell_type": "code",
   "execution_count": 7,
   "id": "differential-bargain",
   "metadata": {},
   "outputs": [
    {
     "name": "stdout",
     "output_type": "stream",
     "text": [
      "Model: \"sequential\"\n",
      "_________________________________________________________________\n",
      "Layer (type)                 Output Shape              Param #   \n",
      "=================================================================\n",
      "gaussian_noise (GaussianNois (None, 1260)              0         \n",
      "_________________________________________________________________\n",
      "dense (Dense)                (None, 100)               126100    \n",
      "_________________________________________________________________\n",
      "dense_1 (Dense)              (None, 50)                5050      \n",
      "_________________________________________________________________\n",
      "dense_2 (Dense)              (None, 10)                510       \n",
      "_________________________________________________________________\n",
      "dense_3 (Dense)              (None, 1)                 11        \n",
      "=================================================================\n",
      "Total params: 131,671\n",
      "Trainable params: 131,671\n",
      "Non-trainable params: 0\n",
      "_________________________________________________________________\n"
     ]
    }
   ],
   "source": [
    "model.summary()"
   ]
  },
  {
   "cell_type": "code",
   "execution_count": 8,
   "id": "close-maker",
   "metadata": {},
   "outputs": [],
   "source": [
    "model.compile(\n",
    "    optimizer=tf.optimizers.Adam(learning_rate=0.005),\n",
    "    loss='mean_squared_error')"
   ]
  },
  {
   "cell_type": "code",
   "execution_count": 9,
   "id": "dated-sussex",
   "metadata": {},
   "outputs": [
    {
     "name": "stdout",
     "output_type": "stream",
     "text": [
      "Epoch 1/25\n",
      "2/2 [==============================] - 0s 40ms/step - loss: 4.5238 - val_loss: 0.3650\n",
      "Epoch 2/25\n",
      "2/2 [==============================] - 0s 4ms/step - loss: 0.2996 - val_loss: 0.1396\n",
      "Epoch 3/25\n",
      "2/2 [==============================] - 0s 4ms/step - loss: 0.1185 - val_loss: 0.1509\n",
      "Epoch 4/25\n",
      "2/2 [==============================] - 0s 4ms/step - loss: 0.1900 - val_loss: 0.0325\n",
      "Epoch 5/25\n",
      "2/2 [==============================] - 0s 4ms/step - loss: 0.0885 - val_loss: 0.1238\n",
      "Epoch 6/25\n",
      "2/2 [==============================] - 0s 4ms/step - loss: 0.1100 - val_loss: 0.0376\n",
      "Epoch 7/25\n",
      "2/2 [==============================] - 0s 4ms/step - loss: 0.0934 - val_loss: 0.0312\n",
      "Epoch 8/25\n",
      "2/2 [==============================] - 0s 4ms/step - loss: 0.0586 - val_loss: 0.0577\n",
      "Epoch 9/25\n",
      "2/2 [==============================] - 0s 5ms/step - loss: 0.0783 - val_loss: 0.0216\n",
      "Epoch 10/25\n",
      "2/2 [==============================] - 0s 4ms/step - loss: 0.0434 - val_loss: 0.0589\n",
      "Epoch 11/25\n",
      "2/2 [==============================] - 0s 4ms/step - loss: 0.0647 - val_loss: 0.0206\n",
      "Epoch 12/25\n",
      "2/2 [==============================] - 0s 5ms/step - loss: 0.0519 - val_loss: 0.0379\n",
      "Epoch 13/25\n",
      "2/2 [==============================] - 0s 4ms/step - loss: 0.0508 - val_loss: 0.0305\n",
      "Epoch 14/25\n",
      "2/2 [==============================] - 0s 4ms/step - loss: 0.0436 - val_loss: 0.0340\n",
      "Epoch 15/25\n",
      "2/2 [==============================] - 0s 4ms/step - loss: 0.0397 - val_loss: 0.0258\n",
      "Epoch 16/25\n",
      "2/2 [==============================] - 0s 4ms/step - loss: 0.0445 - val_loss: 0.0260\n",
      "Epoch 17/25\n",
      "2/2 [==============================] - 0s 4ms/step - loss: 0.0433 - val_loss: 0.0366\n",
      "Epoch 18/25\n",
      "2/2 [==============================] - 0s 4ms/step - loss: 0.0439 - val_loss: 0.0261\n",
      "Epoch 19/25\n",
      "2/2 [==============================] - 0s 4ms/step - loss: 0.0411 - val_loss: 0.0211\n",
      "Epoch 20/25\n",
      "2/2 [==============================] - 0s 4ms/step - loss: 0.0359 - val_loss: 0.0259\n",
      "Epoch 21/25\n",
      "2/2 [==============================] - 0s 5ms/step - loss: 0.0282 - val_loss: 0.0163\n",
      "Epoch 22/25\n",
      "2/2 [==============================] - 0s 4ms/step - loss: 0.0291 - val_loss: 0.0205\n",
      "Epoch 23/25\n",
      "2/2 [==============================] - 0s 4ms/step - loss: 0.0291 - val_loss: 0.0128\n",
      "Epoch 24/25\n",
      "2/2 [==============================] - 0s 4ms/step - loss: 0.0254 - val_loss: 0.0131\n",
      "Epoch 25/25\n",
      "2/2 [==============================] - 0s 4ms/step - loss: 0.0238 - val_loss: 0.0145\n"
     ]
    }
   ],
   "source": [
    "history = model.fit(X_train, y_train, validation_data=(X_valid, y_valid), epochs=25)"
   ]
  },
  {
   "cell_type": "code",
   "execution_count": 10,
   "id": "billion-handle",
   "metadata": {},
   "outputs": [
    {
     "data": {
      "text/plain": [
       "0     0.328\n",
       "5     0.896\n",
       "36    0.817\n",
       "45    0.765\n",
       "13    0.893\n",
       "54    0.733\n",
       "Name: LinIE ZE41, dtype: float64"
      ]
     },
     "execution_count": 10,
     "metadata": {},
     "output_type": "execute_result"
    }
   ],
   "source": [
    "y_valid"
   ]
  },
  {
   "cell_type": "code",
   "execution_count": 11,
   "id": "fifteen-interim",
   "metadata": {},
   "outputs": [
    {
     "name": "stdout",
     "output_type": "stream",
     "text": [
      "true: 0.328, predicted: 0.592\n",
      "true: 0.896, predicted: 0.811\n",
      "true: 0.817, predicted: 0.846\n",
      "true: 0.765, predicted: 0.728\n",
      "true: 0.893, predicted: 0.978\n",
      "true: 0.733, predicted: 0.751\n"
     ]
    }
   ],
   "source": [
    "y_pred = model.predict(X_valid)\n",
    "for i in range(y_pred.shape[0]):\n",
    "    print('true: {}, predicted: {:.3f}'.format(y_valid.iloc[i], y_pred[i, 0]))"
   ]
  },
  {
   "cell_type": "code",
   "execution_count": 12,
   "id": "spatial-sewing",
   "metadata": {},
   "outputs": [
    {
     "name": "stdout",
     "output_type": "stream",
     "text": [
      "true: -157, predicted: -66\n",
      "true: 39, predicted: 10\n",
      "true: 12, predicted: 22\n",
      "true: -6, predicted: -19\n",
      "true: 38, predicted: 67\n",
      "true: -17, predicted: -11\n"
     ]
    }
   ],
   "source": [
    "for i in range(y_pred.shape[0]):\n",
    "    print('true: {:.0f}, predicted: {:.0f}'.format(y_valid.iloc[i]*345-270, y_pred[i, 0]*345-270))"
   ]
  },
  {
   "cell_type": "code",
   "execution_count": null,
   "id": "acquired-sharp",
   "metadata": {},
   "outputs": [],
   "source": []
  }
 ],
 "metadata": {
  "kernelspec": {
   "display_name": "Python 3",
   "language": "python",
   "name": "python3"
  },
  "language_info": {
   "codemirror_mode": {
    "name": "ipython",
    "version": 3
   },
   "file_extension": ".py",
   "mimetype": "text/x-python",
   "name": "python",
   "nbconvert_exporter": "python",
   "pygments_lexer": "ipython3",
   "version": "3.7.9"
  }
 },
 "nbformat": 4,
 "nbformat_minor": 5
}
