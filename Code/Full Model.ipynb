{
 "cells": [
  {
   "cell_type": "code",
   "execution_count": 1,
   "id": "proved-adrian",
   "metadata": {},
   "outputs": [],
   "source": [
    "import numpy as np\n",
    "import pandas as pd\n",
    "import tensorflow as tf\n",
    "from tensorflow import keras\n",
    "from sklearn.preprocessing import MinMaxScaler\n",
    "from sklearn.model_selection import train_test_split"
   ]
  },
  {
   "cell_type": "code",
   "execution_count": 2,
   "id": "medium-reader",
   "metadata": {},
   "outputs": [],
   "source": [
    "seed = 42\n",
    "tf.random.set_seed(seed)"
   ]
  },
  {
   "cell_type": "code",
   "execution_count": 3,
   "id": "romantic-anime",
   "metadata": {},
   "outputs": [],
   "source": [
    "data = pd.read_csv('..\\\\Data\\\\ze41_mol_desc_db_red.csv', header=0, sep=';', decimal=',')"
   ]
  },
  {
   "cell_type": "code",
   "execution_count": 4,
   "id": "accomplished-drunk",
   "metadata": {},
   "outputs": [],
   "source": [
    "col_names = data.columns\n",
    "X = data[col_names[3:]]\n",
    "y = data[col_names[2]]"
   ]
  },
  {
   "cell_type": "code",
   "execution_count": 5,
   "id": "supposed-state",
   "metadata": {},
   "outputs": [],
   "source": [
    "X_scaled = MinMaxScaler(feature_range=(0,1)).fit_transform(X)\n",
    "X_train, X_valid, y_train, y_valid = train_test_split(X_scaled, y, test_size=0.1, random_state=seed)"
   ]
  },
  {
   "cell_type": "code",
   "execution_count": 6,
   "id": "optimum-spectacular",
   "metadata": {},
   "outputs": [],
   "source": [
    "model = keras.models.Sequential([\n",
    "    keras.layers.Dense(100, activation='relu', input_shape=(X_train.shape[1],)),\n",
    "    keras.layers.Dense(50, activation='relu'),\n",
    "    keras.layers.Dense(10, activation='relu'),\n",
    "    keras.layers.Dense(1)\n",
    "])"
   ]
  },
  {
   "cell_type": "code",
   "execution_count": 7,
   "id": "differential-bargain",
   "metadata": {},
   "outputs": [
    {
     "name": "stdout",
     "output_type": "stream",
     "text": [
      "Model: \"sequential\"\n",
      "_________________________________________________________________\n",
      "Layer (type)                 Output Shape              Param #   \n",
      "=================================================================\n",
      "dense (Dense)                (None, 100)               126100    \n",
      "_________________________________________________________________\n",
      "dense_1 (Dense)              (None, 50)                5050      \n",
      "_________________________________________________________________\n",
      "dense_2 (Dense)              (None, 10)                510       \n",
      "_________________________________________________________________\n",
      "dense_3 (Dense)              (None, 1)                 11        \n",
      "=================================================================\n",
      "Total params: 131,671\n",
      "Trainable params: 131,671\n",
      "Non-trainable params: 0\n",
      "_________________________________________________________________\n"
     ]
    }
   ],
   "source": [
    "model.summary()"
   ]
  },
  {
   "cell_type": "code",
   "execution_count": 8,
   "id": "close-maker",
   "metadata": {},
   "outputs": [],
   "source": [
    "model.compile(\n",
    "    optimizer=tf.optimizers.Adam(learning_rate=0.005),\n",
    "    loss='mean_squared_error')"
   ]
  },
  {
   "cell_type": "code",
   "execution_count": 9,
   "id": "dated-sussex",
   "metadata": {},
   "outputs": [
    {
     "name": "stdout",
     "output_type": "stream",
     "text": [
      "Epoch 1/75\n",
      "2/2 [==============================] - 0s 45ms/step - loss: 5.8340 - val_loss: 0.0376\n",
      "Epoch 2/75\n",
      "2/2 [==============================] - 0s 5ms/step - loss: 0.1942 - val_loss: 0.2854\n",
      "Epoch 3/75\n",
      "2/2 [==============================] - 0s 0s/step - loss: 0.1909 - val_loss: 0.0606\n",
      "Epoch 4/75\n",
      "2/2 [==============================] - 0s 3ms/step - loss: 0.1459 - val_loss: 0.0874\n",
      "Epoch 5/75\n",
      "2/2 [==============================] - 0s 3ms/step - loss: 0.0997 - val_loss: 0.0682\n",
      "Epoch 6/75\n",
      "2/2 [==============================] - 0s 5ms/step - loss: 0.1033 - val_loss: 0.1147\n",
      "Epoch 7/75\n",
      "2/2 [==============================] - 0s 5ms/step - loss: 0.1008 - val_loss: 0.0312\n",
      "Epoch 8/75\n",
      "2/2 [==============================] - 0s 5ms/step - loss: 0.0760 - val_loss: 0.0606\n",
      "Epoch 9/75\n",
      "2/2 [==============================] - 0s 5ms/step - loss: 0.0746 - val_loss: 0.0349\n",
      "Epoch 10/75\n",
      "2/2 [==============================] - 0s 5ms/step - loss: 0.0670 - val_loss: 0.0520\n",
      "Epoch 11/75\n",
      "2/2 [==============================] - 0s 5ms/step - loss: 0.0568 - val_loss: 0.0334\n",
      "Epoch 12/75\n",
      "2/2 [==============================] - 0s 5ms/step - loss: 0.0519 - val_loss: 0.0418\n",
      "Epoch 13/75\n",
      "2/2 [==============================] - 0s 5ms/step - loss: 0.0502 - val_loss: 0.0279\n",
      "Epoch 14/75\n",
      "2/2 [==============================] - 0s 0s/step - loss: 0.0497 - val_loss: 0.0292\n",
      "Epoch 15/75\n",
      "2/2 [==============================] - 0s 0s/step - loss: 0.0399 - val_loss: 0.0381\n",
      "Epoch 16/75\n",
      "2/2 [==============================] - 0s 7ms/step - loss: 0.0427 - val_loss: 0.0287\n",
      "Epoch 17/75\n",
      "2/2 [==============================] - 0s 5ms/step - loss: 0.0336 - val_loss: 0.0254\n",
      "Epoch 18/75\n",
      "2/2 [==============================] - 0s 3ms/step - loss: 0.0380 - val_loss: 0.0226\n",
      "Epoch 19/75\n",
      "2/2 [==============================] - 0s 5ms/step - loss: 0.0349 - val_loss: 0.0343\n",
      "Epoch 20/75\n",
      "2/2 [==============================] - 0s 5ms/step - loss: 0.0329 - val_loss: 0.0213\n",
      "Epoch 21/75\n",
      "2/2 [==============================] - 0s 5ms/step - loss: 0.0318 - val_loss: 0.0217\n",
      "Epoch 22/75\n",
      "2/2 [==============================] - 0s 5ms/step - loss: 0.0295 - val_loss: 0.0297\n",
      "Epoch 23/75\n",
      "2/2 [==============================] - 0s 5ms/step - loss: 0.0299 - val_loss: 0.0245\n",
      "Epoch 24/75\n",
      "2/2 [==============================] - 0s 5ms/step - loss: 0.0256 - val_loss: 0.0189\n",
      "Epoch 25/75\n",
      "2/2 [==============================] - 0s 0s/step - loss: 0.0292 - val_loss: 0.0185\n",
      "Epoch 26/75\n",
      "2/2 [==============================] - 0s 0s/step - loss: 0.0224 - val_loss: 0.0333\n",
      "Epoch 27/75\n",
      "2/2 [==============================] - 0s 5ms/step - loss: 0.0284 - val_loss: 0.0183\n",
      "Epoch 28/75\n",
      "2/2 [==============================] - 0s 5ms/step - loss: 0.0235 - val_loss: 0.0181\n",
      "Epoch 29/75\n",
      "2/2 [==============================] - 0s 5ms/step - loss: 0.0235 - val_loss: 0.0243\n",
      "Epoch 30/75\n",
      "2/2 [==============================] - 0s 5ms/step - loss: 0.0222 - val_loss: 0.0180\n",
      "Epoch 31/75\n",
      "2/2 [==============================] - 0s 5ms/step - loss: 0.0196 - val_loss: 0.0175\n",
      "Epoch 32/75\n",
      "2/2 [==============================] - 0s 5ms/step - loss: 0.0195 - val_loss: 0.0224\n",
      "Epoch 33/75\n",
      "2/2 [==============================] - 0s 5ms/step - loss: 0.0211 - val_loss: 0.0200\n",
      "Epoch 34/75\n",
      "2/2 [==============================] - 0s 5ms/step - loss: 0.0173 - val_loss: 0.0199\n",
      "Epoch 35/75\n",
      "2/2 [==============================] - 0s 3ms/step - loss: 0.0202 - val_loss: 0.0229\n",
      "Epoch 36/75\n",
      "2/2 [==============================] - 0s 0s/step - loss: 0.0175 - val_loss: 0.0196\n",
      "Epoch 37/75\n",
      "2/2 [==============================] - 0s 5ms/step - loss: 0.0201 - val_loss: 0.0200\n",
      "Epoch 38/75\n",
      "2/2 [==============================] - 0s 5ms/step - loss: 0.0164 - val_loss: 0.0311\n",
      "Epoch 39/75\n",
      "2/2 [==============================] - 0s 5ms/step - loss: 0.0198 - val_loss: 0.0206\n",
      "Epoch 40/75\n",
      "2/2 [==============================] - 0s 5ms/step - loss: 0.0153 - val_loss: 0.0231\n",
      "Epoch 41/75\n",
      "2/2 [==============================] - 0s 5ms/step - loss: 0.0127 - val_loss: 0.0219\n",
      "Epoch 42/75\n",
      "2/2 [==============================] - 0s 5ms/step - loss: 0.0122 - val_loss: 0.0218\n",
      "Epoch 43/75\n",
      "2/2 [==============================] - 0s 5ms/step - loss: 0.0126 - val_loss: 0.0249\n",
      "Epoch 44/75\n",
      "2/2 [==============================] - 0s 0s/step - loss: 0.0130 - val_loss: 0.0248\n",
      "Epoch 45/75\n",
      "2/2 [==============================] - 0s 0s/step - loss: 0.0128 - val_loss: 0.0230\n",
      "Epoch 46/75\n",
      "2/2 [==============================] - 0s 7ms/step - loss: 0.0108 - val_loss: 0.0334\n",
      "Epoch 47/75\n",
      "2/2 [==============================] - 0s 2ms/step - loss: 0.0135 - val_loss: 0.0232\n",
      "Epoch 48/75\n",
      "2/2 [==============================] - 0s 5ms/step - loss: 0.0094 - val_loss: 0.0258\n",
      "Epoch 49/75\n",
      "2/2 [==============================] - 0s 5ms/step - loss: 0.0087 - val_loss: 0.0236\n",
      "Epoch 50/75\n",
      "2/2 [==============================] - 0s 5ms/step - loss: 0.0087 - val_loss: 0.0253\n",
      "Epoch 51/75\n",
      "2/2 [==============================] - 0s 5ms/step - loss: 0.0080 - val_loss: 0.0263\n",
      "Epoch 52/75\n",
      "2/2 [==============================] - 0s 5ms/step - loss: 0.0074 - val_loss: 0.0241\n",
      "Epoch 53/75\n",
      "2/2 [==============================] - 0s 5ms/step - loss: 0.0077 - val_loss: 0.0275\n",
      "Epoch 54/75\n",
      "2/2 [==============================] - 0s 0s/step - loss: 0.0070 - val_loss: 0.0269\n",
      "Epoch 55/75\n",
      "2/2 [==============================] - 0s 0s/step - loss: 0.0066 - val_loss: 0.0265\n",
      "Epoch 56/75\n",
      "2/2 [==============================] - 0s 5ms/step - loss: 0.0064 - val_loss: 0.0280\n",
      "Epoch 57/75\n",
      "2/2 [==============================] - 0s 7ms/step - loss: 0.0060 - val_loss: 0.0271\n",
      "Epoch 58/75\n",
      "2/2 [==============================] - 0s 2ms/step - loss: 0.0058 - val_loss: 0.0273\n",
      "Epoch 59/75\n",
      "2/2 [==============================] - 0s 5ms/step - loss: 0.0056 - val_loss: 0.0279\n",
      "Epoch 60/75\n",
      "2/2 [==============================] - 0s 5ms/step - loss: 0.0053 - val_loss: 0.0276\n",
      "Epoch 61/75\n",
      "2/2 [==============================] - 0s 5ms/step - loss: 0.0053 - val_loss: 0.0284\n",
      "Epoch 62/75\n",
      "2/2 [==============================] - 0s 5ms/step - loss: 0.0051 - val_loss: 0.0268\n",
      "Epoch 63/75\n",
      "2/2 [==============================] - 0s 5ms/step - loss: 0.0058 - val_loss: 0.0299\n",
      "Epoch 64/75\n",
      "2/2 [==============================] - 0s 0s/step - loss: 0.0052 - val_loss: 0.0277\n",
      "Epoch 65/75\n",
      "2/2 [==============================] - 0s 0s/step - loss: 0.0057 - val_loss: 0.0286\n",
      "Epoch 66/75\n",
      "2/2 [==============================] - 0s 8ms/step - loss: 0.0053 - val_loss: 0.0260\n",
      "Epoch 67/75\n",
      "2/2 [==============================] - 0s 3ms/step - loss: 0.0045 - val_loss: 0.0261\n",
      "Epoch 68/75\n",
      "2/2 [==============================] - 0s 7ms/step - loss: 0.0044 - val_loss: 0.0282\n",
      "Epoch 69/75\n",
      "2/2 [==============================] - 0s 2ms/step - loss: 0.0038 - val_loss: 0.0259\n",
      "Epoch 70/75\n",
      "2/2 [==============================] - 0s 5ms/step - loss: 0.0047 - val_loss: 0.0283\n",
      "Epoch 71/75\n",
      "2/2 [==============================] - 0s 5ms/step - loss: 0.0049 - val_loss: 0.0274\n",
      "Epoch 72/75\n",
      "2/2 [==============================] - 0s 5ms/step - loss: 0.0035 - val_loss: 0.0280\n",
      "Epoch 73/75\n",
      "2/2 [==============================] - 0s 5ms/step - loss: 0.0033 - val_loss: 0.0264\n",
      "Epoch 74/75\n",
      "2/2 [==============================] - 0s 0s/step - loss: 0.0043 - val_loss: 0.0299\n",
      "Epoch 75/75\n",
      "2/2 [==============================] - 0s 0s/step - loss: 0.0037 - val_loss: 0.0262\n"
     ]
    }
   ],
   "source": [
    "history = model.fit(X_train, y_train, validation_data=(X_valid, y_valid), epochs=75)"
   ]
  },
  {
   "cell_type": "code",
   "execution_count": 10,
   "id": "billion-handle",
   "metadata": {},
   "outputs": [
    {
     "data": {
      "text/plain": [
       "0     0.328\n",
       "5     0.896\n",
       "36    0.817\n",
       "45    0.765\n",
       "13    0.893\n",
       "54    0.733\n",
       "Name: LinIE ZE41, dtype: float64"
      ]
     },
     "execution_count": 10,
     "metadata": {},
     "output_type": "execute_result"
    }
   ],
   "source": [
    "y_valid"
   ]
  },
  {
   "cell_type": "code",
   "execution_count": null,
   "id": "first-partner",
   "metadata": {},
   "outputs": [],
   "source": []
  }
 ],
 "metadata": {
  "kernelspec": {
   "display_name": "Python 3",
   "language": "python",
   "name": "python3"
  },
  "language_info": {
   "codemirror_mode": {
    "name": "ipython",
    "version": 3
   },
   "file_extension": ".py",
   "mimetype": "text/x-python",
   "name": "python",
   "nbconvert_exporter": "python",
   "pygments_lexer": "ipython3",
   "version": "3.7.9"
  }
 },
 "nbformat": 4,
 "nbformat_minor": 5
}
