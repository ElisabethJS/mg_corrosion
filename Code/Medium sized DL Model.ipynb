{
 "cells": [
  {
   "cell_type": "code",
   "execution_count": 1,
   "id": "fewer-spouse",
   "metadata": {},
   "outputs": [],
   "source": [
    "import pandas as pd\n",
    "import numpy as np\n",
    "from sklearn.model_selection import train_test_split\n",
    "from sklearn.ensemble import RandomForestRegressor\n",
    "from sklearn.preprocessing import MinMaxScaler\n",
    "from sklearn.feature_selection import RFE\n",
    "import matplotlib.pyplot as plt\n",
    "from tensorflow import keras\n",
    "import tensorflow as tf"
   ]
  },
  {
   "cell_type": "code",
   "execution_count": 2,
   "id": "killing-circus",
   "metadata": {},
   "outputs": [],
   "source": [
    "random_state=42"
   ]
  },
  {
   "cell_type": "code",
   "execution_count": 3,
   "id": "surrounded-truth",
   "metadata": {},
   "outputs": [],
   "source": [
    "data = pd.read_csv('..\\\\Data\\\\ze41_mol_desc_db_red.csv', header=0, sep=';', decimal=',')"
   ]
  },
  {
   "cell_type": "code",
   "execution_count": 4,
   "id": "reported-disposition",
   "metadata": {},
   "outputs": [],
   "source": [
    "col_names = data.columns\n",
    "X = data[col_names[3:]]\n",
    "y = data[col_names[2]]"
   ]
  },
  {
   "cell_type": "code",
   "execution_count": 5,
   "id": "civil-proportion",
   "metadata": {},
   "outputs": [],
   "source": [
    "X_scaled = MinMaxScaler(feature_range=(0,1)).fit_transform(X)"
   ]
  },
  {
   "cell_type": "code",
   "execution_count": 6,
   "id": "secure-necessity",
   "metadata": {},
   "outputs": [],
   "source": [
    "X_train, X_valid, y_train, y_valid = train_test_split(X_scaled, y, test_size=0.1, random_state=random_state)\n",
    "X_train = pd.DataFrame(X_train)\n",
    "X_train.columns = X.columns\n",
    "X_valid = pd.DataFrame(X_valid)\n",
    "X_valid.columns = X.columns"
   ]
  },
  {
   "cell_type": "code",
   "execution_count": 7,
   "id": "exceptional-liechtenstein",
   "metadata": {},
   "outputs": [],
   "source": [
    "rf_sel = ['VE2_G/D',\n",
    " 'Eig14_EA(dm)',\n",
    " 'Mor31m',\n",
    " 'TDB04u',\n",
    " 'HATS1e',\n",
    " 'HATS3p',\n",
    " 'RDF015p',\n",
    " 'Mor17s',\n",
    " 'N-072',\n",
    " 'O-057',\n",
    " 'MATS2m',\n",
    " 'E2m',\n",
    " 'RDF035v',\n",
    " 'Dp',\n",
    " 'CATS2D_00_AA',\n",
    " 'CATS3D_03_DL',\n",
    " 'SpPosA_D/Dt',\n",
    " 'CATS2D_02_AP',\n",
    " 'SpMaxA_EA(bo)',\n",
    " 'F03[C-N]',\n",
    " 'RDF080e',\n",
    " 'Chi_RG',\n",
    " 'HATS0e',\n",
    " 'CATS2D_06_PP',\n",
    " 'Eta_beta_A',\n",
    " 'SaaNH',\n",
    " 'MATS3v',\n",
    " 'SpMax6_Bh(s)',\n",
    " 'Mor09s',\n",
    " 'CATS2D_02_PL',\n",
    " 'HATS6p',\n",
    " 'Chi_Dz(e)',\n",
    " 'SsOH',\n",
    " 'Mor19p',\n",
    " 'H4i',\n",
    " 'Eta_FL_A',\n",
    " 'SAacc',\n",
    " 'R6m+',\n",
    " 'SpMAD_B(s)',\n",
    " 'SpMAD_G/D',\n",
    " 'R5m',\n",
    " 'TDB04i',\n",
    " 'nOHs',\n",
    " 'SM07_EA(bo)',\n",
    " 'GATS2m',\n",
    " 'SpMax2_Bh(e)',\n",
    " 'R4s',\n",
    " 'GATS6v',\n",
    " 'Ts',\n",
    " 'CATS2D_07_DD',\n",
    " 'CATS2D_04_AL',\n",
    " 'F06[C-C]',\n",
    " 'RDF045m',\n",
    " 'nRNR2',\n",
    " 'HATS2m',\n",
    " 'H5v',\n",
    " 'X3Av',\n",
    " 'SIC1',\n",
    " 'MATS6p',\n",
    " 'RDF055v',\n",
    " 'B03[O-O]',\n",
    " 'G2p',\n",
    " 'SpMAD_EA(bo)']"
   ]
  },
  {
   "cell_type": "code",
   "execution_count": 8,
   "id": "adverse-enforcement",
   "metadata": {},
   "outputs": [],
   "source": [
    "rfe_sel = ['P_VSA_MR_5',\n",
    " 'P_VSA_LogP_2',\n",
    " 'Mor22s',\n",
    " 'Mor04m',\n",
    " 'LUMO / eV',\n",
    " 'E1p',\n",
    " 'HOMO / eV',\n",
    " 'MATS5v',\n",
    " 'Mor14s',\n",
    " 'Mor29v',\n",
    " 'Mor14u',\n",
    " 'GATS5v',\n",
    " 'GATS2s',\n",
    " 'MATS5m',\n",
    " 'Mor32m',\n",
    " 'H3m',\n",
    " 'CATS3D_02_AP',\n",
    " 'TDB04s',\n",
    " 'R2e+',\n",
    " 'E2s',\n",
    " 'R5p+',\n",
    " 'ISH',\n",
    " 'DISPm',\n",
    " 'R5i+',\n",
    " 'Ds',\n",
    " 'Mor04i',\n",
    " 'E2m',\n",
    " 'Mor28s',\n",
    " 'TDB03m',\n",
    " 'Mor19m',\n",
    " 'Mor11u',\n",
    " 'VE2sign_G',\n",
    " 'Mor03s',\n",
    " 'SpMAD_RG',\n",
    " 'E2v',\n",
    " 'R3s+',\n",
    " 'R5e+',\n",
    " 'R2u+',\n",
    " 'Mor15i',\n",
    " 'H0v',\n",
    " 'T(N..O)',\n",
    " 'E1i',\n",
    " 'Eta_epsi_5',\n",
    " 'E3e',\n",
    " 'MATS4s',\n",
    " 'Mor13u',\n",
    " 'H1p',\n",
    " 'X4Av',\n",
    " 'Mor15s',\n",
    " 'Hy',\n",
    " 'HATS0p',\n",
    " 'Eig03_AEA(dm)',\n",
    " 'X3Av',\n",
    " 'VE1sign_G',\n",
    " 'GATS5m',\n",
    " 'E2e',\n",
    " 'Mor10e',\n",
    " 'MATS8p',\n",
    " 'TDB01m',\n",
    " 'GATS4s',\n",
    " 'TDB04m',\n",
    " 'PJI3',\n",
    " 'Mor16m']"
   ]
  },
  {
   "cell_type": "code",
   "execution_count": 9,
   "id": "widespread-norwegian",
   "metadata": {},
   "outputs": [],
   "source": [
    "training_cols = rf_sel\n",
    "X_sel_train = X_train[training_cols]\n",
    "X_sel_valid = X_valid[training_cols]"
   ]
  },
  {
   "cell_type": "code",
   "execution_count": 10,
   "id": "raised-distributor",
   "metadata": {},
   "outputs": [],
   "source": [
    "model = keras.models.Sequential([\n",
    "    #keras.layers.GaussianNoise(stddev=0.1),\n",
    "    keras.layers.Dense(50, activation='relu', input_shape=(len(rf_sel),)),\n",
    "    keras.layers.Dense(20, activation='relu'),\n",
    "    keras.layers.Dense(10, activation='relu'),\n",
    "    keras.layers.Dense(1)\n",
    "])"
   ]
  },
  {
   "cell_type": "code",
   "execution_count": 11,
   "id": "normal-wesley",
   "metadata": {},
   "outputs": [],
   "source": [
    "model.compile(\n",
    "    optimizer=tf.optimizers.Adam(learning_rate=0.005),\n",
    "    loss='mean_squared_error')"
   ]
  },
  {
   "cell_type": "code",
   "execution_count": 12,
   "id": "military-holiday",
   "metadata": {},
   "outputs": [
    {
     "name": "stdout",
     "output_type": "stream",
     "text": [
      "Epoch 1/25\n",
      "2/2 [==============================] - 0s 42ms/step - loss: 0.5512 - val_loss: 0.5083\n",
      "Epoch 2/25\n",
      "2/2 [==============================] - 0s 5ms/step - loss: 0.4348 - val_loss: 0.4100\n",
      "Epoch 3/25\n",
      "2/2 [==============================] - 0s 5ms/step - loss: 0.3434 - val_loss: 0.2889\n",
      "Epoch 4/25\n",
      "2/2 [==============================] - 0s 0s/step - loss: 0.2366 - val_loss: 0.1479\n",
      "Epoch 5/25\n",
      "2/2 [==============================] - 0s 5ms/step - loss: 0.1303 - val_loss: 0.0482\n",
      "Epoch 6/25\n",
      "2/2 [==============================] - 0s 5ms/step - loss: 0.0680 - val_loss: 0.0661\n",
      "Epoch 7/25\n",
      "2/2 [==============================] - 0s 5ms/step - loss: 0.1066 - val_loss: 0.0992\n",
      "Epoch 8/25\n",
      "2/2 [==============================] - 0s 5ms/step - loss: 0.1203 - val_loss: 0.0638\n",
      "Epoch 9/25\n",
      "2/2 [==============================] - 0s 5ms/step - loss: 0.0851 - val_loss: 0.0368\n",
      "Epoch 10/25\n",
      "2/2 [==============================] - 0s 0s/step - loss: 0.0589 - val_loss: 0.0352\n",
      "Epoch 11/25\n",
      "2/2 [==============================] - 0s 0s/step - loss: 0.0599 - val_loss: 0.0456\n",
      "Epoch 12/25\n",
      "2/2 [==============================] - 0s 5ms/step - loss: 0.0672 - val_loss: 0.0531\n",
      "Epoch 13/25\n",
      "2/2 [==============================] - 0s 5ms/step - loss: 0.0717 - val_loss: 0.0523\n",
      "Epoch 14/25\n",
      "2/2 [==============================] - 0s 5ms/step - loss: 0.0691 - val_loss: 0.0447\n",
      "Epoch 15/25\n",
      "2/2 [==============================] - 0s 5ms/step - loss: 0.0632 - val_loss: 0.0356\n",
      "Epoch 16/25\n",
      "2/2 [==============================] - 0s 5ms/step - loss: 0.0562 - val_loss: 0.0318\n",
      "Epoch 17/25\n",
      "2/2 [==============================] - 0s 0s/step - loss: 0.0525 - val_loss: 0.0334\n",
      "Epoch 18/25\n",
      "2/2 [==============================] - 0s 0s/step - loss: 0.0546 - val_loss: 0.0363\n",
      "Epoch 19/25\n",
      "2/2 [==============================] - 0s 5ms/step - loss: 0.0562 - val_loss: 0.0357\n",
      "Epoch 20/25\n",
      "2/2 [==============================] - 0s 5ms/step - loss: 0.0546 - val_loss: 0.0328\n",
      "Epoch 21/25\n",
      "2/2 [==============================] - 0s 5ms/step - loss: 0.0510 - val_loss: 0.0308\n",
      "Epoch 22/25\n",
      "2/2 [==============================] - 0s 5ms/step - loss: 0.0487 - val_loss: 0.0307\n",
      "Epoch 23/25\n",
      "2/2 [==============================] - 0s 5ms/step - loss: 0.0488 - val_loss: 0.0316\n",
      "Epoch 24/25\n",
      "2/2 [==============================] - 0s 0s/step - loss: 0.0488 - val_loss: 0.0317\n",
      "Epoch 25/25\n",
      "2/2 [==============================] - 0s 5ms/step - loss: 0.0482 - val_loss: 0.0313\n"
     ]
    }
   ],
   "source": [
    "history = model.fit(X_sel_train, y_train, validation_data=(X_sel_valid, y_valid), epochs=25)"
   ]
  },
  {
   "cell_type": "code",
   "execution_count": 13,
   "id": "paperback-alert",
   "metadata": {},
   "outputs": [],
   "source": [
    "y_pred = model.predict(X_sel_valid)"
   ]
  },
  {
   "cell_type": "code",
   "execution_count": 14,
   "id": "cooperative-hammer",
   "metadata": {},
   "outputs": [
    {
     "name": "stdout",
     "output_type": "stream",
     "text": [
      "true: -157, predicted: -45\n",
      "true: 39, predicted: -39\n",
      "true: 12, predicted: -26\n",
      "true: -6, predicted: -54\n",
      "true: 38, predicted: 35\n",
      "true: -17, predicted: -24\n"
     ]
    }
   ],
   "source": [
    "for i in range(y_pred.shape[0]):\n",
    "    print('true: {:.0f}, predicted: {:.0f}'.format(y_valid.iloc[i]*345-270, y_pred[i, 0]*345-270))"
   ]
  },
  {
   "cell_type": "code",
   "execution_count": 15,
   "id": "competent-bulgarian",
   "metadata": {},
   "outputs": [
    {
     "data": {
      "text/plain": [
       "0     0.328\n",
       "5     0.896\n",
       "36    0.817\n",
       "45    0.765\n",
       "13    0.893\n",
       "54    0.733\n",
       "Name: LinIE ZE41, dtype: float64"
      ]
     },
     "execution_count": 15,
     "metadata": {},
     "output_type": "execute_result"
    }
   ],
   "source": [
    "y_valid"
   ]
  },
  {
   "cell_type": "code",
   "execution_count": null,
   "id": "hired-sudan",
   "metadata": {},
   "outputs": [],
   "source": []
  }
 ],
 "metadata": {
  "kernelspec": {
   "display_name": "Python 3",
   "language": "python",
   "name": "python3"
  },
  "language_info": {
   "codemirror_mode": {
    "name": "ipython",
    "version": 3
   },
   "file_extension": ".py",
   "mimetype": "text/x-python",
   "name": "python",
   "nbconvert_exporter": "python",
   "pygments_lexer": "ipython3",
   "version": "3.7.9"
  }
 },
 "nbformat": 4,
 "nbformat_minor": 5
}
