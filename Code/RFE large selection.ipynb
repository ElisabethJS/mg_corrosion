{
 "cells": [
  {
   "cell_type": "code",
   "execution_count": 1,
   "id": "educational-contribution",
   "metadata": {},
   "outputs": [],
   "source": [
    "import pandas as pd\n",
    "import numpy as np\n",
    "from sklearn.model_selection import train_test_split\n",
    "from sklearn.ensemble import RandomForestRegressor\n",
    "from sklearn.preprocessing import MinMaxScaler\n",
    "from sklearn.feature_selection import RFE\n",
    "import matplotlib.pyplot as plt\n",
    "from tensorflow import keras\n",
    "import tensorflow as tf"
   ]
  },
  {
   "cell_type": "code",
   "execution_count": 2,
   "id": "suspended-lafayette",
   "metadata": {},
   "outputs": [],
   "source": [
    "seeds = np.arange(100)\n",
    "random_state=42"
   ]
  },
  {
   "cell_type": "code",
   "execution_count": 3,
   "id": "magnetic-scope",
   "metadata": {},
   "outputs": [],
   "source": [
    "data = pd.read_csv('..\\\\Data\\\\ze41_mol_desc_db_red.csv', header=0, sep=';', decimal=',')"
   ]
  },
  {
   "cell_type": "code",
   "execution_count": 4,
   "id": "unique-selling",
   "metadata": {},
   "outputs": [],
   "source": [
    "col_names = data.columns\n",
    "X = data[col_names[3:]]\n",
    "y = data[col_names[2]]"
   ]
  },
  {
   "cell_type": "code",
   "execution_count": 5,
   "id": "guilty-combining",
   "metadata": {},
   "outputs": [],
   "source": [
    "X_scaled = MinMaxScaler(feature_range=(0,1)).fit_transform(X)"
   ]
  },
  {
   "cell_type": "code",
   "execution_count": 6,
   "id": "constant-joyce",
   "metadata": {},
   "outputs": [],
   "source": [
    "X_train, X_valid, y_train, y_valid = train_test_split(X_scaled, y, test_size=0.1, random_state=random_state)\n",
    "X_train = pd.DataFrame(X_train)\n",
    "X_train.columns = X.columns\n",
    "X_valid = pd.DataFrame(X_valid)\n",
    "X_valid.columns = X.columns"
   ]
  },
  {
   "cell_type": "code",
   "execution_count": 7,
   "id": "proof-shower",
   "metadata": {},
   "outputs": [],
   "source": [
    "selected_cols = []"
   ]
  },
  {
   "cell_type": "code",
   "execution_count": 8,
   "id": "damaged-south",
   "metadata": {},
   "outputs": [
    {
     "data": {
      "text/plain": [
       "63"
      ]
     },
     "execution_count": 8,
     "metadata": {},
     "output_type": "execute_result"
    }
   ],
   "source": [
    "select_percent = 5\n",
    "sel_no_cols = int(len(X.columns)*select_percent/100)\n",
    "sel_no_cols"
   ]
  },
  {
   "cell_type": "code",
   "execution_count": 9,
   "id": "honey-majority",
   "metadata": {},
   "outputs": [],
   "source": [
    "for seed in seeds:\n",
    "    rf = RandomForestRegressor(n_estimators=100, n_jobs=-1, oob_score=True, bootstrap=True, random_state=seed)\n",
    "    selector = RFE(rf, n_features_to_select=sel_no_cols, step=0.1).fit(X_train, y_train)\n",
    "    selected_cols.append([X.columns[i] for i in range(len(selector.support_)) if selector.support_[i]])"
   ]
  },
  {
   "cell_type": "code",
   "execution_count": 10,
   "id": "owned-wayne",
   "metadata": {},
   "outputs": [],
   "source": [
    "vals, counts = np.unique(selected_cols, axis=0, return_counts=True)"
   ]
  },
  {
   "cell_type": "code",
   "execution_count": 11,
   "id": "specific-individual",
   "metadata": {},
   "outputs": [
    {
     "data": {
      "text/plain": [
       "array([1, 1, 1, 1, 1, 1, 1, 1, 1, 1, 1, 1, 1, 1, 1, 1, 1, 1, 1, 1, 1, 1,\n",
       "       1, 1, 1, 1, 1, 1, 1, 1, 1, 1, 1, 1, 1, 1, 1, 1, 1, 1, 1, 1, 1, 1,\n",
       "       1, 1, 1, 1, 1, 1, 1, 1, 1, 1, 1, 1, 1, 1, 1, 1, 1, 1, 1, 1, 1, 1,\n",
       "       1, 1, 1, 1, 1, 1, 1, 1, 1, 1, 1, 1, 1, 1, 1, 1, 1, 1, 1, 1, 1, 1,\n",
       "       1, 1, 1, 1, 1, 1, 1, 1, 1, 1, 1, 1], dtype=int64)"
      ]
     },
     "execution_count": 11,
     "metadata": {},
     "output_type": "execute_result"
    }
   ],
   "source": [
    "counts"
   ]
  },
  {
   "cell_type": "code",
   "execution_count": 12,
   "id": "satisfied-hacker",
   "metadata": {},
   "outputs": [],
   "source": [
    "all_sel_cols = [c for lst in selected_cols for c in lst]"
   ]
  },
  {
   "cell_type": "code",
   "execution_count": 13,
   "id": "stable-lender",
   "metadata": {},
   "outputs": [],
   "source": [
    "vals_cols, counts_cols = np.unique(all_sel_cols, axis=0, return_counts=True)"
   ]
  },
  {
   "cell_type": "code",
   "execution_count": 14,
   "id": "likely-kansas",
   "metadata": {},
   "outputs": [],
   "source": [
    "distr = [len([c for c in counts_cols if c > i]) for i in seeds]"
   ]
  },
  {
   "cell_type": "code",
   "execution_count": 15,
   "id": "transsexual-preservation",
   "metadata": {},
   "outputs": [
    {
     "data": {
      "text/plain": [
       "[16, 14, 14, 13, 13, 12, 11, 11, 11, 11, 11, 9, 8, 7, 7, 6]"
      ]
     },
     "execution_count": 15,
     "metadata": {},
     "output_type": "execute_result"
    }
   ],
   "source": [
    "distr[84:]"
   ]
  },
  {
   "cell_type": "code",
   "execution_count": 60,
   "id": "employed-alberta",
   "metadata": {},
   "outputs": [
    {
     "data": {
      "image/png": "[encoded data removed]",
      "text/plain": [
       "<Figure size 432x288 with 1 Axes>"
      ]
     },
     "metadata": {
      "needs_background": "light"
     },
     "output_type": "display_data"
    }
   ],
   "source": [
    "fig, ax = plt.subplots()\n",
    "ax.plot(seeds, distr)\n",
    "ax.plot(30, 63, 'ro', markersize=8)\n",
    "ax.annotate('63 features used in at least 30% of all runs', xy=(30, 63), xytext=(30, 100))\n",
    "plt.ylabel('Number of features')\n",
    "plt.xlabel('Percent of runs')\n",
    "plt.title('Number of features that are included in at least x runs')\n",
    "#plt.yscale('log')\n",
    "#plt.ylim([0, 63])\n",
    "plt.show()"
   ]
  },
  {
   "cell_type": "code",
   "execution_count": 17,
   "id": "convinced-symposium",
   "metadata": {},
   "outputs": [],
   "source": [
    "counts_cols, vals_cols = zip(*sorted(zip(counts_cols, vals_cols), reverse=True))"
   ]
  },
  {
   "cell_type": "code",
   "execution_count": 18,
   "id": "exact-sessions",
   "metadata": {},
   "outputs": [
    {
     "data": {
      "text/plain": [
       "('P_VSA_MR_5',\n",
       " 'P_VSA_LogP_2',\n",
       " 'Mor22s',\n",
       " 'Mor04m',\n",
       " 'LUMO / eV',\n",
       " 'E1p',\n",
       " 'HOMO / eV',\n",
       " 'MATS5v',\n",
       " 'Mor14s',\n",
       " 'Mor29v',\n",
       " 'Mor14u',\n",
       " 'GATS5v',\n",
       " 'GATS2s',\n",
       " 'MATS5m',\n",
       " 'Mor32m',\n",
       " 'H3m')"
      ]
     },
     "execution_count": 18,
     "metadata": {},
     "output_type": "execute_result"
    }
   ],
   "source": [
    "vals_cols[:distr[84]]"
   ]
  },
  {
   "cell_type": "code",
   "execution_count": 87,
   "id": "resistant-learning",
   "metadata": {},
   "outputs": [],
   "source": [
    "rf_sel = ['VE2_G/D',\n",
    " 'Eig14_EA(dm)',\n",
    " 'Mor31m',\n",
    " 'TDB04u',\n",
    " 'HATS1e',\n",
    " 'HATS3p',\n",
    " 'RDF015p',\n",
    " 'Mor17s',\n",
    " 'N-072',\n",
    " 'O-057',\n",
    " 'MATS2m',\n",
    " 'E2m',\n",
    " 'RDF035v',\n",
    " 'Dp',\n",
    " 'CATS2D_00_AA',\n",
    " 'CATS3D_03_DL',\n",
    " 'SpPosA_D/Dt',\n",
    " 'CATS2D_02_AP',\n",
    " 'SpMaxA_EA(bo)',\n",
    " 'F03[C-N]',\n",
    " 'RDF080e',\n",
    " 'Chi_RG',\n",
    " 'HATS0e',\n",
    " 'CATS2D_06_PP',\n",
    " 'Eta_beta_A',\n",
    " 'SaaNH',\n",
    " 'MATS3v',\n",
    " 'SpMax6_Bh(s)',\n",
    " 'Mor09s',\n",
    " 'CATS2D_02_PL',\n",
    " 'HATS6p',\n",
    " 'Chi_Dz(e)',\n",
    " 'SsOH',\n",
    " 'Mor19p',\n",
    " 'H4i',\n",
    " 'Eta_FL_A',\n",
    " 'SAacc',\n",
    " 'R6m+',\n",
    " 'SpMAD_B(s)',\n",
    " 'SpMAD_G/D',\n",
    " 'R5m',\n",
    " 'TDB04i',\n",
    " 'nOHs',\n",
    " 'SM07_EA(bo)',\n",
    " 'GATS2m',\n",
    " 'SpMax2_Bh(e)',\n",
    " 'R4s',\n",
    " 'GATS6v',\n",
    " 'Ts',\n",
    " 'CATS2D_07_DD',\n",
    " 'CATS2D_04_AL',\n",
    " 'F06[C-C]',\n",
    " 'RDF045m',\n",
    " 'nRNR2',\n",
    " 'HATS2m',\n",
    " 'H5v',\n",
    " 'X3Av',\n",
    " 'SIC1',\n",
    " 'MATS6p',\n",
    " 'RDF055v',\n",
    " 'B03[O-O]',\n",
    " 'G2p',\n",
    " 'SpMAD_EA(bo)']"
   ]
  },
  {
   "cell_type": "code",
   "execution_count": 126,
   "id": "announced-ticket",
   "metadata": {},
   "outputs": [],
   "source": [
    "#training_cols = list(vals_cols[:sel_no_cols])\n",
    "training_cols = rf_sel\n",
    "X_sel_train = X_train[training_cols]\n",
    "X_sel_valid = X_valid[training_cols]"
   ]
  },
  {
   "cell_type": "code",
   "execution_count": 133,
   "id": "ignored-support",
   "metadata": {},
   "outputs": [],
   "source": [
    "model = keras.models.Sequential([\n",
    "    #keras.layers.GaussianNoise(stddev=0.1),\n",
    "    keras.layers.Dense(50, activation='relu', input_shape=(sel_no_cols,)),\n",
    "    keras.layers.Dense(20, activation='relu'),\n",
    "    keras.layers.Dense(10, activation='relu'),\n",
    "    keras.layers.Dense(1)\n",
    "])"
   ]
  },
  {
   "cell_type": "code",
   "execution_count": 134,
   "id": "proof-liquid",
   "metadata": {},
   "outputs": [],
   "source": [
    "model.compile(\n",
    "    optimizer=tf.optimizers.Adam(learning_rate=0.005),\n",
    "    loss='mean_squared_error')"
   ]
  },
  {
   "cell_type": "code",
   "execution_count": 135,
   "id": "contrary-albany",
   "metadata": {},
   "outputs": [
    {
     "name": "stdout",
     "output_type": "stream",
     "text": [
      "Epoch 1/25\n",
      "2/2 [==============================] - 0s 33ms/step - loss: 0.5883 - val_loss: 0.3643\n",
      "Epoch 2/25\n",
      "2/2 [==============================] - 0s 0s/step - loss: 0.2706 - val_loss: 0.1244\n",
      "Epoch 3/25\n",
      "2/2 [==============================] - 0s 5ms/step - loss: 0.0981 - val_loss: 0.0300\n",
      "Epoch 4/25\n",
      "2/2 [==============================] - 0s 5ms/step - loss: 0.1055 - val_loss: 0.0635\n",
      "Epoch 5/25\n",
      "2/2 [==============================] - 0s 5ms/step - loss: 0.1310 - val_loss: 0.0264\n",
      "Epoch 6/25\n",
      "2/2 [==============================] - 0s 5ms/step - loss: 0.0859 - val_loss: 0.0269\n",
      "Epoch 7/25\n",
      "2/2 [==============================] - 0s 0s/step - loss: 0.0654 - val_loss: 0.0580\n",
      "Epoch 8/25\n",
      "2/2 [==============================] - 0s 0s/step - loss: 0.0772 - val_loss: 0.0762\n",
      "Epoch 9/25\n",
      "2/2 [==============================] - 0s 5ms/step - loss: 0.0820 - val_loss: 0.0629\n",
      "Epoch 10/25\n",
      "2/2 [==============================] - 0s 5ms/step - loss: 0.0727 - val_loss: 0.0381\n",
      "Epoch 11/25\n",
      "2/2 [==============================] - 0s 5ms/step - loss: 0.0590 - val_loss: 0.0224\n",
      "Epoch 12/25\n",
      "2/2 [==============================] - 0s 5ms/step - loss: 0.0568 - val_loss: 0.0200\n",
      "Epoch 13/25\n",
      "2/2 [==============================] - 0s 0s/step - loss: 0.0587 - val_loss: 0.0229\n",
      "Epoch 14/25\n",
      "2/2 [==============================] - 0s 0s/step - loss: 0.0586 - val_loss: 0.0243\n",
      "Epoch 15/25\n",
      "2/2 [==============================] - 0s 5ms/step - loss: 0.0530 - val_loss: 0.0276\n",
      "Epoch 16/25\n",
      "2/2 [==============================] - 0s 5ms/step - loss: 0.0510 - val_loss: 0.0349\n",
      "Epoch 17/25\n",
      "2/2 [==============================] - 0s 5ms/step - loss: 0.0496 - val_loss: 0.0386\n",
      "Epoch 18/25\n",
      "2/2 [==============================] - 0s 5ms/step - loss: 0.0494 - val_loss: 0.0378\n",
      "Epoch 19/25\n",
      "2/2 [==============================] - 0s 0s/step - loss: 0.0467 - val_loss: 0.0354\n",
      "Epoch 20/25\n",
      "2/2 [==============================] - 0s 0s/step - loss: 0.0451 - val_loss: 0.0331\n",
      "Epoch 21/25\n",
      "2/2 [==============================] - 0s 5ms/step - loss: 0.0449 - val_loss: 0.0314\n",
      "Epoch 22/25\n",
      "2/2 [==============================] - 0s 5ms/step - loss: 0.0438 - val_loss: 0.0289\n",
      "Epoch 23/25\n",
      "2/2 [==============================] - 0s 5ms/step - loss: 0.0422 - val_loss: 0.0275\n",
      "Epoch 24/25\n",
      "2/2 [==============================] - 0s 5ms/step - loss: 0.0408 - val_loss: 0.0266\n",
      "Epoch 25/25\n",
      "2/2 [==============================] - 0s 5ms/step - loss: 0.0405 - val_loss: 0.0248\n"
     ]
    }
   ],
   "source": [
    "history = model.fit(X_sel_train, y_train, validation_data=(X_sel_valid, y_valid), epochs=25)"
   ]
  },
  {
   "cell_type": "code",
   "execution_count": 136,
   "id": "looking-elevation",
   "metadata": {},
   "outputs": [
    {
     "name": "stdout",
     "output_type": "stream",
     "text": [
      "WARNING:tensorflow:7 out of the last 7 calls to <function Model.make_predict_function.<locals>.predict_function at 0x0000026CA0F76CA8> triggered tf.function retracing. Tracing is expensive and the excessive number of tracings could be due to (1) creating @tf.function repeatedly in a loop, (2) passing tensors with different shapes, (3) passing Python objects instead of tensors. For (1), please define your @tf.function outside of the loop. For (2), @tf.function has experimental_relax_shapes=True option that relaxes argument shapes that can avoid unnecessary retracing. For (3), please refer to https://www.tensorflow.org/tutorials/customization/performance#python_or_tensor_args and https://www.tensorflow.org/api_docs/python/tf/function for  more details.\n"
     ]
    }
   ],
   "source": [
    "y_pred = model.predict(X_sel_valid)"
   ]
  },
  {
   "cell_type": "code",
   "execution_count": 137,
   "id": "guided-likelihood",
   "metadata": {},
   "outputs": [
    {
     "name": "stdout",
     "output_type": "stream",
     "text": [
      "true: 0.328, predicted: 0.641\n",
      "true: 0.896, predicted: 0.732\n",
      "true: 0.817, predicted: 0.720\n",
      "true: 0.765, predicted: 0.677\n",
      "true: 0.893, predicted: 0.849\n",
      "true: 0.733, predicted: 0.803\n"
     ]
    }
   ],
   "source": [
    "for i in range(y_pred.shape[0]):\n",
    "    print('true: {}, predicted: {:.3f}'.format(y_valid.iloc[i], y_pred[i, 0]))"
   ]
  },
  {
   "cell_type": "code",
   "execution_count": 138,
   "id": "ethical-dayton",
   "metadata": {},
   "outputs": [
    {
     "name": "stdout",
     "output_type": "stream",
     "text": [
      "true: -157, predicted: -49\n",
      "true: 39, predicted: -18\n",
      "true: 12, predicted: -22\n",
      "true: -6, predicted: -37\n",
      "true: 38, predicted: 23\n",
      "true: -17, predicted: 7\n"
     ]
    }
   ],
   "source": [
    "for i in range(y_pred.shape[0]):\n",
    "    print('true: {:.0f}, predicted: {:.0f}'.format(y_valid.iloc[i]*345-270, y_pred[i, 0]*345-270))"
   ]
  },
  {
   "cell_type": "code",
   "execution_count": 86,
   "id": "initial-pacific",
   "metadata": {},
   "outputs": [
    {
     "data": {
      "text/plain": [
       "0     0.328\n",
       "5     0.896\n",
       "36    0.817\n",
       "45    0.765\n",
       "13    0.893\n",
       "54    0.733\n",
       "Name: LinIE ZE41, dtype: float64"
      ]
     },
     "execution_count": 86,
     "metadata": {},
     "output_type": "execute_result"
    }
   ],
   "source": [
    "y_valid"
   ]
  },
  {
   "cell_type": "code",
   "execution_count": 84,
   "id": "sunset-potential",
   "metadata": {},
   "outputs": [
    {
     "data": {
      "text/plain": [
       "5"
      ]
     },
     "execution_count": 84,
     "metadata": {},
     "output_type": "execute_result"
    }
   ],
   "source": [
    "counts_cols[-316]"
   ]
  },
  {
   "cell_type": "code",
   "execution_count": 36,
   "id": "searching-overall",
   "metadata": {},
   "outputs": [
    {
     "data": {
      "text/plain": [
       "('P_VSA_MR_5',\n",
       " 'P_VSA_LogP_2',\n",
       " 'Mor22s',\n",
       " 'Mor04m',\n",
       " 'LUMO / eV',\n",
       " 'E1p',\n",
       " 'HOMO / eV',\n",
       " 'MATS5v',\n",
       " 'Mor14s',\n",
       " 'Mor29v',\n",
       " 'Mor14u',\n",
       " 'GATS5v',\n",
       " 'GATS2s',\n",
       " 'MATS5m',\n",
       " 'Mor32m')"
      ]
     },
     "execution_count": 36,
     "metadata": {},
     "output_type": "execute_result"
    }
   ],
   "source": [
    "vals_cols[:15]"
   ]
  },
  {
   "cell_type": "code",
   "execution_count": 140,
   "id": "unknown-antarctica",
   "metadata": {},
   "outputs": [
    {
     "data": {
      "text/plain": [
       "126"
      ]
     },
     "execution_count": 140,
     "metadata": {},
     "output_type": "execute_result"
    }
   ],
   "source": [
    "len(list(vals_cols[:sel_no_cols]) + rf_sel)"
   ]
  },
  {
   "cell_type": "code",
   "execution_count": 141,
   "id": "opposite-portland",
   "metadata": {},
   "outputs": [
    {
     "data": {
      "text/plain": [
       "['P_VSA_MR_5',\n",
       " 'P_VSA_LogP_2',\n",
       " 'Mor22s',\n",
       " 'Mor04m',\n",
       " 'LUMO / eV',\n",
       " 'E1p',\n",
       " 'HOMO / eV',\n",
       " 'MATS5v',\n",
       " 'Mor14s',\n",
       " 'Mor29v',\n",
       " 'Mor14u',\n",
       " 'GATS5v',\n",
       " 'GATS2s',\n",
       " 'MATS5m',\n",
       " 'Mor32m',\n",
       " 'H3m',\n",
       " 'CATS3D_02_AP',\n",
       " 'TDB04s',\n",
       " 'R2e+',\n",
       " 'E2s',\n",
       " 'R5p+',\n",
       " 'ISH',\n",
       " 'DISPm',\n",
       " 'R5i+',\n",
       " 'Ds',\n",
       " 'Mor04i',\n",
       " 'E2m',\n",
       " 'Mor28s',\n",
       " 'TDB03m',\n",
       " 'Mor19m',\n",
       " 'Mor11u',\n",
       " 'VE2sign_G',\n",
       " 'Mor03s',\n",
       " 'SpMAD_RG',\n",
       " 'E2v',\n",
       " 'R3s+',\n",
       " 'R5e+',\n",
       " 'R2u+',\n",
       " 'Mor15i',\n",
       " 'H0v',\n",
       " 'T(N..O)',\n",
       " 'E1i',\n",
       " 'Eta_epsi_5',\n",
       " 'E3e',\n",
       " 'MATS4s',\n",
       " 'Mor13u',\n",
       " 'H1p',\n",
       " 'X4Av',\n",
       " 'Mor15s',\n",
       " 'Hy',\n",
       " 'HATS0p',\n",
       " 'Eig03_AEA(dm)',\n",
       " 'X3Av',\n",
       " 'VE1sign_G',\n",
       " 'GATS5m',\n",
       " 'E2e',\n",
       " 'Mor10e',\n",
       " 'MATS8p',\n",
       " 'TDB01m',\n",
       " 'GATS4s',\n",
       " 'TDB04m',\n",
       " 'PJI3',\n",
       " 'Mor16m']"
      ]
     },
     "execution_count": 141,
     "metadata": {},
     "output_type": "execute_result"
    }
   ],
   "source": [
    "list(vals_cols[:sel_no_cols])"
   ]
  },
  {
   "cell_type": "code",
   "execution_count": null,
   "id": "clinical-buyer",
   "metadata": {},
   "outputs": [],
   "source": []
  }
 ],
 "metadata": {
  "kernelspec": {
   "display_name": "Python 3",
   "language": "python",
   "name": "python3"
  },
  "language_info": {
   "codemirror_mode": {
    "name": "ipython",
    "version": 3
   },
   "file_extension": ".py",
   "mimetype": "text/x-python",
   "name": "python",
   "nbconvert_exporter": "python",
   "pygments_lexer": "ipython3",
   "version": "3.7.9"
  }
 },
 "nbformat": 4,
 "nbformat_minor": 5
}
