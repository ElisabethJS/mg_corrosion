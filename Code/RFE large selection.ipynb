{
 "cells": [
  {
   "cell_type": "code",
   "execution_count": 1,
   "id": "educational-contribution",
   "metadata": {},
   "outputs": [],
   "source": [
    "import pandas as pd\n",
    "import numpy as np\n",
    "from sklearn.model_selection import train_test_split\n",
    "from sklearn.ensemble import RandomForestRegressor\n",
    "from sklearn.preprocessing import MinMaxScaler\n",
    "from sklearn.feature_selection import RFE\n",
    "import matplotlib.pyplot as plt\n",
    "from tensorflow import keras\n",
    "import tensorflow as tf"
   ]
  },
  {
   "cell_type": "code",
   "execution_count": 2,
   "id": "suspended-lafayette",
   "metadata": {},
   "outputs": [],
   "source": [
    "seeds = np.arange(100)\n",
    "random_state=42"
   ]
  },
  {
   "cell_type": "code",
   "execution_count": 3,
   "id": "magnetic-scope",
   "metadata": {},
   "outputs": [],
   "source": [
    "data = pd.read_csv('..\\\\Data\\\\ze41_mol_desc_db_red.csv', header=0, sep=';', decimal=',')"
   ]
  },
  {
   "cell_type": "code",
   "execution_count": 4,
   "id": "unique-selling",
   "metadata": {},
   "outputs": [],
   "source": [
    "col_names = data.columns\n",
    "#col_names = col_names.drop(labels=['HOMO / eV', 'LUMO / eV'])\n",
    "X = data[col_names[3:]]\n",
    "y = data[col_names[1]]"
   ]
  },
  {
   "cell_type": "code",
   "execution_count": 5,
   "id": "british-gothic",
   "metadata": {},
   "outputs": [],
   "source": [
    "X_train, X_valid, y_train, y_valid = train_test_split(X, y, test_size=0.1, random_state=random_state)\n",
    "[X_train, X_valid, y_train, y_valid] = [pd.DataFrame(x) for x in [X_train, X_valid, y_train, y_valid]]"
   ]
  },
  {
   "cell_type": "code",
   "execution_count": 6,
   "id": "guilty-combining",
   "metadata": {},
   "outputs": [],
   "source": [
    "scalex = MinMaxScaler(feature_range=(-1,1))\n",
    "scalex.fit(X_train)\n",
    "[X_train_sc, X_valid_sc] = [pd.DataFrame(scalex.transform(x), columns=X.columns) for x in [X_train, X_valid]]"
   ]
  },
  {
   "cell_type": "code",
   "execution_count": 7,
   "id": "alone-tracker",
   "metadata": {},
   "outputs": [],
   "source": [
    "scaley = MinMaxScaler(feature_range=(0, 1))\n",
    "scaley.fit(y_train)\n",
    "[y_train_sc, y_valid_sc] = [pd.DataFrame(scaley.transform(y), columns=y.columns) for y in [y_train, y_valid]]"
   ]
  },
  {
   "cell_type": "code",
   "execution_count": 8,
   "id": "constant-joyce",
   "metadata": {},
   "outputs": [],
   "source": [
    "#X_train, X_valid, y_train, y_valid = train_test_split(X_scaled, y, test_size=0.1, random_state=random_state)\n",
    "#X_train = pd.DataFrame(X_train)\n",
    "#X_train.columns = X.columns\n",
    "#X_valid = pd.DataFrame(X_valid)\n",
    "#X_valid.columns = X.columns"
   ]
  },
  {
   "cell_type": "code",
   "execution_count": 9,
   "id": "proof-shower",
   "metadata": {},
   "outputs": [],
   "source": [
    "selected_cols = []"
   ]
  },
  {
   "cell_type": "code",
   "execution_count": 10,
   "id": "damaged-south",
   "metadata": {},
   "outputs": [
    {
     "data": {
      "text/plain": [
       "63"
      ]
     },
     "execution_count": 10,
     "metadata": {},
     "output_type": "execute_result"
    }
   ],
   "source": [
    "select_percent = 5\n",
    "sel_no_cols = int(len(X_train_sc.columns)*select_percent/100)\n",
    "sel_no_cols"
   ]
  },
  {
   "cell_type": "code",
   "execution_count": 11,
   "id": "honey-majority",
   "metadata": {},
   "outputs": [],
   "source": [
    "for seed in seeds:\n",
    "    rf = RandomForestRegressor(n_estimators=100, n_jobs=-1, oob_score=True, bootstrap=True, random_state=seed)\n",
    "    selector = RFE(rf, n_features_to_select=sel_no_cols, step=0.1).fit(X_train_sc, np.ravel(y_train_sc))\n",
    "    selected_cols.append([X_train_sc.columns[i] for i in range(len(selector.support_)) if selector.support_[i]])"
   ]
  },
  {
   "cell_type": "code",
   "execution_count": 71,
   "id": "emotional-exhibit",
   "metadata": {},
   "outputs": [],
   "source": [
    "np.save('..\\\\Data\\\\rfe_large_selected_cols.npy',selected_cols)"
   ]
  },
  {
   "cell_type": "code",
   "execution_count": 13,
   "id": "exterior-convergence",
   "metadata": {},
   "outputs": [],
   "source": [
    "selected_cols = np.load('..\\\\Data\\\\rfe_large_selected_cols.npy', allow_pickle=True)"
   ]
  },
  {
   "cell_type": "code",
   "execution_count": 14,
   "id": "owned-wayne",
   "metadata": {},
   "outputs": [],
   "source": [
    "vals, counts = np.unique(selected_cols, axis=0, return_counts=True)"
   ]
  },
  {
   "cell_type": "code",
   "execution_count": 15,
   "id": "specific-individual",
   "metadata": {},
   "outputs": [
    {
     "data": {
      "text/plain": [
       "array([1, 1, 1, 1, 1, 1, 1, 1, 1, 1, 1, 1, 1, 1, 1, 1, 1, 1, 1, 1, 1, 1,\n",
       "       1, 1, 1, 1, 1, 1, 1, 1, 1, 1, 1, 1, 1, 1, 1, 1, 1, 1, 1, 1, 1, 1,\n",
       "       1, 1, 1, 1, 1, 1, 1, 1, 1, 1, 1, 1, 1, 1, 1, 1, 1, 1, 1, 1, 1, 1,\n",
       "       1, 1, 1, 1, 1, 1, 1, 1, 1, 1, 1, 1, 1, 1, 1, 1, 1, 1, 1, 1, 1, 1,\n",
       "       1, 1, 1, 1, 1, 1, 1, 1, 1, 1, 1, 1], dtype=int64)"
      ]
     },
     "execution_count": 15,
     "metadata": {},
     "output_type": "execute_result"
    }
   ],
   "source": [
    "counts"
   ]
  },
  {
   "cell_type": "code",
   "execution_count": 16,
   "id": "satisfied-hacker",
   "metadata": {},
   "outputs": [],
   "source": [
    "all_sel_cols = [c for lst in selected_cols for c in lst]"
   ]
  },
  {
   "cell_type": "code",
   "execution_count": 17,
   "id": "stable-lender",
   "metadata": {},
   "outputs": [],
   "source": [
    "vals_cols, counts_cols = np.unique(all_sel_cols, axis=0, return_counts=True)"
   ]
  },
  {
   "cell_type": "code",
   "execution_count": 18,
   "id": "likely-kansas",
   "metadata": {},
   "outputs": [],
   "source": [
    "distr = [len([c for c in counts_cols if c > i]) for i in seeds]"
   ]
  },
  {
   "cell_type": "code",
   "execution_count": 19,
   "id": "transsexual-preservation",
   "metadata": {},
   "outputs": [
    {
     "data": {
      "text/plain": [
       "[16, 15, 15, 14, 14, 13, 12, 11, 11, 11, 10, 10, 9, 7, 6, 5]"
      ]
     },
     "execution_count": 19,
     "metadata": {},
     "output_type": "execute_result"
    }
   ],
   "source": [
    "distr[84:]"
   ]
  },
  {
   "cell_type": "code",
   "execution_count": 21,
   "id": "urban-director",
   "metadata": {},
   "outputs": [
    {
     "data": {
      "image/png": "[encoded data removed]",
      "text/plain": [
       "<Figure size 432x288 with 1 Axes>"
      ]
     },
     "metadata": {
      "needs_background": "light"
     },
     "output_type": "display_data"
    }
   ],
   "source": [
    "fig, ax = plt.subplots()\n",
    "n,_,_ = ax.hist(counts_cols, bins=100)#, density=True, stacked=True)\n",
    "#ax.plot([30, 30], [0, 60], 'r--')\n",
    "#ax.annotate('63 features used in at least 30% of runs', xy=(30, 63), xytext=(32, 30))\n",
    "plt.xlabel('% of runs')\n",
    "plt.ylabel('Number of features')\n",
    "plt.title('Features included per % of runs (cropped)')\n",
    "plt.ylim(top=10)\n",
    "plt.savefig('..\\\\figures\\\\rfe_hist_cropped.svg', format='svg')\n",
    "plt.show()"
   ]
  },
  {
   "cell_type": "code",
   "execution_count": 23,
   "id": "reflected-philosophy",
   "metadata": {},
   "outputs": [
    {
     "data": {
      "image/png": "[encoded data removed]",
      "text/plain": [
       "<Figure size 432x288 with 1 Axes>"
      ]
     },
     "metadata": {
      "needs_background": "light"
     },
     "output_type": "display_data"
    }
   ],
   "source": [
    "fig, ax = plt.subplots()\n",
    "n,_,_ = ax.hist(counts_cols, bins=100)#, density=True, stacked=True)\n",
    "ax.plot([30, 30], [0, 60], 'r--')\n",
    "ax.annotate('63 features used in at least 30% of runs', xy=(30, 63), xytext=(32, 30))\n",
    "plt.xlabel('% of runs')\n",
    "plt.ylabel('Number of features')\n",
    "plt.title('Features included per % of runs')\n",
    "#plt.ylim(top=10)\n",
    "plt.savefig('..\\\\figures\\\\rfe_hist.svg', format='svg')\n",
    "plt.show()"
   ]
  },
  {
   "cell_type": "code",
   "execution_count": 18,
   "id": "employed-alberta",
   "metadata": {},
   "outputs": [
    {
     "data": {
      "image/png": "[encoded data removed]",
      "text/plain": [
       "<Figure size 432x288 with 1 Axes>"
      ]
     },
     "metadata": {
      "needs_background": "light"
     },
     "output_type": "display_data"
    }
   ],
   "source": [
    "fig, ax = plt.subplots()\n",
    "ax.plot(seeds, distr)\n",
    "ax.plot(30, 63, 'ro', markersize=8)\n",
    "ax.annotate('63 features used in at least 30% of all runs', xy=(30, 63), xytext=(30, 100))\n",
    "plt.ylabel('Number of features')\n",
    "plt.xlabel('Percent of runs')\n",
    "plt.title('Number of features that are included in at least x runs')\n",
    "#plt.yscale('log')\n",
    "#plt.ylim([0, 63])\n",
    "plt.show()"
   ]
  },
  {
   "cell_type": "code",
   "execution_count": 19,
   "id": "convinced-symposium",
   "metadata": {},
   "outputs": [],
   "source": [
    "counts_cols, vals_cols = zip(*sorted(zip(counts_cols, vals_cols), reverse=True))"
   ]
  },
  {
   "cell_type": "code",
   "execution_count": 20,
   "id": "exact-sessions",
   "metadata": {},
   "outputs": [
    {
     "data": {
      "text/plain": [
       "('P_VSA_MR_5',\n",
       " 'Mor22s',\n",
       " 'Mor04m',\n",
       " 'LUMO / eV',\n",
       " 'E1p',\n",
       " 'HOMO / eV',\n",
       " 'P_VSA_LogP_2',\n",
       " 'Mor29v',\n",
       " 'MATS5v',\n",
       " 'Mor14s',\n",
       " 'Mor14u',\n",
       " 'CATS3D_02_AP',\n",
       " 'GATS5v',\n",
       " 'MATS5m',\n",
       " 'GATS2s',\n",
       " 'Mor32m')"
      ]
     },
     "execution_count": 20,
     "metadata": {},
     "output_type": "execute_result"
    }
   ],
   "source": [
    "vals_cols[:distr[84]]"
   ]
  },
  {
   "cell_type": "code",
   "execution_count": 21,
   "id": "resistant-learning",
   "metadata": {},
   "outputs": [],
   "source": [
    "rf_sel = ['VE2_G/D',\n",
    " 'Eig14_EA(dm)',\n",
    " 'Mor31m',\n",
    " 'TDB04u',\n",
    " 'HATS1e',\n",
    " 'HATS3p',\n",
    " 'RDF015p',\n",
    " 'Mor17s',\n",
    " 'N-072',\n",
    " 'O-057',\n",
    " 'MATS2m',\n",
    " 'E2m',\n",
    " 'RDF035v',\n",
    " 'Dp',\n",
    " 'CATS2D_00_AA',\n",
    " 'CATS3D_03_DL',\n",
    " 'SpPosA_D/Dt',\n",
    " 'CATS2D_02_AP',\n",
    " 'SpMaxA_EA(bo)',\n",
    " 'F03[C-N]',\n",
    " 'RDF080e',\n",
    " 'Chi_RG',\n",
    " 'HATS0e',\n",
    " 'CATS2D_06_PP',\n",
    " 'Eta_beta_A',\n",
    " 'SaaNH',\n",
    " 'MATS3v',\n",
    " 'SpMax6_Bh(s)',\n",
    " 'Mor09s',\n",
    " 'CATS2D_02_PL',\n",
    " 'HATS6p',\n",
    " 'Chi_Dz(e)',\n",
    " 'SsOH',\n",
    " 'Mor19p',\n",
    " 'H4i',\n",
    " 'Eta_FL_A',\n",
    " 'SAacc',\n",
    " 'R6m+',\n",
    " 'SpMAD_B(s)',\n",
    " 'SpMAD_G/D',\n",
    " 'R5m',\n",
    " 'TDB04i',\n",
    " 'nOHs',\n",
    " 'SM07_EA(bo)',\n",
    " 'GATS2m',\n",
    " 'SpMax2_Bh(e)',\n",
    " 'R4s',\n",
    " 'GATS6v',\n",
    " 'Ts',\n",
    " 'CATS2D_07_DD',\n",
    " 'CATS2D_04_AL',\n",
    " 'F06[C-C]',\n",
    " 'RDF045m',\n",
    " 'nRNR2',\n",
    " 'HATS2m',\n",
    " 'H5v',\n",
    " 'X3Av',\n",
    " 'SIC1',\n",
    " 'MATS6p',\n",
    " 'RDF055v',\n",
    " 'B03[O-O]',\n",
    " 'G2p',\n",
    " 'SpMAD_EA(bo)']"
   ]
  },
  {
   "cell_type": "code",
   "execution_count": 22,
   "id": "announced-ticket",
   "metadata": {},
   "outputs": [],
   "source": [
    "#training_cols = list(vals_cols[:sel_no_cols])\n",
    "training_cols = rf_sel\n",
    "X_sel_train = X_train[training_cols]\n",
    "X_sel_valid = X_valid[training_cols]"
   ]
  },
  {
   "cell_type": "code",
   "execution_count": 23,
   "id": "ignored-support",
   "metadata": {},
   "outputs": [],
   "source": [
    "model = keras.models.Sequential([\n",
    "    #keras.layers.GaussianNoise(stddev=0.1),\n",
    "    keras.layers.Dense(50, activation='relu', input_shape=(sel_no_cols,)),\n",
    "    keras.layers.Dense(20, activation='relu'),\n",
    "    keras.layers.Dense(10, activation='relu'),\n",
    "    keras.layers.Dense(1)\n",
    "])"
   ]
  },
  {
   "cell_type": "code",
   "execution_count": 24,
   "id": "proof-liquid",
   "metadata": {},
   "outputs": [],
   "source": [
    "model.compile(\n",
    "    optimizer=tf.optimizers.Adam(learning_rate=0.005),\n",
    "    loss='mean_squared_error')"
   ]
  },
  {
   "cell_type": "code",
   "execution_count": 25,
   "id": "contrary-albany",
   "metadata": {},
   "outputs": [
    {
     "name": "stdout",
     "output_type": "stream",
     "text": [
      "Epoch 1/25\n",
      "2/2 [==============================] - 0s 42ms/step - loss: 8560.9014 - val_loss: 5081.9556\n",
      "Epoch 2/25\n",
      "2/2 [==============================] - 0s 0s/step - loss: 8239.7275 - val_loss: 5516.7847\n",
      "Epoch 3/25\n",
      "2/2 [==============================] - 0s 8ms/step - loss: 8079.8989 - val_loss: 5965.6851\n",
      "Epoch 4/25\n",
      "2/2 [==============================] - 0s 0s/step - loss: 8081.3506 - val_loss: 6368.6479\n",
      "Epoch 5/25\n",
      "2/2 [==============================] - 0s 8ms/step - loss: 8338.3887 - val_loss: 6646.4312\n",
      "Epoch 6/25\n",
      "2/2 [==============================] - 0s 0s/step - loss: 8174.6030 - val_loss: 6162.5078\n",
      "Epoch 7/25\n",
      "2/2 [==============================] - 0s 8ms/step - loss: 8034.3970 - val_loss: 5740.9849\n",
      "Epoch 8/25\n",
      "2/2 [==============================] - 0s 0s/step - loss: 8032.5938 - val_loss: 5441.0757\n",
      "Epoch 9/25\n",
      "2/2 [==============================] - 0s 8ms/step - loss: 8007.3789 - val_loss: 5332.3027\n",
      "Epoch 10/25\n",
      "2/2 [==============================] - 0s 0s/step - loss: 7993.8208 - val_loss: 5310.6953\n",
      "Epoch 11/25\n",
      "2/2 [==============================] - 0s 8ms/step - loss: 7935.3633 - val_loss: 5347.7368\n",
      "Epoch 12/25\n",
      "2/2 [==============================] - 0s 0s/step - loss: 7953.4336 - val_loss: 5543.4624\n",
      "Epoch 13/25\n",
      "2/2 [==============================] - 0s 8ms/step - loss: 7856.1411 - val_loss: 5512.0737\n",
      "Epoch 14/25\n",
      "2/2 [==============================] - 0s 3ms/step - loss: 7789.4551 - val_loss: 5637.1504\n",
      "Epoch 15/25\n",
      "2/2 [==============================] - 0s 0s/step - loss: 7791.3887 - val_loss: 5750.8745\n",
      "Epoch 16/25\n",
      "2/2 [==============================] - 0s 8ms/step - loss: 7750.6318 - val_loss: 5538.3086\n",
      "Epoch 17/25\n",
      "2/2 [==============================] - 0s 0s/step - loss: 7677.3022 - val_loss: 5399.3237\n",
      "Epoch 18/25\n",
      "2/2 [==============================] - 0s 8ms/step - loss: 7658.2227 - val_loss: 5131.7290\n",
      "Epoch 19/25\n",
      "2/2 [==============================] - 0s 0s/step - loss: 7570.8184 - val_loss: 5085.1646\n",
      "Epoch 20/25\n",
      "2/2 [==============================] - 0s 8ms/step - loss: 7503.4990 - val_loss: 5032.8052\n",
      "Epoch 21/25\n",
      "2/2 [==============================] - 0s 0s/step - loss: 7446.6558 - val_loss: 5003.0000\n",
      "Epoch 22/25\n",
      "2/2 [==============================] - 0s 8ms/step - loss: 7365.2720 - val_loss: 5042.7573\n",
      "Epoch 23/25\n",
      "2/2 [==============================] - 0s 0s/step - loss: 7309.3066 - val_loss: 5018.0454\n",
      "Epoch 24/25\n",
      "2/2 [==============================] - 0s 8ms/step - loss: 7372.7070 - val_loss: 4794.6030\n",
      "Epoch 25/25\n",
      "2/2 [==============================] - 0s 0s/step - loss: 7161.1631 - val_loss: 4933.3677\n"
     ]
    }
   ],
   "source": [
    "history = model.fit(X_sel_train, y_train, validation_data=(X_sel_valid, y_valid), epochs=25)"
   ]
  },
  {
   "cell_type": "code",
   "execution_count": 26,
   "id": "looking-elevation",
   "metadata": {},
   "outputs": [],
   "source": [
    "y_pred = model.predict(X_sel_valid)"
   ]
  },
  {
   "cell_type": "code",
   "execution_count": 27,
   "id": "guided-likelihood",
   "metadata": {},
   "outputs": [
    {
     "name": "stdout",
     "output_type": "stream",
     "text": [
      "true: inhibition efficiency ZE41 / %   -157\n",
      "Name: 0, dtype: int64, predicted: -43.631\n",
      "true: inhibition efficiency ZE41 / %    39\n",
      "Name: 5, dtype: int64, predicted: -26.311\n",
      "true: inhibition efficiency ZE41 / %    12\n",
      "Name: 36, dtype: int64, predicted: -42.261\n",
      "true: inhibition efficiency ZE41 / %   -6\n",
      "Name: 45, dtype: int64, predicted: -32.306\n",
      "true: inhibition efficiency ZE41 / %    38\n",
      "Name: 13, dtype: int64, predicted: -54.641\n",
      "true: inhibition efficiency ZE41 / %   -17\n",
      "Name: 54, dtype: int64, predicted: -33.240\n"
     ]
    }
   ],
   "source": [
    "for i in range(y_pred.shape[0]):\n",
    "    print('true: {}, predicted: {:.3f}'.format(y_valid.iloc[i], y_pred[i, 0]))"
   ]
  },
  {
   "cell_type": "code",
   "execution_count": 28,
   "id": "ethical-dayton",
   "metadata": {},
   "outputs": [
    {
     "ename": "TypeError",
     "evalue": "unsupported format string passed to Series.__format__",
     "output_type": "error",
     "traceback": [
      "\u001b[1;31m---------------------------------------------------------------------------\u001b[0m",
      "\u001b[1;31mTypeError\u001b[0m                                 Traceback (most recent call last)",
      "\u001b[1;32m<ipython-input-28-620cc569970d>\u001b[0m in \u001b[0;36m<module>\u001b[1;34m\u001b[0m\n\u001b[0;32m      1\u001b[0m \u001b[1;32mfor\u001b[0m \u001b[0mi\u001b[0m \u001b[1;32min\u001b[0m \u001b[0mrange\u001b[0m\u001b[1;33m(\u001b[0m\u001b[0my_pred\u001b[0m\u001b[1;33m.\u001b[0m\u001b[0mshape\u001b[0m\u001b[1;33m[\u001b[0m\u001b[1;36m0\u001b[0m\u001b[1;33m]\u001b[0m\u001b[1;33m)\u001b[0m\u001b[1;33m:\u001b[0m\u001b[1;33m\u001b[0m\u001b[1;33m\u001b[0m\u001b[0m\n\u001b[1;32m----> 2\u001b[1;33m     \u001b[0mprint\u001b[0m\u001b[1;33m(\u001b[0m\u001b[1;34m'true: {:.0f}, predicted: {:.0f}'\u001b[0m\u001b[1;33m.\u001b[0m\u001b[0mformat\u001b[0m\u001b[1;33m(\u001b[0m\u001b[0my_valid\u001b[0m\u001b[1;33m.\u001b[0m\u001b[0miloc\u001b[0m\u001b[1;33m[\u001b[0m\u001b[0mi\u001b[0m\u001b[1;33m]\u001b[0m\u001b[1;33m*\u001b[0m\u001b[1;36m345\u001b[0m\u001b[1;33m-\u001b[0m\u001b[1;36m270\u001b[0m\u001b[1;33m,\u001b[0m \u001b[0my_pred\u001b[0m\u001b[1;33m[\u001b[0m\u001b[0mi\u001b[0m\u001b[1;33m,\u001b[0m \u001b[1;36m0\u001b[0m\u001b[1;33m]\u001b[0m\u001b[1;33m*\u001b[0m\u001b[1;36m345\u001b[0m\u001b[1;33m-\u001b[0m\u001b[1;36m270\u001b[0m\u001b[1;33m)\u001b[0m\u001b[1;33m)\u001b[0m\u001b[1;33m\u001b[0m\u001b[1;33m\u001b[0m\u001b[0m\n\u001b[0m",
      "\u001b[1;31mTypeError\u001b[0m: unsupported format string passed to Series.__format__"
     ]
    }
   ],
   "source": [
    "for i in range(y_pred.shape[0]):\n",
    "    print('true: {:.0f}, predicted: {:.0f}'.format(y_valid.iloc[i]*345-270, y_pred[i, 0]*345-270))"
   ]
  },
  {
   "cell_type": "code",
   "execution_count": null,
   "id": "initial-pacific",
   "metadata": {},
   "outputs": [],
   "source": [
    "y_valid"
   ]
  },
  {
   "cell_type": "code",
   "execution_count": null,
   "id": "sunset-potential",
   "metadata": {},
   "outputs": [],
   "source": [
    "counts_cols[-316]"
   ]
  },
  {
   "cell_type": "code",
   "execution_count": null,
   "id": "searching-overall",
   "metadata": {},
   "outputs": [],
   "source": [
    "vals_cols[:15]"
   ]
  },
  {
   "cell_type": "code",
   "execution_count": null,
   "id": "unknown-antarctica",
   "metadata": {},
   "outputs": [],
   "source": [
    "len(list(vals_cols[:sel_no_cols]) + rf_sel)"
   ]
  },
  {
   "cell_type": "code",
   "execution_count": null,
   "id": "opposite-portland",
   "metadata": {},
   "outputs": [],
   "source": [
    "list(vals_cols[:sel_no_cols])"
   ]
  },
  {
   "cell_type": "code",
   "execution_count": null,
   "id": "clinical-buyer",
   "metadata": {},
   "outputs": [],
   "source": [
    "vals_cols.index('Hlgap / e')"
   ]
  },
  {
   "cell_type": "code",
   "execution_count": null,
   "id": "juvenile-airfare",
   "metadata": {},
   "outputs": [],
   "source": []
  }
 ],
 "metadata": {
  "kernelspec": {
   "display_name": "Python 3",
   "language": "python",
   "name": "python3"
  },
  "language_info": {
   "codemirror_mode": {
    "name": "ipython",
    "version": 3
   },
   "file_extension": ".py",
   "mimetype": "text/x-python",
   "name": "python",
   "nbconvert_exporter": "python",
   "pygments_lexer": "ipython3",
   "version": "3.7.9"
  }
 },
 "nbformat": 4,
 "nbformat_minor": 5
}
