{
 "cells": [
  {
   "cell_type": "code",
   "execution_count": 1,
   "id": "educational-contribution",
   "metadata": {},
   "outputs": [],
   "source": [
    "import pandas as pd\n",
    "import numpy as np\n",
    "from sklearn.model_selection import train_test_split\n",
    "from sklearn.ensemble import RandomForestRegressor\n",
    "from sklearn.preprocessing import MinMaxScaler\n",
    "from sklearn.feature_selection import RFE\n",
    "import matplotlib.pyplot as plt\n",
    "from tensorflow import keras\n",
    "import tensorflow as tf"
   ]
  },
  {
   "cell_type": "code",
   "execution_count": 2,
   "id": "suspended-lafayette",
   "metadata": {},
   "outputs": [],
   "source": [
    "seeds = np.arange(100)\n",
    "random_state=42"
   ]
  },
  {
   "cell_type": "code",
   "execution_count": 3,
   "id": "magnetic-scope",
   "metadata": {},
   "outputs": [],
   "source": [
    "data = pd.read_csv('..\\\\Data\\\\ze41_mol_desc_db_red.csv', header=0, sep=';', decimal=',')"
   ]
  },
  {
   "cell_type": "code",
   "execution_count": 4,
   "id": "unique-selling",
   "metadata": {},
   "outputs": [],
   "source": [
    "col_names = data.columns\n",
    "#col_names = col_names.drop(labels=['HOMO / eV', 'LUMO / eV'])\n",
    "X = data[col_names[3:]]\n",
    "y = data[col_names[1]]"
   ]
  },
  {
   "cell_type": "code",
   "execution_count": 5,
   "id": "british-gothic",
   "metadata": {},
   "outputs": [],
   "source": [
    "X_train, X_valid, y_train, y_valid = train_test_split(X, y, test_size=0.1, random_state=random_state)\n",
    "[X_train, X_valid, y_train, y_valid] = [pd.DataFrame(x) for x in [X_train, X_valid, y_train, y_valid]]"
   ]
  },
  {
   "cell_type": "code",
   "execution_count": 6,
   "id": "guilty-combining",
   "metadata": {},
   "outputs": [],
   "source": [
    "scalex = MinMaxScaler(feature_range=(-1,1))\n",
    "scalex.fit(X_train)\n",
    "[X_train_sc, X_valid_sc] = [pd.DataFrame(scalex.transform(x), columns=X.columns) for x in [X_train, X_valid]]"
   ]
  },
  {
   "cell_type": "code",
   "execution_count": 7,
   "id": "alone-tracker",
   "metadata": {},
   "outputs": [],
   "source": [
    "scaley = MinMaxScaler(feature_range=(0, 1))\n",
    "scaley.fit(y_train)\n",
    "[y_train_sc, y_valid_sc] = [pd.DataFrame(scaley.transform(y), columns=y.columns) for y in [y_train, y_valid]]"
   ]
  },
  {
   "cell_type": "code",
   "execution_count": 8,
   "id": "constant-joyce",
   "metadata": {},
   "outputs": [],
   "source": [
    "#X_train, X_valid, y_train, y_valid = train_test_split(X_scaled, y, test_size=0.1, random_state=random_state)\n",
    "#X_train = pd.DataFrame(X_train)\n",
    "#X_train.columns = X.columns\n",
    "#X_valid = pd.DataFrame(X_valid)\n",
    "#X_valid.columns = X.columns"
   ]
  },
  {
   "cell_type": "code",
   "execution_count": 9,
   "id": "proof-shower",
   "metadata": {},
   "outputs": [],
   "source": [
    "selected_cols = []"
   ]
  },
  {
   "cell_type": "code",
   "execution_count": 10,
   "id": "damaged-south",
   "metadata": {},
   "outputs": [
    {
     "data": {
      "text/plain": [
       "63"
      ]
     },
     "execution_count": 10,
     "metadata": {},
     "output_type": "execute_result"
    }
   ],
   "source": [
    "select_percent = 5\n",
    "sel_no_cols = int(len(X_train_sc.columns)*select_percent/100)\n",
    "sel_no_cols"
   ]
  },
  {
   "cell_type": "code",
   "execution_count": 11,
   "id": "honey-majority",
   "metadata": {},
   "outputs": [],
   "source": [
    "for seed in seeds:\n",
    "    rf = RandomForestRegressor(n_estimators=100, n_jobs=-1, oob_score=True, bootstrap=True, random_state=seed)\n",
    "    selector = RFE(rf, n_features_to_select=sel_no_cols, step=0.1).fit(X_train_sc, np.ravel(y_train_sc))\n",
    "    selected_cols.append([X_train_sc.columns[i] for i in range(len(selector.support_)) if selector.support_[i]])"
   ]
  },
  {
   "cell_type": "code",
   "execution_count": 12,
   "id": "owned-wayne",
   "metadata": {},
   "outputs": [],
   "source": [
    "vals, counts = np.unique(selected_cols, axis=0, return_counts=True)"
   ]
  },
  {
   "cell_type": "code",
   "execution_count": 13,
   "id": "specific-individual",
   "metadata": {},
   "outputs": [
    {
     "data": {
      "text/plain": [
       "array([1, 1, 1, 1, 1, 1, 1, 1, 1, 1, 1, 1, 1, 1, 1, 1, 1, 1, 1, 1, 1, 1,\n",
       "       1, 1, 1, 1, 1, 1, 1, 1, 1, 1, 1, 1, 1, 1, 1, 1, 1, 1, 1, 1, 1, 1,\n",
       "       1, 1, 1, 1, 1, 1, 1, 1, 1, 1, 1, 1, 1, 1, 1, 1, 1, 1, 1, 1, 1, 1,\n",
       "       1, 1, 1, 1, 1, 1, 1, 1, 1, 1, 1, 1, 1, 1, 1, 1, 1, 1, 1, 1, 1, 1,\n",
       "       1, 1, 1, 1, 1, 1, 1, 1, 1, 1, 1, 1], dtype=int64)"
      ]
     },
     "execution_count": 13,
     "metadata": {},
     "output_type": "execute_result"
    }
   ],
   "source": [
    "counts"
   ]
  },
  {
   "cell_type": "code",
   "execution_count": 14,
   "id": "satisfied-hacker",
   "metadata": {},
   "outputs": [],
   "source": [
    "all_sel_cols = [c for lst in selected_cols for c in lst]"
   ]
  },
  {
   "cell_type": "code",
   "execution_count": 15,
   "id": "stable-lender",
   "metadata": {},
   "outputs": [],
   "source": [
    "vals_cols, counts_cols = np.unique(all_sel_cols, axis=0, return_counts=True)"
   ]
  },
  {
   "cell_type": "code",
   "execution_count": 16,
   "id": "likely-kansas",
   "metadata": {},
   "outputs": [],
   "source": [
    "distr = [len([c for c in counts_cols if c > i]) for i in seeds]"
   ]
  },
  {
   "cell_type": "code",
   "execution_count": 17,
   "id": "transsexual-preservation",
   "metadata": {},
   "outputs": [
    {
     "data": {
      "text/plain": [
       "[16, 15, 15, 14, 14, 13, 12, 11, 11, 11, 10, 10, 9, 7, 6, 5]"
      ]
     },
     "execution_count": 17,
     "metadata": {},
     "output_type": "execute_result"
    }
   ],
   "source": [
    "distr[84:]"
   ]
  },
  {
   "cell_type": "code",
   "execution_count": 18,
   "id": "employed-alberta",
   "metadata": {},
   "outputs": [
    {
     "data": {
      "image/png": "[encoded data removed]",
      "text/plain": [
       "<Figure size 432x288 with 1 Axes>"
      ]
     },
     "metadata": {
      "needs_background": "light"
     },
     "output_type": "display_data"
    }
   ],
   "source": [
    "fig, ax = plt.subplots()\n",
    "ax.plot(seeds, distr)\n",
    "ax.plot(30, 63, 'ro', markersize=8)\n",
    "ax.annotate('63 features used in at least 30% of all runs', xy=(30, 63), xytext=(30, 100))\n",
    "plt.ylabel('Number of features')\n",
    "plt.xlabel('Percent of runs')\n",
    "plt.title('Number of features that are included in at least x runs')\n",
    "#plt.yscale('log')\n",
    "#plt.ylim([0, 63])\n",
    "plt.show()"
   ]
  },
  {
   "cell_type": "code",
   "execution_count": 19,
   "id": "convinced-symposium",
   "metadata": {},
   "outputs": [],
   "source": [
    "counts_cols, vals_cols = zip(*sorted(zip(counts_cols, vals_cols), reverse=True))"
   ]
  },
  {
   "cell_type": "code",
   "execution_count": 20,
   "id": "exact-sessions",
   "metadata": {},
   "outputs": [
    {
     "data": {
      "text/plain": [
       "('P_VSA_MR_5',\n",
       " 'Mor22s',\n",
       " 'Mor04m',\n",
       " 'LUMO / eV',\n",
       " 'E1p',\n",
       " 'HOMO / eV',\n",
       " 'P_VSA_LogP_2',\n",
       " 'Mor29v',\n",
       " 'MATS5v',\n",
       " 'Mor14s',\n",
       " 'Mor14u',\n",
       " 'CATS3D_02_AP',\n",
       " 'GATS5v',\n",
       " 'MATS5m',\n",
       " 'GATS2s',\n",
       " 'Mor32m')"
      ]
     },
     "execution_count": 20,
     "metadata": {},
     "output_type": "execute_result"
    }
   ],
   "source": [
    "vals_cols[:distr[84]]"
   ]
  },
  {
   "cell_type": "code",
   "execution_count": 21,
   "id": "resistant-learning",
   "metadata": {},
   "outputs": [],
   "source": [
    "rf_sel = ['VE2_G/D',\n",
    " 'Eig14_EA(dm)',\n",
    " 'Mor31m',\n",
    " 'TDB04u',\n",
    " 'HATS1e',\n",
    " 'HATS3p',\n",
    " 'RDF015p',\n",
    " 'Mor17s',\n",
    " 'N-072',\n",
    " 'O-057',\n",
    " 'MATS2m',\n",
    " 'E2m',\n",
    " 'RDF035v',\n",
    " 'Dp',\n",
    " 'CATS2D_00_AA',\n",
    " 'CATS3D_03_DL',\n",
    " 'SpPosA_D/Dt',\n",
    " 'CATS2D_02_AP',\n",
    " 'SpMaxA_EA(bo)',\n",
    " 'F03[C-N]',\n",
    " 'RDF080e',\n",
    " 'Chi_RG',\n",
    " 'HATS0e',\n",
    " 'CATS2D_06_PP',\n",
    " 'Eta_beta_A',\n",
    " 'SaaNH',\n",
    " 'MATS3v',\n",
    " 'SpMax6_Bh(s)',\n",
    " 'Mor09s',\n",
    " 'CATS2D_02_PL',\n",
    " 'HATS6p',\n",
    " 'Chi_Dz(e)',\n",
    " 'SsOH',\n",
    " 'Mor19p',\n",
    " 'H4i',\n",
    " 'Eta_FL_A',\n",
    " 'SAacc',\n",
    " 'R6m+',\n",
    " 'SpMAD_B(s)',\n",
    " 'SpMAD_G/D',\n",
    " 'R5m',\n",
    " 'TDB04i',\n",
    " 'nOHs',\n",
    " 'SM07_EA(bo)',\n",
    " 'GATS2m',\n",
    " 'SpMax2_Bh(e)',\n",
    " 'R4s',\n",
    " 'GATS6v',\n",
    " 'Ts',\n",
    " 'CATS2D_07_DD',\n",
    " 'CATS2D_04_AL',\n",
    " 'F06[C-C]',\n",
    " 'RDF045m',\n",
    " 'nRNR2',\n",
    " 'HATS2m',\n",
    " 'H5v',\n",
    " 'X3Av',\n",
    " 'SIC1',\n",
    " 'MATS6p',\n",
    " 'RDF055v',\n",
    " 'B03[O-O]',\n",
    " 'G2p',\n",
    " 'SpMAD_EA(bo)']"
   ]
  },
  {
   "cell_type": "code",
   "execution_count": 22,
   "id": "announced-ticket",
   "metadata": {},
   "outputs": [],
   "source": [
    "#training_cols = list(vals_cols[:sel_no_cols])\n",
    "training_cols = rf_sel\n",
    "X_sel_train = X_train[training_cols]\n",
    "X_sel_valid = X_valid[training_cols]"
   ]
  },
  {
   "cell_type": "code",
   "execution_count": 23,
   "id": "ignored-support",
   "metadata": {},
   "outputs": [],
   "source": [
    "model = keras.models.Sequential([\n",
    "    #keras.layers.GaussianNoise(stddev=0.1),\n",
    "    keras.layers.Dense(50, activation='relu', input_shape=(sel_no_cols,)),\n",
    "    keras.layers.Dense(20, activation='relu'),\n",
    "    keras.layers.Dense(10, activation='relu'),\n",
    "    keras.layers.Dense(1)\n",
    "])"
   ]
  },
  {
   "cell_type": "code",
   "execution_count": 24,
   "id": "proof-liquid",
   "metadata": {},
   "outputs": [],
   "source": [
    "model.compile(\n",
    "    optimizer=tf.optimizers.Adam(learning_rate=0.005),\n",
    "    loss='mean_squared_error')"
   ]
  },
  {
   "cell_type": "code",
   "execution_count": 25,
   "id": "contrary-albany",
   "metadata": {},
   "outputs": [
    {
     "name": "stdout",
     "output_type": "stream",
     "text": [
      "Epoch 1/25\n",
      "2/2 [==============================] - 0s 55ms/step - loss: 8985.0820 - val_loss: 4818.3130\n",
      "Epoch 2/25\n",
      "2/2 [==============================] - 0s 8ms/step - loss: 8662.0635 - val_loss: 4966.5044\n",
      "Epoch 3/25\n",
      "2/2 [==============================] - 0s 8ms/step - loss: 8379.3047 - val_loss: 5206.3833\n",
      "Epoch 4/25\n",
      "2/2 [==============================] - 0s 8ms/step - loss: 8155.5972 - val_loss: 5508.9766\n",
      "Epoch 5/25\n",
      "2/2 [==============================] - 0s 8ms/step - loss: 8073.8662 - val_loss: 5898.2598\n",
      "Epoch 6/25\n",
      "2/2 [==============================] - 0s 8ms/step - loss: 8080.7812 - val_loss: 6242.2417\n",
      "Epoch 7/25\n",
      "2/2 [==============================] - 0s 8ms/step - loss: 8104.8633 - val_loss: 6316.8501\n",
      "Epoch 8/25\n",
      "2/2 [==============================] - 0s 8ms/step - loss: 8121.9272 - val_loss: 6259.8726\n",
      "Epoch 9/25\n",
      "2/2 [==============================] - 0s 8ms/step - loss: 8079.9883 - val_loss: 6204.2944\n",
      "Epoch 10/25\n",
      "2/2 [==============================] - 0s 8ms/step - loss: 8055.9106 - val_loss: 6095.2437\n",
      "Epoch 11/25\n",
      "2/2 [==============================] - 0s 8ms/step - loss: 8025.7959 - val_loss: 5872.9165\n",
      "Epoch 12/25\n",
      "2/2 [==============================] - 0s 8ms/step - loss: 7962.7373 - val_loss: 5704.0483\n",
      "Epoch 13/25\n",
      "2/2 [==============================] - ETA: 0s - loss: 7347.36 - 0s 8ms/step - loss: 7958.0220 - val_loss: 5539.0278\n",
      "Epoch 14/25\n",
      "2/2 [==============================] - 0s 8ms/step - loss: 7905.1821 - val_loss: 5432.8281\n",
      "Epoch 15/25\n",
      "2/2 [==============================] - 0s 8ms/step - loss: 7880.3062 - val_loss: 5321.9492\n",
      "Epoch 16/25\n",
      "2/2 [==============================] - 0s 8ms/step - loss: 7850.3315 - val_loss: 5282.0376\n",
      "Epoch 17/25\n",
      "2/2 [==============================] - 0s 8ms/step - loss: 7805.3521 - val_loss: 5363.9585\n",
      "Epoch 18/25\n",
      "2/2 [==============================] - ETA: 0s - loss: 7103.58 - 0s 16ms/step - loss: 7742.7651 - val_loss: 5426.8325\n",
      "Epoch 19/25\n",
      "2/2 [==============================] - 0s 8ms/step - loss: 7700.5337 - val_loss: 5395.7524\n",
      "Epoch 20/25\n",
      "2/2 [==============================] - 0s 8ms/step - loss: 7640.1074 - val_loss: 5487.3750\n",
      "Epoch 21/25\n",
      "2/2 [==============================] - 0s 8ms/step - loss: 7607.2090 - val_loss: 5433.2534\n",
      "Epoch 22/25\n",
      "2/2 [==============================] - 0s 8ms/step - loss: 7563.7583 - val_loss: 5168.7163\n",
      "Epoch 23/25\n",
      "2/2 [==============================] - 0s 8ms/step - loss: 7499.1099 - val_loss: 5088.3374\n",
      "Epoch 24/25\n",
      "2/2 [==============================] - 0s 8ms/step - loss: 7441.7290 - val_loss: 4894.3823\n",
      "Epoch 25/25\n",
      "2/2 [==============================] - 0s 8ms/step - loss: 7390.9165 - val_loss: 4833.2930\n"
     ]
    }
   ],
   "source": [
    "history = model.fit(X_sel_train, y_train, validation_data=(X_sel_valid, y_valid), epochs=25)"
   ]
  },
  {
   "cell_type": "code",
   "execution_count": 26,
   "id": "looking-elevation",
   "metadata": {},
   "outputs": [],
   "source": [
    "y_pred = model.predict(X_sel_valid)"
   ]
  },
  {
   "cell_type": "code",
   "execution_count": 27,
   "id": "guided-likelihood",
   "metadata": {},
   "outputs": [
    {
     "name": "stdout",
     "output_type": "stream",
     "text": [
      "true: inhibition efficiency ZE41 / %   -157\n",
      "Name: 0, dtype: int64, predicted: -37.497\n",
      "true: inhibition efficiency ZE41 / %    39\n",
      "Name: 5, dtype: int64, predicted: -28.104\n",
      "true: inhibition efficiency ZE41 / %    12\n",
      "Name: 36, dtype: int64, predicted: -35.437\n",
      "true: inhibition efficiency ZE41 / %   -6\n",
      "Name: 45, dtype: int64, predicted: -28.854\n",
      "true: inhibition efficiency ZE41 / %    38\n",
      "Name: 13, dtype: int64, predicted: -46.810\n",
      "true: inhibition efficiency ZE41 / %   -17\n",
      "Name: 54, dtype: int64, predicted: -32.828\n"
     ]
    }
   ],
   "source": [
    "for i in range(y_pred.shape[0]):\n",
    "    print('true: {}, predicted: {:.3f}'.format(y_valid.iloc[i], y_pred[i, 0]))"
   ]
  },
  {
   "cell_type": "code",
   "execution_count": 28,
   "id": "ethical-dayton",
   "metadata": {},
   "outputs": [
    {
     "ename": "TypeError",
     "evalue": "unsupported format string passed to Series.__format__",
     "output_type": "error",
     "traceback": [
      "\u001b[1;31m---------------------------------------------------------------------------\u001b[0m",
      "\u001b[1;31mTypeError\u001b[0m                                 Traceback (most recent call last)",
      "\u001b[1;32m<ipython-input-28-620cc569970d>\u001b[0m in \u001b[0;36m<module>\u001b[1;34m\u001b[0m\n\u001b[0;32m      1\u001b[0m \u001b[1;32mfor\u001b[0m \u001b[0mi\u001b[0m \u001b[1;32min\u001b[0m \u001b[0mrange\u001b[0m\u001b[1;33m(\u001b[0m\u001b[0my_pred\u001b[0m\u001b[1;33m.\u001b[0m\u001b[0mshape\u001b[0m\u001b[1;33m[\u001b[0m\u001b[1;36m0\u001b[0m\u001b[1;33m]\u001b[0m\u001b[1;33m)\u001b[0m\u001b[1;33m:\u001b[0m\u001b[1;33m\u001b[0m\u001b[1;33m\u001b[0m\u001b[0m\n\u001b[1;32m----> 2\u001b[1;33m     \u001b[0mprint\u001b[0m\u001b[1;33m(\u001b[0m\u001b[1;34m'true: {:.0f}, predicted: {:.0f}'\u001b[0m\u001b[1;33m.\u001b[0m\u001b[0mformat\u001b[0m\u001b[1;33m(\u001b[0m\u001b[0my_valid\u001b[0m\u001b[1;33m.\u001b[0m\u001b[0miloc\u001b[0m\u001b[1;33m[\u001b[0m\u001b[0mi\u001b[0m\u001b[1;33m]\u001b[0m\u001b[1;33m*\u001b[0m\u001b[1;36m345\u001b[0m\u001b[1;33m-\u001b[0m\u001b[1;36m270\u001b[0m\u001b[1;33m,\u001b[0m \u001b[0my_pred\u001b[0m\u001b[1;33m[\u001b[0m\u001b[0mi\u001b[0m\u001b[1;33m,\u001b[0m \u001b[1;36m0\u001b[0m\u001b[1;33m]\u001b[0m\u001b[1;33m*\u001b[0m\u001b[1;36m345\u001b[0m\u001b[1;33m-\u001b[0m\u001b[1;36m270\u001b[0m\u001b[1;33m)\u001b[0m\u001b[1;33m)\u001b[0m\u001b[1;33m\u001b[0m\u001b[1;33m\u001b[0m\u001b[0m\n\u001b[0m",
      "\u001b[1;31mTypeError\u001b[0m: unsupported format string passed to Series.__format__"
     ]
    }
   ],
   "source": [
    "for i in range(y_pred.shape[0]):\n",
    "    print('true: {:.0f}, predicted: {:.0f}'.format(y_valid.iloc[i]*345-270, y_pred[i, 0]*345-270))"
   ]
  },
  {
   "cell_type": "code",
   "execution_count": 29,
   "id": "initial-pacific",
   "metadata": {},
   "outputs": [
    {
     "data": {
      "text/html": [
       "<div>\n",
       "<style scoped>\n",
       "    .dataframe tbody tr th:only-of-type {\n",
       "        vertical-align: middle;\n",
       "    }\n",
       "\n",
       "    .dataframe tbody tr th {\n",
       "        vertical-align: top;\n",
       "    }\n",
       "\n",
       "    .dataframe thead th {\n",
       "        text-align: right;\n",
       "    }\n",
       "</style>\n",
       "<table border=\"1\" class=\"dataframe\">\n",
       "  <thead>\n",
       "    <tr style=\"text-align: right;\">\n",
       "      <th></th>\n",
       "      <th>inhibition efficiency ZE41 / %</th>\n",
       "    </tr>\n",
       "  </thead>\n",
       "  <tbody>\n",
       "    <tr>\n",
       "      <th>0</th>\n",
       "      <td>-157</td>\n",
       "    </tr>\n",
       "    <tr>\n",
       "      <th>5</th>\n",
       "      <td>39</td>\n",
       "    </tr>\n",
       "    <tr>\n",
       "      <th>36</th>\n",
       "      <td>12</td>\n",
       "    </tr>\n",
       "    <tr>\n",
       "      <th>45</th>\n",
       "      <td>-6</td>\n",
       "    </tr>\n",
       "    <tr>\n",
       "      <th>13</th>\n",
       "      <td>38</td>\n",
       "    </tr>\n",
       "    <tr>\n",
       "      <th>54</th>\n",
       "      <td>-17</td>\n",
       "    </tr>\n",
       "  </tbody>\n",
       "</table>\n",
       "</div>"
      ],
      "text/plain": [
       "    inhibition efficiency ZE41 / %\n",
       "0                             -157\n",
       "5                               39\n",
       "36                              12\n",
       "45                              -6\n",
       "13                              38\n",
       "54                             -17"
      ]
     },
     "execution_count": 29,
     "metadata": {},
     "output_type": "execute_result"
    }
   ],
   "source": [
    "y_valid"
   ]
  },
  {
   "cell_type": "code",
   "execution_count": 30,
   "id": "sunset-potential",
   "metadata": {},
   "outputs": [
    {
     "data": {
      "text/plain": [
       "6"
      ]
     },
     "execution_count": 30,
     "metadata": {},
     "output_type": "execute_result"
    }
   ],
   "source": [
    "counts_cols[-316]"
   ]
  },
  {
   "cell_type": "code",
   "execution_count": 31,
   "id": "searching-overall",
   "metadata": {},
   "outputs": [
    {
     "data": {
      "text/plain": [
       "('P_VSA_MR_5',\n",
       " 'Mor22s',\n",
       " 'Mor04m',\n",
       " 'LUMO / eV',\n",
       " 'E1p',\n",
       " 'HOMO / eV',\n",
       " 'P_VSA_LogP_2',\n",
       " 'Mor29v',\n",
       " 'MATS5v',\n",
       " 'Mor14s',\n",
       " 'Mor14u',\n",
       " 'CATS3D_02_AP',\n",
       " 'GATS5v',\n",
       " 'MATS5m',\n",
       " 'GATS2s')"
      ]
     },
     "execution_count": 31,
     "metadata": {},
     "output_type": "execute_result"
    }
   ],
   "source": [
    "vals_cols[:15]"
   ]
  },
  {
   "cell_type": "code",
   "execution_count": 32,
   "id": "unknown-antarctica",
   "metadata": {},
   "outputs": [
    {
     "data": {
      "text/plain": [
       "126"
      ]
     },
     "execution_count": 32,
     "metadata": {},
     "output_type": "execute_result"
    }
   ],
   "source": [
    "len(list(vals_cols[:sel_no_cols]) + rf_sel)"
   ]
  },
  {
   "cell_type": "code",
   "execution_count": 33,
   "id": "opposite-portland",
   "metadata": {},
   "outputs": [
    {
     "data": {
      "text/plain": [
       "['P_VSA_MR_5',\n",
       " 'Mor22s',\n",
       " 'Mor04m',\n",
       " 'LUMO / eV',\n",
       " 'E1p',\n",
       " 'HOMO / eV',\n",
       " 'P_VSA_LogP_2',\n",
       " 'Mor29v',\n",
       " 'MATS5v',\n",
       " 'Mor14s',\n",
       " 'Mor14u',\n",
       " 'CATS3D_02_AP',\n",
       " 'GATS5v',\n",
       " 'MATS5m',\n",
       " 'GATS2s',\n",
       " 'Mor32m',\n",
       " 'H3m',\n",
       " 'TDB04s',\n",
       " 'E2s',\n",
       " 'R5p+',\n",
       " 'R2e+',\n",
       " 'ISH',\n",
       " 'DISPm',\n",
       " 'R5i+',\n",
       " 'Mor04i',\n",
       " 'Ds',\n",
       " 'Mor03s',\n",
       " 'E2m',\n",
       " 'Mor28s',\n",
       " 'Mor11u',\n",
       " 'TDB03m',\n",
       " 'Mor19m',\n",
       " 'VE2sign_G',\n",
       " 'SpMAD_RG',\n",
       " 'R3s+',\n",
       " 'R5e+',\n",
       " 'E2v',\n",
       " 'Mor15i',\n",
       " 'T(N..O)',\n",
       " 'R2u+',\n",
       " 'MATS8p',\n",
       " 'Eta_epsi_5',\n",
       " 'MATS4s',\n",
       " 'H0v',\n",
       " 'Hy',\n",
       " 'E1i',\n",
       " 'VE1sign_G',\n",
       " 'Mor15s',\n",
       " 'E3e',\n",
       " 'Mor13u',\n",
       " 'Eig03_AEA(dm)',\n",
       " 'X4Av',\n",
       " 'P_VSA_e_3',\n",
       " 'Mor29e',\n",
       " 'Mor16m',\n",
       " 'GATS5m',\n",
       " 'E3p',\n",
       " 'E2e',\n",
       " 'X3Av',\n",
       " 'Mor19u',\n",
       " 'GATS4s',\n",
       " 'E3v',\n",
       " 'TDB04m']"
      ]
     },
     "execution_count": 33,
     "metadata": {},
     "output_type": "execute_result"
    }
   ],
   "source": [
    "list(vals_cols[:sel_no_cols])"
   ]
  },
  {
   "cell_type": "code",
   "execution_count": null,
   "id": "clinical-buyer",
   "metadata": {},
   "outputs": [],
   "source": [
    "vals_cols.index('Hlgap / e')"
   ]
  },
  {
   "cell_type": "code",
   "execution_count": null,
   "id": "juvenile-airfare",
   "metadata": {},
   "outputs": [],
   "source": []
  }
 ],
 "metadata": {
  "kernelspec": {
   "display_name": "Python 3",
   "language": "python",
   "name": "python3"
  },
  "language_info": {
   "codemirror_mode": {
    "name": "ipython",
    "version": 3
   },
   "file_extension": ".py",
   "mimetype": "text/x-python",
   "name": "python",
   "nbconvert_exporter": "python",
   "pygments_lexer": "ipython3",
   "version": "3.7.9"
  }
 },
 "nbformat": 4,
 "nbformat_minor": 5
}
