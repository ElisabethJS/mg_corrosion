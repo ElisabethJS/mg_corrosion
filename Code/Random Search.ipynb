{
 "cells": [
  {
   "cell_type": "code",
   "execution_count": 1,
   "id": "foreign-franchise",
   "metadata": {},
   "outputs": [],
   "source": [
    "import numpy as np\n",
    "import pandas as pd\n",
    "import tensorflow as tf\n",
    "from tensorflow import keras\n",
    "from sklearn.preprocessing import MinMaxScaler\n",
    "from sklearn.model_selection import train_test_split"
   ]
  },
  {
   "cell_type": "code",
   "execution_count": 2,
   "id": "virgin-belly",
   "metadata": {},
   "outputs": [],
   "source": [
    "random_state = 42\n",
    "seeds = np.arange(100)"
   ]
  },
  {
   "cell_type": "code",
   "execution_count": 3,
   "id": "challenging-screw",
   "metadata": {},
   "outputs": [],
   "source": [
    "data = pd.read_csv('..\\\\Data\\\\ze41_mol_desc_db_red.csv', header=0, sep=';', decimal=',')"
   ]
  },
  {
   "cell_type": "code",
   "execution_count": 4,
   "id": "former-composer",
   "metadata": {},
   "outputs": [],
   "source": [
    "col_names = data.columns\n",
    "x_cols = ['P_VSA_MR_5', 'Mor04m', 'E1p', 'Mor22s', 'LUMO / eV']\n",
    "#x_cols = ['VE2_G/D', 'Eig14_EA(dm)', 'Mor31m', 'TDB04u', 'HATS1e']\n",
    "X_full = data[col_names[3:]]\n",
    "y = data[col_names[2]]"
   ]
  },
  {
   "cell_type": "code",
   "execution_count": 5,
   "id": "champion-angola",
   "metadata": {},
   "outputs": [],
   "source": [
    "X_scaled = MinMaxScaler(feature_range=(0,1)).fit_transform(X_full)"
   ]
  },
  {
   "cell_type": "code",
   "execution_count": 6,
   "id": "opening-diesel",
   "metadata": {},
   "outputs": [],
   "source": [
    "X_train, X_valid, y_train, y_valid = train_test_split(X_scaled, y, test_size=0.1, random_state=random_state)"
   ]
  },
  {
   "cell_type": "code",
   "execution_count": 7,
   "id": "standard-lease",
   "metadata": {},
   "outputs": [],
   "source": [
    "def get_model():\n",
    "    model = keras.models.Sequential([\n",
    "        keras.layers.Dense(50, activation='relu', input_shape=(len(x_cols),)),\n",
    "        keras.layers.Dense(20, activation='relu'),\n",
    "        keras.layers.Dense(10, activation='relu'),\n",
    "        keras.layers.Dense(1)\n",
    "        ])\n",
    "    model.compile(\n",
    "        optimizer=tf.optimizers.Adam(learning_rate=0.01),\n",
    "        loss='mean_squared_error')\n",
    "    return model"
   ]
  },
  {
   "cell_type": "code",
   "execution_count": 8,
   "id": "unlikely-desert",
   "metadata": {},
   "outputs": [],
   "source": [
    "model = get_model()\n",
    "weights = model.get_weights()"
   ]
  },
  {
   "cell_type": "code",
   "execution_count": 9,
   "id": "every-filing",
   "metadata": {},
   "outputs": [],
   "source": [
    "x_col_idxs = [col_names.tolist().index(x) for x in x_cols]\n",
    "X_train_sel = X_train[:, x_col_idxs]\n",
    "X_val_sel = X_valid[:, x_col_idxs]\n",
    "history = model.fit(X_train_sel, y_train, validation_data=(X_val_sel, y_valid), verbose=0, epochs=25)"
   ]
  },
  {
   "cell_type": "code",
   "execution_count": 10,
   "id": "embedded-migration",
   "metadata": {},
   "outputs": [],
   "source": [
    "result = {tuple(sorted(x_col_idxs)) +(-1 ,-1): history.history['val_loss'][-1]}"
   ]
  },
  {
   "cell_type": "code",
   "execution_count": 11,
   "id": "conventional-dominant",
   "metadata": {
    "scrolled": true
   },
   "outputs": [
    {
     "name": "stdout",
     "output_type": "stream",
     "text": [
      "1\n",
      "2\n",
      "3\n",
      "4\n",
      "5\n",
      "6\n",
      "7\n",
      "8\n",
      "9\n",
      "10\n",
      "11\n",
      "12\n",
      "13\n",
      "14\n",
      "15\n",
      "16\n",
      "17\n",
      "18\n",
      "19\n",
      "20\n",
      "21\n",
      "22\n",
      "23\n",
      "24\n",
      "25\n",
      "26\n",
      "27\n",
      "28\n",
      "29\n",
      "30\n",
      "31\n",
      "32\n",
      "33\n",
      "34\n",
      "35\n",
      "36\n",
      "37\n",
      "38\n",
      "39\n",
      "40\n",
      "41\n",
      "42\n",
      "43\n",
      "44\n",
      "45\n",
      "46\n",
      "47\n",
      "48\n",
      "49\n",
      "50\n",
      "51\n",
      "52\n",
      "53\n",
      "54\n",
      "55\n",
      "56\n",
      "57\n",
      "58\n",
      "59\n",
      "60\n",
      "61\n",
      "62\n",
      "63\n",
      "64\n",
      "65\n",
      "66\n",
      "67\n",
      "68\n",
      "69\n",
      "70\n",
      "71\n",
      "72\n",
      "73\n",
      "74\n",
      "75\n",
      "76\n",
      "77\n",
      "78\n",
      "79\n",
      "80\n",
      "81\n",
      "82\n",
      "83\n",
      "84\n",
      "85\n",
      "86\n",
      "87\n",
      "88\n",
      "89\n",
      "90\n",
      "91\n",
      "92\n",
      "93\n",
      "94\n",
      "95\n",
      "96\n",
      "97\n",
      "98\n",
      "99\n",
      "100\n"
     ]
    }
   ],
   "source": [
    "for seed in seeds:\n",
    "    print(seed+1)\n",
    "    rng = np.random.default_rng(seed=seed)\n",
    "    for i in range(100):\n",
    "        model = get_model()\n",
    "        model.set_weights(weights)\n",
    "        idxs = rng.choice(len(col_names)-3, size=len(x_cols), replace=False)\n",
    "        X_train_sel = X_train[:, idxs]\n",
    "        X_val_sel = X_valid[:, idxs]\n",
    "        history = model.fit(X_train_sel, y_train, validation_data=(X_val_sel, y_valid), verbose=0, epochs=25)\n",
    "        result[tuple(sorted(idxs)) + (seed, i)] = history.history['val_loss'][-1]"
   ]
  },
  {
   "cell_type": "code",
   "execution_count": 12,
   "id": "floral-cooler",
   "metadata": {},
   "outputs": [
    {
     "data": {
      "text/plain": [
       "10001"
      ]
     },
     "execution_count": 12,
     "metadata": {},
     "output_type": "execute_result"
    }
   ],
   "source": [
    "len(result)"
   ]
  },
  {
   "cell_type": "code",
   "execution_count": 13,
   "id": "convinced-psychology",
   "metadata": {},
   "outputs": [
    {
     "data": {
      "text/plain": [
       "((176, 361, 384, 1062, 1233, 58, 1), 0.0041495985351502895)"
      ]
     },
     "execution_count": 13,
     "metadata": {},
     "output_type": "execute_result"
    }
   ],
   "source": [
    "min(result.items(), key=lambda x: x[1])"
   ]
  },
  {
   "cell_type": "code",
   "execution_count": 16,
   "id": "genetic-india",
   "metadata": {},
   "outputs": [],
   "source": [
    "val_loss_list = list(result.values())"
   ]
  },
  {
   "cell_type": "code",
   "execution_count": 17,
   "id": "weird-helmet",
   "metadata": {},
   "outputs": [
    {
     "data": {
      "text/plain": [
       "0.03346603691032956"
      ]
     },
     "execution_count": 17,
     "metadata": {},
     "output_type": "execute_result"
    }
   ],
   "source": [
    "np.mean(val_loss_list)"
   ]
  },
  {
   "cell_type": "code",
   "execution_count": 18,
   "id": "complimentary-medicaid",
   "metadata": {},
   "outputs": [
    {
     "data": {
      "text/plain": [
       "0.0041495985351502895"
      ]
     },
     "execution_count": 18,
     "metadata": {},
     "output_type": "execute_result"
    }
   ],
   "source": [
    "np.min(val_loss_list)"
   ]
  },
  {
   "cell_type": "code",
   "execution_count": 27,
   "id": "close-commonwealth",
   "metadata": {},
   "outputs": [
    {
     "data": {
      "text/plain": [
       "['CATS2D_04_DP', 'CATS3D_02_AP', 'Eta_betaS', 'P_VSA_LogP_4', 'VE1_B(s)']"
      ]
     },
     "execution_count": 27,
     "metadata": {},
     "output_type": "execute_result"
    }
   ],
   "source": [
    "best_random = [X_full.columns[i] for i in [176, 361, 384, 1062, 1233]]\n",
    "sorted(best_random)"
   ]
  },
  {
   "cell_type": "code",
   "execution_count": 26,
   "id": "revised-greensboro",
   "metadata": {},
   "outputs": [],
   "source": [
    "np.save('random_search.npy', result)"
   ]
  },
  {
   "cell_type": "code",
   "execution_count": 32,
   "id": "reverse-bunch",
   "metadata": {},
   "outputs": [],
   "source": [
    "res_array = []\n",
    "for key, value in result.items():\n",
    "    res_array.append([k for k in key] + [value])"
   ]
  },
  {
   "cell_type": "code",
   "execution_count": 34,
   "id": "coupled-mentor",
   "metadata": {},
   "outputs": [],
   "source": [
    "res_array = np.array(res_array)"
   ]
  },
  {
   "cell_type": "code",
   "execution_count": 36,
   "id": "ceramic-joint",
   "metadata": {},
   "outputs": [
    {
     "data": {
      "text/plain": [
       "(10001, 8)"
      ]
     },
     "execution_count": 36,
     "metadata": {},
     "output_type": "execute_result"
    }
   ],
   "source": [
    "res_array.shape"
   ]
  },
  {
   "cell_type": "code",
   "execution_count": 37,
   "id": "statutory-thursday",
   "metadata": {},
   "outputs": [],
   "source": [
    "import matplotlib.pyplot as plt"
   ]
  },
  {
   "cell_type": "code",
   "execution_count": 41,
   "id": "changed-means",
   "metadata": {},
   "outputs": [],
   "source": [
    "res_array = res_array[:, [5, 6, 0, 1, 2, 3, 4, 7]]"
   ]
  },
  {
   "cell_type": "code",
   "execution_count": 45,
   "id": "competent-share",
   "metadata": {},
   "outputs": [],
   "source": [
    "res_df = pd.DataFrame(res_array)"
   ]
  },
  {
   "cell_type": "code",
   "execution_count": 47,
   "id": "residential-leather",
   "metadata": {},
   "outputs": [],
   "source": [
    "res_df.columns=['seed', 'run', 'idx_0', 'idx_1', 'idx_2', 'idx_3', 'idx_4', 'score']"
   ]
  },
  {
   "cell_type": "code",
   "execution_count": 53,
   "id": "accurate-export",
   "metadata": {},
   "outputs": [],
   "source": [
    "for col in ['seed', 'run', 'idx_0', 'idx_1', 'idx_2', 'idx_3', 'idx_4']:\n",
    "    res_df[col] = res_df[col].astype(int)"
   ]
  },
  {
   "cell_type": "code",
   "execution_count": 55,
   "id": "advised-heaven",
   "metadata": {},
   "outputs": [
    {
     "data": {
      "text/html": [
       "<div>\n",
       "<style scoped>\n",
       "    .dataframe tbody tr th:only-of-type {\n",
       "        vertical-align: middle;\n",
       "    }\n",
       "\n",
       "    .dataframe tbody tr th {\n",
       "        vertical-align: top;\n",
       "    }\n",
       "\n",
       "    .dataframe thead th {\n",
       "        text-align: right;\n",
       "    }\n",
       "</style>\n",
       "<table border=\"1\" class=\"dataframe\">\n",
       "  <thead>\n",
       "    <tr style=\"text-align: right;\">\n",
       "      <th></th>\n",
       "      <th>seed</th>\n",
       "      <th>run</th>\n",
       "      <th>idx_0</th>\n",
       "      <th>idx_1</th>\n",
       "      <th>idx_2</th>\n",
       "      <th>idx_3</th>\n",
       "      <th>idx_4</th>\n",
       "      <th>score</th>\n",
       "    </tr>\n",
       "  </thead>\n",
       "  <tbody>\n",
       "    <tr>\n",
       "      <th>0</th>\n",
       "      <td>-1</td>\n",
       "      <td>-1</td>\n",
       "      <td>370</td>\n",
       "      <td>657</td>\n",
       "      <td>758</td>\n",
       "      <td>791</td>\n",
       "      <td>1258</td>\n",
       "      <td>0.038656</td>\n",
       "    </tr>\n",
       "    <tr>\n",
       "      <th>1</th>\n",
       "      <td>0</td>\n",
       "      <td>0</td>\n",
       "      <td>339</td>\n",
       "      <td>387</td>\n",
       "      <td>643</td>\n",
       "      <td>800</td>\n",
       "      <td>1068</td>\n",
       "      <td>0.029177</td>\n",
       "    </tr>\n",
       "    <tr>\n",
       "      <th>2</th>\n",
       "      <td>0</td>\n",
       "      <td>1</td>\n",
       "      <td>634</td>\n",
       "      <td>764</td>\n",
       "      <td>816</td>\n",
       "      <td>1021</td>\n",
       "      <td>1148</td>\n",
       "      <td>0.045479</td>\n",
       "    </tr>\n",
       "    <tr>\n",
       "      <th>3</th>\n",
       "      <td>0</td>\n",
       "      <td>2</td>\n",
       "      <td>348</td>\n",
       "      <td>703</td>\n",
       "      <td>845</td>\n",
       "      <td>1027</td>\n",
       "      <td>1175</td>\n",
       "      <td>0.031528</td>\n",
       "    </tr>\n",
       "    <tr>\n",
       "      <th>4</th>\n",
       "      <td>0</td>\n",
       "      <td>3</td>\n",
       "      <td>42</td>\n",
       "      <td>221</td>\n",
       "      <td>917</td>\n",
       "      <td>961</td>\n",
       "      <td>1065</td>\n",
       "      <td>0.026154</td>\n",
       "    </tr>\n",
       "    <tr>\n",
       "      <th>...</th>\n",
       "      <td>...</td>\n",
       "      <td>...</td>\n",
       "      <td>...</td>\n",
       "      <td>...</td>\n",
       "      <td>...</td>\n",
       "      <td>...</td>\n",
       "      <td>...</td>\n",
       "      <td>...</td>\n",
       "    </tr>\n",
       "    <tr>\n",
       "      <th>9996</th>\n",
       "      <td>99</td>\n",
       "      <td>95</td>\n",
       "      <td>17</td>\n",
       "      <td>31</td>\n",
       "      <td>135</td>\n",
       "      <td>453</td>\n",
       "      <td>942</td>\n",
       "      <td>0.028576</td>\n",
       "    </tr>\n",
       "    <tr>\n",
       "      <th>9997</th>\n",
       "      <td>99</td>\n",
       "      <td>96</td>\n",
       "      <td>19</td>\n",
       "      <td>103</td>\n",
       "      <td>270</td>\n",
       "      <td>811</td>\n",
       "      <td>975</td>\n",
       "      <td>0.055681</td>\n",
       "    </tr>\n",
       "    <tr>\n",
       "      <th>9998</th>\n",
       "      <td>99</td>\n",
       "      <td>97</td>\n",
       "      <td>404</td>\n",
       "      <td>760</td>\n",
       "      <td>996</td>\n",
       "      <td>1094</td>\n",
       "      <td>1143</td>\n",
       "      <td>0.061254</td>\n",
       "    </tr>\n",
       "    <tr>\n",
       "      <th>9999</th>\n",
       "      <td>99</td>\n",
       "      <td>98</td>\n",
       "      <td>320</td>\n",
       "      <td>500</td>\n",
       "      <td>567</td>\n",
       "      <td>580</td>\n",
       "      <td>582</td>\n",
       "      <td>0.026083</td>\n",
       "    </tr>\n",
       "    <tr>\n",
       "      <th>10000</th>\n",
       "      <td>99</td>\n",
       "      <td>99</td>\n",
       "      <td>88</td>\n",
       "      <td>305</td>\n",
       "      <td>413</td>\n",
       "      <td>918</td>\n",
       "      <td>1037</td>\n",
       "      <td>0.043581</td>\n",
       "    </tr>\n",
       "  </tbody>\n",
       "</table>\n",
       "<p>10001 rows × 8 columns</p>\n",
       "</div>"
      ],
      "text/plain": [
       "       seed  run  idx_0  idx_1  idx_2  idx_3  idx_4     score\n",
       "0        -1   -1    370    657    758    791   1258  0.038656\n",
       "1         0    0    339    387    643    800   1068  0.029177\n",
       "2         0    1    634    764    816   1021   1148  0.045479\n",
       "3         0    2    348    703    845   1027   1175  0.031528\n",
       "4         0    3     42    221    917    961   1065  0.026154\n",
       "...     ...  ...    ...    ...    ...    ...    ...       ...\n",
       "9996     99   95     17     31    135    453    942  0.028576\n",
       "9997     99   96     19    103    270    811    975  0.055681\n",
       "9998     99   97    404    760    996   1094   1143  0.061254\n",
       "9999     99   98    320    500    567    580    582  0.026083\n",
       "10000    99   99     88    305    413    918   1037  0.043581\n",
       "\n",
       "[10001 rows x 8 columns]"
      ]
     },
     "execution_count": 55,
     "metadata": {},
     "output_type": "execute_result"
    }
   ],
   "source": [
    "res_df"
   ]
  },
  {
   "cell_type": "code",
   "execution_count": 56,
   "id": "hairy-capture",
   "metadata": {},
   "outputs": [
    {
     "data": {
      "text/plain": [
       "seed      42.000000\n",
       "run        0.000000\n",
       "idx_0      6.000000\n",
       "idx_1    121.000000\n",
       "idx_2    160.000000\n",
       "idx_3    215.000000\n",
       "idx_4    668.000000\n",
       "score      0.005151\n",
       "dtype: float64"
      ]
     },
     "execution_count": 56,
     "metadata": {},
     "output_type": "execute_result"
    }
   ],
   "source": [
    "res_df[res_df['seed']==42].min()"
   ]
  },
  {
   "cell_type": "code",
   "execution_count": 59,
   "id": "motivated-verification",
   "metadata": {},
   "outputs": [
    {
     "data": {
      "text/html": [
       "<div>\n",
       "<style scoped>\n",
       "    .dataframe tbody tr th:only-of-type {\n",
       "        vertical-align: middle;\n",
       "    }\n",
       "\n",
       "    .dataframe tbody tr th {\n",
       "        vertical-align: top;\n",
       "    }\n",
       "\n",
       "    .dataframe thead th {\n",
       "        text-align: right;\n",
       "    }\n",
       "</style>\n",
       "<table border=\"1\" class=\"dataframe\">\n",
       "  <thead>\n",
       "    <tr style=\"text-align: right;\">\n",
       "      <th></th>\n",
       "      <th>seed</th>\n",
       "      <th>run</th>\n",
       "      <th>idx_0</th>\n",
       "      <th>idx_1</th>\n",
       "      <th>idx_2</th>\n",
       "      <th>idx_3</th>\n",
       "      <th>idx_4</th>\n",
       "      <th>score</th>\n",
       "    </tr>\n",
       "  </thead>\n",
       "  <tbody>\n",
       "    <tr>\n",
       "      <th>4208</th>\n",
       "      <td>42</td>\n",
       "      <td>7</td>\n",
       "      <td>409</td>\n",
       "      <td>466</td>\n",
       "      <td>516</td>\n",
       "      <td>1140</td>\n",
       "      <td>1215</td>\n",
       "      <td>0.005151</td>\n",
       "    </tr>\n",
       "  </tbody>\n",
       "</table>\n",
       "</div>"
      ],
      "text/plain": [
       "      seed  run  idx_0  idx_1  idx_2  idx_3  idx_4     score\n",
       "4208    42    7    409    466    516   1140   1215  0.005151"
      ]
     },
     "execution_count": 59,
     "metadata": {},
     "output_type": "execute_result"
    }
   ],
   "source": [
    "res_df[(res_df['score']<0.00516) & (res_df['score']>0.00515)]"
   ]
  },
  {
   "cell_type": "code",
   "execution_count": 60,
   "id": "animal-appraisal",
   "metadata": {},
   "outputs": [
    {
     "data": {
      "text/plain": [
       "['B04[C-C]', 'CATS3D_03_DP', 'Eig11_AEA(ed)', 'J_RG', 'SpMAD_EA(ed)']"
      ]
     },
     "execution_count": 60,
     "metadata": {},
     "output_type": "execute_result"
    }
   ],
   "source": [
    "br42 = [X_full.columns[i] for i in [409, 466, 516, 1140, 1215]]\n",
    "sorted(br42)"
   ]
  },
  {
   "cell_type": "code",
   "execution_count": null,
   "id": "resistant-moderator",
   "metadata": {},
   "outputs": [],
   "source": []
  }
 ],
 "metadata": {
  "kernelspec": {
   "display_name": "Python 3",
   "language": "python",
   "name": "python3"
  },
  "language_info": {
   "codemirror_mode": {
    "name": "ipython",
    "version": 3
   },
   "file_extension": ".py",
   "mimetype": "text/x-python",
   "name": "python",
   "nbconvert_exporter": "python",
   "pygments_lexer": "ipython3",
   "version": "3.7.9"
  }
 },
 "nbformat": 4,
 "nbformat_minor": 5
}
