{
 "cells": [
  {
   "cell_type": "code",
   "execution_count": 1,
   "id": "foreign-franchise",
   "metadata": {},
   "outputs": [],
   "source": [
    "import numpy as np\n",
    "import pandas as pd\n",
    "import tensorflow as tf\n",
    "from tensorflow import keras\n",
    "from sklearn.preprocessing import MinMaxScaler\n",
    "from sklearn.model_selection import train_test_split"
   ]
  },
  {
   "cell_type": "code",
   "execution_count": 2,
   "id": "virgin-belly",
   "metadata": {},
   "outputs": [],
   "source": [
    "random_state = 42\n",
    "#seeds = np.arange(100)\n",
    "seeds = [42]"
   ]
  },
  {
   "cell_type": "code",
   "execution_count": 3,
   "id": "challenging-screw",
   "metadata": {},
   "outputs": [],
   "source": [
    "data = pd.read_csv('..\\\\Data\\\\ze41_mol_desc_db_red.csv', header=0, sep=';', decimal=',')"
   ]
  },
  {
   "cell_type": "code",
   "execution_count": 4,
   "id": "former-composer",
   "metadata": {},
   "outputs": [],
   "source": [
    "col_names = data.columns\n",
    "x_cols = ['P_VSA_MR_5', 'Mor04m', 'E1p', 'Mor22s', 'LUMO / eV']\n",
    "#x_cols = ['VE2_G/D', 'Eig14_EA(dm)', 'Mor31m', 'TDB04u', 'HATS1e']\n",
    "X_full = data[col_names[3:]]\n",
    "y = data[col_names[2]]"
   ]
  },
  {
   "cell_type": "code",
   "execution_count": 5,
   "id": "champion-angola",
   "metadata": {},
   "outputs": [],
   "source": [
    "X_scaled = MinMaxScaler(feature_range=(0,1)).fit_transform(X_full)"
   ]
  },
  {
   "cell_type": "code",
   "execution_count": 6,
   "id": "opening-diesel",
   "metadata": {},
   "outputs": [],
   "source": [
    "X_train, X_valid, y_train, y_valid = train_test_split(X_scaled, y, test_size=0.1, random_state=random_state)"
   ]
  },
  {
   "cell_type": "code",
   "execution_count": 7,
   "id": "standard-lease",
   "metadata": {},
   "outputs": [],
   "source": [
    "def get_model():\n",
    "    model = keras.models.Sequential([\n",
    "        keras.layers.GaussianNoise(stddev=0.1, input_shape=(len(x_cols),)),\n",
    "        keras.layers.Dense(50, activation='relu'),\n",
    "        keras.layers.Dense(20, activation='relu'),\n",
    "        keras.layers.Dense(10, activation='relu'),\n",
    "        keras.layers.Dense(1)\n",
    "        ])\n",
    "    model.compile(\n",
    "        optimizer=tf.optimizers.Adam(learning_rate=0.01),\n",
    "        loss='mean_squared_error')\n",
    "    return model"
   ]
  },
  {
   "cell_type": "code",
   "execution_count": 8,
   "id": "unlikely-desert",
   "metadata": {},
   "outputs": [],
   "source": [
    "model = get_model()\n",
    "weights = model.get_weights()"
   ]
  },
  {
   "cell_type": "code",
   "execution_count": 9,
   "id": "every-filing",
   "metadata": {},
   "outputs": [],
   "source": [
    "x_col_idxs = [col_names.tolist().index(x) for x in x_cols]\n",
    "X_train_sel = X_train[:, x_col_idxs]\n",
    "X_val_sel = X_valid[:, x_col_idxs]\n",
    "history = model.fit(X_train_sel, y_train, validation_data=(X_val_sel, y_valid), verbose=0, epochs=25)"
   ]
  },
  {
   "cell_type": "code",
   "execution_count": 10,
   "id": "embedded-migration",
   "metadata": {},
   "outputs": [],
   "source": [
    "result = {tuple(sorted(x_col_idxs)) +(-1 ,-1): history.history['val_loss'][-1]}"
   ]
  },
  {
   "cell_type": "code",
   "execution_count": 11,
   "id": "conventional-dominant",
   "metadata": {
    "scrolled": true
   },
   "outputs": [
    {
     "name": "stdout",
     "output_type": "stream",
     "text": [
      "43\n"
     ]
    }
   ],
   "source": [
    "for seed in seeds:\n",
    "    print(seed+1)\n",
    "    rng = np.random.default_rng(seed=seed)\n",
    "    for i in range(100):\n",
    "        model = get_model()\n",
    "        model.set_weights(weights)\n",
    "        idxs = rng.choice(len(col_names)-3, size=len(x_cols), replace=False)\n",
    "        X_train_sel = X_train[:, idxs]\n",
    "        X_val_sel = X_valid[:, idxs]\n",
    "        history = model.fit(X_train_sel, y_train, validation_data=(X_val_sel, y_valid), verbose=0, epochs=25)\n",
    "        result[tuple(sorted(idxs)) + (seed, i)] = history.history['val_loss'][-1]"
   ]
  },
  {
   "cell_type": "code",
   "execution_count": 12,
   "id": "floral-cooler",
   "metadata": {},
   "outputs": [
    {
     "data": {
      "text/plain": [
       "101"
      ]
     },
     "execution_count": 12,
     "metadata": {},
     "output_type": "execute_result"
    }
   ],
   "source": [
    "len(result)"
   ]
  },
  {
   "cell_type": "code",
   "execution_count": 13,
   "id": "convinced-psychology",
   "metadata": {},
   "outputs": [
    {
     "data": {
      "text/plain": [
       "((409, 466, 516, 1140, 1215, 42, 7), 0.008951899595558643)"
      ]
     },
     "execution_count": 13,
     "metadata": {},
     "output_type": "execute_result"
    }
   ],
   "source": [
    "min(result.items(), key=lambda x: x[1])"
   ]
  },
  {
   "cell_type": "code",
   "execution_count": 14,
   "id": "genetic-india",
   "metadata": {},
   "outputs": [],
   "source": [
    "val_loss_list = list(result.values())"
   ]
  },
  {
   "cell_type": "code",
   "execution_count": 15,
   "id": "weird-helmet",
   "metadata": {},
   "outputs": [
    {
     "data": {
      "text/plain": [
       "0.034060123911367195"
      ]
     },
     "execution_count": 15,
     "metadata": {},
     "output_type": "execute_result"
    }
   ],
   "source": [
    "np.mean(val_loss_list)"
   ]
  },
  {
   "cell_type": "code",
   "execution_count": 16,
   "id": "complimentary-medicaid",
   "metadata": {},
   "outputs": [
    {
     "data": {
      "text/plain": [
       "0.008951899595558643"
      ]
     },
     "execution_count": 16,
     "metadata": {},
     "output_type": "execute_result"
    }
   ],
   "source": [
    "np.min(val_loss_list)"
   ]
  },
  {
   "cell_type": "code",
   "execution_count": 31,
   "id": "close-commonwealth",
   "metadata": {},
   "outputs": [
    {
     "data": {
      "text/plain": [
       "['B04[C-C]', 'CATS3D_03_DP', 'Eig11_AEA(ed)', 'J_RG', 'SpMAD_EA(ed)']"
      ]
     },
     "execution_count": 31,
     "metadata": {},
     "output_type": "execute_result"
    }
   ],
   "source": [
    "best_random = [X_full.columns[i] for i in [409, 466, 516, 1140, 1215]]\n",
    "sorted(best_random)"
   ]
  },
  {
   "cell_type": "code",
   "execution_count": 18,
   "id": "revised-greensboro",
   "metadata": {},
   "outputs": [],
   "source": [
    "#np.save('random_search.npy', result)"
   ]
  },
  {
   "cell_type": "code",
   "execution_count": 19,
   "id": "reverse-bunch",
   "metadata": {},
   "outputs": [],
   "source": [
    "res_array = []\n",
    "for key, value in result.items():\n",
    "    res_array.append([k for k in key] + [value])"
   ]
  },
  {
   "cell_type": "code",
   "execution_count": 20,
   "id": "coupled-mentor",
   "metadata": {},
   "outputs": [],
   "source": [
    "res_array = np.array(res_array)"
   ]
  },
  {
   "cell_type": "code",
   "execution_count": 21,
   "id": "ceramic-joint",
   "metadata": {},
   "outputs": [
    {
     "data": {
      "text/plain": [
       "(101, 8)"
      ]
     },
     "execution_count": 21,
     "metadata": {},
     "output_type": "execute_result"
    }
   ],
   "source": [
    "res_array.shape"
   ]
  },
  {
   "cell_type": "code",
   "execution_count": 22,
   "id": "statutory-thursday",
   "metadata": {},
   "outputs": [],
   "source": [
    "import matplotlib.pyplot as plt"
   ]
  },
  {
   "cell_type": "code",
   "execution_count": 23,
   "id": "changed-means",
   "metadata": {},
   "outputs": [],
   "source": [
    "res_array = res_array[:, [5, 6, 0, 1, 2, 3, 4, 7]]"
   ]
  },
  {
   "cell_type": "code",
   "execution_count": 24,
   "id": "competent-share",
   "metadata": {},
   "outputs": [],
   "source": [
    "res_df = pd.DataFrame(res_array)"
   ]
  },
  {
   "cell_type": "code",
   "execution_count": 25,
   "id": "residential-leather",
   "metadata": {},
   "outputs": [],
   "source": [
    "res_df.columns=['seed', 'run', 'idx_0', 'idx_1', 'idx_2', 'idx_3', 'idx_4', 'score']"
   ]
  },
  {
   "cell_type": "code",
   "execution_count": 26,
   "id": "accurate-export",
   "metadata": {},
   "outputs": [],
   "source": [
    "for col in ['seed', 'run', 'idx_0', 'idx_1', 'idx_2', 'idx_3', 'idx_4']:\n",
    "    res_df[col] = res_df[col].astype(int)"
   ]
  },
  {
   "cell_type": "code",
   "execution_count": 27,
   "id": "advised-heaven",
   "metadata": {},
   "outputs": [
    {
     "data": {
      "text/html": [
       "<div>\n",
       "<style scoped>\n",
       "    .dataframe tbody tr th:only-of-type {\n",
       "        vertical-align: middle;\n",
       "    }\n",
       "\n",
       "    .dataframe tbody tr th {\n",
       "        vertical-align: top;\n",
       "    }\n",
       "\n",
       "    .dataframe thead th {\n",
       "        text-align: right;\n",
       "    }\n",
       "</style>\n",
       "<table border=\"1\" class=\"dataframe\">\n",
       "  <thead>\n",
       "    <tr style=\"text-align: right;\">\n",
       "      <th></th>\n",
       "      <th>seed</th>\n",
       "      <th>run</th>\n",
       "      <th>idx_0</th>\n",
       "      <th>idx_1</th>\n",
       "      <th>idx_2</th>\n",
       "      <th>idx_3</th>\n",
       "      <th>idx_4</th>\n",
       "      <th>score</th>\n",
       "    </tr>\n",
       "  </thead>\n",
       "  <tbody>\n",
       "    <tr>\n",
       "      <th>0</th>\n",
       "      <td>-1</td>\n",
       "      <td>-1</td>\n",
       "      <td>370</td>\n",
       "      <td>657</td>\n",
       "      <td>758</td>\n",
       "      <td>791</td>\n",
       "      <td>1258</td>\n",
       "      <td>0.034692</td>\n",
       "    </tr>\n",
       "    <tr>\n",
       "      <th>1</th>\n",
       "      <td>42</td>\n",
       "      <td>0</td>\n",
       "      <td>112</td>\n",
       "      <td>545</td>\n",
       "      <td>552</td>\n",
       "      <td>823</td>\n",
       "      <td>972</td>\n",
       "      <td>0.018517</td>\n",
       "    </tr>\n",
       "    <tr>\n",
       "      <th>2</th>\n",
       "      <td>42</td>\n",
       "      <td>1</td>\n",
       "      <td>118</td>\n",
       "      <td>661</td>\n",
       "      <td>926</td>\n",
       "      <td>959</td>\n",
       "      <td>1227</td>\n",
       "      <td>0.043725</td>\n",
       "    </tr>\n",
       "    <tr>\n",
       "      <th>3</th>\n",
       "      <td>42</td>\n",
       "      <td>2</td>\n",
       "      <td>230</td>\n",
       "      <td>466</td>\n",
       "      <td>566</td>\n",
       "      <td>629</td>\n",
       "      <td>1054</td>\n",
       "      <td>0.026725</td>\n",
       "    </tr>\n",
       "    <tr>\n",
       "      <th>4</th>\n",
       "      <td>42</td>\n",
       "      <td>3</td>\n",
       "      <td>286</td>\n",
       "      <td>557</td>\n",
       "      <td>567</td>\n",
       "      <td>685</td>\n",
       "      <td>1033</td>\n",
       "      <td>0.024174</td>\n",
       "    </tr>\n",
       "    <tr>\n",
       "      <th>...</th>\n",
       "      <td>...</td>\n",
       "      <td>...</td>\n",
       "      <td>...</td>\n",
       "      <td>...</td>\n",
       "      <td>...</td>\n",
       "      <td>...</td>\n",
       "      <td>...</td>\n",
       "      <td>...</td>\n",
       "    </tr>\n",
       "    <tr>\n",
       "      <th>96</th>\n",
       "      <td>42</td>\n",
       "      <td>95</td>\n",
       "      <td>71</td>\n",
       "      <td>307</td>\n",
       "      <td>842</td>\n",
       "      <td>1009</td>\n",
       "      <td>1066</td>\n",
       "      <td>0.047431</td>\n",
       "    </tr>\n",
       "    <tr>\n",
       "      <th>97</th>\n",
       "      <td>42</td>\n",
       "      <td>96</td>\n",
       "      <td>562</td>\n",
       "      <td>877</td>\n",
       "      <td>1031</td>\n",
       "      <td>1055</td>\n",
       "      <td>1062</td>\n",
       "      <td>0.033027</td>\n",
       "    </tr>\n",
       "    <tr>\n",
       "      <th>98</th>\n",
       "      <td>42</td>\n",
       "      <td>97</td>\n",
       "      <td>156</td>\n",
       "      <td>634</td>\n",
       "      <td>679</td>\n",
       "      <td>876</td>\n",
       "      <td>938</td>\n",
       "      <td>0.054794</td>\n",
       "    </tr>\n",
       "    <tr>\n",
       "      <th>99</th>\n",
       "      <td>42</td>\n",
       "      <td>98</td>\n",
       "      <td>66</td>\n",
       "      <td>195</td>\n",
       "      <td>563</td>\n",
       "      <td>924</td>\n",
       "      <td>1023</td>\n",
       "      <td>0.060844</td>\n",
       "    </tr>\n",
       "    <tr>\n",
       "      <th>100</th>\n",
       "      <td>42</td>\n",
       "      <td>99</td>\n",
       "      <td>656</td>\n",
       "      <td>770</td>\n",
       "      <td>891</td>\n",
       "      <td>943</td>\n",
       "      <td>1233</td>\n",
       "      <td>0.015466</td>\n",
       "    </tr>\n",
       "  </tbody>\n",
       "</table>\n",
       "<p>101 rows × 8 columns</p>\n",
       "</div>"
      ],
      "text/plain": [
       "     seed  run  idx_0  idx_1  idx_2  idx_3  idx_4     score\n",
       "0      -1   -1    370    657    758    791   1258  0.034692\n",
       "1      42    0    112    545    552    823    972  0.018517\n",
       "2      42    1    118    661    926    959   1227  0.043725\n",
       "3      42    2    230    466    566    629   1054  0.026725\n",
       "4      42    3    286    557    567    685   1033  0.024174\n",
       "..    ...  ...    ...    ...    ...    ...    ...       ...\n",
       "96     42   95     71    307    842   1009   1066  0.047431\n",
       "97     42   96    562    877   1031   1055   1062  0.033027\n",
       "98     42   97    156    634    679    876    938  0.054794\n",
       "99     42   98     66    195    563    924   1023  0.060844\n",
       "100    42   99    656    770    891    943   1233  0.015466\n",
       "\n",
       "[101 rows x 8 columns]"
      ]
     },
     "execution_count": 27,
     "metadata": {},
     "output_type": "execute_result"
    }
   ],
   "source": [
    "res_df"
   ]
  },
  {
   "cell_type": "code",
   "execution_count": 28,
   "id": "hairy-capture",
   "metadata": {},
   "outputs": [
    {
     "data": {
      "text/plain": [
       "seed      42.000000\n",
       "run        0.000000\n",
       "idx_0      6.000000\n",
       "idx_1    121.000000\n",
       "idx_2    160.000000\n",
       "idx_3    215.000000\n",
       "idx_4    668.000000\n",
       "score      0.008952\n",
       "dtype: float64"
      ]
     },
     "execution_count": 28,
     "metadata": {},
     "output_type": "execute_result"
    }
   ],
   "source": [
    "res_df[res_df['seed']==42].min()"
   ]
  },
  {
   "cell_type": "code",
   "execution_count": 33,
   "id": "motivated-verification",
   "metadata": {},
   "outputs": [
    {
     "data": {
      "text/html": [
       "<div>\n",
       "<style scoped>\n",
       "    .dataframe tbody tr th:only-of-type {\n",
       "        vertical-align: middle;\n",
       "    }\n",
       "\n",
       "    .dataframe tbody tr th {\n",
       "        vertical-align: top;\n",
       "    }\n",
       "\n",
       "    .dataframe thead th {\n",
       "        text-align: right;\n",
       "    }\n",
       "</style>\n",
       "<table border=\"1\" class=\"dataframe\">\n",
       "  <thead>\n",
       "    <tr style=\"text-align: right;\">\n",
       "      <th></th>\n",
       "      <th>seed</th>\n",
       "      <th>run</th>\n",
       "      <th>idx_0</th>\n",
       "      <th>idx_1</th>\n",
       "      <th>idx_2</th>\n",
       "      <th>idx_3</th>\n",
       "      <th>idx_4</th>\n",
       "      <th>score</th>\n",
       "    </tr>\n",
       "  </thead>\n",
       "  <tbody>\n",
       "    <tr>\n",
       "      <th>8</th>\n",
       "      <td>42</td>\n",
       "      <td>7</td>\n",
       "      <td>409</td>\n",
       "      <td>466</td>\n",
       "      <td>516</td>\n",
       "      <td>1140</td>\n",
       "      <td>1215</td>\n",
       "      <td>0.008952</td>\n",
       "    </tr>\n",
       "  </tbody>\n",
       "</table>\n",
       "</div>"
      ],
      "text/plain": [
       "   seed  run  idx_0  idx_1  idx_2  idx_3  idx_4     score\n",
       "8    42    7    409    466    516   1140   1215  0.008952"
      ]
     },
     "execution_count": 33,
     "metadata": {},
     "output_type": "execute_result"
    }
   ],
   "source": [
    "res_df[(res_df['score']<0.009) & (res_df['score']>0.0089)]"
   ]
  },
  {
   "cell_type": "code",
   "execution_count": 34,
   "id": "animal-appraisal",
   "metadata": {},
   "outputs": [
    {
     "data": {
      "text/plain": [
       "['B04[C-C]', 'CATS3D_03_DP', 'Eig11_AEA(ed)', 'J_RG', 'SpMAD_EA(ed)']"
      ]
     },
     "execution_count": 34,
     "metadata": {},
     "output_type": "execute_result"
    }
   ],
   "source": [
    "br42 = [X_full.columns[i] for i in [409, 466, 516, 1140, 1215]]\n",
    "sorted(br42)"
   ]
  },
  {
   "cell_type": "code",
   "execution_count": null,
   "id": "resistant-moderator",
   "metadata": {},
   "outputs": [],
   "source": []
  }
 ],
 "metadata": {
  "kernelspec": {
   "display_name": "Python 3",
   "language": "python",
   "name": "python3"
  },
  "language_info": {
   "codemirror_mode": {
    "name": "ipython",
    "version": 3
   },
   "file_extension": ".py",
   "mimetype": "text/x-python",
   "name": "python",
   "nbconvert_exporter": "python",
   "pygments_lexer": "ipython3",
   "version": "3.7.9"
  }
 },
 "nbformat": 4,
 "nbformat_minor": 5
}
