{
 "cells": [
  {
   "cell_type": "code",
   "execution_count": 1,
   "id": "successful-roberts",
   "metadata": {},
   "outputs": [],
   "source": [
    "import numpy as np\n",
    "import pandas as pd\n",
    "import tensorflow as tf\n",
    "from tensorflow import keras\n",
    "from sklearn.preprocessing import MinMaxScaler\n",
    "from sklearn.model_selection import train_test_split"
   ]
  },
  {
   "cell_type": "code",
   "execution_count": 2,
   "id": "fifty-introduction",
   "metadata": {},
   "outputs": [],
   "source": [
    "seed = 42\n",
    "tf.random.set_seed(seed)\n",
    "rng = np.random.default_rng(seed=seed)"
   ]
  },
  {
   "cell_type": "code",
   "execution_count": 3,
   "id": "severe-midwest",
   "metadata": {},
   "outputs": [],
   "source": [
    "data = pd.read_csv('..\\\\Data\\\\ze41_mol_desc_db_red.csv', header=0, sep=';', decimal=',')"
   ]
  },
  {
   "cell_type": "code",
   "execution_count": 4,
   "id": "lovely-prisoner",
   "metadata": {},
   "outputs": [],
   "source": [
    "col_names = data.columns\n",
    "x_cols = ['MW', 'AMW', 'Mv', 'Mi', 'nTA', 'RBF', 'nDB']\n",
    "X_full = data[col_names[3:]]\n",
    "y = data[col_names[2]]"
   ]
  },
  {
   "cell_type": "code",
   "execution_count": 5,
   "id": "monetary-reminder",
   "metadata": {},
   "outputs": [],
   "source": [
    "X_scaled = MinMaxScaler(feature_range=(0,1)).fit_transform(X_full)"
   ]
  },
  {
   "cell_type": "code",
   "execution_count": 6,
   "id": "entertaining-venice",
   "metadata": {},
   "outputs": [],
   "source": [
    "X_train, X_valid, y_train, y_valid = train_test_split(X_scaled, y, test_size=0.2, random_state=seed)"
   ]
  },
  {
   "cell_type": "code",
   "execution_count": 7,
   "id": "selected-purple",
   "metadata": {},
   "outputs": [],
   "source": [
    "model = keras.models.Sequential([\n",
    "    keras.layers.Dense(50, activation='relu', input_shape=(len(x_cols),)),\n",
    "    keras.layers.Dense(20, activation='relu'),\n",
    "    keras.layers.Dense(10, activation='relu'),\n",
    "    keras.layers.Dense(1)\n",
    "])"
   ]
  },
  {
   "cell_type": "code",
   "execution_count": 8,
   "id": "aggregate-breed",
   "metadata": {},
   "outputs": [],
   "source": [
    "model.compile(\n",
    "    optimizer=tf.optimizers.Adam(learning_rate=0.005),\n",
    "    loss='mean_squared_error')"
   ]
  },
  {
   "cell_type": "code",
   "execution_count": 9,
   "id": "systematic-allergy",
   "metadata": {},
   "outputs": [],
   "source": [
    "weights = model.get_weights()"
   ]
  },
  {
   "cell_type": "code",
   "execution_count": 10,
   "id": "regulation-series",
   "metadata": {},
   "outputs": [],
   "source": [
    "results = []"
   ]
  },
  {
   "cell_type": "code",
   "execution_count": 12,
   "id": "civil-truck",
   "metadata": {},
   "outputs": [
    {
     "data": {
      "text/plain": [
       "[3, 4, 5, 6, 7, 8, 9]"
      ]
     },
     "execution_count": 12,
     "metadata": {},
     "output_type": "execute_result"
    }
   ],
   "source": [
    "x_col_idxs = [col_names.tolist().index(x) for x in x_cols]\n",
    "x_col_idxs"
   ]
  },
  {
   "cell_type": "code",
   "execution_count": 18,
   "id": "empty-monroe",
   "metadata": {},
   "outputs": [],
   "source": [
    "for _ in range(25):\n",
    "    model.set_weights(weights)\n",
    "    idxs = rng.choice(len(col_names)-3, size=len(x_cols), replace=False)\n",
    "    X_train_sel = X_train[:, idxs]\n",
    "    X_val_sel = X_valid[:, idxs]\n",
    "    history = model.fit(X_train_sel, y_train, validation_data=(X_val_sel, y_valid), verbose=0, epochs=25)\n",
    "    results.append({'idxs': idxs, 'loss': history.history['loss'][-1], 'val loss': history.history['val_loss'][-1]})"
   ]
  },
  {
   "cell_type": "code",
   "execution_count": 19,
   "id": "clean-williams",
   "metadata": {},
   "outputs": [
    {
     "data": {
      "text/plain": [
       "[{'idxs': array([ 797, 1140,  365,  254,  782,  648, 1195], dtype=int64),\n",
       "  'loss': 0.15129490196704865,\n",
       "  'val loss': 0.1431145966053009},\n",
       " {'idxs': array([ 546,  374, 1123, 1218,  190, 1248,   56], dtype=int64),\n",
       "  'loss': 0.06314419955015182,\n",
       "  'val loss': 0.06967666745185852},\n",
       " {'idxs': array([971, 422, 145, 397, 651, 589,  27], dtype=int64),\n",
       "  'loss': 0.15063151717185974,\n",
       "  'val loss': 0.13067598640918732},\n",
       " {'idxs': array([ 476, 1178,  329,    6, 1193,  303,  936], dtype=int64),\n",
       "  'loss': 0.1608635038137436,\n",
       "  'val loss': 0.14364568889141083},\n",
       " {'idxs': array([ 905,  936,  461,  753, 1101,   56,  224], dtype=int64),\n",
       "  'loss': 0.06778114289045334,\n",
       "  'val loss': 0.07215940207242966},\n",
       " {'idxs': array([ 628,  181,  545, 1218, 1176,   17,  626], dtype=int64),\n",
       "  'loss': 0.2004784196615219,\n",
       "  'val loss': 0.1954578012228012},\n",
       " {'idxs': array([ 152,  965,  874,  636, 1215,  372, 1166], dtype=int64),\n",
       "  'loss': 0.09722306579351425,\n",
       "  'val loss': 0.08160001784563065},\n",
       " {'idxs': array([ 155,  164,  928,  105,  897,  546, 1038], dtype=int64),\n",
       "  'loss': 0.06643984466791153,\n",
       "  'val loss': 0.06567714363336563},\n",
       " {'idxs': array([ 656,  833,  165,  613,  394, 1203,  638], dtype=int64),\n",
       "  'loss': 0.12517116963863373,\n",
       "  'val loss': 0.1165229082107544},\n",
       " {'idxs': array([ 176,  186,  133, 1056,  696,  796,  910], dtype=int64),\n",
       "  'loss': 0.1082937940955162,\n",
       "  'val loss': 0.11782592535018921},\n",
       " {'idxs': array([1170, 1011,  543,  927,  227,  799,  588], dtype=int64),\n",
       "  'loss': 0.1253843754529953,\n",
       "  'val loss': 0.12311914563179016},\n",
       " {'idxs': array([1040,  314, 1000,  668,  292,  582,  420], dtype=int64),\n",
       "  'loss': 0.11814665049314499,\n",
       "  'val loss': 0.13130824267864227},\n",
       " {'idxs': array([ 363,  149,  470,  517,  143,  536, 1165], dtype=int64),\n",
       "  'loss': 0.08248739689588547,\n",
       "  'val loss': 0.09309753030538559},\n",
       " {'idxs': array([1250,  297,  337, 1058,  938,  310, 1028], dtype=int64),\n",
       "  'loss': 0.13078899681568146,\n",
       "  'val loss': 0.14304912090301514},\n",
       " {'idxs': array([1163, 1036,  448,  241,  400,  390,  183], dtype=int64),\n",
       "  'loss': 0.08601122349500656,\n",
       "  'val loss': 0.08271294087171555},\n",
       " {'idxs': array([724, 572, 192,  26, 680, 357, 145], dtype=int64),\n",
       "  'loss': 0.18540072441101074,\n",
       "  'val loss': 0.18029852211475372},\n",
       " {'idxs': array([ 538,  741,  855, 1010, 1043,  495,  648], dtype=int64),\n",
       "  'loss': 0.08745918422937393,\n",
       "  'val loss': 0.06767529994249344},\n",
       " {'idxs': array([1119, 1067,  228,   54,  619,  298,  673], dtype=int64),\n",
       "  'loss': 0.10122612863779068,\n",
       "  'val loss': 0.09396298974752426},\n",
       " {'idxs': array([  61,    8,  469,  659, 1164, 1125,  353], dtype=int64),\n",
       "  'loss': 0.06460806727409363,\n",
       "  'val loss': 0.07139048725366592},\n",
       " {'idxs': array([1159,  124, 1061, 1052, 1137, 1008,  865], dtype=int64),\n",
       "  'loss': 0.2433721274137497,\n",
       "  'val loss': 0.2471286505460739},\n",
       " {'idxs': array([ 787,  169,  929, 1040,  774,  806,  979], dtype=int64),\n",
       "  'loss': 0.13119614124298096,\n",
       "  'val loss': 0.12036310881376266},\n",
       " {'idxs': array([862, 804, 314, 984, 483, 335, 580], dtype=int64),\n",
       "  'loss': 0.0709681361913681,\n",
       "  'val loss': 0.07071381062269211},\n",
       " {'idxs': array([ 635,  461, 1258,  757,  291,  928,  424], dtype=int64),\n",
       "  'loss': 0.06930344551801682,\n",
       "  'val loss': 0.08149465918540955},\n",
       " {'idxs': array([ 372,  605,  843, 1152, 1191,  994, 1075], dtype=int64),\n",
       "  'loss': 0.2667837142944336,\n",
       "  'val loss': 0.2853243350982666},\n",
       " {'idxs': array([ 965, 1011,  254,  670,  818,  613,  695], dtype=int64),\n",
       "  'loss': 0.26326456665992737,\n",
       "  'val loss': 0.2590619623661041}]"
      ]
     },
     "execution_count": 19,
     "metadata": {},
     "output_type": "execute_result"
    }
   ],
   "source": []
  },
  {
   "cell_type": "code",
   "execution_count": null,
   "id": "recovered-display",
   "metadata": {},
   "outputs": [],
   "source": []
  }
 ],
 "metadata": {
  "kernelspec": {
   "display_name": "Python 3",
   "language": "python",
   "name": "python3"
  },
  "language_info": {
   "codemirror_mode": {
    "name": "ipython",
    "version": 3
   },
   "file_extension": ".py",
   "mimetype": "text/x-python",
   "name": "python",
   "nbconvert_exporter": "python",
   "pygments_lexer": "ipython3",
   "version": "3.7.9"
  }
 },
 "nbformat": 4,
 "nbformat_minor": 5
}
