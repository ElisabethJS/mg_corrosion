{
 "cells": [
  {
   "cell_type": "code",
   "execution_count": 1,
   "id": "successful-roberts",
   "metadata": {},
   "outputs": [],
   "source": [
    "import numpy as np\n",
    "import pandas as pd\n",
    "import tensorflow as tf\n",
    "from tensorflow import keras\n",
    "from sklearn.preprocessing import MinMaxScaler\n",
    "from sklearn.model_selection import train_test_split"
   ]
  },
  {
   "cell_type": "code",
   "execution_count": 2,
   "id": "fifty-introduction",
   "metadata": {},
   "outputs": [],
   "source": [
    "seed = 42\n",
    "tf.random.set_seed(seed)\n",
    "rng = np.random.default_rng(seed=seed)"
   ]
  },
  {
   "cell_type": "code",
   "execution_count": 3,
   "id": "severe-midwest",
   "metadata": {},
   "outputs": [],
   "source": [
    "data = pd.read_csv('..\\\\Data\\\\ze41_mol_desc_db_red.csv', header=0, sep=';', decimal=',')"
   ]
  },
  {
   "cell_type": "code",
   "execution_count": 4,
   "id": "lovely-prisoner",
   "metadata": {},
   "outputs": [],
   "source": [
    "col_names = data.columns\n",
    "x_cols = ['P_VSA_MR_5', 'Mor04m', 'E1p', 'CATS3D_02_AP', 'LUMO / eV']\n",
    "X_full = data[col_names[3:]]\n",
    "y = data[col_names[2]]"
   ]
  },
  {
   "cell_type": "code",
   "execution_count": 5,
   "id": "monetary-reminder",
   "metadata": {},
   "outputs": [],
   "source": [
    "X_scaled = MinMaxScaler(feature_range=(0,1)).fit_transform(X_full)"
   ]
  },
  {
   "cell_type": "code",
   "execution_count": 6,
   "id": "entertaining-venice",
   "metadata": {},
   "outputs": [],
   "source": [
    "X_train, X_valid, y_train, y_valid = train_test_split(X_scaled, y, test_size=0.1, random_state=seed)"
   ]
  },
  {
   "cell_type": "code",
   "execution_count": 7,
   "id": "selected-purple",
   "metadata": {},
   "outputs": [],
   "source": [
    "model = keras.models.Sequential([\n",
    "    keras.layers.Dense(50, activation='relu', input_shape=(len(x_cols),)),\n",
    "    keras.layers.Dense(20, activation='relu'),\n",
    "    keras.layers.Dense(10, activation='relu'),\n",
    "    keras.layers.Dense(1)\n",
    "])"
   ]
  },
  {
   "cell_type": "code",
   "execution_count": 8,
   "id": "aggregate-breed",
   "metadata": {},
   "outputs": [],
   "source": [
    "model.compile(\n",
    "    optimizer=tf.optimizers.Adam(learning_rate=0.01),\n",
    "    loss='mean_squared_error')"
   ]
  },
  {
   "cell_type": "code",
   "execution_count": 9,
   "id": "systematic-allergy",
   "metadata": {},
   "outputs": [],
   "source": [
    "weights = model.get_weights()"
   ]
  },
  {
   "cell_type": "code",
   "execution_count": 10,
   "id": "regulation-series",
   "metadata": {},
   "outputs": [],
   "source": [
    "results = []"
   ]
  },
  {
   "cell_type": "code",
   "execution_count": 11,
   "id": "civil-truck",
   "metadata": {},
   "outputs": [
    {
     "data": {
      "text/plain": [
       "[370, 657, 791, 1236, 1258]"
      ]
     },
     "execution_count": 11,
     "metadata": {},
     "output_type": "execute_result"
    }
   ],
   "source": [
    "x_col_idxs = [col_names.tolist().index(x) for x in x_cols]\n",
    "x_col_idxs"
   ]
  },
  {
   "cell_type": "code",
   "execution_count": 12,
   "id": "logical-recommendation",
   "metadata": {},
   "outputs": [],
   "source": [
    "X_train_sel = X_train[:, x_col_idxs]\n",
    "X_val_sel = X_valid[:, x_col_idxs]\n",
    "history = model.fit(X_train_sel, y_train, validation_data=(X_val_sel, y_valid), verbose=0, epochs=100)\n",
    "results.append({'idxs': x_col_idxs, 'loss': history.history['loss'][-1], 'val loss': history.history['val_loss'][-1]})"
   ]
  },
  {
   "cell_type": "code",
   "execution_count": 13,
   "id": "empty-monroe",
   "metadata": {},
   "outputs": [],
   "source": [
    "for _ in range(25):\n",
    "    model.set_weights(weights)\n",
    "    idxs = rng.choice(len(col_names)-3, size=len(x_cols), replace=False)\n",
    "    X_train_sel = X_train[:, idxs]\n",
    "    X_val_sel = X_valid[:, idxs]\n",
    "    history = model.fit(X_train_sel, y_train, validation_data=(X_val_sel, y_valid), verbose=0, epochs=100)\n",
    "    results.append({'idxs': idxs, 'loss': history.history['loss'][-1], 'val loss': history.history['val_loss'][-1]})"
   ]
  },
  {
   "cell_type": "code",
   "execution_count": 14,
   "id": "clean-williams",
   "metadata": {},
   "outputs": [
    {
     "data": {
      "text/plain": [
       "[{'idxs': [370, 657, 791, 1236, 1258],\n",
       "  'loss': 0.03230303153395653,\n",
       "  'val loss': 0.03562900424003601},\n",
       " {'idxs': array([972, 552, 823, 112, 545], dtype=int64),\n",
       "  'loss': 0.045229025185108185,\n",
       "  'val loss': 0.025419676676392555},\n",
       " {'idxs': array([1227,  118,  661,  959,  926], dtype=int64),\n",
       "  'loss': 0.046594876796007156,\n",
       "  'val loss': 0.03695283830165863},\n",
       " {'idxs': array([ 629, 1054,  566,  466,  230], dtype=int64),\n",
       "  'loss': 0.04591944441199303,\n",
       "  'val loss': 0.022357648238539696},\n",
       " {'idxs': array([ 685,  286,  567,  557, 1033], dtype=int64),\n",
       "  'loss': 0.04047618433833122,\n",
       "  'val loss': 0.016424372792243958},\n",
       " {'idxs': array([ 208, 1078, 1040,  348,  795], dtype=int64),\n",
       "  'loss': 0.048129864037036896,\n",
       "  'val loss': 0.03343585133552551},\n",
       " {'idxs': array([1123,  980,  560, 1219,  853], dtype=int64),\n",
       "  'loss': 0.05517670884728432,\n",
       "  'val loss': 0.02494923211634159},\n",
       " {'idxs': array([ 55, 625, 687, 936, 194], dtype=int64),\n",
       "  'loss': 0.029710344970226288,\n",
       "  'val loss': 0.04035470262169838},\n",
       " {'idxs': array([1140,  466,  409,  516, 1215], dtype=int64),\n",
       "  'loss': 0.03999628126621246,\n",
       "  'val loss': 0.009757837280631065},\n",
       " {'idxs': array([581, 416, 598, 863, 163], dtype=int64),\n",
       "  'loss': 0.03671326860785484,\n",
       "  'val loss': 0.05306801572442055},\n",
       " {'idxs': array([ 882,  792, 1047,  201,  549], dtype=int64),\n",
       "  'loss': 0.0332551933825016,\n",
       "  'val loss': 0.02444854937493801},\n",
       " {'idxs': array([ 487, 1131, 1058,  546, 1011], dtype=int64),\n",
       "  'loss': 0.047027841210365295,\n",
       "  'val loss': 0.011595205403864384},\n",
       " {'idxs': array([ 175, 1046,  251,    9, 1013], dtype=int64),\n",
       "  'loss': 0.03924015536904335,\n",
       "  'val loss': 0.030123881995677948},\n",
       " {'idxs': array([982, 592, 886, 700, 348], dtype=int64),\n",
       "  'loss': 0.05047743394970894,\n",
       "  'val loss': 0.06753792613744736},\n",
       " {'idxs': array([175, 842, 144, 308, 553], dtype=int64),\n",
       "  'loss': 0.05023784190416336,\n",
       "  'val loss': 0.003665484255179763},\n",
       " {'idxs': array([799, 712, 961,  99, 722], dtype=int64),\n",
       "  'loss': 0.04667006433010101,\n",
       "  'val loss': 0.02208389900624752},\n",
       " {'idxs': array([757,  38, 437, 381, 550], dtype=int64),\n",
       "  'loss': 0.037232622504234314,\n",
       "  'val loss': 0.0401465930044651},\n",
       " {'idxs': array([  43, 1072, 1035,  294, 1246], dtype=int64),\n",
       "  'loss': 0.03348822146654129,\n",
       "  'val loss': 0.016509955748915672},\n",
       " {'idxs': array([368, 545, 701, 158, 832], dtype=int64),\n",
       "  'loss': 0.04895659163594246,\n",
       "  'val loss': 0.028846627101302147},\n",
       " {'idxs': array([1024,  525,  404,  510,  513], dtype=int64),\n",
       "  'loss': 0.045309558510780334,\n",
       "  'val loss': 0.01634453982114792},\n",
       " {'idxs': array([581, 969, 908, 113, 877], dtype=int64),\n",
       "  'loss': 0.05712682381272316,\n",
       "  'val loss': 0.027307817712426186},\n",
       " {'idxs': array([ 624,  876,  191, 1178,  625], dtype=int64),\n",
       "  'loss': 0.044995520263910294,\n",
       "  'val loss': 0.06368536502122879},\n",
       " {'idxs': array([792, 764, 859, 378, 455], dtype=int64),\n",
       "  'loss': 0.04378595948219299,\n",
       "  'val loss': 0.04479505494236946},\n",
       " {'idxs': array([ 460,  623,  425, 1209, 1143], dtype=int64),\n",
       "  'loss': 0.04041283577680588,\n",
       "  'val loss': 0.09637372940778732},\n",
       " {'idxs': array([ 903, 1217,  979,  331,  328], dtype=int64),\n",
       "  'loss': 0.05470002070069313,\n",
       "  'val loss': 0.028501437976956367},\n",
       " {'idxs': array([1136,  121,   99,  160,  562], dtype=int64),\n",
       "  'loss': 0.051086124032735825,\n",
       "  'val loss': 0.08787422627210617}]"
      ]
     },
     "execution_count": 14,
     "metadata": {},
     "output_type": "execute_result"
    }
   ],
   "source": [
    "results"
   ]
  },
  {
   "cell_type": "code",
   "execution_count": null,
   "id": "recovered-display",
   "metadata": {},
   "outputs": [],
   "source": []
  }
 ],
 "metadata": {
  "kernelspec": {
   "display_name": "Python 3",
   "language": "python",
   "name": "python3"
  },
  "language_info": {
   "codemirror_mode": {
    "name": "ipython",
    "version": 3
   },
   "file_extension": ".py",
   "mimetype": "text/x-python",
   "name": "python",
   "nbconvert_exporter": "python",
   "pygments_lexer": "ipython3",
   "version": "3.7.9"
  }
 },
 "nbformat": 4,
 "nbformat_minor": 5
}
