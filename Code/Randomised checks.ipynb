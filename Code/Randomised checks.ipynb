{
 "cells": [
  {
   "cell_type": "code",
   "execution_count": 1,
   "id": "successful-roberts",
   "metadata": {},
   "outputs": [],
   "source": [
    "import numpy as np\n",
    "import pandas as pd\n",
    "import tensorflow as tf\n",
    "from tensorflow import keras\n",
    "from sklearn.preprocessing import MinMaxScaler\n",
    "from sklearn.model_selection import train_test_split"
   ]
  },
  {
   "cell_type": "code",
   "execution_count": 2,
   "id": "fifty-introduction",
   "metadata": {},
   "outputs": [],
   "source": [
    "seed = 42\n",
    "tf.random.set_seed(seed)\n",
    "rng = np.random.default_rng(seed=seed)"
   ]
  },
  {
   "cell_type": "code",
   "execution_count": 3,
   "id": "severe-midwest",
   "metadata": {},
   "outputs": [],
   "source": [
    "data = pd.read_csv('..\\\\Data\\\\ze41_mol_desc_db_red.csv', header=0, sep=';', decimal=',')"
   ]
  },
  {
   "cell_type": "code",
   "execution_count": 4,
   "id": "lovely-prisoner",
   "metadata": {},
   "outputs": [],
   "source": [
    "col_names = data.columns\n",
    "x_cols = ['P_VSA_MR_5', 'Mor04m', 'E1p', 'Mor22s', 'LUMO / eV']\n",
    "#x_cols = ['VE2_G/D', 'Eig14_EA(dm)', 'Mor31m', 'TDB04u', 'HATS1e']\n",
    "X_full = data[col_names[3:]]\n",
    "y = data[col_names[2]]"
   ]
  },
  {
   "cell_type": "code",
   "execution_count": 5,
   "id": "monetary-reminder",
   "metadata": {},
   "outputs": [],
   "source": [
    "X_scaled = MinMaxScaler(feature_range=(0,1)).fit_transform(X_full)"
   ]
  },
  {
   "cell_type": "code",
   "execution_count": 6,
   "id": "entertaining-venice",
   "metadata": {},
   "outputs": [],
   "source": [
    "X_train, X_valid, y_train, y_valid = train_test_split(X_scaled, y, test_size=0.1, random_state=seed)"
   ]
  },
  {
   "cell_type": "code",
   "execution_count": 7,
   "id": "selected-purple",
   "metadata": {},
   "outputs": [],
   "source": [
    "def get_model():\n",
    "    model = keras.models.Sequential([\n",
    "        keras.layers.Dense(50, activation='relu', input_shape=(len(x_cols),)),\n",
    "        keras.layers.Dense(20, activation='relu'),\n",
    "        keras.layers.Dense(10, activation='relu'),\n",
    "        keras.layers.Dense(1)\n",
    "        ])\n",
    "    model.compile(\n",
    "        optimizer=tf.optimizers.Adam(learning_rate=0.01),\n",
    "        loss='mean_squared_error')\n",
    "    return model"
   ]
  },
  {
   "cell_type": "code",
   "execution_count": 8,
   "id": "aggregate-breed",
   "metadata": {},
   "outputs": [],
   "source": [
    "model = get_model()"
   ]
  },
  {
   "cell_type": "code",
   "execution_count": 9,
   "id": "systematic-allergy",
   "metadata": {},
   "outputs": [],
   "source": [
    "weights = model.get_weights()"
   ]
  },
  {
   "cell_type": "code",
   "execution_count": 10,
   "id": "regulation-series",
   "metadata": {},
   "outputs": [],
   "source": [
    "results = []"
   ]
  },
  {
   "cell_type": "code",
   "execution_count": 11,
   "id": "civil-truck",
   "metadata": {},
   "outputs": [
    {
     "data": {
      "text/plain": [
       "[370, 657, 791, 758, 1258]"
      ]
     },
     "execution_count": 11,
     "metadata": {},
     "output_type": "execute_result"
    }
   ],
   "source": [
    "x_col_idxs = [col_names.tolist().index(x) for x in x_cols]\n",
    "x_col_idxs"
   ]
  },
  {
   "cell_type": "code",
   "execution_count": 12,
   "id": "logical-recommendation",
   "metadata": {},
   "outputs": [],
   "source": [
    "X_train_sel = X_train[:, x_col_idxs]\n",
    "X_val_sel = X_valid[:, x_col_idxs]\n",
    "history = model.fit(X_train_sel, y_train, validation_data=(X_val_sel, y_valid), verbose=0, epochs=25)\n",
    "results.append({'idxs': x_col_idxs, 'loss': history.history['loss'][-1], 'val loss': history.history['val_loss'][-1]})"
   ]
  },
  {
   "cell_type": "code",
   "execution_count": 13,
   "id": "empty-monroe",
   "metadata": {},
   "outputs": [
    {
     "name": "stdout",
     "output_type": "stream",
     "text": [
      "10\n",
      "20\n",
      "30\n",
      "40\n",
      "50\n",
      "60\n",
      "70\n",
      "80\n",
      "90\n",
      "100\n"
     ]
    }
   ],
   "source": [
    "for i in range(100):\n",
    "    if i%10 == 9:\n",
    "        print(i+1)\n",
    "    model = get_model()\n",
    "    model.set_weights(weights)\n",
    "    idxs = rng.choice(len(col_names)-3, size=len(x_cols), replace=False)\n",
    "    X_train_sel = X_train[:, idxs]\n",
    "    X_val_sel = X_valid[:, idxs]\n",
    "    history = model.fit(X_train_sel, y_train, validation_data=(X_val_sel, y_valid), verbose=0, epochs=25)\n",
    "    results.append({'idxs': idxs, 'loss': history.history['loss'][-1], 'val loss': history.history['val_loss'][-1]})"
   ]
  },
  {
   "cell_type": "code",
   "execution_count": 14,
   "id": "clean-williams",
   "metadata": {},
   "outputs": [],
   "source": [
    "#results"
   ]
  },
  {
   "cell_type": "code",
   "execution_count": 15,
   "id": "recovered-display",
   "metadata": {},
   "outputs": [
    {
     "data": {
      "text/plain": [
       "0     0.328\n",
       "5     0.896\n",
       "36    0.817\n",
       "45    0.765\n",
       "13    0.893\n",
       "54    0.733\n",
       "Name: LinIE ZE41, dtype: float64"
      ]
     },
     "execution_count": 15,
     "metadata": {},
     "output_type": "execute_result"
    }
   ],
   "source": [
    "y_valid"
   ]
  },
  {
   "cell_type": "code",
   "execution_count": 16,
   "id": "inclusive-painting",
   "metadata": {},
   "outputs": [],
   "source": [
    "val_losses = [r['val loss'] for r in results]"
   ]
  },
  {
   "cell_type": "code",
   "execution_count": 17,
   "id": "burning-prospect",
   "metadata": {},
   "outputs": [],
   "source": [
    "val_losses = sorted(val_losses)"
   ]
  },
  {
   "cell_type": "code",
   "execution_count": 18,
   "id": "overhead-technician",
   "metadata": {},
   "outputs": [
    {
     "data": {
      "text/plain": [
       "62"
      ]
     },
     "execution_count": 18,
     "metadata": {},
     "output_type": "execute_result"
    }
   ],
   "source": [
    "val_losses.index(results[0]['val loss'])"
   ]
  },
  {
   "cell_type": "code",
   "execution_count": 19,
   "id": "aerial-serum",
   "metadata": {},
   "outputs": [
    {
     "data": {
      "text/plain": [
       "101"
      ]
     },
     "execution_count": 19,
     "metadata": {},
     "output_type": "execute_result"
    }
   ],
   "source": [
    "len(val_losses)"
   ]
  },
  {
   "cell_type": "code",
   "execution_count": 20,
   "id": "overhead-oxygen",
   "metadata": {},
   "outputs": [],
   "source": [
    "#val_losses"
   ]
  },
  {
   "cell_type": "code",
   "execution_count": 21,
   "id": "enabling-holmes",
   "metadata": {},
   "outputs": [
    {
     "data": {
      "text/plain": [
       "0.03288356870375943"
      ]
     },
     "execution_count": 21,
     "metadata": {},
     "output_type": "execute_result"
    }
   ],
   "source": [
    "np.mean(val_losses)"
   ]
  },
  {
   "cell_type": "code",
   "execution_count": 22,
   "id": "developed-specialist",
   "metadata": {},
   "outputs": [
    {
     "data": {
      "text/plain": [
       "0.0349186472594738"
      ]
     },
     "execution_count": 22,
     "metadata": {},
     "output_type": "execute_result"
    }
   ],
   "source": [
    "results[0]['val loss']"
   ]
  },
  {
   "cell_type": "code",
   "execution_count": 23,
   "id": "south-postage",
   "metadata": {},
   "outputs": [
    {
     "data": {
      "text/plain": [
       "0.007308712229132652"
      ]
     },
     "execution_count": 23,
     "metadata": {},
     "output_type": "execute_result"
    }
   ],
   "source": [
    "np.min(val_losses)"
   ]
  },
  {
   "cell_type": "code",
   "execution_count": null,
   "id": "proof-childhood",
   "metadata": {},
   "outputs": [],
   "source": []
  }
 ],
 "metadata": {
  "kernelspec": {
   "display_name": "Python 3",
   "language": "python",
   "name": "python3"
  },
  "language_info": {
   "codemirror_mode": {
    "name": "ipython",
    "version": 3
   },
   "file_extension": ".py",
   "mimetype": "text/x-python",
   "name": "python",
   "nbconvert_exporter": "python",
   "pygments_lexer": "ipython3",
   "version": "3.7.9"
  }
 },
 "nbformat": 4,
 "nbformat_minor": 5
}
