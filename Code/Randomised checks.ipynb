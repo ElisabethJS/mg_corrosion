{
 "cells": [
  {
   "cell_type": "code",
   "execution_count": 1,
   "id": "successful-roberts",
   "metadata": {},
   "outputs": [],
   "source": [
    "import numpy as np\n",
    "import pandas as pd\n",
    "import tensorflow as tf\n",
    "from tensorflow import keras\n",
    "from sklearn.preprocessing import MinMaxScaler\n",
    "from sklearn.model_selection import train_test_split"
   ]
  },
  {
   "cell_type": "code",
   "execution_count": 2,
   "id": "fifty-introduction",
   "metadata": {},
   "outputs": [],
   "source": [
    "seed = 42\n",
    "tf.random.set_seed(seed)\n",
    "rng = np.random.default_rng(seed=seed)"
   ]
  },
  {
   "cell_type": "code",
   "execution_count": 3,
   "id": "severe-midwest",
   "metadata": {},
   "outputs": [],
   "source": [
    "data = pd.read_csv('..\\\\Data\\\\ze41_mol_desc_db_red.csv', header=0, sep=';', decimal=',')"
   ]
  },
  {
   "cell_type": "code",
   "execution_count": 4,
   "id": "lovely-prisoner",
   "metadata": {},
   "outputs": [],
   "source": [
    "col_names = data.columns\n",
    "x_cols = ['P_VSA_MR_5', 'Mor04m', 'E1p', 'CATS3D_02_AP', 'LUMO / eV']\n",
    "X_full = data[col_names[3:]]\n",
    "y = data[col_names[2]]"
   ]
  },
  {
   "cell_type": "code",
   "execution_count": 5,
   "id": "monetary-reminder",
   "metadata": {},
   "outputs": [],
   "source": [
    "X_scaled = MinMaxScaler(feature_range=(0,1)).fit_transform(X_full)"
   ]
  },
  {
   "cell_type": "code",
   "execution_count": 6,
   "id": "entertaining-venice",
   "metadata": {},
   "outputs": [],
   "source": [
    "X_train, X_valid, y_train, y_valid = train_test_split(X_scaled, y, test_size=0.2, random_state=seed)"
   ]
  },
  {
   "cell_type": "code",
   "execution_count": 7,
   "id": "selected-purple",
   "metadata": {},
   "outputs": [],
   "source": [
    "model = keras.models.Sequential([\n",
    "    keras.layers.Dense(50, activation='relu', input_shape=(len(x_cols),)),\n",
    "    keras.layers.Dense(20, activation='relu'),\n",
    "    keras.layers.Dense(10, activation='relu'),\n",
    "    keras.layers.Dense(1)\n",
    "])"
   ]
  },
  {
   "cell_type": "code",
   "execution_count": 8,
   "id": "aggregate-breed",
   "metadata": {},
   "outputs": [],
   "source": [
    "model.compile(\n",
    "    optimizer=tf.optimizers.Adam(learning_rate=0.005),\n",
    "    loss='mean_squared_error')"
   ]
  },
  {
   "cell_type": "code",
   "execution_count": 9,
   "id": "systematic-allergy",
   "metadata": {},
   "outputs": [],
   "source": [
    "weights = model.get_weights()"
   ]
  },
  {
   "cell_type": "code",
   "execution_count": 10,
   "id": "regulation-series",
   "metadata": {},
   "outputs": [],
   "source": [
    "results = []"
   ]
  },
  {
   "cell_type": "code",
   "execution_count": 11,
   "id": "civil-truck",
   "metadata": {},
   "outputs": [
    {
     "data": {
      "text/plain": [
       "[370, 657, 791, 1236, 1258]"
      ]
     },
     "execution_count": 11,
     "metadata": {},
     "output_type": "execute_result"
    }
   ],
   "source": [
    "x_col_idxs = [col_names.tolist().index(x) for x in x_cols]\n",
    "x_col_idxs"
   ]
  },
  {
   "cell_type": "code",
   "execution_count": 12,
   "id": "logical-recommendation",
   "metadata": {},
   "outputs": [],
   "source": [
    "X_train_sel = X_train[:, x_col_idxs]\n",
    "X_val_sel = X_valid[:, x_col_idxs]\n",
    "history = model.fit(X_train_sel, y_train, validation_data=(X_val_sel, y_valid), verbose=0, epochs=100)\n",
    "results.append({'idxs': x_col_idxs, 'loss': history.history['loss'][-1], 'val loss': history.history['val_loss'][-1]})"
   ]
  },
  {
   "cell_type": "code",
   "execution_count": 13,
   "id": "empty-monroe",
   "metadata": {},
   "outputs": [],
   "source": [
    "for _ in range(25):\n",
    "    model.set_weights(weights)\n",
    "    idxs = rng.choice(len(col_names)-3, size=len(x_cols), replace=False)\n",
    "    X_train_sel = X_train[:, idxs]\n",
    "    X_val_sel = X_valid[:, idxs]\n",
    "    history = model.fit(X_train_sel, y_train, validation_data=(X_val_sel, y_valid), verbose=0, epochs=100)\n",
    "    results.append({'idxs': idxs, 'loss': history.history['loss'][-1], 'val loss': history.history['val_loss'][-1]})"
   ]
  },
  {
   "cell_type": "code",
   "execution_count": 14,
   "id": "clean-williams",
   "metadata": {},
   "outputs": [
    {
     "data": {
      "text/plain": [
       "[{'idxs': [370, 657, 791, 1236, 1258],\n",
       "  'loss': 0.035716813057661057,\n",
       "  'val loss': 0.038644127547740936},\n",
       " {'idxs': array([972, 552, 823, 112, 545], dtype=int64),\n",
       "  'loss': 0.04792053997516632,\n",
       "  'val loss': 0.045133695006370544},\n",
       " {'idxs': array([1227,  118,  661,  959,  926], dtype=int64),\n",
       "  'loss': 0.04735381901264191,\n",
       "  'val loss': 0.047686923295259476},\n",
       " {'idxs': array([ 629, 1054,  566,  466,  230], dtype=int64),\n",
       "  'loss': 0.04228797182440758,\n",
       "  'val loss': 0.06019053980708122},\n",
       " {'idxs': array([ 685,  286,  567,  557, 1033], dtype=int64),\n",
       "  'loss': 0.0398203507065773,\n",
       "  'val loss': 0.054395515471696854},\n",
       " {'idxs': array([ 208, 1078, 1040,  348,  795], dtype=int64),\n",
       "  'loss': 0.0408223420381546,\n",
       "  'val loss': 0.08544125407934189},\n",
       " {'idxs': array([1123,  980,  560, 1219,  853], dtype=int64),\n",
       "  'loss': 0.052374254912137985,\n",
       "  'val loss': 0.06363093852996826},\n",
       " {'idxs': array([ 55, 625, 687, 936, 194], dtype=int64),\n",
       "  'loss': 0.02891695313155651,\n",
       "  'val loss': 0.08723362535238266},\n",
       " {'idxs': array([1140,  466,  409,  516, 1215], dtype=int64),\n",
       "  'loss': 0.04005095362663269,\n",
       "  'val loss': 0.04153389483690262},\n",
       " {'idxs': array([581, 416, 598, 863, 163], dtype=int64),\n",
       "  'loss': 0.027472279965877533,\n",
       "  'val loss': 0.10210134834051132},\n",
       " {'idxs': array([ 882,  792, 1047,  201,  549], dtype=int64),\n",
       "  'loss': 0.03529377654194832,\n",
       "  'val loss': 0.05643857643008232},\n",
       " {'idxs': array([ 487, 1131, 1058,  546, 1011], dtype=int64),\n",
       "  'loss': 0.046575482934713364,\n",
       "  'val loss': 0.05368855223059654},\n",
       " {'idxs': array([ 175, 1046,  251,    9, 1013], dtype=int64),\n",
       "  'loss': 0.03601078316569328,\n",
       "  'val loss': 0.07793936878442764},\n",
       " {'idxs': array([982, 592, 886, 700, 348], dtype=int64),\n",
       "  'loss': 0.04352152720093727,\n",
       "  'val loss': 0.11284768581390381},\n",
       " {'idxs': array([175, 842, 144, 308, 553], dtype=int64),\n",
       "  'loss': 0.04596705362200737,\n",
       "  'val loss': 0.06371325999498367},\n",
       " {'idxs': array([799, 712, 961,  99, 722], dtype=int64),\n",
       "  'loss': 0.04754658043384552,\n",
       "  'val loss': 0.05583120509982109},\n",
       " {'idxs': array([757,  38, 437, 381, 550], dtype=int64),\n",
       "  'loss': 0.035671014338731766,\n",
       "  'val loss': 0.05888107046484947},\n",
       " {'idxs': array([  43, 1072, 1035,  294, 1246], dtype=int64),\n",
       "  'loss': 0.04519198462367058,\n",
       "  'val loss': 0.059691786766052246},\n",
       " {'idxs': array([368, 545, 701, 158, 832], dtype=int64),\n",
       "  'loss': 0.0489761084318161,\n",
       "  'val loss': 0.05459625646471977},\n",
       " {'idxs': array([1024,  525,  404,  510,  513], dtype=int64),\n",
       "  'loss': 0.026411307975649834,\n",
       "  'val loss': 0.07756233960390091},\n",
       " {'idxs': array([581, 969, 908, 113, 877], dtype=int64),\n",
       "  'loss': 0.05617016553878784,\n",
       "  'val loss': 0.06107092276215553},\n",
       " {'idxs': array([ 624,  876,  191, 1178,  625], dtype=int64),\n",
       "  'loss': 0.04669462516903877,\n",
       "  'val loss': 0.052541717886924744},\n",
       " {'idxs': array([792, 764, 859, 378, 455], dtype=int64),\n",
       "  'loss': 0.037649232894182205,\n",
       "  'val loss': 0.09467028826475143},\n",
       " {'idxs': array([ 460,  623,  425, 1209, 1143], dtype=int64),\n",
       "  'loss': 0.04436897858977318,\n",
       "  'val loss': 0.08592652529478073},\n",
       " {'idxs': array([ 903, 1217,  979,  331,  328], dtype=int64),\n",
       "  'loss': 0.05199187994003296,\n",
       "  'val loss': 0.05604208633303642},\n",
       " {'idxs': array([1136,  121,   99,  160,  562], dtype=int64),\n",
       "  'loss': 0.050545305013656616,\n",
       "  'val loss': 0.06519638746976852}]"
      ]
     },
     "execution_count": 14,
     "metadata": {},
     "output_type": "execute_result"
    }
   ],
   "source": [
    "results"
   ]
  },
  {
   "cell_type": "code",
   "execution_count": null,
   "id": "recovered-display",
   "metadata": {},
   "outputs": [],
   "source": []
  }
 ],
 "metadata": {
  "kernelspec": {
   "display_name": "Python 3",
   "language": "python",
   "name": "python3"
  },
  "language_info": {
   "codemirror_mode": {
    "name": "ipython",
    "version": 3
   },
   "file_extension": ".py",
   "mimetype": "text/x-python",
   "name": "python",
   "nbconvert_exporter": "python",
   "pygments_lexer": "ipython3",
   "version": "3.7.9"
  }
 },
 "nbformat": 4,
 "nbformat_minor": 5
}
