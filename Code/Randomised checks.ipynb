{
 "cells": [
  {
   "cell_type": "code",
   "execution_count": 1,
   "id": "successful-roberts",
   "metadata": {},
   "outputs": [],
   "source": [
    "import numpy as np\n",
    "import pandas as pd\n",
    "import tensorflow as tf\n",
    "from tensorflow import keras\n",
    "from sklearn.preprocessing import MinMaxScaler\n",
    "from sklearn.model_selection import train_test_split"
   ]
  },
  {
   "cell_type": "code",
   "execution_count": 2,
   "id": "fifty-introduction",
   "metadata": {},
   "outputs": [],
   "source": [
    "seed = 42\n",
    "tf.random.set_seed(seed)\n",
    "rng = np.random.default_rng(seed=seed)"
   ]
  },
  {
   "cell_type": "code",
   "execution_count": 3,
   "id": "severe-midwest",
   "metadata": {},
   "outputs": [],
   "source": [
    "data = pd.read_csv('..\\\\Data\\\\ze41_mol_desc_db_red.csv', header=0, sep=';', decimal=',')"
   ]
  },
  {
   "cell_type": "code",
   "execution_count": 4,
   "id": "lovely-prisoner",
   "metadata": {},
   "outputs": [],
   "source": [
    "col_names = data.columns\n",
    "x_cols = ['P_VSA_MR_5', 'Mor04m', 'E1p', 'Mor22s', 'LUMO / eV']\n",
    "X_full = data[col_names[3:]]\n",
    "y = data[col_names[2]]"
   ]
  },
  {
   "cell_type": "code",
   "execution_count": 5,
   "id": "monetary-reminder",
   "metadata": {},
   "outputs": [],
   "source": [
    "X_scaled = MinMaxScaler(feature_range=(0,1)).fit_transform(X_full)"
   ]
  },
  {
   "cell_type": "code",
   "execution_count": 6,
   "id": "entertaining-venice",
   "metadata": {},
   "outputs": [],
   "source": [
    "X_train, X_valid, y_train, y_valid = train_test_split(X_scaled, y, test_size=0.1, random_state=seed)"
   ]
  },
  {
   "cell_type": "code",
   "execution_count": 7,
   "id": "selected-purple",
   "metadata": {},
   "outputs": [],
   "source": [
    "model = keras.models.Sequential([\n",
    "    keras.layers.Dense(50, activation='relu', input_shape=(len(x_cols),)),\n",
    "    keras.layers.Dense(20, activation='relu'),\n",
    "    keras.layers.Dense(10, activation='relu'),\n",
    "    keras.layers.Dense(1)\n",
    "])"
   ]
  },
  {
   "cell_type": "code",
   "execution_count": 8,
   "id": "aggregate-breed",
   "metadata": {},
   "outputs": [],
   "source": [
    "model.compile(\n",
    "    optimizer=tf.optimizers.Adam(learning_rate=0.01),\n",
    "    loss='mean_squared_error')"
   ]
  },
  {
   "cell_type": "code",
   "execution_count": 9,
   "id": "systematic-allergy",
   "metadata": {},
   "outputs": [],
   "source": [
    "weights = model.get_weights()"
   ]
  },
  {
   "cell_type": "code",
   "execution_count": 10,
   "id": "regulation-series",
   "metadata": {},
   "outputs": [],
   "source": [
    "results = []"
   ]
  },
  {
   "cell_type": "code",
   "execution_count": 11,
   "id": "civil-truck",
   "metadata": {},
   "outputs": [
    {
     "data": {
      "text/plain": [
       "[370, 657, 791, 758, 1258]"
      ]
     },
     "execution_count": 11,
     "metadata": {},
     "output_type": "execute_result"
    }
   ],
   "source": [
    "x_col_idxs = [col_names.tolist().index(x) for x in x_cols]\n",
    "x_col_idxs"
   ]
  },
  {
   "cell_type": "code",
   "execution_count": 12,
   "id": "logical-recommendation",
   "metadata": {},
   "outputs": [],
   "source": [
    "X_train_sel = X_train[:, x_col_idxs]\n",
    "X_val_sel = X_valid[:, x_col_idxs]\n",
    "history = model.fit(X_train_sel, y_train, validation_data=(X_val_sel, y_valid), verbose=0, epochs=100)\n",
    "results.append({'idxs': x_col_idxs, 'loss': history.history['loss'][-1], 'val loss': history.history['val_loss'][-1]})"
   ]
  },
  {
   "cell_type": "code",
   "execution_count": 13,
   "id": "empty-monroe",
   "metadata": {},
   "outputs": [],
   "source": [
    "for _ in range(25):\n",
    "    model.set_weights(weights)\n",
    "    idxs = rng.choice(len(col_names)-3, size=len(x_cols), replace=False)\n",
    "    X_train_sel = X_train[:, idxs]\n",
    "    X_val_sel = X_valid[:, idxs]\n",
    "    history = model.fit(X_train_sel, y_train, validation_data=(X_val_sel, y_valid), verbose=0, epochs=100)\n",
    "    results.append({'idxs': idxs, 'loss': history.history['loss'][-1], 'val loss': history.history['val_loss'][-1]})"
   ]
  },
  {
   "cell_type": "code",
   "execution_count": 14,
   "id": "clean-williams",
   "metadata": {},
   "outputs": [
    {
     "data": {
      "text/plain": [
       "[{'idxs': [370, 657, 791, 758, 1258],\n",
       "  'loss': 0.0407479964196682,\n",
       "  'val loss': 0.03569430485367775},\n",
       " {'idxs': array([972, 552, 823, 112, 545], dtype=int64),\n",
       "  'loss': 0.052331890910863876,\n",
       "  'val loss': 0.014153177849948406},\n",
       " {'idxs': array([1227,  118,  661,  959,  926], dtype=int64),\n",
       "  'loss': 0.05302339047193527,\n",
       "  'val loss': 0.03510885313153267},\n",
       " {'idxs': array([ 629, 1054,  566,  466,  230], dtype=int64),\n",
       "  'loss': 0.043198052793741226,\n",
       "  'val loss': 0.02604661136865616},\n",
       " {'idxs': array([ 685,  286,  567,  557, 1033], dtype=int64),\n",
       "  'loss': 0.04422992095351219,\n",
       "  'val loss': 0.01709439419209957},\n",
       " {'idxs': array([ 208, 1078, 1040,  348,  795], dtype=int64),\n",
       "  'loss': 0.047220077365636826,\n",
       "  'val loss': 0.03763711452484131},\n",
       " {'idxs': array([1123,  980,  560, 1219,  853], dtype=int64),\n",
       "  'loss': 0.05452549457550049,\n",
       "  'val loss': 0.023836536332964897},\n",
       " {'idxs': array([ 55, 625, 687, 936, 194], dtype=int64),\n",
       "  'loss': 0.0319579653441906,\n",
       "  'val loss': 0.03812388703227043},\n",
       " {'idxs': array([1140,  466,  409,  516, 1215], dtype=int64),\n",
       "  'loss': 0.0412449836730957,\n",
       "  'val loss': 0.008724517188966274},\n",
       " {'idxs': array([581, 416, 598, 863, 163], dtype=int64),\n",
       "  'loss': 0.03831624984741211,\n",
       "  'val loss': 0.02567535825073719},\n",
       " {'idxs': array([ 882,  792, 1047,  201,  549], dtype=int64),\n",
       "  'loss': 0.03147454559803009,\n",
       "  'val loss': 0.022747276350855827},\n",
       " {'idxs': array([ 487, 1131, 1058,  546, 1011], dtype=int64),\n",
       "  'loss': 0.047579601407051086,\n",
       "  'val loss': 0.00967223197221756},\n",
       " {'idxs': array([ 175, 1046,  251,    9, 1013], dtype=int64),\n",
       "  'loss': 0.03650321811437607,\n",
       "  'val loss': 0.03772147372364998},\n",
       " {'idxs': array([982, 592, 886, 700, 348], dtype=int64),\n",
       "  'loss': 0.05157969519495964,\n",
       "  'val loss': 0.06193133816123009},\n",
       " {'idxs': array([175, 842, 144, 308, 553], dtype=int64),\n",
       "  'loss': 0.050586577504873276,\n",
       "  'val loss': 0.004453748464584351},\n",
       " {'idxs': array([799, 712, 961,  99, 722], dtype=int64),\n",
       "  'loss': 0.048638228327035904,\n",
       "  'val loss': 0.0211504977196455},\n",
       " {'idxs': array([757,  38, 437, 381, 550], dtype=int64),\n",
       "  'loss': 0.035046108067035675,\n",
       "  'val loss': 0.03123084455728531},\n",
       " {'idxs': array([  43, 1072, 1035,  294, 1246], dtype=int64),\n",
       "  'loss': 0.03299005329608917,\n",
       "  'val loss': 0.01709398441016674},\n",
       " {'idxs': array([368, 545, 701, 158, 832], dtype=int64),\n",
       "  'loss': 0.05014319717884064,\n",
       "  'val loss': 0.028501778841018677},\n",
       " {'idxs': array([1024,  525,  404,  510,  513], dtype=int64),\n",
       "  'loss': 0.04178829491138458,\n",
       "  'val loss': 0.010388446971774101},\n",
       " {'idxs': array([581, 969, 908, 113, 877], dtype=int64),\n",
       "  'loss': 0.05515079200267792,\n",
       "  'val loss': 0.02417341060936451},\n",
       " {'idxs': array([ 624,  876,  191, 1178,  625], dtype=int64),\n",
       "  'loss': 0.042733367532491684,\n",
       "  'val loss': 0.061534177511930466},\n",
       " {'idxs': array([792, 764, 859, 378, 455], dtype=int64),\n",
       "  'loss': 0.04385894164443016,\n",
       "  'val loss': 0.03990562632679939},\n",
       " {'idxs': array([ 460,  623,  425, 1209, 1143], dtype=int64),\n",
       "  'loss': 0.03868145868182182,\n",
       "  'val loss': 0.1063578650355339},\n",
       " {'idxs': array([ 903, 1217,  979,  331,  328], dtype=int64),\n",
       "  'loss': 0.05534837767481804,\n",
       "  'val loss': 0.029232537373900414},\n",
       " {'idxs': array([1136,  121,   99,  160,  562], dtype=int64),\n",
       "  'loss': 0.051883500069379807,\n",
       "  'val loss': 0.050858233124017715}]"
      ]
     },
     "execution_count": 14,
     "metadata": {},
     "output_type": "execute_result"
    }
   ],
   "source": [
    "results"
   ]
  },
  {
   "cell_type": "code",
   "execution_count": 15,
   "id": "recovered-display",
   "metadata": {},
   "outputs": [
    {
     "data": {
      "text/plain": [
       "0     0.328\n",
       "5     0.896\n",
       "36    0.817\n",
       "45    0.765\n",
       "13    0.893\n",
       "54    0.733\n",
       "Name: LinIE ZE41, dtype: float64"
      ]
     },
     "execution_count": 15,
     "metadata": {},
     "output_type": "execute_result"
    }
   ],
   "source": [
    "y_valid"
   ]
  },
  {
   "cell_type": "code",
   "execution_count": null,
   "id": "endangered-adjustment",
   "metadata": {},
   "outputs": [],
   "source": []
  }
 ],
 "metadata": {
  "kernelspec": {
   "display_name": "Python 3",
   "language": "python",
   "name": "python3"
  },
  "language_info": {
   "codemirror_mode": {
    "name": "ipython",
    "version": 3
   },
   "file_extension": ".py",
   "mimetype": "text/x-python",
   "name": "python",
   "nbconvert_exporter": "python",
   "pygments_lexer": "ipython3",
   "version": "3.7.9"
  }
 },
 "nbformat": 4,
 "nbformat_minor": 5
}
