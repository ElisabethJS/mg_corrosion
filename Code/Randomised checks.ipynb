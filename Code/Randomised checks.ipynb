{
 "cells": [
  {
   "cell_type": "code",
   "execution_count": 1,
   "id": "successful-roberts",
   "metadata": {},
   "outputs": [],
   "source": [
    "import numpy as np\n",
    "import pandas as pd\n",
    "import tensorflow as tf\n",
    "from tensorflow import keras\n",
    "from sklearn.preprocessing import MinMaxScaler\n",
    "from sklearn.model_selection import train_test_split"
   ]
  },
  {
   "cell_type": "code",
   "execution_count": 2,
   "id": "fifty-introduction",
   "metadata": {},
   "outputs": [],
   "source": [
    "seed = 42\n",
    "tf.random.set_seed(seed)\n",
    "rng = np.random.default_rng(seed=seed)"
   ]
  },
  {
   "cell_type": "code",
   "execution_count": 3,
   "id": "severe-midwest",
   "metadata": {},
   "outputs": [],
   "source": [
    "data = pd.read_csv('..\\\\Data\\\\ze41_mol_desc_db_red.csv', header=0, sep=';', decimal=',')"
   ]
  },
  {
   "cell_type": "code",
   "execution_count": 4,
   "id": "lovely-prisoner",
   "metadata": {},
   "outputs": [],
   "source": [
    "col_names = data.columns\n",
    "#x_cols = ['P_VSA_MR_5', 'Mor04m', 'E1p', 'Mor22s', 'LUMO / eV']\n",
    "x_cols = ['VE2_G/D', 'Eig14_EA(dm)', 'Mor31m', 'TDB04u', 'HATS1e']\n",
    "X_full = data[col_names[3:]]\n",
    "y = data[col_names[2]]"
   ]
  },
  {
   "cell_type": "code",
   "execution_count": 5,
   "id": "monetary-reminder",
   "metadata": {},
   "outputs": [],
   "source": [
    "X_scaled = MinMaxScaler(feature_range=(0,1)).fit_transform(X_full)"
   ]
  },
  {
   "cell_type": "code",
   "execution_count": 6,
   "id": "entertaining-venice",
   "metadata": {},
   "outputs": [],
   "source": [
    "X_train, X_valid, y_train, y_valid = train_test_split(X_scaled, y, test_size=0.1, random_state=seed)"
   ]
  },
  {
   "cell_type": "code",
   "execution_count": 7,
   "id": "selected-purple",
   "metadata": {},
   "outputs": [],
   "source": [
    "def get_model():\n",
    "    model = keras.models.Sequential([\n",
    "        keras.layers.Dense(50, activation='relu', input_shape=(len(x_cols),)),\n",
    "        keras.layers.Dense(20, activation='relu'),\n",
    "        keras.layers.Dense(10, activation='relu'),\n",
    "        keras.layers.Dense(1)\n",
    "        ])\n",
    "    model.compile(\n",
    "        optimizer=tf.optimizers.Adam(learning_rate=0.01),\n",
    "        loss='mean_squared_error')\n",
    "    return model"
   ]
  },
  {
   "cell_type": "code",
   "execution_count": 8,
   "id": "aggregate-breed",
   "metadata": {},
   "outputs": [],
   "source": [
    "model = get_model()"
   ]
  },
  {
   "cell_type": "code",
   "execution_count": 9,
   "id": "systematic-allergy",
   "metadata": {},
   "outputs": [],
   "source": [
    "weights = model.get_weights()"
   ]
  },
  {
   "cell_type": "code",
   "execution_count": 10,
   "id": "regulation-series",
   "metadata": {},
   "outputs": [],
   "source": [
    "results = []"
   ]
  },
  {
   "cell_type": "code",
   "execution_count": 11,
   "id": "civil-truck",
   "metadata": {},
   "outputs": [
    {
     "data": {
      "text/plain": [
       "[534, 460, 682, 538, 850]"
      ]
     },
     "execution_count": 11,
     "metadata": {},
     "output_type": "execute_result"
    }
   ],
   "source": [
    "x_col_idxs = [col_names.tolist().index(x) for x in x_cols]\n",
    "x_col_idxs"
   ]
  },
  {
   "cell_type": "code",
   "execution_count": 12,
   "id": "logical-recommendation",
   "metadata": {},
   "outputs": [],
   "source": [
    "X_train_sel = X_train[:, x_col_idxs]\n",
    "X_val_sel = X_valid[:, x_col_idxs]\n",
    "history = model.fit(X_train_sel, y_train, validation_data=(X_val_sel, y_valid), verbose=0, epochs=25)\n",
    "results.append({'idxs': x_col_idxs, 'loss': history.history['loss'][-1], 'val loss': history.history['val_loss'][-1]})"
   ]
  },
  {
   "cell_type": "code",
   "execution_count": 13,
   "id": "empty-monroe",
   "metadata": {},
   "outputs": [],
   "source": [
    "for _ in range(25):\n",
    "    model = get_model()\n",
    "    model.set_weights(weights)\n",
    "    idxs = rng.choice(len(col_names)-3, size=len(x_cols), replace=False)\n",
    "    X_train_sel = X_train[:, idxs]\n",
    "    X_val_sel = X_valid[:, idxs]\n",
    "    history = model.fit(X_train_sel, y_train, validation_data=(X_val_sel, y_valid), verbose=0, epochs=25)\n",
    "    results.append({'idxs': idxs, 'loss': history.history['loss'][-1], 'val loss': history.history['val_loss'][-1]})"
   ]
  },
  {
   "cell_type": "code",
   "execution_count": 14,
   "id": "clean-williams",
   "metadata": {},
   "outputs": [
    {
     "data": {
      "text/plain": [
       "[{'idxs': [534, 460, 682, 538, 850],\n",
       "  'loss': 0.060117561370134354,\n",
       "  'val loss': 0.0277117732912302},\n",
       " {'idxs': array([972, 552, 823, 112, 545], dtype=int64),\n",
       "  'loss': 0.05426488071680069,\n",
       "  'val loss': 0.018380610272288322},\n",
       " {'idxs': array([1227,  118,  661,  959,  926], dtype=int64),\n",
       "  'loss': 0.05677643418312073,\n",
       "  'val loss': 0.040437936782836914},\n",
       " {'idxs': array([ 629, 1054,  566,  466,  230], dtype=int64),\n",
       "  'loss': 0.052160825580358505,\n",
       "  'val loss': 0.027218176051974297},\n",
       " {'idxs': array([ 685,  286,  567,  557, 1033], dtype=int64),\n",
       "  'loss': 0.051707673817873,\n",
       "  'val loss': 0.02054666168987751},\n",
       " {'idxs': array([ 208, 1078, 1040,  348,  795], dtype=int64),\n",
       "  'loss': 0.05945942550897598,\n",
       "  'val loss': 0.03363513574004173},\n",
       " {'idxs': array([1123,  980,  560, 1219,  853], dtype=int64),\n",
       "  'loss': 0.0623667873442173,\n",
       "  'val loss': 0.031627316027879715},\n",
       " {'idxs': array([ 55, 625, 687, 936, 194], dtype=int64),\n",
       "  'loss': 0.0488118939101696,\n",
       "  'val loss': 0.03139013424515724},\n",
       " {'idxs': array([1140,  466,  409,  516, 1215], dtype=int64),\n",
       "  'loss': 0.048549942672252655,\n",
       "  'val loss': 0.007308709900826216},\n",
       " {'idxs': array([581, 416, 598, 863, 163], dtype=int64),\n",
       "  'loss': 0.056813422590494156,\n",
       "  'val loss': 0.04534071311354637},\n",
       " {'idxs': array([ 882,  792, 1047,  201,  549], dtype=int64),\n",
       "  'loss': 0.04878067970275879,\n",
       "  'val loss': 0.016792016103863716},\n",
       " {'idxs': array([ 487, 1131, 1058,  546, 1011], dtype=int64),\n",
       "  'loss': 0.053943876177072525,\n",
       "  'val loss': 0.012577741406857967},\n",
       " {'idxs': array([ 175, 1046,  251,    9, 1013], dtype=int64),\n",
       "  'loss': 0.05371477082371712,\n",
       "  'val loss': 0.024170612916350365},\n",
       " {'idxs': array([982, 592, 886, 700, 348], dtype=int64),\n",
       "  'loss': 0.05961842089891434,\n",
       "  'val loss': 0.02622690051794052},\n",
       " {'idxs': array([175, 842, 144, 308, 553], dtype=int64),\n",
       "  'loss': 0.05722425878047943,\n",
       "  'val loss': 0.007840313948690891},\n",
       " {'idxs': array([799, 712, 961,  99, 722], dtype=int64),\n",
       "  'loss': 0.06518583744764328,\n",
       "  'val loss': 0.04283299669623375},\n",
       " {'idxs': array([757,  38, 437, 381, 550], dtype=int64),\n",
       "  'loss': 0.045181773602962494,\n",
       "  'val loss': 0.03537534177303314},\n",
       " {'idxs': array([  43, 1072, 1035,  294, 1246], dtype=int64),\n",
       "  'loss': 0.05248492583632469,\n",
       "  'val loss': 0.022664234042167664},\n",
       " {'idxs': array([368, 545, 701, 158, 832], dtype=int64),\n",
       "  'loss': 0.054346490651369095,\n",
       "  'val loss': 0.03884335607290268},\n",
       " {'idxs': array([1024,  525,  404,  510,  513], dtype=int64),\n",
       "  'loss': 0.06492287665605545,\n",
       "  'val loss': 0.031837183982133865},\n",
       " {'idxs': array([581, 969, 908, 113, 877], dtype=int64),\n",
       "  'loss': 0.05990135669708252,\n",
       "  'val loss': 0.02543029375374317},\n",
       " {'idxs': array([ 624,  876,  191, 1178,  625], dtype=int64),\n",
       "  'loss': 0.054000258445739746,\n",
       "  'val loss': 0.03391077741980553},\n",
       " {'idxs': array([792, 764, 859, 378, 455], dtype=int64),\n",
       "  'loss': 0.05051316320896149,\n",
       "  'val loss': 0.04692922532558441},\n",
       " {'idxs': array([ 460,  623,  425, 1209, 1143], dtype=int64),\n",
       "  'loss': 0.05625397339463234,\n",
       "  'val loss': 0.05191443860530853},\n",
       " {'idxs': array([ 903, 1217,  979,  331,  328], dtype=int64),\n",
       "  'loss': 0.06242649629712105,\n",
       "  'val loss': 0.02238452434539795},\n",
       " {'idxs': array([1136,  121,   99,  160,  562], dtype=int64),\n",
       "  'loss': 0.05736134946346283,\n",
       "  'val loss': 0.0619671493768692}]"
      ]
     },
     "execution_count": 14,
     "metadata": {},
     "output_type": "execute_result"
    }
   ],
   "source": [
    "results"
   ]
  },
  {
   "cell_type": "code",
   "execution_count": 15,
   "id": "recovered-display",
   "metadata": {},
   "outputs": [
    {
     "data": {
      "text/plain": [
       "0     0.328\n",
       "5     0.896\n",
       "36    0.817\n",
       "45    0.765\n",
       "13    0.893\n",
       "54    0.733\n",
       "Name: LinIE ZE41, dtype: float64"
      ]
     },
     "execution_count": 15,
     "metadata": {},
     "output_type": "execute_result"
    }
   ],
   "source": [
    "y_valid"
   ]
  },
  {
   "cell_type": "code",
   "execution_count": 16,
   "id": "inclusive-painting",
   "metadata": {},
   "outputs": [],
   "source": [
    "val_losses = [r['val loss'] for r in results]"
   ]
  },
  {
   "cell_type": "code",
   "execution_count": 17,
   "id": "burning-prospect",
   "metadata": {},
   "outputs": [],
   "source": [
    "val_losses = sorted(val_losses)"
   ]
  },
  {
   "cell_type": "code",
   "execution_count": 18,
   "id": "overhead-technician",
   "metadata": {},
   "outputs": [
    {
     "data": {
      "text/plain": [
       "12"
      ]
     },
     "execution_count": 18,
     "metadata": {},
     "output_type": "execute_result"
    }
   ],
   "source": [
    "val_losses.index(results[0]['val loss'])"
   ]
  },
  {
   "cell_type": "code",
   "execution_count": 19,
   "id": "aerial-serum",
   "metadata": {},
   "outputs": [
    {
     "data": {
      "text/plain": [
       "26"
      ]
     },
     "execution_count": 19,
     "metadata": {},
     "output_type": "execute_result"
    }
   ],
   "source": [
    "len(val_losses)"
   ]
  },
  {
   "cell_type": "code",
   "execution_count": 20,
   "id": "overhead-oxygen",
   "metadata": {},
   "outputs": [
    {
     "data": {
      "text/plain": [
       "[0.007308709900826216,\n",
       " 0.007840313948690891,\n",
       " 0.012577741406857967,\n",
       " 0.016792016103863716,\n",
       " 0.018380610272288322,\n",
       " 0.02054666168987751,\n",
       " 0.02238452434539795,\n",
       " 0.022664234042167664,\n",
       " 0.024170612916350365,\n",
       " 0.02543029375374317,\n",
       " 0.02622690051794052,\n",
       " 0.027218176051974297,\n",
       " 0.0277117732912302,\n",
       " 0.03139013424515724,\n",
       " 0.031627316027879715,\n",
       " 0.031837183982133865,\n",
       " 0.03363513574004173,\n",
       " 0.03391077741980553,\n",
       " 0.03537534177303314,\n",
       " 0.03884335607290268,\n",
       " 0.040437936782836914,\n",
       " 0.04283299669623375,\n",
       " 0.04534071311354637,\n",
       " 0.04692922532558441,\n",
       " 0.05191443860530853,\n",
       " 0.0619671493768692]"
      ]
     },
     "execution_count": 20,
     "metadata": {},
     "output_type": "execute_result"
    }
   ],
   "source": [
    "val_losses"
   ]
  },
  {
   "cell_type": "code",
   "execution_count": 21,
   "id": "enabling-holmes",
   "metadata": {},
   "outputs": [
    {
     "data": {
      "text/plain": [
       "0.030203625900097765"
      ]
     },
     "execution_count": 21,
     "metadata": {},
     "output_type": "execute_result"
    }
   ],
   "source": [
    "np.mean(val_losses)"
   ]
  },
  {
   "cell_type": "code",
   "execution_count": 22,
   "id": "developed-specialist",
   "metadata": {},
   "outputs": [
    {
     "data": {
      "text/plain": [
       "0.0277117732912302"
      ]
     },
     "execution_count": 22,
     "metadata": {},
     "output_type": "execute_result"
    }
   ],
   "source": [
    "results[0]['val loss']"
   ]
  },
  {
   "cell_type": "code",
   "execution_count": null,
   "id": "south-postage",
   "metadata": {},
   "outputs": [],
   "source": []
  }
 ],
 "metadata": {
  "kernelspec": {
   "display_name": "Python 3",
   "language": "python",
   "name": "python3"
  },
  "language_info": {
   "codemirror_mode": {
    "name": "ipython",
    "version": 3
   },
   "file_extension": ".py",
   "mimetype": "text/x-python",
   "name": "python",
   "nbconvert_exporter": "python",
   "pygments_lexer": "ipython3",
   "version": "3.7.9"
  }
 },
 "nbformat": 4,
 "nbformat_minor": 5
}
