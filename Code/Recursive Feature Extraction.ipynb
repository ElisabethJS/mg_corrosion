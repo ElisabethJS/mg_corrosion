{
 "cells": [
  {
   "cell_type": "code",
   "execution_count": 1,
   "id": "saved-citation",
   "metadata": {},
   "outputs": [],
   "source": [
    "import pandas as pd\n",
    "import numpy as np\n",
    "from sklearn.model_selection import train_test_split\n",
    "from sklearn.ensemble import RandomForestRegressor\n",
    "from sklearn.preprocessing import MinMaxScaler\n",
    "from sklearn.feature_selection import RFE\n",
    "import matplotlib.pyplot as plt"
   ]
  },
  {
   "cell_type": "code",
   "execution_count": 3,
   "id": "pediatric-spine",
   "metadata": {},
   "outputs": [],
   "source": [
    "seeds = np.arange(100)"
   ]
  },
  {
   "cell_type": "code",
   "execution_count": 4,
   "id": "critical-cross",
   "metadata": {},
   "outputs": [],
   "source": [
    "data = pd.read_csv('..\\\\Data\\\\ze41_mol_desc_db_red.csv', header=0, sep=';', decimal=',')"
   ]
  },
  {
   "cell_type": "code",
   "execution_count": 5,
   "id": "subject-jerusalem",
   "metadata": {},
   "outputs": [],
   "source": [
    "col_names = data.columns\n",
    "X = data[col_names[3:]]\n",
    "y = data[col_names[2]]"
   ]
  },
  {
   "cell_type": "code",
   "execution_count": 10,
   "id": "sustained-party",
   "metadata": {},
   "outputs": [],
   "source": [
    "X_scaled = MinMaxScaler(feature_range=(0,1)).fit_transform(X)\n",
    "X_scaled = pd.DataFrame(X_scaled)\n",
    "X_scaled.columns = X.columns"
   ]
  },
  {
   "cell_type": "code",
   "execution_count": 8,
   "id": "sitting-suspension",
   "metadata": {},
   "outputs": [],
   "source": [
    "selected_cols = []"
   ]
  },
  {
   "cell_type": "code",
   "execution_count": 9,
   "id": "unnecessary-telling",
   "metadata": {},
   "outputs": [],
   "source": [
    "for seed in seeds:\n",
    "    rf = RandomForestRegressor(n_estimators=100, n_jobs=-1, oob_score=True, bootstrap=True, random_state=seed)\n",
    "    selector = RFE(rf, n_features_to_select=5, step=0.1).fit(X_scaled, y)\n",
    "    selected_cols.append([X.columns[i] for i in range(len(selector.support_)) if selector.support_[i]])"
   ]
  },
  {
   "cell_type": "code",
   "execution_count": 11,
   "id": "immune-offering",
   "metadata": {},
   "outputs": [
    {
     "data": {
      "text/plain": [
       "[['P_VSA_MR_5', 'Mor04m', 'E1p', 'HOMO / eV', 'LUMO / eV'],\n",
       " ['P_VSA_MR_5', 'Mor04m', 'E1p', 'HOMO / eV', 'LUMO / eV'],\n",
       " ['P_VSA_MR_5', 'TDB04s', 'Mor04m', 'CATS3D_02_AP', 'LUMO / eV'],\n",
       " ['P_VSA_MR_5', 'Mor04m', 'E1p', 'HOMO / eV', 'LUMO / eV'],\n",
       " ['P_VSA_MR_5', 'Mor04m', 'Mor14s', 'E1p', 'LUMO / eV'],\n",
       " ['P_VSA_MR_5', 'Mor04m', 'E1p', 'CATS3D_02_AP', 'LUMO / eV'],\n",
       " ['P_VSA_LogP_2', 'P_VSA_MR_5', 'Mor04m', 'E1p', 'LUMO / eV'],\n",
       " ['P_VSA_MR_5', 'Mor04m', 'E1p', 'H3m', 'LUMO / eV'],\n",
       " ['MATS5v', 'P_VSA_MR_5', 'Mor04m', 'E1p', 'LUMO / eV'],\n",
       " ['P_VSA_MR_5', 'Mor04m', 'E1p', 'CATS3D_02_AP', 'LUMO / eV'],\n",
       " ['P_VSA_MR_5', 'TDB04s', 'Mor04m', 'E1p', 'LUMO / eV'],\n",
       " ['MATS5v', 'P_VSA_MR_5', 'Mor04m', 'E1p', 'LUMO / eV'],\n",
       " ['P_VSA_MR_5', 'Mor04m', 'E1p', 'HOMO / eV', 'LUMO / eV'],\n",
       " ['P_VSA_MR_5', 'Mor04m', 'Mor14s', 'E1p', 'LUMO / eV'],\n",
       " ['P_VSA_MR_5', 'Mor04m', 'E1p', 'CATS3D_02_AP', 'LUMO / eV'],\n",
       " ['P_VSA_MR_5', 'Mor04m', 'E1p', 'CATS3D_02_AP', 'LUMO / eV'],\n",
       " ['P_VSA_MR_5', 'Mor04m', 'E1p', 'HOMO / eV', 'LUMO / eV'],\n",
       " ['P_VSA_MR_5', 'Mor04m', 'E1p', 'CATS3D_02_AP', 'LUMO / eV'],\n",
       " ['P_VSA_MR_5', 'Mor11u', 'Mor14u', 'Mor04m', 'LUMO / eV'],\n",
       " ['P_VSA_MR_5', 'Mor04m', 'E1p', 'CATS3D_02_AP', 'LUMO / eV'],\n",
       " ['P_VSA_MR_5', 'Mor04m', 'E1p', 'CATS3D_02_AP', 'LUMO / eV'],\n",
       " ['P_VSA_MR_5', 'Mor04m', 'Mor14s', 'E1p', 'LUMO / eV'],\n",
       " ['MATS5v', 'P_VSA_MR_5', 'Mor04m', 'E1p', 'LUMO / eV'],\n",
       " ['P_VSA_MR_5', 'Mor04m', 'E1p', 'CATS3D_02_AP', 'LUMO / eV'],\n",
       " ['P_VSA_MR_5', 'P_VSA_e_3', 'Mor04m', 'E1p', 'LUMO / eV'],\n",
       " ['MATS5v', 'P_VSA_MR_5', 'Mor04m', 'E1p', 'LUMO / eV'],\n",
       " ['P_VSA_MR_5', 'Mor04m', 'Mor14s', 'E1p', 'LUMO / eV'],\n",
       " ['P_VSA_MR_5', 'TDB04s', 'Mor04m', 'E1p', 'LUMO / eV'],\n",
       " ['GATS4s', 'P_VSA_MR_5', 'Mor04m', 'E1p', 'LUMO / eV'],\n",
       " ['P_VSA_MR_5', 'Mor04m', 'E1p', 'CATS3D_02_AP', 'LUMO / eV'],\n",
       " ['P_VSA_MR_5', 'Mor04m', 'E1p', 'CATS3D_02_AP', 'LUMO / eV'],\n",
       " ['P_VSA_MR_5', 'VE2sign_G', 'Mor04m', 'E1p', 'LUMO / eV'],\n",
       " ['MATS5v', 'P_VSA_MR_5', 'Mor04m', 'E1p', 'LUMO / eV'],\n",
       " ['P_VSA_MR_5', 'Mor04m', 'E1p', 'HOMO / eV', 'LUMO / eV'],\n",
       " ['P_VSA_MR_5', 'Mor04m', 'E1p', 'CATS3D_02_AP', 'LUMO / eV'],\n",
       " ['P_VSA_MR_5', 'Mor04m', 'E1p', 'CATS3D_02_AP', 'LUMO / eV'],\n",
       " ['P_VSA_MR_5', 'Mor04m', 'E1p', 'HOMO / eV', 'LUMO / eV'],\n",
       " ['P_VSA_MR_5', 'Mor04m', 'Mor29v', 'E1p', 'LUMO / eV'],\n",
       " ['P_VSA_MR_5', 'Mor04m', 'E1p', 'CATS3D_02_AP', 'LUMO / eV'],\n",
       " ['P_VSA_MR_5', 'Mor04m', 'E1p', 'R5p+', 'LUMO / eV'],\n",
       " ['P_VSA_MR_5', 'Mor04m', 'E1p', 'HOMO / eV', 'LUMO / eV'],\n",
       " ['P_VSA_MR_5', 'Mor04m', 'E1p', 'HOMO / eV', 'LUMO / eV'],\n",
       " ['P_VSA_MR_5', 'Mor04m', 'E1p', 'CATS3D_02_AP', 'LUMO / eV'],\n",
       " ['GATS5v', 'P_VSA_MR_5', 'Mor04m', 'E1p', 'LUMO / eV'],\n",
       " ['P_VSA_MR_5', 'Mor04m', 'E1p', 'CATS3D_02_AP', 'LUMO / eV'],\n",
       " ['P_VSA_MR_5', 'Mor04m', 'E1p', 'CATS3D_02_AP', 'LUMO / eV'],\n",
       " ['P_VSA_MR_5', 'Mor04m', 'Mor22s', 'E1p', 'LUMO / eV'],\n",
       " ['P_VSA_MR_5', 'Mor04m', 'CATS3D_02_AP', 'HOMO / eV', 'LUMO / eV'],\n",
       " ['P_VSA_MR_5', 'Mor04m', 'E1p', 'CATS3D_02_AP', 'LUMO / eV'],\n",
       " ['P_VSA_LogP_2', 'P_VSA_MR_5', 'Mor04m', 'E1p', 'LUMO / eV'],\n",
       " ['P_VSA_MR_5', 'Mor04m', 'E1p', 'HOMO / eV', 'LUMO / eV'],\n",
       " ['P_VSA_MR_5', 'Mor04m', 'Mor14s', 'E1p', 'LUMO / eV'],\n",
       " ['P_VSA_MR_5', 'Mor04m', 'E1p', 'CATS3D_02_AP', 'LUMO / eV'],\n",
       " ['P_VSA_MR_5', 'Mor04m', 'E1p', 'CATS3D_02_AP', 'LUMO / eV'],\n",
       " ['P_VSA_MR_5', 'Mor04m', 'E1p', 'CATS3D_02_AP', 'LUMO / eV'],\n",
       " ['P_VSA_MR_5', 'Mor04m', 'Mor14s', 'E1p', 'LUMO / eV'],\n",
       " ['P_VSA_MR_5', 'Mor04m', 'E1p', 'HOMO / eV', 'LUMO / eV'],\n",
       " ['P_VSA_MR_5', 'Mor04m', 'E1p', 'CATS3D_02_AP', 'LUMO / eV'],\n",
       " ['MATS5v', 'P_VSA_MR_5', 'Mor04m', 'E1p', 'LUMO / eV'],\n",
       " ['P_VSA_LogP_2', 'P_VSA_MR_5', 'Mor04m', 'E1p', 'LUMO / eV'],\n",
       " ['P_VSA_MR_5', 'Mor04m', 'E1p', 'CATS3D_02_AP', 'LUMO / eV'],\n",
       " ['MATS5v', 'P_VSA_MR_5', 'Mor04m', 'E1p', 'LUMO / eV'],\n",
       " ['P_VSA_MR_5', 'Mor04m', 'E1p', 'HOMO / eV', 'LUMO / eV'],\n",
       " ['P_VSA_MR_5', 'Mor04m', 'Mor14s', 'E1p', 'LUMO / eV'],\n",
       " ['P_VSA_MR_5', 'Mor04m', 'E1p', 'CATS3D_02_AP', 'LUMO / eV'],\n",
       " ['P_VSA_MR_5', 'Mor04m', 'Mor22s', 'E1p', 'LUMO / eV'],\n",
       " ['P_VSA_MR_5', 'Mor04m', 'Mor29v', 'E1p', 'LUMO / eV'],\n",
       " ['P_VSA_MR_5', 'Mor04m', 'E1p', 'CATS3D_02_AP', 'LUMO / eV'],\n",
       " ['P_VSA_MR_5', 'Mor04m', 'E1p', 'CATS3D_02_AP', 'LUMO / eV'],\n",
       " ['P_VSA_MR_5', 'Mor04m', 'E1p', 'HOMO / eV', 'LUMO / eV'],\n",
       " ['MATS5v', 'P_VSA_MR_5', 'Mor04m', 'HOMO / eV', 'LUMO / eV'],\n",
       " ['P_VSA_MR_5', 'Mor14u', 'Mor04m', 'E1p', 'LUMO / eV'],\n",
       " ['P_VSA_MR_5', 'Mor04m', 'E1p', 'CATS3D_02_AP', 'LUMO / eV'],\n",
       " ['P_VSA_MR_5', 'Mor04m', 'Mor22s', 'E1p', 'LUMO / eV'],\n",
       " ['P_VSA_MR_5', 'Mor04m', 'E1p', 'CATS3D_02_AP', 'LUMO / eV'],\n",
       " ['P_VSA_MR_5', 'Mor04m', 'E1p', 'CATS3D_02_AP', 'LUMO / eV'],\n",
       " ['P_VSA_MR_5', 'Mor04m', 'E1p', 'CATS3D_02_AP', 'LUMO / eV'],\n",
       " ['P_VSA_MR_5', 'Mor04m', 'E1p', 'HOMO / eV', 'LUMO / eV'],\n",
       " ['P_VSA_MR_5', 'Mor14s', 'E1p', 'CATS3D_02_AP', 'LUMO / eV'],\n",
       " ['P_VSA_MR_5', 'Mor04m', 'E1p', 'CATS3D_02_AP', 'LUMO / eV'],\n",
       " ['P_VSA_MR_5', 'Mor04m', 'E1p', 'HOMO / eV', 'LUMO / eV'],\n",
       " ['P_VSA_MR_5', 'Mor04m', 'E1p', 'CATS3D_02_AP', 'LUMO / eV'],\n",
       " ['P_VSA_MR_5', 'Mor14u', 'E1p', 'CATS3D_02_AP', 'LUMO / eV'],\n",
       " ['GATS5v', 'P_VSA_MR_5', 'Mor04m', 'E1p', 'LUMO / eV'],\n",
       " ['MATS5v', 'P_VSA_MR_5', 'Mor04m', 'E1p', 'LUMO / eV'],\n",
       " ['P_VSA_MR_5', 'VE2sign_G', 'Mor04m', 'E1p', 'LUMO / eV'],\n",
       " ['P_VSA_MR_5', 'Mor04m', 'E1p', 'CATS3D_02_AP', 'LUMO / eV'],\n",
       " ['P_VSA_MR_5', 'Mor04m', 'E1p', 'CATS3D_02_AP', 'LUMO / eV'],\n",
       " ['P_VSA_MR_5', 'Mor04m', 'E1p', 'CATS3D_02_AP', 'LUMO / eV'],\n",
       " ['P_VSA_MR_5', 'Mor04m', 'E1p', 'CATS3D_02_AP', 'LUMO / eV'],\n",
       " ['P_VSA_MR_5', 'Mor04m', 'E1p', 'CATS3D_02_AP', 'LUMO / eV'],\n",
       " ['P_VSA_MR_5', 'TDB04s', 'Mor04m', 'E1p', 'LUMO / eV'],\n",
       " ['P_VSA_MR_5', 'Mor04m', 'Mor14s', 'E1p', 'LUMO / eV'],\n",
       " ['P_VSA_MR_5', 'Mor04m', 'E1p', 'CATS3D_02_AP', 'LUMO / eV'],\n",
       " ['P_VSA_MR_5', 'Mor04m', 'E1p', 'CATS3D_02_AP', 'LUMO / eV'],\n",
       " ['P_VSA_MR_5', 'Mor14u', 'Mor04m', 'E1p', 'LUMO / eV'],\n",
       " ['P_VSA_MR_5', 'Mor04m', 'E1p', 'CATS3D_02_AP', 'LUMO / eV'],\n",
       " ['P_VSA_MR_5', 'Mor04m', 'E1p', 'HOMO / eV', 'LUMO / eV'],\n",
       " ['P_VSA_MR_5', 'Mor04m', 'E1p', 'CATS3D_02_AP', 'LUMO / eV'],\n",
       " ['P_VSA_MR_5', 'Mor14u', 'Mor04m', 'E1p', 'LUMO / eV']]"
      ]
     },
     "execution_count": 11,
     "metadata": {},
     "output_type": "execute_result"
    }
   ],
   "source": [
    "selected_cols"
   ]
  },
  {
   "cell_type": "code",
   "execution_count": 15,
   "id": "confirmed-remainder",
   "metadata": {},
   "outputs": [],
   "source": [
    "vals, counts = np.unique(selected_cols, axis=0, return_counts=True)"
   ]
  },
  {
   "cell_type": "code",
   "execution_count": 16,
   "id": "strong-pride",
   "metadata": {},
   "outputs": [
    {
     "data": {
      "text/plain": [
       "array([ 1,  2,  8,  1,  3,  1, 40,  1, 16,  1,  8,  3,  2,  1,  1,  1,  3,\n",
       "        1,  1,  3,  2], dtype=int64)"
      ]
     },
     "execution_count": 16,
     "metadata": {},
     "output_type": "execute_result"
    }
   ],
   "source": [
    "counts"
   ]
  },
  {
   "cell_type": "code",
   "execution_count": 17,
   "id": "dying-stanley",
   "metadata": {},
   "outputs": [
    {
     "data": {
      "text/plain": [
       "array([['GATS4s', 'P_VSA_MR_5', 'Mor04m', 'E1p', 'LUMO / eV'],\n",
       "       ['GATS5v', 'P_VSA_MR_5', 'Mor04m', 'E1p', 'LUMO / eV'],\n",
       "       ['MATS5v', 'P_VSA_MR_5', 'Mor04m', 'E1p', 'LUMO / eV'],\n",
       "       ['MATS5v', 'P_VSA_MR_5', 'Mor04m', 'HOMO / eV', 'LUMO / eV'],\n",
       "       ['P_VSA_LogP_2', 'P_VSA_MR_5', 'Mor04m', 'E1p', 'LUMO / eV'],\n",
       "       ['P_VSA_MR_5', 'Mor04m', 'CATS3D_02_AP', 'HOMO / eV', 'LUMO / eV'],\n",
       "       ['P_VSA_MR_5', 'Mor04m', 'E1p', 'CATS3D_02_AP', 'LUMO / eV'],\n",
       "       ['P_VSA_MR_5', 'Mor04m', 'E1p', 'H3m', 'LUMO / eV'],\n",
       "       ['P_VSA_MR_5', 'Mor04m', 'E1p', 'HOMO / eV', 'LUMO / eV'],\n",
       "       ['P_VSA_MR_5', 'Mor04m', 'E1p', 'R5p+', 'LUMO / eV'],\n",
       "       ['P_VSA_MR_5', 'Mor04m', 'Mor14s', 'E1p', 'LUMO / eV'],\n",
       "       ['P_VSA_MR_5', 'Mor04m', 'Mor22s', 'E1p', 'LUMO / eV'],\n",
       "       ['P_VSA_MR_5', 'Mor04m', 'Mor29v', 'E1p', 'LUMO / eV'],\n",
       "       ['P_VSA_MR_5', 'Mor11u', 'Mor14u', 'Mor04m', 'LUMO / eV'],\n",
       "       ['P_VSA_MR_5', 'Mor14s', 'E1p', 'CATS3D_02_AP', 'LUMO / eV'],\n",
       "       ['P_VSA_MR_5', 'Mor14u', 'E1p', 'CATS3D_02_AP', 'LUMO / eV'],\n",
       "       ['P_VSA_MR_5', 'Mor14u', 'Mor04m', 'E1p', 'LUMO / eV'],\n",
       "       ['P_VSA_MR_5', 'P_VSA_e_3', 'Mor04m', 'E1p', 'LUMO / eV'],\n",
       "       ['P_VSA_MR_5', 'TDB04s', 'Mor04m', 'CATS3D_02_AP', 'LUMO / eV'],\n",
       "       ['P_VSA_MR_5', 'TDB04s', 'Mor04m', 'E1p', 'LUMO / eV'],\n",
       "       ['P_VSA_MR_5', 'VE2sign_G', 'Mor04m', 'E1p', 'LUMO / eV']],\n",
       "      dtype='<U12')"
      ]
     },
     "execution_count": 17,
     "metadata": {},
     "output_type": "execute_result"
    }
   ],
   "source": [
    "vals"
   ]
  },
  {
   "cell_type": "code",
   "execution_count": null,
   "id": "romantic-share",
   "metadata": {},
   "outputs": [],
   "source": []
  }
 ],
 "metadata": {
  "kernelspec": {
   "display_name": "Python 3",
   "language": "python",
   "name": "python3"
  },
  "language_info": {
   "codemirror_mode": {
    "name": "ipython",
    "version": 3
   },
   "file_extension": ".py",
   "mimetype": "text/x-python",
   "name": "python",
   "nbconvert_exporter": "python",
   "pygments_lexer": "ipython3",
   "version": "3.7.9"
  }
 },
 "nbformat": 4,
 "nbformat_minor": 5
}
