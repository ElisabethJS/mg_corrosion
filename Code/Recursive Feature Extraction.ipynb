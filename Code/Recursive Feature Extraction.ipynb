{
 "cells": [
  {
   "cell_type": "code",
   "execution_count": 1,
   "id": "saved-citation",
   "metadata": {},
   "outputs": [],
   "source": [
    "import pandas as pd\n",
    "import numpy as np\n",
    "from sklearn.model_selection import train_test_split\n",
    "from sklearn.ensemble import RandomForestRegressor\n",
    "from sklearn.preprocessing import MinMaxScaler\n",
    "from sklearn.feature_selection import RFE\n",
    "import matplotlib.pyplot as plt"
   ]
  },
  {
   "cell_type": "code",
   "execution_count": 2,
   "id": "pediatric-spine",
   "metadata": {},
   "outputs": [],
   "source": [
    "seeds = np.arange(100)\n",
    "random_state=42"
   ]
  },
  {
   "cell_type": "code",
   "execution_count": 3,
   "id": "critical-cross",
   "metadata": {},
   "outputs": [],
   "source": [
    "data = pd.read_csv('..\\\\Data\\\\ze41_mol_desc_db_red.csv', header=0, sep=';', decimal=',')"
   ]
  },
  {
   "cell_type": "code",
   "execution_count": 4,
   "id": "subject-jerusalem",
   "metadata": {},
   "outputs": [],
   "source": [
    "col_names = data.columns\n",
    "X = data[col_names[3:]]\n",
    "y = data[col_names[2]]"
   ]
  },
  {
   "cell_type": "code",
   "execution_count": 5,
   "id": "sustained-party",
   "metadata": {},
   "outputs": [],
   "source": [
    "X_scaled = MinMaxScaler(feature_range=(0,1)).fit_transform(X)\n",
    "X_scaled = pd.DataFrame(X_scaled)\n",
    "X_scaled.columns = X.columns"
   ]
  },
  {
   "cell_type": "code",
   "execution_count": 6,
   "id": "planned-valuation",
   "metadata": {},
   "outputs": [],
   "source": [
    "X_train, X_valid, y_train, y_valid = train_test_split(X_scaled, y, test_size=0.1, random_state=random_state)"
   ]
  },
  {
   "cell_type": "code",
   "execution_count": 7,
   "id": "sitting-suspension",
   "metadata": {},
   "outputs": [],
   "source": [
    "selected_cols = []"
   ]
  },
  {
   "cell_type": "code",
   "execution_count": 8,
   "id": "unnecessary-telling",
   "metadata": {},
   "outputs": [],
   "source": [
    "for seed in seeds:\n",
    "    rf = RandomForestRegressor(n_estimators=100, n_jobs=-1, oob_score=True, bootstrap=True, random_state=seed)\n",
    "    selector = RFE(rf, n_features_to_select=6, step=0.1).fit(X_train, y_train)\n",
    "    selected_cols.append([X.columns[i] for i in range(len(selector.support_)) if selector.support_[i]])"
   ]
  },
  {
   "cell_type": "code",
   "execution_count": 9,
   "id": "immune-offering",
   "metadata": {},
   "outputs": [
    {
     "data": {
      "text/plain": [
       "[['MATS5v', 'P_VSA_LogP_2', 'P_VSA_MR_5', 'Mor04m', 'Mor22s', 'LUMO / eV'],\n",
       " ['P_VSA_LogP_2', 'P_VSA_MR_5', 'Mor04m', 'E1p', 'HOMO / eV', 'LUMO / eV'],\n",
       " ['P_VSA_MR_5', 'Mor04m', 'Mor22s', 'E1p', 'HOMO / eV', 'LUMO / eV'],\n",
       " ['P_VSA_MR_5', 'Mor04m', 'Mor14s', 'Mor22s', 'CATS3D_02_AP', 'LUMO / eV'],\n",
       " ['P_VSA_MR_5', 'Mor14u', 'Mor04m', 'Mor29v', 'Mor14s', 'LUMO / eV'],\n",
       " ['P_VSA_MR_5', 'Mor04m', 'Mor14s', 'E1p', 'HOMO / eV', 'LUMO / eV'],\n",
       " ['GATS5v', 'P_VSA_MR_5', 'Mor14u', 'Mor04m', 'Mor22s', 'E1p'],\n",
       " ['MATS5v', 'P_VSA_MR_5', 'Mor04m', 'E1p', 'R5p+', 'LUMO / eV'],\n",
       " ['P_VSA_LogP_2', 'P_VSA_MR_5', 'Mor04m', 'E1p', 'HOMO / eV', 'LUMO / eV'],\n",
       " ['P_VSA_MR_5', 'Mor04m', 'Mor22s', 'CATS3D_02_AP', 'HOMO / eV', 'LUMO / eV'],\n",
       " ['P_VSA_MR_5', 'Mor04m', 'Mor22s', 'E1p', 'R5p+', 'LUMO / eV'],\n",
       " ['P_VSA_LogP_2', 'P_VSA_MR_5', 'Mor04m', 'Mor22s', 'E1p', 'LUMO / eV'],\n",
       " ['P_VSA_MR_5', 'Mor04m', 'Mor29v', 'Mor22s', 'E1p', 'LUMO / eV'],\n",
       " ['P_VSA_MR_5', 'Mor04m', 'Mor22s', 'E1p', 'HOMO / eV', 'LUMO / eV'],\n",
       " ['P_VSA_MR_5', 'Mor04m', 'Mor22s', 'E1p', 'E2s', 'LUMO / eV'],\n",
       " ['P_VSA_LogP_2', 'P_VSA_MR_5', 'Mor04m', 'Mor29v', 'E1p', 'LUMO / eV'],\n",
       " ['MATS5v', 'P_VSA_MR_5', 'Mor04m', 'Mor22s', 'E1p', 'LUMO / eV'],\n",
       " ['P_VSA_LogP_2', 'P_VSA_MR_5', 'Mor04m', 'Mor29v', 'E1p', 'LUMO / eV'],\n",
       " ['P_VSA_MR_5', 'Mor04m', 'Mor29v', 'E1p', 'HOMO / eV', 'LUMO / eV'],\n",
       " ['P_VSA_LogP_2', 'P_VSA_MR_5', 'Mor04m', 'Mor22s', 'E1p', 'LUMO / eV'],\n",
       " ['P_VSA_MR_5', 'Mor04m', 'Mor32m', 'Mor22s', 'E1p', 'LUMO / eV'],\n",
       " ['P_VSA_MR_5', 'Mor04m', 'Mor29v', 'E1p', 'HOMO / eV', 'LUMO / eV'],\n",
       " ['P_VSA_LogP_2', 'P_VSA_MR_5', 'Mor04m', 'Mor22s', 'E1p', 'LUMO / eV'],\n",
       " ['MATS5v', 'P_VSA_LogP_2', 'P_VSA_MR_5', 'Mor04m', 'Mor22s', 'LUMO / eV'],\n",
       " ['P_VSA_LogP_2', 'P_VSA_MR_5', 'Mor04m', 'Mor22s', 'E1p', 'LUMO / eV'],\n",
       " ['P_VSA_MR_5', 'Mor04m', 'Mor32m', 'Mor22s', 'E1p', 'LUMO / eV'],\n",
       " ['MATS5v', 'P_VSA_MR_5', 'Mor04m', 'Mor14s', 'E1p', 'LUMO / eV'],\n",
       " ['P_VSA_LogP_2', 'P_VSA_MR_5', 'Mor04m', 'E1p', 'HOMO / eV', 'LUMO / eV'],\n",
       " ['P_VSA_LogP_2', 'P_VSA_MR_5', 'Mor04m', 'Mor29v', 'E1p', 'LUMO / eV'],\n",
       " ['P_VSA_LogP_2', 'P_VSA_MR_5', 'Mor04m', 'Mor14s', 'Mor22s', 'LUMO / eV'],\n",
       " ['P_VSA_LogP_2', 'P_VSA_MR_5', 'Mor04m', 'Mor22s', 'E1p', 'LUMO / eV'],\n",
       " ['MATS5m', 'P_VSA_LogP_2', 'P_VSA_MR_5', 'Mor04m', 'E1p', 'LUMO / eV'],\n",
       " ['P_VSA_LogP_2', 'P_VSA_MR_5', 'Mor04m', 'Mor22s', 'E1p', 'LUMO / eV'],\n",
       " ['P_VSA_LogP_2', 'P_VSA_MR_5', 'Mor04m', 'Mor22s', 'E1p', 'LUMO / eV'],\n",
       " ['P_VSA_MR_5', 'Mor04m', 'Mor22s', 'E1p', 'HOMO / eV', 'LUMO / eV'],\n",
       " ['P_VSA_LogP_2', 'P_VSA_MR_5', 'Mor14u', 'Mor04m', 'Mor22s', 'LUMO / eV'],\n",
       " ['P_VSA_MR_5', 'Mor04m', 'Mor32m', 'E1p', 'CATS3D_02_AP', 'LUMO / eV'],\n",
       " ['P_VSA_LogP_2', 'P_VSA_MR_5', 'Mor04m', 'E1p', 'HOMO / eV', 'LUMO / eV'],\n",
       " ['GATS5v', 'P_VSA_LogP_2', 'P_VSA_MR_5', 'Mor04m', 'Mor22s', 'LUMO / eV'],\n",
       " ['P_VSA_LogP_2', 'P_VSA_MR_5', 'Mor04m', 'Mor22s', 'E1p', 'LUMO / eV'],\n",
       " ['P_VSA_LogP_2', 'P_VSA_MR_5', 'Mor04m', 'Mor22s', 'E1p', 'LUMO / eV'],\n",
       " ['GATS5v', 'P_VSA_LogP_2', 'P_VSA_MR_5', 'Mor04m', 'Mor22s', 'LUMO / eV'],\n",
       " ['P_VSA_LogP_2', 'P_VSA_MR_5', 'Mor04m', 'E1p', 'CATS3D_02_AP', 'LUMO / eV'],\n",
       " ['P_VSA_LogP_2', 'P_VSA_MR_5', 'Mor14u', 'Mor04m', 'HOMO / eV', 'LUMO / eV'],\n",
       " ['MATS5v', 'P_VSA_LogP_2', 'P_VSA_MR_5', 'Mor04m', 'Mor29v', 'LUMO / eV'],\n",
       " ['P_VSA_LogP_2', 'P_VSA_MR_5', 'Mor04m', 'Mor22s', 'E1p', 'LUMO / eV'],\n",
       " ['MATS5v', 'P_VSA_LogP_2', 'P_VSA_MR_5', 'Mor14u', 'Mor04m', 'LUMO / eV'],\n",
       " ['MATS5v', 'P_VSA_MR_5', 'Mor04m', 'Mor22s', 'E1p', 'LUMO / eV'],\n",
       " ['P_VSA_MR_5', 'Mor04m', 'Mor22s', 'E1p', 'HOMO / eV', 'LUMO / eV'],\n",
       " ['P_VSA_MR_5', 'Mor14u', 'Mor04m', 'Mor29v', 'E1p', 'LUMO / eV'],\n",
       " ['P_VSA_MR_5', 'TDB04s', 'Mor04m', 'E1p', 'HOMO / eV', 'LUMO / eV'],\n",
       " ['P_VSA_LogP_2', 'P_VSA_MR_5', 'Mor04m', 'Mor22s', 'HOMO / eV', 'LUMO / eV'],\n",
       " ['P_VSA_MR_5', 'Mor04m', 'Mor22s', 'R5p+', 'HOMO / eV', 'LUMO / eV'],\n",
       " ['P_VSA_LogP_2', 'P_VSA_MR_5', 'Mor04m', 'E1p', 'HOMO / eV', 'LUMO / eV'],\n",
       " ['GATS5v', 'P_VSA_MR_5', 'Mor04m', 'Mor29v', 'Mor22s', 'LUMO / eV'],\n",
       " ['P_VSA_LogP_2', 'P_VSA_MR_5', 'Mor04m', 'Mor22s', 'E1p', 'LUMO / eV'],\n",
       " ['P_VSA_MR_5', 'Mor04m', 'E1p', 'CATS3D_02_AP', 'HOMO / eV', 'LUMO / eV'],\n",
       " ['MATS5v', 'P_VSA_MR_5', 'Mor04m', 'E1p', 'HOMO / eV', 'LUMO / eV'],\n",
       " ['P_VSA_MR_5', 'Mor14u', 'Mor04m', 'Mor22s', 'E1p', 'LUMO / eV'],\n",
       " ['P_VSA_LogP_2', 'P_VSA_MR_5', 'Mor04m', 'Mor32m', 'Mor22s', 'LUMO / eV'],\n",
       " ['GATS5v', 'P_VSA_MR_5', 'Mor04m', 'Mor19m', 'E1p', 'LUMO / eV'],\n",
       " ['P_VSA_LogP_2',\n",
       "  'P_VSA_MR_5',\n",
       "  'Mor04m',\n",
       "  'Mor22s',\n",
       "  'CATS3D_02_AP',\n",
       "  'LUMO / eV'],\n",
       " ['P_VSA_MR_5', 'Mor04m', 'Mor32m', 'Mor22s', 'E1p', 'LUMO / eV'],\n",
       " ['P_VSA_MR_5', 'TDB04s', 'Mor04m', 'Mor22s', 'E1p', 'LUMO / eV'],\n",
       " ['P_VSA_MR_5', 'Mor04m', 'Mor22s', 'E1p', 'CATS3D_02_AP', 'LUMO / eV'],\n",
       " ['P_VSA_LogP_2', 'P_VSA_MR_5', 'Mor14u', 'Mor04m', 'HOMO / eV', 'LUMO / eV'],\n",
       " ['MATS5v', 'P_VSA_LogP_2', 'P_VSA_MR_5', 'Mor04m', 'Mor22s', 'LUMO / eV'],\n",
       " ['P_VSA_LogP_2',\n",
       "  'P_VSA_MR_5',\n",
       "  'Mor14u',\n",
       "  'Mor04m',\n",
       "  'CATS3D_02_AP',\n",
       "  'LUMO / eV'],\n",
       " ['P_VSA_MR_5', 'Mor14u', 'Mor04m', 'Mor29v', 'HOMO / eV', 'LUMO / eV'],\n",
       " ['P_VSA_MR_5', 'Mor14u', 'Mor04m', 'Mor22s', 'CATS3D_02_AP', 'LUMO / eV'],\n",
       " ['P_VSA_MR_5', 'Mor04m', 'Mor04i', 'E1p', 'CATS3D_02_AP', 'LUMO / eV'],\n",
       " ['P_VSA_MR_5', 'Mor04m', 'Mor14s', 'Mor22s', 'E1p', 'LUMO / eV'],\n",
       " ['MATS5v', 'P_VSA_LogP_2', 'P_VSA_MR_5', 'Mor04m', 'E1p', 'LUMO / eV'],\n",
       " ['P_VSA_LogP_2', 'P_VSA_MR_5', 'Mor04m', 'Mor29v', 'Mor22s', 'LUMO / eV'],\n",
       " ['P_VSA_LogP_2', 'P_VSA_MR_5', 'Mor14u', 'Mor04m', 'Mor14s', 'LUMO / eV'],\n",
       " ['P_VSA_LogP_2', 'P_VSA_MR_5', 'Mor14u', 'Mor04m', 'E1p', 'LUMO / eV'],\n",
       " ['MATS5v', 'P_VSA_MR_5', 'Mor04m', 'Mor22s', 'E1p', 'LUMO / eV'],\n",
       " ['P_VSA_MR_5', 'Mor04m', 'Mor04i', 'Mor22s', 'HOMO / eV', 'LUMO / eV'],\n",
       " ['P_VSA_LogP_2', 'P_VSA_MR_5', 'Mor14u', 'Mor04m', 'HOMO / eV', 'LUMO / eV'],\n",
       " ['MATS5m', 'P_VSA_LogP_2', 'P_VSA_MR_5', 'Mor04m', 'Mor22s', 'LUMO / eV'],\n",
       " ['P_VSA_MR_5', 'Mor14u', 'Mor04m', 'Mor14s', 'CATS3D_02_AP', 'LUMO / eV'],\n",
       " ['P_VSA_MR_5', 'Mor04m', 'Mor22s', 'E1p', 'HOMO / eV', 'LUMO / eV'],\n",
       " ['MATS5v', 'P_VSA_MR_5', 'Mor04m', 'Mor22s', 'E1p', 'LUMO / eV'],\n",
       " ['P_VSA_MR_5', 'Mor04m', 'Mor32m', 'E1p', 'CATS3D_02_AP', 'LUMO / eV'],\n",
       " ['P_VSA_LogP_2', 'P_VSA_MR_5', 'Mor14u', 'Mor04m', 'Mor22s', 'LUMO / eV'],\n",
       " ['P_VSA_MR_5', 'Mor04m', 'Mor29v', 'E1p', 'R5p+', 'LUMO / eV'],\n",
       " ['P_VSA_MR_5', 'Mor04m', 'Mor22s', 'E1p', 'HOMO / eV', 'LUMO / eV'],\n",
       " ['P_VSA_LogP_2', 'P_VSA_MR_5', 'Mor04m', 'Mor32m', 'HOMO / eV', 'LUMO / eV'],\n",
       " ['P_VSA_MR_5', 'Mor04m', 'Mor29v', 'E1p', 'E2s', 'LUMO / eV'],\n",
       " ['P_VSA_MR_5', 'Mor04m', 'Mor29v', 'E1p', 'HOMO / eV', 'LUMO / eV'],\n",
       " ['P_VSA_MR_5', 'Mor04m', 'Mor32m', 'E1p', 'HOMO / eV', 'LUMO / eV'],\n",
       " ['P_VSA_LogP_2', 'P_VSA_MR_5', 'Mor14u', 'Mor04m', 'E1p', 'LUMO / eV'],\n",
       " ['P_VSA_LogP_2', 'P_VSA_MR_5', 'Mor04m', 'E1p', 'HOMO / eV', 'LUMO / eV'],\n",
       " ['P_VSA_MR_5', 'Mor04m', 'Mor22s', 'E1p', 'HOMO / eV', 'LUMO / eV'],\n",
       " ['P_VSA_MR_5', 'Mor04m', 'Mor32m', 'Mor22s', 'E1p', 'LUMO / eV'],\n",
       " ['P_VSA_LogP_2', 'P_VSA_MR_5', 'Mor14u', 'Mor04m', 'Mor22s', 'E1p'],\n",
       " ['P_VSA_MR_5', 'Mor04m', 'Mor22s', 'E1p', 'HOMO / eV', 'LUMO / eV'],\n",
       " ['P_VSA_MR_5', 'TDB04s', 'Mor04m', 'Mor22s', 'HOMO / eV', 'LUMO / eV'],\n",
       " ['P_VSA_MR_5', 'Mor14u', 'Mor04m', 'Mor22s', 'E1p', 'LUMO / eV'],\n",
       " ['P_VSA_MR_5', 'Mor14u', 'Mor04m', 'Mor22s', 'E1p', 'LUMO / eV']]"
      ]
     },
     "execution_count": 9,
     "metadata": {},
     "output_type": "execute_result"
    }
   ],
   "source": [
    "selected_cols"
   ]
  },
  {
   "cell_type": "code",
   "execution_count": 10,
   "id": "confirmed-remainder",
   "metadata": {},
   "outputs": [],
   "source": [
    "vals, counts = np.unique(selected_cols, axis=0, return_counts=True)"
   ]
  },
  {
   "cell_type": "code",
   "execution_count": 11,
   "id": "strong-pride",
   "metadata": {},
   "outputs": [
    {
     "data": {
      "text/plain": [
       "array([ 2,  1,  1,  1,  1,  1,  1,  3,  1,  1,  1,  1,  1,  4,  1,  6,  1,\n",
       "        1, 11,  1,  3,  1,  1,  1,  1,  2,  3,  1,  1,  2,  1,  1,  1,  1,\n",
       "        1,  1,  1,  1,  1,  8,  1,  1,  1,  3,  1,  1,  2,  1,  4,  1,  1,\n",
       "        3,  1,  1,  1,  1,  1,  1], dtype=int64)"
      ]
     },
     "execution_count": 11,
     "metadata": {},
     "output_type": "execute_result"
    }
   ],
   "source": [
    "counts"
   ]
  },
  {
   "cell_type": "code",
   "execution_count": 12,
   "id": "dying-stanley",
   "metadata": {},
   "outputs": [
    {
     "data": {
      "text/plain": [
       "array([['GATS5v', 'P_VSA_LogP_2', 'P_VSA_MR_5', 'Mor04m', 'Mor22s',\n",
       "        'LUMO / eV'],\n",
       "       ['GATS5v', 'P_VSA_MR_5', 'Mor04m', 'Mor19m', 'E1p', 'LUMO / eV'],\n",
       "       ['GATS5v', 'P_VSA_MR_5', 'Mor04m', 'Mor29v', 'Mor22s',\n",
       "        'LUMO / eV'],\n",
       "       ['GATS5v', 'P_VSA_MR_5', 'Mor14u', 'Mor04m', 'Mor22s', 'E1p'],\n",
       "       ['MATS5m', 'P_VSA_LogP_2', 'P_VSA_MR_5', 'Mor04m', 'E1p',\n",
       "        'LUMO / eV'],\n",
       "       ['MATS5m', 'P_VSA_LogP_2', 'P_VSA_MR_5', 'Mor04m', 'Mor22s',\n",
       "        'LUMO / eV'],\n",
       "       ['MATS5v', 'P_VSA_LogP_2', 'P_VSA_MR_5', 'Mor04m', 'E1p',\n",
       "        'LUMO / eV'],\n",
       "       ['MATS5v', 'P_VSA_LogP_2', 'P_VSA_MR_5', 'Mor04m', 'Mor22s',\n",
       "        'LUMO / eV'],\n",
       "       ['MATS5v', 'P_VSA_LogP_2', 'P_VSA_MR_5', 'Mor04m', 'Mor29v',\n",
       "        'LUMO / eV'],\n",
       "       ['MATS5v', 'P_VSA_LogP_2', 'P_VSA_MR_5', 'Mor14u', 'Mor04m',\n",
       "        'LUMO / eV'],\n",
       "       ['MATS5v', 'P_VSA_MR_5', 'Mor04m', 'E1p', 'HOMO / eV',\n",
       "        'LUMO / eV'],\n",
       "       ['MATS5v', 'P_VSA_MR_5', 'Mor04m', 'E1p', 'R5p+', 'LUMO / eV'],\n",
       "       ['MATS5v', 'P_VSA_MR_5', 'Mor04m', 'Mor14s', 'E1p', 'LUMO / eV'],\n",
       "       ['MATS5v', 'P_VSA_MR_5', 'Mor04m', 'Mor22s', 'E1p', 'LUMO / eV'],\n",
       "       ['P_VSA_LogP_2', 'P_VSA_MR_5', 'Mor04m', 'E1p', 'CATS3D_02_AP',\n",
       "        'LUMO / eV'],\n",
       "       ['P_VSA_LogP_2', 'P_VSA_MR_5', 'Mor04m', 'E1p', 'HOMO / eV',\n",
       "        'LUMO / eV'],\n",
       "       ['P_VSA_LogP_2', 'P_VSA_MR_5', 'Mor04m', 'Mor14s', 'Mor22s',\n",
       "        'LUMO / eV'],\n",
       "       ['P_VSA_LogP_2', 'P_VSA_MR_5', 'Mor04m', 'Mor22s', 'CATS3D_02_AP',\n",
       "        'LUMO / eV'],\n",
       "       ['P_VSA_LogP_2', 'P_VSA_MR_5', 'Mor04m', 'Mor22s', 'E1p',\n",
       "        'LUMO / eV'],\n",
       "       ['P_VSA_LogP_2', 'P_VSA_MR_5', 'Mor04m', 'Mor22s', 'HOMO / eV',\n",
       "        'LUMO / eV'],\n",
       "       ['P_VSA_LogP_2', 'P_VSA_MR_5', 'Mor04m', 'Mor29v', 'E1p',\n",
       "        'LUMO / eV'],\n",
       "       ['P_VSA_LogP_2', 'P_VSA_MR_5', 'Mor04m', 'Mor29v', 'Mor22s',\n",
       "        'LUMO / eV'],\n",
       "       ['P_VSA_LogP_2', 'P_VSA_MR_5', 'Mor04m', 'Mor32m', 'HOMO / eV',\n",
       "        'LUMO / eV'],\n",
       "       ['P_VSA_LogP_2', 'P_VSA_MR_5', 'Mor04m', 'Mor32m', 'Mor22s',\n",
       "        'LUMO / eV'],\n",
       "       ['P_VSA_LogP_2', 'P_VSA_MR_5', 'Mor14u', 'Mor04m', 'CATS3D_02_AP',\n",
       "        'LUMO / eV'],\n",
       "       ['P_VSA_LogP_2', 'P_VSA_MR_5', 'Mor14u', 'Mor04m', 'E1p',\n",
       "        'LUMO / eV'],\n",
       "       ['P_VSA_LogP_2', 'P_VSA_MR_5', 'Mor14u', 'Mor04m', 'HOMO / eV',\n",
       "        'LUMO / eV'],\n",
       "       ['P_VSA_LogP_2', 'P_VSA_MR_5', 'Mor14u', 'Mor04m', 'Mor14s',\n",
       "        'LUMO / eV'],\n",
       "       ['P_VSA_LogP_2', 'P_VSA_MR_5', 'Mor14u', 'Mor04m', 'Mor22s',\n",
       "        'E1p'],\n",
       "       ['P_VSA_LogP_2', 'P_VSA_MR_5', 'Mor14u', 'Mor04m', 'Mor22s',\n",
       "        'LUMO / eV'],\n",
       "       ['P_VSA_MR_5', 'Mor04m', 'E1p', 'CATS3D_02_AP', 'HOMO / eV',\n",
       "        'LUMO / eV'],\n",
       "       ['P_VSA_MR_5', 'Mor04m', 'Mor04i', 'E1p', 'CATS3D_02_AP',\n",
       "        'LUMO / eV'],\n",
       "       ['P_VSA_MR_5', 'Mor04m', 'Mor04i', 'Mor22s', 'HOMO / eV',\n",
       "        'LUMO / eV'],\n",
       "       ['P_VSA_MR_5', 'Mor04m', 'Mor14s', 'E1p', 'HOMO / eV',\n",
       "        'LUMO / eV'],\n",
       "       ['P_VSA_MR_5', 'Mor04m', 'Mor14s', 'Mor22s', 'CATS3D_02_AP',\n",
       "        'LUMO / eV'],\n",
       "       ['P_VSA_MR_5', 'Mor04m', 'Mor14s', 'Mor22s', 'E1p', 'LUMO / eV'],\n",
       "       ['P_VSA_MR_5', 'Mor04m', 'Mor22s', 'CATS3D_02_AP', 'HOMO / eV',\n",
       "        'LUMO / eV'],\n",
       "       ['P_VSA_MR_5', 'Mor04m', 'Mor22s', 'E1p', 'CATS3D_02_AP',\n",
       "        'LUMO / eV'],\n",
       "       ['P_VSA_MR_5', 'Mor04m', 'Mor22s', 'E1p', 'E2s', 'LUMO / eV'],\n",
       "       ['P_VSA_MR_5', 'Mor04m', 'Mor22s', 'E1p', 'HOMO / eV',\n",
       "        'LUMO / eV'],\n",
       "       ['P_VSA_MR_5', 'Mor04m', 'Mor22s', 'E1p', 'R5p+', 'LUMO / eV'],\n",
       "       ['P_VSA_MR_5', 'Mor04m', 'Mor22s', 'R5p+', 'HOMO / eV',\n",
       "        'LUMO / eV'],\n",
       "       ['P_VSA_MR_5', 'Mor04m', 'Mor29v', 'E1p', 'E2s', 'LUMO / eV'],\n",
       "       ['P_VSA_MR_5', 'Mor04m', 'Mor29v', 'E1p', 'HOMO / eV',\n",
       "        'LUMO / eV'],\n",
       "       ['P_VSA_MR_5', 'Mor04m', 'Mor29v', 'E1p', 'R5p+', 'LUMO / eV'],\n",
       "       ['P_VSA_MR_5', 'Mor04m', 'Mor29v', 'Mor22s', 'E1p', 'LUMO / eV'],\n",
       "       ['P_VSA_MR_5', 'Mor04m', 'Mor32m', 'E1p', 'CATS3D_02_AP',\n",
       "        'LUMO / eV'],\n",
       "       ['P_VSA_MR_5', 'Mor04m', 'Mor32m', 'E1p', 'HOMO / eV',\n",
       "        'LUMO / eV'],\n",
       "       ['P_VSA_MR_5', 'Mor04m', 'Mor32m', 'Mor22s', 'E1p', 'LUMO / eV'],\n",
       "       ['P_VSA_MR_5', 'Mor14u', 'Mor04m', 'Mor14s', 'CATS3D_02_AP',\n",
       "        'LUMO / eV'],\n",
       "       ['P_VSA_MR_5', 'Mor14u', 'Mor04m', 'Mor22s', 'CATS3D_02_AP',\n",
       "        'LUMO / eV'],\n",
       "       ['P_VSA_MR_5', 'Mor14u', 'Mor04m', 'Mor22s', 'E1p', 'LUMO / eV'],\n",
       "       ['P_VSA_MR_5', 'Mor14u', 'Mor04m', 'Mor29v', 'E1p', 'LUMO / eV'],\n",
       "       ['P_VSA_MR_5', 'Mor14u', 'Mor04m', 'Mor29v', 'HOMO / eV',\n",
       "        'LUMO / eV'],\n",
       "       ['P_VSA_MR_5', 'Mor14u', 'Mor04m', 'Mor29v', 'Mor14s',\n",
       "        'LUMO / eV'],\n",
       "       ['P_VSA_MR_5', 'TDB04s', 'Mor04m', 'E1p', 'HOMO / eV',\n",
       "        'LUMO / eV'],\n",
       "       ['P_VSA_MR_5', 'TDB04s', 'Mor04m', 'Mor22s', 'E1p', 'LUMO / eV'],\n",
       "       ['P_VSA_MR_5', 'TDB04s', 'Mor04m', 'Mor22s', 'HOMO / eV',\n",
       "        'LUMO / eV']], dtype='<U12')"
      ]
     },
     "execution_count": 12,
     "metadata": {},
     "output_type": "execute_result"
    }
   ],
   "source": [
    "vals"
   ]
  },
  {
   "cell_type": "code",
   "execution_count": 13,
   "id": "romantic-share",
   "metadata": {},
   "outputs": [
    {
     "data": {
      "text/plain": [
       "array(['P_VSA_LogP_2', 'P_VSA_MR_5', 'Mor04m', 'Mor22s', 'E1p',\n",
       "       'LUMO / eV'], dtype='<U12')"
      ]
     },
     "execution_count": 13,
     "metadata": {},
     "output_type": "execute_result"
    }
   ],
   "source": [
    "vals[np.argmax(counts)]"
   ]
  },
  {
   "cell_type": "code",
   "execution_count": 14,
   "id": "collective-stream",
   "metadata": {},
   "outputs": [
    {
     "data": {
      "text/plain": [
       "0     0.328\n",
       "5     0.896\n",
       "36    0.817\n",
       "45    0.765\n",
       "13    0.893\n",
       "54    0.733\n",
       "Name: LinIE ZE41, dtype: float64"
      ]
     },
     "execution_count": 14,
     "metadata": {},
     "output_type": "execute_result"
    }
   ],
   "source": [
    "y_valid"
   ]
  },
  {
   "cell_type": "code",
   "execution_count": 17,
   "id": "female-newton",
   "metadata": {},
   "outputs": [
    {
     "data": {
      "text/plain": [
       "array(['P_VSA_MR_5', 'Mor04m', 'Mor22s', 'E1p', 'HOMO / eV', 'LUMO / eV'],\n",
       "      dtype='<U12')"
      ]
     },
     "execution_count": 17,
     "metadata": {},
     "output_type": "execute_result"
    }
   ],
   "source": [
    "vals[counts.tolist().index(8)]"
   ]
  },
  {
   "cell_type": "code",
   "execution_count": null,
   "id": "english-longitude",
   "metadata": {},
   "outputs": [],
   "source": []
  }
 ],
 "metadata": {
  "kernelspec": {
   "display_name": "Python 3",
   "language": "python",
   "name": "python3"
  },
  "language_info": {
   "codemirror_mode": {
    "name": "ipython",
    "version": 3
   },
   "file_extension": ".py",
   "mimetype": "text/x-python",
   "name": "python",
   "nbconvert_exporter": "python",
   "pygments_lexer": "ipython3",
   "version": "3.7.9"
  }
 },
 "nbformat": 4,
 "nbformat_minor": 5
}
