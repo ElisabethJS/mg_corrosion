{
 "cells": [
  {
   "cell_type": "code",
   "execution_count": 1,
   "id": "saved-citation",
   "metadata": {},
   "outputs": [],
   "source": [
    "import pandas as pd\n",
    "import numpy as np\n",
    "from sklearn.model_selection import train_test_split\n",
    "from sklearn.ensemble import RandomForestRegressor\n",
    "from sklearn.preprocessing import MinMaxScaler\n",
    "from sklearn.feature_selection import RFE\n",
    "import matplotlib.pyplot as plt"
   ]
  },
  {
   "cell_type": "code",
   "execution_count": 2,
   "id": "pediatric-spine",
   "metadata": {},
   "outputs": [],
   "source": [
    "seeds = np.arange(100)\n",
    "random_state=42"
   ]
  },
  {
   "cell_type": "code",
   "execution_count": 3,
   "id": "critical-cross",
   "metadata": {},
   "outputs": [],
   "source": [
    "data = pd.read_csv('..\\\\Data\\\\ze41_mol_desc_db_red.csv', header=0, sep=';', decimal=',')"
   ]
  },
  {
   "cell_type": "code",
   "execution_count": 4,
   "id": "subject-jerusalem",
   "metadata": {},
   "outputs": [],
   "source": [
    "col_names = data.columns\n",
    "X = data[col_names[3:]]\n",
    "y = data[col_names[2]]"
   ]
  },
  {
   "cell_type": "code",
   "execution_count": 5,
   "id": "sustained-party",
   "metadata": {},
   "outputs": [],
   "source": [
    "X_scaled = MinMaxScaler(feature_range=(0,1)).fit_transform(X)\n",
    "X_scaled = pd.DataFrame(X_scaled)\n",
    "X_scaled.columns = X.columns"
   ]
  },
  {
   "cell_type": "code",
   "execution_count": 6,
   "id": "interpreted-madrid",
   "metadata": {},
   "outputs": [],
   "source": [
    "X_train, X_valid, y_train, y_valid = train_test_split(X_scaled, y, test_size=0.1, random_state=random_state)"
   ]
  },
  {
   "cell_type": "code",
   "execution_count": 7,
   "id": "sitting-suspension",
   "metadata": {},
   "outputs": [],
   "source": [
    "selected_cols = []"
   ]
  },
  {
   "cell_type": "code",
   "execution_count": 8,
   "id": "unnecessary-telling",
   "metadata": {},
   "outputs": [],
   "source": [
    "for seed in seeds:\n",
    "    rf = RandomForestRegressor(n_estimators=100, n_jobs=-1, oob_score=True, bootstrap=True, random_state=seed)\n",
    "    selector = RFE(rf, n_features_to_select=2, step=0.1).fit(X_train, y_train)\n",
    "    selected_cols.append([X.columns[i] for i in range(len(selector.support_)) if selector.support_[i]])"
   ]
  },
  {
   "cell_type": "code",
   "execution_count": 9,
   "id": "immune-offering",
   "metadata": {},
   "outputs": [
    {
     "data": {
      "text/plain": [
       "[['P_VSA_MR_5', 'LUMO / eV'],\n",
       " ['P_VSA_MR_5', 'Mor04m'],\n",
       " ['P_VSA_MR_5', 'Mor04m'],\n",
       " ['P_VSA_MR_5', 'Mor04m'],\n",
       " ['P_VSA_MR_5', 'LUMO / eV'],\n",
       " ['P_VSA_MR_5', 'LUMO / eV'],\n",
       " ['P_VSA_MR_5', 'Mor22s'],\n",
       " ['P_VSA_MR_5', 'LUMO / eV'],\n",
       " ['P_VSA_MR_5', 'Mor04m'],\n",
       " ['P_VSA_MR_5', 'LUMO / eV'],\n",
       " ['P_VSA_MR_5', 'LUMO / eV'],\n",
       " ['P_VSA_MR_5', 'LUMO / eV'],\n",
       " ['P_VSA_MR_5', 'Mor22s'],\n",
       " ['P_VSA_MR_5', 'LUMO / eV'],\n",
       " ['P_VSA_MR_5', 'LUMO / eV'],\n",
       " ['P_VSA_MR_5', 'Mor04m'],\n",
       " ['P_VSA_MR_5', 'LUMO / eV'],\n",
       " ['P_VSA_MR_5', 'LUMO / eV'],\n",
       " ['P_VSA_MR_5', 'Mor04m'],\n",
       " ['P_VSA_MR_5', 'LUMO / eV'],\n",
       " ['P_VSA_MR_5', 'LUMO / eV'],\n",
       " ['P_VSA_MR_5', 'LUMO / eV'],\n",
       " ['P_VSA_MR_5', 'Mor04m'],\n",
       " ['P_VSA_MR_5', 'LUMO / eV'],\n",
       " ['P_VSA_MR_5', 'Mor04m'],\n",
       " ['P_VSA_MR_5', 'Mor04m'],\n",
       " ['P_VSA_MR_5', 'LUMO / eV'],\n",
       " ['P_VSA_MR_5', 'LUMO / eV'],\n",
       " ['P_VSA_MR_5', 'LUMO / eV'],\n",
       " ['P_VSA_MR_5', 'LUMO / eV'],\n",
       " ['P_VSA_MR_5', 'LUMO / eV'],\n",
       " ['P_VSA_MR_5', 'LUMO / eV'],\n",
       " ['P_VSA_MR_5', 'Mor04m'],\n",
       " ['P_VSA_MR_5', 'Mor04m'],\n",
       " ['P_VSA_MR_5', 'Mor04m'],\n",
       " ['P_VSA_MR_5', 'Mor04m'],\n",
       " ['P_VSA_MR_5', 'LUMO / eV'],\n",
       " ['P_VSA_MR_5', 'Mor04m'],\n",
       " ['P_VSA_MR_5', 'Mor04m'],\n",
       " ['P_VSA_MR_5', 'Mor04m'],\n",
       " ['Mor04m', 'LUMO / eV'],\n",
       " ['P_VSA_MR_5', 'LUMO / eV'],\n",
       " ['P_VSA_MR_5', 'LUMO / eV'],\n",
       " ['P_VSA_MR_5', 'Mor04m'],\n",
       " ['Mor04m', 'LUMO / eV'],\n",
       " ['P_VSA_MR_5', 'LUMO / eV'],\n",
       " ['P_VSA_MR_5', 'LUMO / eV'],\n",
       " ['P_VSA_MR_5', 'LUMO / eV'],\n",
       " ['P_VSA_MR_5', 'Mor04m'],\n",
       " ['P_VSA_MR_5', 'LUMO / eV'],\n",
       " ['P_VSA_MR_5', 'LUMO / eV'],\n",
       " ['P_VSA_MR_5', 'Mor04m'],\n",
       " ['Mor04m', 'LUMO / eV'],\n",
       " ['P_VSA_MR_5', 'LUMO / eV'],\n",
       " ['P_VSA_MR_5', 'Mor04m'],\n",
       " ['P_VSA_MR_5', 'LUMO / eV'],\n",
       " ['P_VSA_MR_5', 'Mor04m'],\n",
       " ['P_VSA_MR_5', 'Mor04m'],\n",
       " ['P_VSA_MR_5', 'Mor04m'],\n",
       " ['P_VSA_MR_5', 'LUMO / eV'],\n",
       " ['P_VSA_MR_5', 'LUMO / eV'],\n",
       " ['P_VSA_MR_5', 'Mor04m'],\n",
       " ['P_VSA_MR_5', 'LUMO / eV'],\n",
       " ['P_VSA_MR_5', 'LUMO / eV'],\n",
       " ['P_VSA_MR_5', 'LUMO / eV'],\n",
       " ['P_VSA_MR_5', 'LUMO / eV'],\n",
       " ['P_VSA_MR_5', 'LUMO / eV'],\n",
       " ['P_VSA_MR_5', 'Mor04m'],\n",
       " ['P_VSA_MR_5', 'Mor04m'],\n",
       " ['P_VSA_MR_5', 'LUMO / eV'],\n",
       " ['P_VSA_MR_5', 'LUMO / eV'],\n",
       " ['P_VSA_MR_5', 'LUMO / eV'],\n",
       " ['P_VSA_MR_5', 'Mor04m'],\n",
       " ['P_VSA_MR_5', 'Mor04m'],\n",
       " ['P_VSA_MR_5', 'Mor04m'],\n",
       " ['P_VSA_MR_5', 'Mor04m'],\n",
       " ['P_VSA_MR_5', 'LUMO / eV'],\n",
       " ['P_VSA_MR_5', 'Mor04m'],\n",
       " ['P_VSA_MR_5', 'LUMO / eV'],\n",
       " ['P_VSA_MR_5', 'Mor04m'],\n",
       " ['P_VSA_MR_5', 'LUMO / eV'],\n",
       " ['P_VSA_MR_5', 'LUMO / eV'],\n",
       " ['P_VSA_MR_5', 'LUMO / eV'],\n",
       " ['Mor04m', 'LUMO / eV'],\n",
       " ['P_VSA_MR_5', 'Mor04m'],\n",
       " ['P_VSA_MR_5', 'LUMO / eV'],\n",
       " ['P_VSA_MR_5', 'LUMO / eV'],\n",
       " ['P_VSA_MR_5', 'LUMO / eV'],\n",
       " ['P_VSA_MR_5', 'LUMO / eV'],\n",
       " ['P_VSA_MR_5', 'Mor04m'],\n",
       " ['P_VSA_MR_5', 'LUMO / eV'],\n",
       " ['P_VSA_MR_5', 'LUMO / eV'],\n",
       " ['P_VSA_MR_5', 'Mor04m'],\n",
       " ['P_VSA_MR_5', 'LUMO / eV'],\n",
       " ['P_VSA_MR_5', 'LUMO / eV'],\n",
       " ['P_VSA_MR_5', 'Mor04m'],\n",
       " ['P_VSA_MR_5', 'Mor04m'],\n",
       " ['P_VSA_MR_5', 'Mor04m'],\n",
       " ['P_VSA_MR_5', 'Mor04m'],\n",
       " ['Mor04m', 'LUMO / eV']]"
      ]
     },
     "execution_count": 9,
     "metadata": {},
     "output_type": "execute_result"
    }
   ],
   "source": [
    "selected_cols"
   ]
  },
  {
   "cell_type": "code",
   "execution_count": 10,
   "id": "confirmed-remainder",
   "metadata": {},
   "outputs": [],
   "source": [
    "vals, counts = np.unique(selected_cols, axis=0, return_counts=True)"
   ]
  },
  {
   "cell_type": "code",
   "execution_count": 11,
   "id": "strong-pride",
   "metadata": {},
   "outputs": [
    {
     "data": {
      "text/plain": [
       "array([ 5, 54, 39,  2], dtype=int64)"
      ]
     },
     "execution_count": 11,
     "metadata": {},
     "output_type": "execute_result"
    }
   ],
   "source": [
    "counts"
   ]
  },
  {
   "cell_type": "code",
   "execution_count": 12,
   "id": "dying-stanley",
   "metadata": {},
   "outputs": [
    {
     "data": {
      "text/plain": [
       "array([['Mor04m', 'LUMO / eV'],\n",
       "       ['P_VSA_MR_5', 'LUMO / eV'],\n",
       "       ['P_VSA_MR_5', 'Mor04m'],\n",
       "       ['P_VSA_MR_5', 'Mor22s']], dtype='<U10')"
      ]
     },
     "execution_count": 12,
     "metadata": {},
     "output_type": "execute_result"
    }
   ],
   "source": [
    "vals"
   ]
  },
  {
   "cell_type": "code",
   "execution_count": 13,
   "id": "romantic-share",
   "metadata": {},
   "outputs": [
    {
     "data": {
      "text/plain": [
       "array(['P_VSA_MR_5', 'LUMO / eV'], dtype='<U10')"
      ]
     },
     "execution_count": 13,
     "metadata": {},
     "output_type": "execute_result"
    }
   ],
   "source": [
    "vals[np.argmax(counts)]"
   ]
  },
  {
   "cell_type": "code",
   "execution_count": null,
   "id": "pediatric-marks",
   "metadata": {},
   "outputs": [],
   "source": []
  }
 ],
 "metadata": {
  "kernelspec": {
   "display_name": "Python 3",
   "language": "python",
   "name": "python3"
  },
  "language_info": {
   "codemirror_mode": {
    "name": "ipython",
    "version": 3
   },
   "file_extension": ".py",
   "mimetype": "text/x-python",
   "name": "python",
   "nbconvert_exporter": "python",
   "pygments_lexer": "ipython3",
   "version": "3.7.9"
  }
 },
 "nbformat": 4,
 "nbformat_minor": 5
}
